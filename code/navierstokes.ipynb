{
 "cells": [
  {
   "cell_type": "code",
   "execution_count": 8,
   "id": "1f65d2f9",
   "metadata": {},
   "outputs": [],
   "source": [
    "from ngsolve import *\n",
    "from netgen.geom2d import SplineGeometry\n",
    "from ngsolve.webgui import Draw"
   ]
  },
  {
   "cell_type": "code",
   "execution_count": 9,
   "id": "5faa90bd",
   "metadata": {},
   "outputs": [],
   "source": [
    "geo = SplineGeometry()\n",
    "geo.AddRectangle( (-3,-2), (3, 2), bcs = (\"top\", \"out\", \"bot\", \"inlet\"))\n",
    "geo.AddCircle ( (0, 0), r=0.5, leftdomain=0, rightdomain=1, bc=\"cyl\")\n",
    "mesh = Mesh( geo.GenerateMesh(maxh=0.2))\n",
    "mesh.Curve(3);\n",
    "# viscosity\n",
    "nu = 0.001\n"
   ]
  },
  {
   "cell_type": "code",
   "execution_count": 10,
   "id": "3b1423b3",
   "metadata": {},
   "outputs": [],
   "source": [
    "k = 3\n",
    "V = VectorH1(mesh,order=k, dirichlet=\"top|bot|cyl|inlet|out\")\n",
    "Q = H1(mesh,order=k-1)\n",
    "X = V*Q\n",
    "#help(CoefficientFunction)"
   ]
  },
  {
   "cell_type": "code",
   "execution_count": 11,
   "id": "423f6e39",
   "metadata": {
    "scrolled": true
   },
   "outputs": [
    {
     "data": {
      "application/vnd.jupyter.widget-view+json": {
       "model_id": "233ebf5544824ff4871a724e03671eb2",
       "version_major": 2,
       "version_minor": 0
      },
      "text/plain": [
       "WebGuiWidget(value={'ngsolve_version': '6.2.2201', 'mesh_dim': 2, 'order2d': 2, 'order3d': 2, 'draw_vol': Fals…"
      ]
     },
     "metadata": {},
     "output_type": "display_data"
    }
   ],
   "source": [
    "gfu = GridFunction(X)\n",
    "velocity = gfu.components[0]\n",
    "scene = Draw(velocity,mesh,\"u\")#,sd=3)\n",
    "#scene2 = Draw(gfu.components[1],mesh,\"p\")#,sd=3)\n",
    "from ngsolve.internal import visoptions\n",
    "#visoptions.scalfunction = \"u:0\"\n",
    "\n",
    "# parabolic inflow at bc=1:\n",
    "uinf = 0.001\n",
    "uin = CoefficientFunction((uinf,0))\n",
    "ball = CoefficientFunction((0,0))\n",
    "init = uin + ball\n",
    "#gfu.components[0].Set(ball, definedon=mesh.Boundaries(\"cyl\"))\n",
    "gfu.components[0].Set(init, definedon=mesh.Boundaries(\"inlet|top|bot|out\"))\n",
    "\n",
    "#gfu.componets[0] += gfu.components[0].Set(ball, definedon=mesh.Boundaries(\"cyl\"))\n",
    "\n",
    "# first component of gfu.components bedlongs to v ans has dim=2, [1] is tShe pressure broski\n",
    "scene.Redraw()\n",
    "#scene2.Redraw()\n"
   ]
  },
  {
   "cell_type": "code",
   "execution_count": 12,
   "id": "338006e1",
   "metadata": {},
   "outputs": [],
   "source": [
    "(u,p), (v,q) = X.TnT()\n",
    "\n",
    "a = BilinearForm(X)\n",
    "stokes = (nu*InnerProduct(grad(u),grad(v))-div(u)*q-div(v)*p)*dx\n",
    "a += stokes\n",
    "a.Assemble()\n",
    "\n",
    "f = LinearForm(X)\n",
    "f.Assemble()\n",
    "\n",
    "inv_stokes = a.mat.Inverse(X.FreeDofs())\n",
    "\n",
    "res = f.vec.CreateVector()\n",
    "res.data = f.vec - a.mat*gfu.vec\n",
    "gfu.vec.data += inv_stokes * res\n",
    "\n",
    "scene.Redraw()\n",
    "#scene2.Redraw()"
   ]
  },
  {
   "cell_type": "markdown",
   "id": "2a790d5a",
   "metadata": {},
   "source": [
    "## at this point we are basically done with navier stokes\n",
    "* only need to calculate drag for this current properties\n",
    "* change something on the ball, recalculate, go on\n",
    "    * this isn't a real shape derivative, right? Because we don't really calculate, just simulate"
   ]
  },
  {
   "cell_type": "code",
   "execution_count": 13,
   "id": "4f467a35",
   "metadata": {},
   "outputs": [
    {
     "name": "stdout",
     "output_type": "stream",
     "text": [
      "[-0.0004395481571095624]\n"
     ]
    }
   ],
   "source": [
    "# getting the drag in here\n",
    "drag_x_test = GridFunction(X)\n",
    "drag_x_test.components[0].Set(CoefficientFunction((-20.0,0)), definedon=mesh.Boundaries(\"cyl\"))\n",
    "drag_x_vals = []\n",
    "res.data = f.vec - a.mat*gfu.vec\n",
    "gfu.vec.data += inv_stokes * res\n",
    "drag_x_vals.append(InnerProduct(res, drag_x_test.vec) )\n",
    "print(drag_x_vals)"
   ]
  },
  {
   "cell_type": "code",
   "execution_count": null,
   "id": "441d7d11",
   "metadata": {},
   "outputs": [],
   "source": [
    "# everything below here is \"old/unused\""
   ]
  },
  {
   "cell_type": "code",
   "execution_count": 6,
   "id": "99fedf42",
   "metadata": {},
   "outputs": [],
   "source": [
    "dt = 0.001\n",
    "# matrix for implicit part of IMEX(1) scheme:\n",
    "mstar = BilinearForm(X)\n",
    "mstar += InnerProduct(u,v)*dx + dt*stokes\n",
    "mstar.Assemble()\n",
    "inv = mstar.mat.Inverse(X.FreeDofs())\n",
    "\n",
    "conv = LinearForm(X)\n",
    "conv += InnerProduct(grad(velocity)*velocity,v)*dx"
   ]
  },
  {
   "cell_type": "code",
   "execution_count": 7,
   "id": "c93d4872",
   "metadata": {},
   "outputs": [
    {
     "name": "stdout",
     "output_type": "stream",
     "text": [
      "t= 0.999000000000000876"
     ]
    }
   ],
   "source": [
    "t = 0\n",
    "tend = 0\n",
    "tend += 1\n",
    "while t < tend-0.5*dt:\n",
    "    print (\"\\rt=\", t, end=\"\")\n",
    "\n",
    "    conv.Assemble()\n",
    "    res.data = a.mat * gfu.vec + conv.vec\n",
    "    gfu.vec.data -= dt * inv * res\n",
    "\n",
    "    t = t + dt\n",
    "    scene.Redraw()\n",
    "    #scene2.Redraw()"
   ]
  },
  {
   "cell_type": "code",
   "execution_count": 42,
   "id": "01d51c3d",
   "metadata": {},
   "outputs": [],
   "source": [
    "# Supplementary 1"
   ]
  },
  {
   "cell_type": "code",
   "execution_count": 43,
   "id": "ff8ccadd",
   "metadata": {},
   "outputs": [],
   "source": [
    "drag_x_test = GridFunction(X)\n",
    "drag_x_test.components[0].Set(CoefficientFunction((-20.0,0)), definedon=mesh.Boundaries(\"cyl\"))\n",
    "drag_y_test = GridFunction(X)\n",
    "drag_y_test.components[0].Set(CoefficientFunction((0,-20.0)), definedon=mesh.Boundaries(\"cyl\"))"
   ]
  },
  {
   "cell_type": "code",
   "execution_count": 44,
   "id": "40ccb617",
   "metadata": {},
   "outputs": [],
   "source": [
    "time_vals = []\n",
    "drag_x_vals = []\n",
    "drag_y_vals = []\n",
    "# restoring initial data\n",
    "res.data = f.vec - a.mat*gfu.vec\n",
    "gfu.vec.data += inv_stokes * res\n",
    "\n",
    "t = 0\n",
    "tend = 0"
   ]
  },
  {
   "cell_type": "code",
   "execution_count": 45,
   "id": "07b0a9b8",
   "metadata": {},
   "outputs": [
    {
     "name": "stdout",
     "output_type": "stream",
     "text": [
      "t= 0.999000000000000876"
     ]
    }
   ],
   "source": [
    "# implicit Euler/explicit Euler splitting method:\n",
    "tend += 1\n",
    "while t < tend-0.5*dt:\n",
    "    print (\"\\rt=\", t, end=\"\")\n",
    "\n",
    "    conv.Assemble()\n",
    "    res.data = a.mat * gfu.vec + conv.vec\n",
    "    gfu.vec.data -= dt * inv * res\n",
    "\n",
    "    t = t + dt\n",
    "    scene.Redraw()\n",
    "    #scene2.Redraw()\n",
    "\n",
    "    time_vals.append( t )\n",
    "    drag_x_vals.append(InnerProduct(res, drag_x_test.vec) )\n",
    "    drag_y_vals.append(InnerProduct(res, drag_y_test.vec) )\n",
    "    #print(drag)"
   ]
  },
  {
   "cell_type": "code",
   "execution_count": 12,
   "id": "24f91ed1",
   "metadata": {},
   "outputs": [
    {
     "data": {
      "image/png": "[encoded data removed]",
      "text/plain": [
       "<Figure size 432x288 with 1 Axes>"
      ]
     },
     "metadata": {
      "needs_background": "light"
     },
     "output_type": "display_data"
    }
   ],
   "source": [
    "import matplotlib.pyplot as plt\n",
    "# Plot drag force over time\n",
    "plt.plot(time_vals, drag_x_vals)\n",
    "plt.xlabel('time'); plt.ylabel('drag'); plt.title('drag'); plt.grid(True)\n",
    "plt.show()"
   ]
  },
  {
   "cell_type": "code",
   "execution_count": 13,
   "id": "3be4a153",
   "metadata": {},
   "outputs": [
    {
     "data": {
      "image/png": "[encoded data removed]",
      "text/plain": [
       "<Figure size 432x288 with 1 Axes>"
      ]
     },
     "metadata": {
      "needs_background": "light"
     },
     "output_type": "display_data"
    }
   ],
   "source": [
    "# Plot lift force over time\n",
    "plt.plot(time_vals, drag_y_vals)\n",
    "plt.xlabel('time'); plt.ylabel('lift'); plt.title('lift'); plt.grid(True)\n",
    "plt.show()"
   ]
  },
  {
   "cell_type": "code",
   "execution_count": null,
   "id": "b0e8b771",
   "metadata": {},
   "outputs": [],
   "source": []
  }
 ],
 "metadata": {
  "kernelspec": {
   "display_name": "Python 3 (ipykernel)",
   "language": "python",
   "name": "python3"
  },
  "language_info": {
   "codemirror_mode": {
    "name": "ipython",
    "version": 3
   },
   "file_extension": ".py",
   "mimetype": "text/x-python",
   "name": "python",
   "nbconvert_exporter": "python",
   "pygments_lexer": "ipython3",
   "version": "3.10.1"
  }
 },
 "nbformat": 4,
 "nbformat_minor": 5
}
