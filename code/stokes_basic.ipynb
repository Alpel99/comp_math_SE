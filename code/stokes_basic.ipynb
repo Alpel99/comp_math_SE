{
 "cells": [
  {
   "cell_type": "code",
   "execution_count": 1,
   "metadata": {},
   "outputs": [
    {
     "name": "stdout",
     "output_type": "stream",
     "text": [
      "importing NGSolve-6.2.2203\n"
     ]
    }
   ],
   "source": [
    "from ngsolve import *\n",
    "from netgen.geom2d import SplineGeometry\n",
    "from ngsolve.webgui import Draw"
   ]
  },
  {
   "cell_type": "code",
   "execution_count": 2,
   "metadata": {},
   "outputs": [
    {
     "data": {
      "application/vnd.jupyter.widget-view+json": {
       "model_id": "3c8f20244b4243aa8c534e3f18f128af",
       "version_major": 2,
       "version_minor": 0
      },
      "text/plain": [
       "WebGuiWidget(value={'ngsolve_version': '6.2.2203', 'mesh_dim': 2, 'order2d': 2, 'order3d': 2, 'draw_vol': None…"
      ]
     },
     "metadata": {},
     "output_type": "display_data"
    },
    {
     "data": {
      "text/plain": [
       "BaseWebGuiScene"
      ]
     },
     "execution_count": 2,
     "metadata": {},
     "output_type": "execute_result"
    }
   ],
   "source": [
    "geo = SplineGeometry()\n",
    "geo.AddRectangle( (-3,-2), (3, 2), bcs = (\"top\", \"out\", \"bot\", \"in\"), leftdomain=1, rightdomain=0, maxh=0.4) # 0.4\n",
    "geo.AddCircle(c=(0, 0), r=1, leftdomain=2, rightdomain=1, bc=\"outer_cylinder\", maxh=0.25) # 0.1\n",
    "geo.AddCircle(c=(0, 0), r=0.5, leftdomain=0, rightdomain=2, bc=\"cyl\", maxh=0.1) # 0.04\n",
    "#geo.SetDomainMaxH(2, 0.08)\n",
    "mesh = Mesh(geo.GenerateMesh(maxh=0.4))\n",
    "mesh.Curve(3);\n",
    "\n",
    "geo_1 = SplineGeometry()\n",
    "geo_1.AddRectangle((0,0),(1,1))\n",
    "mesh_1 = Mesh(geo_1.GenerateMesh())\n",
    "Draw(mesh)"
   ]
  },
  {
   "cell_type": "code",
   "execution_count": 3,
   "metadata": {},
   "outputs": [],
   "source": [
    "# Order of spaces\n",
    "k = 2\n",
    "# H1 vs VectorH1 -> vector field?!\n",
    "V = H1(mesh,order=k, dirichlet=\"top|bot|cyl|in|out\")\n",
    "Q = H1(mesh,order=k-1)\n",
    "FES = FESpace([V,V,Q]) # [V,Q] (without VectorH1)"
   ]
  },
  {
   "cell_type": "code",
   "execution_count": 4,
   "metadata": {},
   "outputs": [
    {
     "data": {
      "text/plain": [
       "<ngsolve.comp.BilinearForm at 0x7fc134e132b0>"
      ]
     },
     "execution_count": 4,
     "metadata": {},
     "output_type": "execute_result"
    }
   ],
   "source": [
    "ux,uy,p = FES.TrialFunction()\n",
    "vx,vy,q = FES.TestFunction()\n",
    "\n",
    "# stokes equation\n",
    "def Equation(ux,uy,p,vx,vy,q):\n",
    "    div_u = grad(ux)[0]+grad(uy)[1] # custom div\n",
    "    div_v = grad(vx)[0]+grad(vy)[1]\n",
    "    return (grad(ux)*grad(vx)+grad(uy)*grad(vy) + div_u*q + div_v*p).Compile() * dx\n",
    "\n",
    "\n",
    "# (InnerProduct(grad(u),grad(v))+div(u)*q+div(v)*p)*dx\n",
    "a = BilinearForm(FES)\n",
    "a += Equation(ux,uy,p,vx,vy,q)\n",
    "a.Assemble()"
   ]
  },
  {
   "cell_type": "code",
   "execution_count": 5,
   "metadata": {},
   "outputs": [
    {
     "data": {
      "application/vnd.jupyter.widget-view+json": {
       "model_id": "5e67a4d7d47048e3a31dd4800bfe9115",
       "version_major": 2,
       "version_minor": 0
      },
      "text/plain": [
       "WebGuiWidget(value={'ngsolve_version': '6.2.2203', 'mesh_dim': 2, 'order2d': 2, 'order3d': 2, 'draw_vol': Fals…"
      ]
     },
     "metadata": {},
     "output_type": "display_data"
    }
   ],
   "source": [
    "gfu = GridFunction(FES)\n",
    "uinf = 0.001\n",
    "uin = CoefficientFunction((uinf))\n",
    "gfu.components[0].Set(uin, definedon=mesh.Boundaries(\"in|top|bot|out\"))\n",
    "\n",
    "x_velocity = CoefficientFunction(gfu.components[0])\n",
    "scene_state = Draw(x_velocity, mesh, \"vel\")"
   ]
  },
  {
   "cell_type": "code",
   "execution_count": 6,
   "metadata": {},
   "outputs": [],
   "source": [
    "def solveStokes():\n",
    "    res = gfu.vec.CreateVector()\n",
    "    res.data = -a.mat * gfu.vec\n",
    "    inv = a.mat.Inverse(FES.FreeDofs())\n",
    "    gfu.vec.data += inv * res\n",
    "    scene_state.Redraw()\n",
    "solveStokes()"
   ]
  },
  {
   "cell_type": "code",
   "execution_count": null,
   "metadata": {},
   "outputs": [],
   "source": []
  }
 ],
 "metadata": {
  "kernelspec": {
   "display_name": "Python 3 (ipykernel)",
   "language": "python",
   "name": "python3"
  },
  "language_info": {
   "codemirror_mode": {
    "name": "ipython",
    "version": 3
   },
   "file_extension": ".py",
   "mimetype": "text/x-python",
   "name": "python",
   "nbconvert_exporter": "python",
   "pygments_lexer": "ipython3",
   "version": "3.8.10"
  }
 },
 "nbformat": 4,
 "nbformat_minor": 2
}
