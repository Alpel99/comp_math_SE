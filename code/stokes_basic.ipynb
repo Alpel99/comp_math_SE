{
 "cells": [
  {
   "cell_type": "code",
   "execution_count": null,
   "metadata": {},
   "outputs": [],
   "source": [
    "from ngsolve import *\n",
    "from netgen.geom2d import SplineGeometry\n",
    "from ngsolve.webgui import Draw"
   ]
  },
  {
   "cell_type": "code",
   "execution_count": null,
   "metadata": {},
   "outputs": [],
   "source": [
    "geo = SplineGeometry()\n",
    "geo.AddRectangle( (-3,-2), (3, 2), bcs = (\"top\", \"out\", \"bot\", \"in\"), leftdomain=1, rightdomain=0, maxh=0.4) # 0.4\n",
    "geo.AddCircle(c=(0, 0), r=1, leftdomain=2, rightdomain=1, bc=\"outer_cylinder\", maxh=0.25) # 0.1\n",
    "geo.AddCircle(c=(0, 0), r=0.5, leftdomain=0, rightdomain=2, bc=\"cyl\", maxh=0.1) # 0.04\n",
    "#geo.SetDomainMaxH(2, 0.08)\n",
    "mesh = Mesh(geo.GenerateMesh(maxh=0.4))\n",
    "mesh.Curve(3);\n",
    "\n",
    "geo_1 = SplineGeometry()\n",
    "geo_1.AddRectangle((0,0),(1,1))\n",
    "mesh_1 = Mesh(geo_1.GenerateMesh())\n",
    "Draw(mesh)"
   ]
  },
  {
   "cell_type": "code",
   "execution_count": null,
   "metadata": {},
   "outputs": [],
   "source": [
    "# Order of spaces\n",
    "k = 2\n",
    "# H1 vs VectorH1 -> vector field?!\n",
    "V = H1(mesh,order=k, dirichlet=\"top|bot|cyl|in|out\")\n",
    "Q = H1(mesh,order=k-1)\n",
    "FES = FESpace([V,V,Q]) # [V,Q] (without VectorH1)"
   ]
  },
  {
   "cell_type": "code",
   "execution_count": null,
   "metadata": {},
   "outputs": [],
   "source": [
    "ux,uy,p = FES.TrialFunction()\n",
    "vx,vy,q = FES.TestFunction()\n",
    "\n",
    "# stokes equation\n",
    "def Equation(ux,uy,p,vx,vy,q):\n",
    "    div_u = grad(ux)[0]+grad(uy)[1] # custom div\n",
    "    div_v = grad(vx)[0]+grad(vy)[1]\n",
    "    return (grad(ux)*grad(vx)+grad(uy)*grad(vy) + div_u*q + div_v*p).Compile() * dx\n",
    "\n",
    "\n",
    "# (InnerProduct(grad(u),grad(v))+div(u)*q+div(v)*p)*dx\n",
    "a = BilinearForm(FES)\n",
    "a += Equation(ux,uy,p,vx,vy,q)\n",
    "a.Assemble()"
   ]
  },
  {
   "cell_type": "code",
   "execution_count": null,
   "metadata": {},
   "outputs": [],
   "source": [
    "gfu = GridFunction(FES)\n",
    "uinf = 0.001\n",
    "uin = CoefficientFunction((uinf))\n",
    "gfu.components[0].Set(uin, definedon=mesh.Boundaries(\"in|top|bot|out\"))\n",
    "\n",
    "x_velocity = CoefficientFunction(gfu.components[0])\n",
    "scene_state = Draw(x_velocity, mesh, \"vel\")"
   ]
  },
  {
   "cell_type": "markdown",
   "metadata": {},
   "source": [
    "def solveStokes():\n",
    "    res = gfu.vec.CreateVector()\n",
    "    res.data = -a.mat * gfu.vec\n",
    "    inv = a.mat.Inverse(FES.FreeDofs())\n",
    "    gfu.vec.data += inv * res\n",
    "    scene_state.Redraw()\n",
    "solveStokes()"
   ]
  }
 ],
 "metadata": {
  "language_info": {
   "name": "python"
  },
  "orig_nbformat": 4
 },
 "nbformat": 4,
 "nbformat_minor": 2
}
