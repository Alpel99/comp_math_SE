{
 "cells": [
  {
   "cell_type": "code",
   "execution_count": 150,
   "id": "c9277b01",
   "metadata": {},
   "outputs": [],
   "source": [
    "from ngsolve import *\n",
    "from netgen.geom2d import SplineGeometry\n",
    "from ngsolve.webgui import Draw\n",
    "import copy"
   ]
  },
  {
   "cell_type": "markdown",
   "id": "86d0669d",
   "metadata": {},
   "source": [
    "setup geometry"
   ]
  },
  {
   "cell_type": "code",
   "execution_count": 151,
   "id": "8264c4cc",
   "metadata": {},
   "outputs": [],
   "source": [
    "geo = SplineGeometry()\n",
    "geo.AddRectangle( (-3,-2), (3, 2), bcs = (\"top\", \"out\", \"bot\", \"in\"))\n",
    "geo.AddCircle ( (0, 0), r=0.5, leftdomain=0, rightdomain=1, bc=\"cyl\")\n",
    "mesh = Mesh( geo.GenerateMesh(maxh=0.2))\n",
    "mesh.Curve(3);\n",
    "mesh_orig = copy.deepcopy(mesh)\n",
    "#Draw(mesh)"
   ]
  },
  {
   "cell_type": "markdown",
   "id": "a7d7c7b8",
   "metadata": {},
   "source": [
    "setup FEM space"
   ]
  },
  {
   "cell_type": "code",
   "execution_count": 152,
   "id": "d0910c65",
   "metadata": {},
   "outputs": [],
   "source": [
    "# viscosity\n",
    "nu = 0.01\n",
    "# Order of spaces\n",
    "k = 2\n",
    "# H1 vs VectorH1 -> vector field?!\n",
    "V = H1(mesh,order=k, dirichlet=\"top|bot|cyl|in|out\")\n",
    "Q = H1(mesh,order=k-1)\n",
    "FES = FESpace([V,V,Q]) # X = [V,Q] (without VectorH1)"
   ]
  },
  {
   "cell_type": "markdown",
   "id": "06324b5e",
   "metadata": {},
   "source": [
    "setup bilinear form\n",
    "velocityfield u and pressurefield p"
   ]
  },
  {
   "cell_type": "code",
   "execution_count": 153,
   "id": "9304391f",
   "metadata": {},
   "outputs": [
    {
     "data": {
      "text/plain": [
       "<ngsolve.comp.BilinearForm at 0x20e7739e8b0>"
      ]
     },
     "execution_count": 153,
     "metadata": {},
     "output_type": "execute_result"
    }
   ],
   "source": [
    "ux,uy,p = FES.TrialFunction()\n",
    "vx,vy,q = FES.TestFunction()\n",
    "\n",
    "# stokes equation\n",
    "def Equation(ux,uy,p,vx,vy,q):\n",
    "    div_u = grad(ux)[0]+grad(uy)[1] # custom div\n",
    "    div_v = grad(vx)[0]+grad(vy)[1]\n",
    "    return (grad(ux)*grad(vx)+grad(uy)*grad(vy) + div_u*q + div_v*p) * dx\n",
    "\n",
    "\n",
    "# (InnerProduct(grad(u),grad(v))+div(u)*q+div(v)*p)*dx\n",
    "a = BilinearForm(FES)\n",
    "a += Equation(ux,uy,p,vx,vy,q)\n",
    "a.Assemble()"
   ]
  },
  {
   "cell_type": "markdown",
   "id": "5a625f97",
   "metadata": {},
   "source": [
    "setup boundary conditions"
   ]
  },
  {
   "cell_type": "code",
   "execution_count": 154,
   "id": "55a5b535",
   "metadata": {
    "scrolled": true
   },
   "outputs": [
    {
     "data": {
      "application/vnd.jupyter.widget-view+json": {
       "model_id": "80dfe46b408b436e96133ab61a8c7f13",
       "version_major": 2,
       "version_minor": 0
      },
      "text/plain": [
       "WebGuiWidget(value={'ngsolve_version': '6.2.2201', 'mesh_dim': 2, 'order2d': 2, 'order3d': 2, 'draw_vol': Fals…"
      ]
     },
     "metadata": {},
     "output_type": "display_data"
    }
   ],
   "source": [
    "gfu = GridFunction(FES)\n",
    "uinf = 0.001\n",
    "uin = CoefficientFunction((uinf))\n",
    "gfu.components[0].Set(uin, definedon=mesh.Boundaries(\"in|top|bot|out\"))\n",
    "\n",
    "x_velocity = CoefficientFunction(gfu.components[0])\n",
    "scene_state = Draw(x_velocity, mesh, \"vel\")"
   ]
  },
  {
   "cell_type": "markdown",
   "id": "1cc7db44",
   "metadata": {},
   "source": [
    "solve stokes"
   ]
  },
  {
   "cell_type": "code",
   "execution_count": 155,
   "id": "8376d727",
   "metadata": {},
   "outputs": [],
   "source": [
    "def solveStokes():\n",
    "    res = gfu.vec.CreateVector()\n",
    "    res.data = -a.mat * gfu.vec\n",
    "    inv = a.mat.Inverse(FES.FreeDofs())\n",
    "    gfu.vec.data += inv * res\n",
    "    scene_state.Redraw()\n",
    "solveStokes()"
   ]
  },
  {
   "cell_type": "markdown",
   "id": "2ef93f57",
   "metadata": {},
   "source": [
    "# Calculations/Setup for all the side constraints"
   ]
  },
  {
   "cell_type": "markdown",
   "id": "5852ecf9",
   "metadata": {},
   "source": [
    "Drag/ \"dissipated energy\" [should be working]\n",
    "\n",
    "$J(\\Omega ) = \\frac{1}{2} \\int_\\Omega Du : Du dx$ "
   ]
  },
  {
   "cell_type": "code",
   "execution_count": 156,
   "id": "b48a5c46",
   "metadata": {},
   "outputs": [],
   "source": [
    "def calc_drag(gfu):\n",
    "    ux = gfu.components[0]\n",
    "    uy = gfu.components[1]\n",
    "    return 0.5*(grad(ux)*grad(ux)+grad(uy)*grad(uy))*dx"
   ]
  },
  {
   "cell_type": "markdown",
   "id": "4dd69093",
   "metadata": {},
   "source": [
    "### get surface area of mesh (main issue)\n",
    "$vol(\\Omega) = \\int_{\\Omega} 1 \\,dx \\in \\mathbb{R}$ should stay constant <br>\n",
    "entire area: $A = 6*4=24$ <br>\n",
    "$\\alpha\\Big(\\mathrm{Vol}(\\Omega(s))-\\mathrm{Vol}(\\Omega_0)\\Big)^2$"
   ]
  },
  {
   "cell_type": "code",
   "execution_count": 157,
   "id": "ed6aabd5",
   "metadata": {},
   "outputs": [],
   "source": [
    "alpha = 1e-4\n",
    "surf_t = CoefficientFunction(1)\n",
    "surf_0 = Integrate(surf_t,mesh)\n",
    "\n",
    "def calc_surf_change():\n",
    "    return alpha*(surf_t*dx-surf_0)**2"
   ]
  },
  {
   "cell_type": "code",
   "execution_count": 158,
   "id": "99bdbde3",
   "metadata": {},
   "outputs": [],
   "source": [
    "assert(Integrate(surf_t*dx,mesh)==Integrate(surf_t,mesh))"
   ]
  },
  {
   "cell_type": "code",
   "execution_count": 159,
   "id": "c4ac32b2",
   "metadata": {},
   "outputs": [],
   "source": [
    "def s():\n",
    "    return surf_t*dx"
   ]
  },
  {
   "cell_type": "markdown",
   "id": "762fa355",
   "metadata": {},
   "source": [
    "### barycenter (not necessarily useful yet)\n",
    "$bc^\\Omega = \\frac{1}{vol(\\Omega)}\\int_{\\Omega}x\\,dx \\in \\mathbb{R}^d$ for each dimension!!"
   ]
  },
  {
   "cell_type": "code",
   "execution_count": 160,
   "id": "fccd2751",
   "metadata": {},
   "outputs": [
    {
     "name": "stdout",
     "output_type": "stream",
     "text": [
      "-1.4945112310824668e-17\n"
     ]
    }
   ],
   "source": [
    "bc_tx = CoefficientFunction(x)\n",
    "bc_0 = 1/surf_0*Integrate(bc_tx,mesh)\n",
    "print(bc_0)"
   ]
  },
  {
   "cell_type": "code",
   "execution_count": 161,
   "id": "86f9b972",
   "metadata": {},
   "outputs": [],
   "source": [
    "bc_tx = CoefficientFunction(x)\n",
    "bc_0 = 1/surf_0*Integrate(bc_tx,mesh)\n",
    "\n",
    "def calc_bc_change():\n",
    "    return ((1/(surf_t*dx))*(bc_t*dx)- bc_0)"
   ]
  },
  {
   "cell_type": "code",
   "execution_count": 162,
   "id": "d7b375a2",
   "metadata": {},
   "outputs": [],
   "source": [
    "def Cost(gfu):\n",
    "    return calc_drag(gfu)"
   ]
  },
  {
   "cell_type": "markdown",
   "id": "eb55f1d1",
   "metadata": {},
   "source": [
    "# creation of Shapediff Space + pertubation Function\n",
    "function that will perturb our mesh"
   ]
  },
  {
   "cell_type": "code",
   "execution_count": 163,
   "id": "4a7b4f43",
   "metadata": {},
   "outputs": [],
   "source": [
    "# Test and trial functions for shape derivate -> do we even need this?\n",
    "VEC = H1(mesh, order=2, dim=2, dirichlet=\"top|bot|in|out\")\n",
    "PHI, X = VEC.TnT()\n",
    "# gfset denotes the deformation of the original domain and will be updated during the shape optimization\n",
    "gfset = GridFunction(VEC)\n",
    "gfset.Set((0,0))\n",
    "mesh.SetDeformation(gfset)\n",
    "SetVisualization (deformation=True)\n",
    "\n",
    "# deformation calculation\n",
    "gfX = GridFunction(VEC)"
   ]
  },
  {
   "cell_type": "code",
   "execution_count": 164,
   "id": "f1ead8c0",
   "metadata": {},
   "outputs": [],
   "source": [
    "# try for already transformed cost function:\n",
    "n = specialcf.normal(2)\n",
    "def TransfCost():\n",
    "    #return div(X)**2*dx\n",
    "    return (gfX*n)**2*ds(definedon=\"cyl\")"
   ]
  },
  {
   "cell_type": "markdown",
   "id": "e73cb8a5",
   "metadata": {},
   "source": [
    "# Shape Optimization\n",
    "$\\min_{h,u,s} \\int_{\\Omega(s)} \\sum_{i,j=1}^2 \\left( \\frac{\\partial u_i}{\\partial x_j}\\right)^2~\\mathrm{d} x\n",
    " + \\alpha\\Big(\\mathrm{Vol}(\\Omega(s))-\\mathrm{Vol}(\\Omega_0)\\Big)^2\n",
    "+ \\beta\\sum_{j=1}^2 \\Big(\\mathrm{Bc}_j(\\Omega(s))-\\mathrm{Bc}_j(\\Omega_0)\\Big)^2,$\n",
    "\n",
    "$\\frac{1}{2} \\int_\\Omega Du : Du dx + \\alpha\\Big(\\mathrm{Vol}(\\Omega(s))-\\mathrm{Vol}(\\Omega_0)\\Big)^2\n",
    "+ \\beta\\sum_{j=1}^2 \\Big(\\mathrm{Bc}_j(\\Omega(s)) - \\mathrm{Bc}_j(\\Omega_0)\\Big)^2,$ (1)"
   ]
  },
  {
   "cell_type": "code",
   "execution_count": 165,
   "id": "3518fbf8",
   "metadata": {},
   "outputs": [],
   "source": [
    "# trying out different stuff for float/SumOfIntegrals Subtraction\n",
    "surf_init = Parameter(surf_0)\n",
    "surf_in = CoefficientFunction(surf_0)\n",
    "surfdif = (CoefficientFunction(1)*dx(definedon=\"mesh_orig\") - CoefficientFunction(1) * dx(definedon=\"mesh\"))"
   ]
  },
  {
   "cell_type": "code",
   "execution_count": 166,
   "id": "2635ebba",
   "metadata": {},
   "outputs": [],
   "source": [
    "ux = gfu.components[0]\n",
    "uy = gfu.components[1]\n",
    "p = gfu.components[2]\n",
    "\n",
    "Lagrangian = Equation(ux,uy,p,ux,uy,p) + calc_drag(gfu) # stokes + drag"
   ]
  },
  {
   "cell_type": "markdown",
   "id": "69156365",
   "metadata": {},
   "source": [
    "## Frage an Kevin Sturm:\n",
    "* weiter unten genau die beschriebene Implementation aus der heutigen E-Mail\n",
    "* folgendes Problem:\n",
    "    * der erste Teil ist einfach ein float, aber sollte nach unserem Verständnis abhängig von dem derzeit deformierten mesh sein (siehe Zelle hier drunter)\n",
    "    * über die Iterationen konvergiert es noch immer gleich/ähnlich, bis kein mesh mehr übrig ist\n",
    "* wenn man das `Integrate(surf_t,mesh)` veränderlich machen will, steht man wieder vor dem vorherigen Problem\n",
    "* gibt es noch weitere Möglichkeiten das zu implementieren"
   ]
  },
  {
   "cell_type": "code",
   "execution_count": 167,
   "id": "e6262880",
   "metadata": {},
   "outputs": [
    {
     "data": {
      "text/plain": [
       "0.0"
      ]
     },
     "execution_count": 167,
     "metadata": {},
     "output_type": "execute_result"
    }
   ],
   "source": [
    "2*(Integrate(surf_t, mesh)-surf_0)"
   ]
  },
  {
   "cell_type": "code",
   "execution_count": 168,
   "id": "1ca75f8a",
   "metadata": {
    "scrolled": true
   },
   "outputs": [],
   "source": [
    "dJOmega = LinearForm(VEC)\n",
    "dJOmega += Lagrangian.DiffShape(X)\n",
    "dJOmega += 2*(Integrate(surf_t*dx, mesh)-surf_0)*s().DiffShape(X) # side constraint volume\n",
    "\n",
    "b = BilinearForm(VEC)\n",
    "b += InnerProduct(grad(X),grad(PHI))*dx + InnerProduct(X,PHI)*dx # H1-norm"
   ]
  },
  {
   "cell_type": "code",
   "execution_count": 169,
   "id": "305afadc",
   "metadata": {},
   "outputs": [],
   "source": [
    "def SolveDeformationEquation():\n",
    "    rhs = gfX.vec.CreateVector()\n",
    "    rhs.data = dJOmega.vec - b.mat * gfX.vec\n",
    "    update = gfX.vec.CreateVector()\n",
    "    update.data = b.mat.Inverse(VEC.FreeDofs()) * rhs\n",
    "    gfX.vec.data += update"
   ]
  },
  {
   "cell_type": "markdown",
   "id": "442891b7",
   "metadata": {},
   "source": [
    "## Iteration"
   ]
  },
  {
   "cell_type": "code",
   "execution_count": 171,
   "id": "4a7cc66c",
   "metadata": {
    "scrolled": true
   },
   "outputs": [
    {
     "data": {
      "application/vnd.jupyter.widget-view+json": {
       "model_id": "57925d99db5d44d4a34c30d095b488d5",
       "version_major": 2,
       "version_minor": 0
      },
      "text/plain": [
       "WebGuiWidget(value={'ngsolve_version': '6.2.2201', 'mesh_dim': 2, 'order2d': 2, 'order3d': 2, 'draw_vol': Fals…"
      ]
     },
     "metadata": {},
     "output_type": "display_data"
    }
   ],
   "source": [
    "scene = Draw(gfset)"
   ]
  },
  {
   "cell_type": "code",
   "execution_count": 172,
   "id": "bdaddbf7",
   "metadata": {},
   "outputs": [
    {
     "name": "stdout",
     "output_type": "stream",
     "text": [
      "cost at iteration 2 :  1.0997830056224484e-05\n",
      "cost at iteration 0 :  1.0997830056224484e-05\n",
      "cost at iteration 1 :  1.0997830056224499e-05\n",
      "cost at iteration 2 :  1.0672616583769384e-05\n",
      "cost at iteration 3 :  1.0374527987173267e-05\n",
      "cost at iteration 4 :  1.0102205670910123e-05\n",
      "cost at iteration 5 :  9.85428912742671e-06\n",
      "cost at iteration 6 :  9.62943497404589e-06\n",
      "cost at iteration 7 :  9.426333303636968e-06\n",
      "cost at iteration 8 :  9.243721494339878e-06\n",
      "cost at iteration 9 :  9.080396457157115e-06\n",
      "cost at iteration 10 :  8.935226445152368e-06\n",
      "cost at iteration 11 :  8.807163390029051e-06\n",
      "cost at iteration 12 :  8.695256410295212e-06\n",
      "cost at iteration 13 :  8.598666569000394e-06\n",
      "cost at iteration 14 :  8.51668204034555e-06\n",
      "cost at iteration 15 :  8.448731598775026e-06\n",
      "cost at iteration 16 :  8.394392975052731e-06\n"
     ]
    },
    {
     "ename": "KeyboardInterrupt",
     "evalue": "",
     "output_type": "error",
     "traceback": [
      "\u001b[1;31m---------------------------------------------------------------------------\u001b[0m",
      "\u001b[1;31mKeyboardInterrupt\u001b[0m                         Traceback (most recent call last)",
      "Input \u001b[1;32mIn [172]\u001b[0m, in \u001b[0;36m<cell line: 20>\u001b[1;34m()\u001b[0m\n\u001b[0;32m     26\u001b[0m \u001b[38;5;66;03m#print('volume iteration', k, ': ', 24-Integrate(1,mesh))\u001b[39;00m\n\u001b[0;32m     27\u001b[0m a\u001b[38;5;241m.\u001b[39mAssemble()\n\u001b[1;32m---> 28\u001b[0m \u001b[43msolveStokes\u001b[49m\u001b[43m(\u001b[49m\u001b[43m)\u001b[49m\n\u001b[0;32m     30\u001b[0m b\u001b[38;5;241m.\u001b[39mAssemble()\n\u001b[0;32m     31\u001b[0m dJOmega\u001b[38;5;241m.\u001b[39mAssemble()\n",
      "Input \u001b[1;32mIn [155]\u001b[0m, in \u001b[0;36msolveStokes\u001b[1;34m()\u001b[0m\n\u001b[0;32m      2\u001b[0m res \u001b[38;5;241m=\u001b[39m gfu\u001b[38;5;241m.\u001b[39mvec\u001b[38;5;241m.\u001b[39mCreateVector()\n\u001b[0;32m      3\u001b[0m res\u001b[38;5;241m.\u001b[39mdata \u001b[38;5;241m=\u001b[39m \u001b[38;5;241m-\u001b[39ma\u001b[38;5;241m.\u001b[39mmat \u001b[38;5;241m*\u001b[39m gfu\u001b[38;5;241m.\u001b[39mvec\n\u001b[1;32m----> 4\u001b[0m inv \u001b[38;5;241m=\u001b[39m \u001b[43ma\u001b[49m\u001b[38;5;241;43m.\u001b[39;49m\u001b[43mmat\u001b[49m\u001b[38;5;241;43m.\u001b[39;49m\u001b[43mInverse\u001b[49m\u001b[43m(\u001b[49m\u001b[43mFES\u001b[49m\u001b[38;5;241;43m.\u001b[39;49m\u001b[43mFreeDofs\u001b[49m\u001b[43m(\u001b[49m\u001b[43m)\u001b[49m\u001b[43m)\u001b[49m\n\u001b[0;32m      5\u001b[0m gfu\u001b[38;5;241m.\u001b[39mvec\u001b[38;5;241m.\u001b[39mdata \u001b[38;5;241m+\u001b[39m\u001b[38;5;241m=\u001b[39m inv \u001b[38;5;241m*\u001b[39m res\n\u001b[0;32m      6\u001b[0m scene_state\u001b[38;5;241m.\u001b[39mRedraw()\n",
      "\u001b[1;31mKeyboardInterrupt\u001b[0m: "
     ]
    }
   ],
   "source": [
    "gfset.Set((0,0))\n",
    "mesh.SetDeformation(gfset)\n",
    "scene.Redraw()\n",
    "a.Assemble()\n",
    "solveStokes()\n",
    "\n",
    "LineSearch = False\n",
    "\n",
    "iter_max = 600\n",
    "Jold = Integrate(calc_drag(gfu), mesh)\n",
    "converged = False\n",
    "\n",
    "# try parts of loop\n",
    "mesh.SetDeformation(gfset)\n",
    "scene.Redraw()\n",
    "\n",
    "print('cost at iteration', k, ': ', Jold)\n",
    "    \n",
    "# input(\"Press enter to start optimization\")\n",
    "for k in range(iter_max):\n",
    "    mesh.SetDeformation(gfset)\n",
    "    scene.Redraw()\n",
    "    scene_state.Redraw()\n",
    "    \n",
    "    print('cost at iteration', k, ': ', Jold)\n",
    "    #print('volume iteration', k, ': ', 24-Integrate(1,mesh))\n",
    "    a.Assemble()\n",
    "    solveStokes()\n",
    "    \n",
    "    b.Assemble()\n",
    "    dJOmega.Assemble()\n",
    "    SolveDeformationEquation()\n",
    "    \n",
    "    mesh.UnsetDeformation()\n",
    "    \n",
    "    #scale = 0.01 / Norm(gfX.vec)\n",
    "    scale = 0.1 / Norm(gfX.vec)\n",
    "    gfsetOld = gfset\n",
    "    gfset.vec.data -= scale * gfX.vec\n",
    "    Jnew = Integrate(calc_drag(gfu), mesh)\n",
    "    \n",
    "    if LineSearch:\n",
    "        while Jnew > Jold and scale > 1e-12:\n",
    "            #input('a')\n",
    "            scale = scale / 2\n",
    "            print(\"scale = \", scale)\n",
    "            if scale <= 1e-12:\n",
    "                converged = True\n",
    "                break\n",
    "\n",
    "            gfset.vec.data = gfsetOld.vec - scale * gfX.vec\n",
    "            mesh.SetDeformation(gfset)\n",
    "            \n",
    "            a.Assemble()\n",
    "            solveStokes()\n",
    "            Jnew = Integrate(calc_drag(gfu), mesh)\n",
    "    \n",
    "    if converged==True:\n",
    "        print(\"No more descent can be found\")\n",
    "        break\n",
    "    Jold = Jnew\n",
    "\n",
    "    Redraw(blocking=True)"
   ]
  },
  {
   "cell_type": "code",
   "execution_count": null,
   "id": "c4a9f8b0",
   "metadata": {},
   "outputs": [],
   "source": []
  },
  {
   "cell_type": "code",
   "execution_count": null,
   "id": "f2ea0e0a",
   "metadata": {},
   "outputs": [],
   "source": []
  }
 ],
 "metadata": {
  "interpreter": {
   "hash": "916dbcbb3f70747c44a77c7bcd40155683ae19c65e1c03b4aa3499c5328201f1"
  },
  "kernelspec": {
   "display_name": "Python 3",
   "language": "python",
   "name": "python3"
  },
  "language_info": {
   "codemirror_mode": {
    "name": "ipython",
    "version": 3
   },
   "file_extension": ".py",
   "mimetype": "text/x-python",
   "name": "python",
   "nbconvert_exporter": "python",
   "pygments_lexer": "ipython3",
   "version": "3.9.10"
  }
 },
 "nbformat": 4,
 "nbformat_minor": 5
}
