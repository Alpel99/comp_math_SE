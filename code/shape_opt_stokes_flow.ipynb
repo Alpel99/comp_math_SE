{
 "cells": [
  {
   "cell_type": "code",
   "execution_count": 1,
   "id": "c9277b01",
   "metadata": {},
   "outputs": [],
   "source": [
    "from ngsolve import *\n",
    "from netgen.geom2d import SplineGeometry\n",
    "from ngsolve.webgui import Draw"
   ]
  },
  {
   "cell_type": "markdown",
   "id": "86d0669d",
   "metadata": {},
   "source": [
    "setup geometry"
   ]
  },
  {
   "cell_type": "code",
   "execution_count": 2,
   "id": "8264c4cc",
   "metadata": {},
   "outputs": [
    {
     "data": {
      "application/vnd.jupyter.widget-view+json": {
       "model_id": "44c076bb14494507aff3f1ae4d4aa50e",
       "version_major": 2,
       "version_minor": 0
      },
      "text/plain": [
       "WebGuiWidget(value={'ngsolve_version': '6.2.2201', 'mesh_dim': 2, 'order2d': 2, 'order3d': 2, 'draw_vol': None…"
      ]
     },
     "metadata": {},
     "output_type": "display_data"
    },
    {
     "data": {
      "text/plain": [
       "BaseWebGuiScene"
      ]
     },
     "execution_count": 2,
     "metadata": {},
     "output_type": "execute_result"
    }
   ],
   "source": [
    "geo = SplineGeometry()\n",
    "geo.AddRectangle( (-3,-2), (3, 2), bcs = (\"top\", \"out\", \"bot\", \"in\"))\n",
    "geo.AddCircle ( (0, 0), r=0.5, leftdomain=0, rightdomain=1, bc=\"cyl\")\n",
    "mesh = Mesh( geo.GenerateMesh(maxh=0.2))\n",
    "mesh.Curve(3);\n",
    "Draw(mesh)"
   ]
  },
  {
   "cell_type": "markdown",
   "id": "a7d7c7b8",
   "metadata": {},
   "source": [
    "setup FEM space"
   ]
  },
  {
   "cell_type": "code",
   "execution_count": 3,
   "id": "d0910c65",
   "metadata": {},
   "outputs": [],
   "source": [
    "# viscosity\n",
    "nu = 0.001\n",
    "# Order of spaces\n",
    "k = 2\n",
    "# H1 vs VectorH1 -> vector field?!\n",
    "V = VectorH1(mesh,order=k, dirichlet=\"top|bot|cyl|in|out\")\n",
    "Q = H1(mesh,order=k-1)\n",
    "X = FESpace([V,Q]) # X = [V,V,Q] (without VectorH1)"
   ]
  },
  {
   "cell_type": "markdown",
   "id": "06324b5e",
   "metadata": {},
   "source": [
    "setup bilinear form\n",
    "velocityfield u and pressurefield p"
   ]
  },
  {
   "cell_type": "code",
   "execution_count": 4,
   "id": "9304391f",
   "metadata": {},
   "outputs": [
    {
     "data": {
      "text/plain": [
       "<ngsolve.comp.BilinearForm at 0x7fb554c821b0>"
      ]
     },
     "execution_count": 4,
     "metadata": {},
     "output_type": "execute_result"
    }
   ],
   "source": [
    "u,p = X.TrialFunction()\n",
    "v,q = X.TestFunction()\n",
    "\n",
    "a = BilinearForm(X)\n",
    "a += (InnerProduct(grad(u),grad(v))+div(u)*q+div(v)*p)*dx\n",
    "a.Assemble()"
   ]
  },
  {
   "cell_type": "markdown",
   "id": "5a625f97",
   "metadata": {},
   "source": [
    "setup boundary conditions"
   ]
  },
  {
   "cell_type": "code",
   "execution_count": 5,
   "id": "55a5b535",
   "metadata": {
    "scrolled": true
   },
   "outputs": [
    {
     "data": {
      "application/vnd.jupyter.widget-view+json": {
       "model_id": "c492066ee91a45059260e1251ba9085f",
       "version_major": 2,
       "version_minor": 0
      },
      "text/plain": [
       "WebGuiWidget(value={'ngsolve_version': '6.2.2201', 'mesh_dim': 2, 'order2d': 2, 'order3d': 2, 'draw_vol': Fals…"
      ]
     },
     "metadata": {},
     "output_type": "display_data"
    }
   ],
   "source": [
    "gfu = GridFunction(X)\n",
    "# setup flow condition\n",
    "uinf = 0.001\n",
    "uin = CoefficientFunction((uinf,0))\n",
    "gfu.components[0].Set(uin, definedon=mesh.Boundaries(\"in|top|bot|out\"))\n",
    "\n",
    "velocity = CoefficientFunction(gfu.components[0])\n",
    "scene = Draw(velocity, mesh, \"vel\")"
   ]
  },
  {
   "cell_type": "markdown",
   "id": "eaee2173",
   "metadata": {},
   "source": [
    "solve equation"
   ]
  },
  {
   "cell_type": "code",
   "execution_count": 6,
   "id": "8376d727",
   "metadata": {},
   "outputs": [],
   "source": [
    "def solveStokes():\n",
    "    res = gfu.vec.CreateVector()\n",
    "    res.data = -a.mat * gfu.vec\n",
    "    inv = a.mat.Inverse(X.FreeDofs())\n",
    "    gfu.vec.data += inv * res\n",
    "    scene.Redraw()\n",
    "solveStokes()"
   ]
  },
  {
   "cell_type": "markdown",
   "id": "5852ecf9",
   "metadata": {},
   "source": [
    "Drag/ \"dissipated energy\" [should be working]\n",
    "\n",
    "$J(\\Omega ) = \\frac{1}{2} \\int_\\Omega Du : Du dx$ "
   ]
  },
  {
   "cell_type": "code",
   "execution_count": 7,
   "id": "f04efaa9",
   "metadata": {},
   "outputs": [
    {
     "name": "stdout",
     "output_type": "stream",
     "text": [
      "1.0997749905576043e-05\n"
     ]
    }
   ],
   "source": [
    "solveStokes()\n",
    "vel = gfu.components[0] #gfu.vec.data\n",
    "drag = Integrate(0.5*InnerProduct(Grad(vel),Grad(vel)),mesh)\n",
    "print(drag)\n",
    "\n",
    "# 1.0997749905576028e-05 - r=0.5\n",
    "# 0.00043084429187575745 - r=1.5"
   ]
  },
  {
   "cell_type": "code",
   "execution_count": 8,
   "id": "b48a5c46",
   "metadata": {},
   "outputs": [],
   "source": [
    "def calcDrag(gfu):\n",
    "    vel = gfu.components[0]\n",
    "    return Integrate(0.5*InnerProduct(Grad(vel),Grad(vel)),mesh)"
   ]
  },
  {
   "cell_type": "markdown",
   "id": "4dd69093",
   "metadata": {},
   "source": [
    "### get surface area of mesh [done]\n",
    "(without ball), should stay constant"
   ]
  },
  {
   "cell_type": "code",
   "execution_count": 9,
   "id": "ed6aabd5",
   "metadata": {},
   "outputs": [],
   "source": [
    "surf = Integrate(1,mesh)\n",
    "def calcSurf():\n",
    "    return Integrate(1,mesh)"
   ]
  },
  {
   "cell_type": "code",
   "execution_count": 10,
   "id": "b5b26258",
   "metadata": {},
   "outputs": [],
   "source": [
    "def Cost(gfu):\n",
    "    return calcDrag(gfu) + abs(calcSurf()-surf)"
   ]
  },
  {
   "cell_type": "markdown",
   "id": "5e752ad2",
   "metadata": {},
   "source": [
    "## Adjoint equation try?\n",
    "maybe we dont even need this??"
   ]
  },
  {
   "cell_type": "code",
   "execution_count": 11,
   "id": "40523790",
   "metadata": {},
   "outputs": [],
   "source": [
    "r, w = X.TnT()\n",
    "\n",
    "fadjoint = LinearForm(X)\n",
    "#fadjoint += -1*(Cost(gfu)).Diff(gfu[0],w)"
   ]
  },
  {
   "cell_type": "markdown",
   "id": "6924fc72",
   "metadata": {},
   "source": [
    "the rest of the adjoint equation example:\n",
    "```python\n",
    "def SolveAdjointEquation():\n",
    "    rhs = gfp.vec.CreateVector()\n",
    "    rhs.data = fadjoint.vec - aAuto.mat.T * gfp.vec\n",
    "    update = gfp.vec.CreateVector()\n",
    "    update.data = aAuto.mat.Inverse(fes.FreeDofs()).T * rhs\n",
    "    gfp.vec.data += update\n",
    "fadjoint.Assemble()\n",
    "SolveAdjointEquation()\n",
    "scene_p.Redraw()\n",
    "```"
   ]
  },
  {
   "cell_type": "markdown",
   "id": "32de4e2a",
   "metadata": {},
   "source": [
    "### creation of gfset\n",
    "function that will perturb our mesh"
   ]
  },
  {
   "cell_type": "code",
   "execution_count": 12,
   "id": "66a1e5d3",
   "metadata": {},
   "outputs": [
    {
     "data": {
      "application/vnd.jupyter.widget-view+json": {
       "model_id": "f762bab064444dddbf10df72c6bdfada",
       "version_major": 2,
       "version_minor": 0
      },
      "text/plain": [
       "WebGuiWidget(value={'ngsolve_version': '6.2.2201', 'mesh_dim': 2, 'order2d': 2, 'order3d': 2, 'draw_vol': Fals…"
      ]
     },
     "metadata": {},
     "output_type": "display_data"
    }
   ],
   "source": [
    "# Test and trial functions for shape derivate -> do we even need this?\n",
    "VEC = H1(mesh, order=2, dim=2)\n",
    "PHI, PSI = VEC.TnT()\n",
    "# gfset denotes the deformation of the original domain and will be updated during the shape optimization\n",
    "gfset = GridFunction(VEC)\n",
    "gfset.Set((0,0))\n",
    "mesh.SetDeformation(gfset)\n",
    "sceneSet = Draw(gfset,mesh,\"gfset\")\n",
    "SetVisualization (deformation=True)"
   ]
  },
  {
   "cell_type": "markdown",
   "id": "33f473cc",
   "metadata": {},
   "source": [
    "### Shape derivative $\\mathrm{d}J(\\Omega)(\\mathbf{X}) = \\int_{\\Omega} \\mathbf{S}_1:D \\mathbf{X} dx$\n",
    "$S_1 = \\biggl(\\frac{1}{2}Du : Du - p div(u) \\biggr) I_2 + Du^T p - Du^T Du.$ <br>\n",
    "$\\mathrm{u}$ and $p$ are the solutions to the stokesflow problem<br>\n",
    "we use u = gfu[0], p = gfu[1]"
   ]
  },
  {
   "cell_type": "markdown",
   "id": "f881f1a1",
   "metadata": {},
   "source": [
    "def S1(u,v):\n",
    "    return (0.5*InnerProduct(grad(u),grad(u))-p*div(u))*Id(2) + grad(u).trans*p-grad(u).trans*grad(u)"
   ]
  },
  {
   "cell_type": "markdown",
   "id": "e2ffa1fe",
   "metadata": {},
   "source": [
    "gfset = GridFunction(VEC)\n",
    "gfset.Set((0,0))\n",
    "\n",
    "def Equation(u,w,gfset):\n",
    "    return InnerProduct(S1(u,w),grad(gfset)),mesh\n",
    "\n",
    "dJOmega = LinearForm(VEC)\n",
    "#dJOmega += Equation(gfu.components[0], gfu.components[1], gfset)"
   ]
  },
  {
   "cell_type": "markdown",
   "id": "1b5ff792",
   "metadata": {},
   "source": [
    "## symbolicLFI try"
   ]
  },
  {
   "cell_type": "code",
   "execution_count": 13,
   "id": "1e24fbc6",
   "metadata": {},
   "outputs": [],
   "source": [
    "dJOmega = LinearForm(VEC)\n",
    "S1 = (0.5*InnerProduct(grad(u),grad(u))-p*div(u))*Id(2) + grad(u).trans*p-grad(u).trans*grad(u)\n",
    "shapedif = InnerProduct(S1,grad(gfset))\n",
    "dJOmega += SymbolicLFI(shapedif)\n",
    "#dJOmega += SymbolicLFI(Cost(gfu))"
   ]
  },
  {
   "cell_type": "code",
   "execution_count": 14,
   "id": "f1a899cd",
   "metadata": {},
   "outputs": [],
   "source": [
    "b = BilinearForm(VEC)\n",
    "b += InnerProduct(grad(PSI),grad(PHI))*dx + InnerProduct(PSI,PHI)*dx\n",
    "\n",
    "gfX = GridFunction(VEC)\n",
    "\n",
    "def SolveDeformationEquation():\n",
    "    rhs = gfX.vec.CreateVector()\n",
    "    rhs.data = dJOmega.vec - b.mat * gfX.vec\n",
    "    update = gfX.vec.CreateVector()\n",
    "    update.data = b.mat.Inverse(VEC.FreeDofs()) * rhs\n",
    "    gfX.vec.data += update"
   ]
  },
  {
   "cell_type": "markdown",
   "id": "442891b7",
   "metadata": {},
   "source": [
    "## this basically just copy paste, not rly knowing what is going on here"
   ]
  },
  {
   "cell_type": "code",
   "execution_count": 15,
   "id": "305afadc",
   "metadata": {},
   "outputs": [
    {
     "data": {
      "text/plain": [
       "<ngsolve.comp.BilinearForm at 0x7fb576a96470>"
      ]
     },
     "execution_count": 15,
     "metadata": {},
     "output_type": "execute_result"
    }
   ],
   "source": [
    "b.Assemble()\n",
    "#dJOmega.Assemble()\n",
    "#SolveDeformationEquation()\n",
    "#Draw(-gfX, mesh, \"gfX\")"
   ]
  },
  {
   "cell_type": "code",
   "execution_count": 17,
   "id": "522bc69d",
   "metadata": {},
   "outputs": [],
   "source": [
    "# Cost is  calculated for node individually -> change calc"
   ]
  },
  {
   "cell_type": "code",
   "execution_count": 18,
   "id": "9c45043d",
   "metadata": {},
   "outputs": [
    {
     "name": "stdout",
     "output_type": "stream",
     "text": [
      "Cost at initial design 0.0002553082847066506\n"
     ]
    },
    {
     "ename": "ZeroDivisionError",
     "evalue": "float division by zero",
     "output_type": "error",
     "traceback": [
      "\u001b[0;31m---------------------------------------------------------------------------\u001b[0m",
      "\u001b[0;31mZeroDivisionError\u001b[0m                         Traceback (most recent call last)",
      "Input \u001b[0;32mIn [18]\u001b[0m, in \u001b[0;36m<module>\u001b[0;34m\u001b[0m\n\u001b[1;32m      1\u001b[0m \u001b[38;5;28mprint\u001b[39m(\u001b[38;5;124m'\u001b[39m\u001b[38;5;124mCost at initial design\u001b[39m\u001b[38;5;124m'\u001b[39m, Integrate (Cost(gfu), mesh))\n\u001b[1;32m      2\u001b[0m gfset\u001b[38;5;241m.\u001b[39mSet((\u001b[38;5;241m0\u001b[39m,\u001b[38;5;241m0\u001b[39m))\n\u001b[0;32m----> 3\u001b[0m scale \u001b[38;5;241m=\u001b[39m \u001b[38;5;241;43m0.5\u001b[39;49m\u001b[43m \u001b[49m\u001b[38;5;241;43m/\u001b[39;49m\u001b[43m \u001b[49m\u001b[43mNorm\u001b[49m\u001b[43m(\u001b[49m\u001b[43mgfX\u001b[49m\u001b[38;5;241;43m.\u001b[39;49m\u001b[43mvec\u001b[49m\u001b[43m)\u001b[49m\n\u001b[1;32m      4\u001b[0m gfset\u001b[38;5;241m.\u001b[39mvec\u001b[38;5;241m.\u001b[39mdata \u001b[38;5;241m-\u001b[39m\u001b[38;5;241m=\u001b[39m scale \u001b[38;5;241m*\u001b[39m gfX\u001b[38;5;241m.\u001b[39mvec\n",
      "\u001b[0;31mZeroDivisionError\u001b[0m: float division by zero"
     ]
    }
   ],
   "source": [
    "print('Cost at initial design', Integrate (Cost(gfu), mesh))\n",
    "gfset.Set((0,0))\n",
    "scale = 0.5 / Norm(gfX.vec)\n",
    "gfset.vec.data -= scale * gfX.vec"
   ]
  },
  {
   "cell_type": "code",
   "execution_count": null,
   "id": "9a759ba9",
   "metadata": {},
   "outputs": [],
   "source": [
    "scene = Draw(gfset)\n",
    "mesh.SetDeformation(gfset)\n",
    "scene.Redraw()\n",
    "\n",
    "a.Assemble()\n",
    "fstate.Assemble()\n",
    "SolveStateEquation()\n",
    "print('Cost at new design', Integrate (Cost(gfu), mesh))"
   ]
  }
 ],
 "metadata": {
  "interpreter": {
   "hash": "916dbcbb3f70747c44a77c7bcd40155683ae19c65e1c03b4aa3499c5328201f1"
  },
  "kernelspec": {
   "display_name": "Python 3",
   "language": "python",
   "name": "python3"
  },
  "language_info": {
   "codemirror_mode": {
    "name": "ipython",
    "version": 3
   },
   "file_extension": ".py",
   "mimetype": "text/x-python",
   "name": "python",
   "nbconvert_exporter": "python",
   "pygments_lexer": "ipython3",
   "version": "3.9.10"
  }
 },
 "nbformat": 4,
 "nbformat_minor": 5
}
