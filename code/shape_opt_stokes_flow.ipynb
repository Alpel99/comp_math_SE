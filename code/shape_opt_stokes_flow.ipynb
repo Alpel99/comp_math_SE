{
 "cells": [
  {
   "cell_type": "code",
   "execution_count": 1,
   "id": "c9277b01",
   "metadata": {},
   "outputs": [
    {
     "name": "stdout",
     "output_type": "stream",
     "text": [
      "importing NGSolve-6.2.2203\n"
     ]
    }
   ],
   "source": [
    "from ngsolve import *\n",
    "from netgen.geom2d import SplineGeometry\n",
    "from ngsolve.webgui import Draw"
   ]
  },
  {
   "cell_type": "markdown",
   "id": "86d0669d",
   "metadata": {},
   "source": [
    "setup geometry"
   ]
  },
  {
   "cell_type": "code",
   "execution_count": 2,
   "id": "8264c4cc",
   "metadata": {},
   "outputs": [
    {
     "data": {
      "application/vnd.jupyter.widget-view+json": {
       "model_id": "86d1bf51fa9d4ebea7898dee941a2d30",
       "version_major": 2,
       "version_minor": 0
      },
      "text/plain": [
       "WebGuiWidget(value={'ngsolve_version': '6.2.2203', 'mesh_dim': 2, 'order2d': 2, 'order3d': 2, 'draw_vol': None…"
      ]
     },
     "metadata": {},
     "output_type": "display_data"
    },
    {
     "data": {
      "text/plain": [
       "BaseWebGuiScene"
      ]
     },
     "execution_count": 2,
     "metadata": {},
     "output_type": "execute_result"
    }
   ],
   "source": [
    "geo = SplineGeometry()\n",
    "geo.AddRectangle( (-3,-2), (3, 2), bcs = (\"top\", \"out\", \"bot\", \"in\"))\n",
    "geo.AddCircle ( (0, 0), r=0.5, leftdomain=0, rightdomain=1, bc=\"cyl\")\n",
    "mesh = Mesh( geo.GenerateMesh(maxh=0.2))\n",
    "mesh.Curve(3);\n",
    "Draw(mesh)"
   ]
  },
  {
   "cell_type": "markdown",
   "id": "a7d7c7b8",
   "metadata": {},
   "source": [
    "setup FEM space"
   ]
  },
  {
   "cell_type": "code",
   "execution_count": 3,
   "id": "d0910c65",
   "metadata": {},
   "outputs": [],
   "source": [
    "# viscosity\n",
    "nu = 0.001\n",
    "# Order of spaces\n",
    "k = 2\n",
    "# H1 vs VectorH1 -> vector field?!\n",
    "V = VectorH1(mesh,order=k, dirichlet=\"top|bot|cyl|in|out\")\n",
    "Q = H1(mesh,order=k-1)\n",
    "X = FESpace([V,Q]) # X = [V,V,Q] (without VectorH1)"
   ]
  },
  {
   "cell_type": "markdown",
   "id": "06324b5e",
   "metadata": {},
   "source": [
    "setup bilinear form"
   ]
  },
  {
   "cell_type": "code",
   "execution_count": 4,
   "id": "9304391f",
   "metadata": {},
   "outputs": [
    {
     "data": {
      "text/plain": [
       "<ngsolve.comp.BilinearForm at 0x7f5da8247c30>"
      ]
     },
     "execution_count": 4,
     "metadata": {},
     "output_type": "execute_result"
    }
   ],
   "source": [
    "u,p = X.TrialFunction()\n",
    "v,q = X.TestFunction()\n",
    "\n",
    "a_stokes = BilinearForm(X)\n",
    "a_stokes += (InnerProduct(grad(u),grad(v))+div(u)*q+div(v)*p)*dx\n",
    "a_stokes.Assemble()"
   ]
  },
  {
   "cell_type": "markdown",
   "id": "5a625f97",
   "metadata": {},
   "source": [
    "setup boundary conditions"
   ]
  },
  {
   "cell_type": "code",
   "execution_count": 5,
   "id": "55a5b535",
   "metadata": {
    "scrolled": true
   },
   "outputs": [
    {
     "data": {
      "application/vnd.jupyter.widget-view+json": {
       "model_id": "300229fdf20b47428ad1678acb250e08",
       "version_major": 2,
       "version_minor": 0
      },
      "text/plain": [
       "WebGuiWidget(value={'ngsolve_version': '6.2.2203', 'mesh_dim': 2, 'order2d': 2, 'order3d': 2, 'draw_vol': Fals…"
      ]
     },
     "metadata": {},
     "output_type": "display_data"
    },
    {
     "name": "stdout",
     "output_type": "stream",
     "text": [
      "->\n"
     ]
    }
   ],
   "source": [
    "gfu = GridFunction(X)\n",
    "# setup flow condition\n",
    "uinf = 0.001\n",
    "uin = CoefficientFunction((uinf,0))\n",
    "gfu.components[0].Set(uin, definedon=mesh.Boundaries(\"in|top|bot|out\"))\n",
    "\n",
    "velocity = CoefficientFunction(gfu.components[0])\n",
    "scene = Draw(velocity, mesh, \"vel\")\n",
    "print(\"->\")"
   ]
  },
  {
   "cell_type": "markdown",
   "id": "eaee2173",
   "metadata": {},
   "source": [
    "solve equation"
   ]
  },
  {
   "cell_type": "code",
   "execution_count": 6,
   "id": "7c9ea8f0",
   "metadata": {},
   "outputs": [],
   "source": [
    "res = gfu.vec.CreateVector()\n",
    "res.data = -a.mat * gfu.vec\n",
    "inv = a.mat.Inverse(X.FreeDofs())\n",
    "gfu.vec.data += inv * res\n",
    "scene.Redraw()"
   ]
  },
  {
   "cell_type": "code",
   "execution_count": 7,
   "id": "8376d727",
   "metadata": {},
   "outputs": [],
   "source": [
    "def solveStokes():\n",
    "    res = gfu.vec.CreateVector()\n",
    "    res.data = -a.mat * gfu.vec\n",
    "    inv = a.mat.Inverse(X.FreeDofs())\n",
    "    gfu.vec.data += inv * res\n",
    "    scene.Redraw()\n",
    "    return res"
   ]
  },
  {
   "cell_type": "markdown",
   "id": "5852ecf9",
   "metadata": {},
   "source": [
    "Drag/ \"dissipated energy\"\n",
    "\n",
    "$J(\\Omega ) = \\frac{1}{2} \\int_\\Omega Du : Du dx$"
   ]
  },
  {
   "cell_type": "code",
   "execution_count": 8,
   "id": "f04efaa9",
   "metadata": {},
   "outputs": [
    {
     "name": "stdout",
     "output_type": "stream",
     "text": [
      "0.00040430826264929774\n",
      "0.00012672858146424014\n"
     ]
    }
   ],
   "source": [
    "vel = gfu.components[0].vec.data #gfu.vec.data\n",
    "drag = 0.5*InnerProduct(vel,vel)\n",
    "print(drag)\n",
    "# we kinda just need the derivative of u, not this\n",
    "t = 0.0005310368441135379\n",
    "print(t-drag)"
   ]
  },
  {
   "cell_type": "markdown",
   "id": "437c95d8",
   "metadata": {},
   "source": [
    "maybe try this to get calculated u vector: f += CoefficientFunction([0, 0, 1])*v*dx"
   ]
  },
  {
   "cell_type": "markdown",
   "id": "f8c85671",
   "metadata": {},
   "source": [
    "### working drag calculation\n",
    "taken from navier stokes, is more complicated than needed"
   ]
  },
  {
   "cell_type": "code",
   "execution_count": 9,
   "id": "93410c3e",
   "metadata": {},
   "outputs": [
    {
     "name": "stdout",
     "output_type": "stream",
     "text": [
      "-0.02199565966838881\n"
     ]
    }
   ],
   "source": [
    "drag_test = GridFunction(X)\n",
    "drag_test.components[0].Set(CoefficientFunction((-1.0,0)), definedon=mesh.Boundaries(\"cyl\"))\n",
    "\n",
    "res = solveStokes()\n",
    "drag_val = InnerProduct(res, drag_test.vec)\n",
    "print(drag_val)"
   ]
  },
  {
   "cell_type": "markdown",
   "id": "4dd69093",
   "metadata": {},
   "source": [
    "### get surface area of mesh\n",
    "(without ball), should stay constant"
   ]
  },
  {
   "cell_type": "code",
   "execution_count": 10,
   "id": "e8666e35",
   "metadata": {},
   "outputs": [],
   "source": [
    "surf_test = GridFunction(V)\n",
    "surf_test.Set(CoefficientFunction((1,1))) # , definedon=mesh.Boundaries(\"cyl\")\n",
    "#print(surf_test.vec/mesh.nedge) #*mesh.nface"
   ]
  },
  {
   "cell_type": "code",
   "execution_count": 11,
   "id": "937d6c35",
   "metadata": {},
   "outputs": [
    {
     "name": "stdout",
     "output_type": "stream",
     "text": [
      "[4, 5, 6, 7, 104, 105, 106, 107, 108, 109, 110, 111, 112, 113, 114, 115]\n"
     ]
    }
   ],
   "source": [
    "#for v in mesh.vertices:\n",
    "#    print (v, v.point)\n",
    "nr = []\n",
    "for e in mesh.Boundaries(\"cyl\").Elements():\n",
    "    for i in e.vertices:\n",
    "        nr.append(i.nr)\n",
    "nr = list(set(nr))    \n",
    "print(nr)"
   ]
  },
  {
   "cell_type": "markdown",
   "id": "33f473cc",
   "metadata": {},
   "source": [
    "### Shape derivative $\\mathrm{d}J(\\Omega)(\\mathbf{X}) = \\int_{\\Omega} \\mathbf{S}_1:D \\mathbf{X} dx$\n",
    "$S_1 = \\biggl(\\frac{1}{2}Du : Du - p div(u) \\biggr) I_2 + Du^T p - Du^T Du.$ <br>\n",
    "$\\mathrm{u}$ and $p$ are the solutions to the stokesflow problem"
   ]
  },
  {
   "cell_type": "code",
   "execution_count": null,
   "id": "3dc0b2e6",
   "metadata": {},
   "outputs": [],
   "source": [
    "# Test and trial functions for shape derrivative, where PSI corresponds to X and \n",
    "PHI, PSI = VEC.TnT()"
   ]
  },
  {
   "cell_type": "code",
   "execution_count": null,
   "id": "ce93c918",
   "metadata": {},
   "outputs": [],
   "source": []
  },
  {
   "cell_type": "code",
   "execution_count": null,
   "id": "447bd8f2",
   "metadata": {},
   "outputs": [],
   "source": [
    "r = X.TrialFunction()\n",
    "s = X.TestFunction()\n",
    "gf = GridFunction(X)\n",
    "S = BilinearForm(X)\n",
    "S += (0.5*InnerProduct(grad(u),grad(u))-p*div(v))*Id(2)\n",
    "S += grad(u).trans*p-grad(u).trans*grad(u)\n"
   ]
  },
  {
   "cell_type": "code",
   "execution_count": null,
   "id": "02d0b400",
   "metadata": {},
   "outputs": [],
   "source": [
    "# gf, gfp: solution to state&adjoint eq"
   ]
  },
  {
   "cell_type": "code",
   "execution_count": null,
   "id": "1b70ac73",
   "metadata": {},
   "outputs": [],
   "source": [
    "def Cost(u):\n",
    "    return 0.5*InnerProduct(grad(u),grad(u))*dx\n",
    "\n",
    "def Equation(u,w):\n",
    "    return (InnerProduct(grad(u),grad(v))+div(u)*q-div(v)*p)*dx\n",
    "\n",
    "G_pde = Cost(gfu) * Equation(gfu, gfp)\n",
    "\n",
    "W = V.TestFunction() # X. or V.\n",
    "dJOmega = LinearForm(VEC)\n",
    "dfOmega += G_pdre.DiffShape(W)"
   ]
  },
  {
   "cell_type": "code",
   "execution_count": null,
   "id": "f97b4ebe",
   "metadata": {},
   "outputs": [],
   "source": [
    "\"\"\"\n",
    "grad_S = CoefficientFunction((S.Diff(x),S.Diff(y)))\n",
    "VEC = H1(mesh, order=1, dim=2)\n",
    "# grid function for deformation field\n",
    "gfset = GridFunction(VEC)\n",
    "gfX = GridFunction(VEC)\n",
    "scene2 = Draw(gfset)\n",
    "\n",
    "# Test and trial functions\n",
    "PHI, PSI = VEC.TnT()\n",
    "\n",
    "# shape derivative\n",
    "dJOmega = LinearForm(VEC)\n",
    "dJOmega += (div(PSI)*f + InnerProduct(grad_f, PSI) )*dx\n",
    "\"\"\""
   ]
  }
 ],
 "metadata": {
  "interpreter": {
   "hash": "916dbcbb3f70747c44a77c7bcd40155683ae19c65e1c03b4aa3499c5328201f1"
  },
  "kernelspec": {
   "display_name": "Python 3 (ipykernel)",
   "language": "python",
   "name": "python3"
  },
  "language_info": {
   "codemirror_mode": {
    "name": "ipython",
    "version": 3
   },
   "file_extension": ".py",
   "mimetype": "text/x-python",
   "name": "python",
   "nbconvert_exporter": "python",
   "pygments_lexer": "ipython3",
   "version": "3.10.4"
  }
 },
 "nbformat": 4,
 "nbformat_minor": 5
}
