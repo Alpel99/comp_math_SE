{
 "cells": [
  {
   "cell_type": "code",
   "execution_count": 2,
   "id": "c9277b01",
   "metadata": {},
   "outputs": [],
   "source": [
    "from ngsolve import *\n",
    "from netgen.geom2d import SplineGeometry\n",
    "from ngsolve.webgui import Draw"
   ]
  },
  {
   "cell_type": "markdown",
   "id": "86d0669d",
   "metadata": {},
   "source": [
    "setup geometry"
   ]
  },
  {
   "cell_type": "code",
   "execution_count": 3,
   "id": "8264c4cc",
   "metadata": {},
   "outputs": [],
   "source": [
    "geo = SplineGeometry()\n",
    "geo.AddRectangle( (-3,-2), (3, 2), bcs = (\"top\", \"out\", \"bot\", \"in\"))\n",
    "geo.AddCircle ( (0, 0), r=0.5, leftdomain=0, rightdomain=1, bc=\"cyl\")\n",
    "mesh = Mesh( geo.GenerateMesh(maxh=0.2))\n",
    "mesh.Curve(3);\n",
    "#Draw(mesh)"
   ]
  },
  {
   "cell_type": "markdown",
   "id": "a7d7c7b8",
   "metadata": {},
   "source": [
    "setup FEM space"
   ]
  },
  {
   "cell_type": "code",
   "execution_count": 4,
   "id": "d0910c65",
   "metadata": {},
   "outputs": [],
   "source": [
    "# viscosity\n",
    "nu = 0.001\n",
    "# Order of spaces\n",
    "k = 2\n",
    "# H1 vs VectorH1 -> vector field?!\n",
    "V = VectorH1(mesh,order=k, dirichlet=\"top|bot|cyl|in|out\")\n",
    "Q = H1(mesh,order=k-1)\n",
    "X = FESpace([V,Q]) # X = [V,V,Q] (without VectorH1)"
   ]
  },
  {
   "cell_type": "markdown",
   "id": "06324b5e",
   "metadata": {},
   "source": [
    "setup bilinear form"
   ]
  },
  {
   "cell_type": "code",
   "execution_count": 5,
   "id": "9304391f",
   "metadata": {},
   "outputs": [
    {
     "data": {
      "text/plain": [
       "<ngsolve.comp.BilinearForm at 0x27bef293430>"
      ]
     },
     "execution_count": 5,
     "metadata": {},
     "output_type": "execute_result"
    }
   ],
   "source": [
    "u,p = X.TrialFunction()\n",
    "v,q = X.TestFunction()\n",
    "\n",
    "a = BilinearForm(X)\n",
    "a += (InnerProduct(grad(u),grad(v))+div(u)*q+div(v)*p)*dx\n",
    "a.Assemble()"
   ]
  },
  {
   "cell_type": "markdown",
   "id": "5a625f97",
   "metadata": {},
   "source": [
    "setup boundary conditions (?)"
   ]
  },
  {
   "cell_type": "code",
   "execution_count": 6,
   "id": "55a5b535",
   "metadata": {
    "scrolled": true
   },
   "outputs": [
    {
     "data": {
      "application/vnd.jupyter.widget-view+json": {
       "model_id": "8654b2b56a744f5c8e0ec10b79ae5e84",
       "version_major": 2,
       "version_minor": 0
      },
      "text/plain": [
       "WebGuiWidget(value={'ngsolve_version': '6.2.2201', 'mesh_dim': 2, 'order2d': 2, 'order3d': 2, 'draw_vol': Fals…"
      ]
     },
     "metadata": {},
     "output_type": "display_data"
    },
    {
     "name": "stdout",
     "output_type": "stream",
     "text": [
      "->\n"
     ]
    }
   ],
   "source": [
    "gfu = GridFunction(X)\n",
    "# setup flow condition\n",
    "uinf = 0.001\n",
    "uin = CoefficientFunction((uinf,0))\n",
    "gfu.components[0].Set(uin, definedon=mesh.Boundaries(\"in|top|bot|out\"))\n",
    "\n",
    "velocity = CoefficientFunction(gfu.components[0])\n",
    "scene = Draw(velocity, mesh, \"vel\")\n",
    "print(\"->\")"
   ]
  },
  {
   "cell_type": "markdown",
   "id": "eaee2173",
   "metadata": {},
   "source": [
    "solve equation"
   ]
  },
  {
   "cell_type": "code",
   "execution_count": 7,
   "id": "7c9ea8f0",
   "metadata": {},
   "outputs": [],
   "source": [
    "res = gfu.vec.CreateVector()\n",
    "res.data = -a.mat * gfu.vec\n",
    "inv = a.mat.Inverse(X.FreeDofs())\n",
    "gfu.vec.data += inv * res\n",
    "scene.Redraw()"
   ]
  },
  {
   "cell_type": "code",
   "execution_count": 8,
   "id": "8376d727",
   "metadata": {},
   "outputs": [],
   "source": [
    "def solveStokes():\n",
    "    res = gfu.vec.CreateVector()\n",
    "    res.data = -a.mat * gfu.vec\n",
    "    inv = a.mat.Inverse(X.FreeDofs())\n",
    "    gfu.vec.data += inv * res\n",
    "    scene.Redraw()\n",
    "    return res"
   ]
  },
  {
   "cell_type": "markdown",
   "id": "5852ecf9",
   "metadata": {},
   "source": [
    "Drag/ \"dissipated energy\"\n",
    "\n",
    "$J(\\Omega ) = \\frac{1}{2} \\int_\\Omega Du : Du dx$"
   ]
  },
  {
   "cell_type": "code",
   "execution_count": 9,
   "id": "f04efaa9",
   "metadata": {},
   "outputs": [
    {
     "name": "stdout",
     "output_type": "stream",
     "text": [
      "0.00040430826264929763\n",
      "0.00012672858146424025\n"
     ]
    }
   ],
   "source": [
    "vel = gfu.components[0].vec.data #gfu.vec.data\n",
    "drag = 0.5*InnerProduct(vel,vel)\n",
    "print(drag)\n",
    "# we kinda just need the derivative of u, not this\n",
    "t = 0.0005310368441135379\n",
    "print(t-drag)"
   ]
  },
  {
   "cell_type": "markdown",
   "id": "437c95d8",
   "metadata": {},
   "source": [
    "maybe try this to get calculated u vector: f += CoefficientFunction([0, 0, 1])*v*dx"
   ]
  },
  {
   "cell_type": "markdown",
   "id": "f8c85671",
   "metadata": {},
   "source": [
    "### working drag calculation\n",
    "taken from navier stokes, is more complicated than needed"
   ]
  },
  {
   "cell_type": "code",
   "execution_count": 10,
   "id": "93410c3e",
   "metadata": {},
   "outputs": [
    {
     "name": "stdout",
     "output_type": "stream",
     "text": [
      "-0.021995659668388665\n"
     ]
    }
   ],
   "source": [
    "drag_test = GridFunction(X)\n",
    "drag_test.components[0].Set(CoefficientFunction((-1.0,0)), definedon=mesh.Boundaries(\"cyl\"))\n",
    "\n",
    "res = solveStokes()\n",
    "drag_val = InnerProduct(res, drag_test.vec)\n",
    "print(drag_val)"
   ]
  },
  {
   "cell_type": "markdown",
   "id": "4dd69093",
   "metadata": {},
   "source": [
    "### get surface area of mesh\n",
    "(without ball), should stay constant"
   ]
  },
  {
   "cell_type": "code",
   "execution_count": 11,
   "id": "e8666e35",
   "metadata": {},
   "outputs": [],
   "source": [
    "surf_test = GridFunction(V)\n",
    "surf_test.Set(CoefficientFunction((1,1))) # , definedon=mesh.Boundaries(\"cyl\")\n",
    "#print(surf_test.vec/mesh.nedge) #*mesh.nface"
   ]
  },
  {
   "cell_type": "code",
   "execution_count": 12,
   "id": "937d6c35",
   "metadata": {},
   "outputs": [
    {
     "name": "stdout",
     "output_type": "stream",
     "text": [
      "[4, 5, 6, 7, 104, 105, 106, 107, 108, 109, 110, 111, 112, 113, 114, 115]\n"
     ]
    }
   ],
   "source": [
    "#for v in mesh.vertices:\n",
    "#    print (v, v.point)\n",
    "nr = []\n",
    "for e in mesh.Boundaries(\"cyl\").Elements():\n",
    "    for i in e.vertices:\n",
    "        nr.append(i.nr)\n",
    "nr = list(set(nr))    \n",
    "print(nr)"
   ]
  },
  {
   "cell_type": "markdown",
   "id": "33f473cc",
   "metadata": {},
   "source": [
    "### Shape derivative\n",
    "$S_1 = \\biggl(\\frac{1}{2}Du : Du - p div(u) \\biggr) I_2 + Du^T p - Du^T Du.$"
   ]
  },
  {
   "cell_type": "code",
   "execution_count": 13,
   "id": "447bd8f2",
   "metadata": {},
   "outputs": [],
   "source": [
    "l = (0.5*InnerProduct(grad(u),grad(u))-p*div(v))*Id(2)\n",
    "r = grad(u).trans*p-grad(u).trans*grad(u)\n",
    "S = l+r"
   ]
  },
  {
   "cell_type": "code",
   "execution_count": 14,
   "id": "51a00e1f",
   "metadata": {
    "scrolled": true
   },
   "outputs": [],
   "source": [
    "r = X.TrialFunction()\n",
    "s = X.TestFunction()\n",
    "gf = GridFunction(X)"
   ]
  },
  {
   "cell_type": "code",
   "execution_count": 49,
   "id": "fd97a100",
   "metadata": {},
   "outputs": [],
   "source": [
    "fes = H1(mesh, order=2, dirichlet=\".*\")\n",
    "gfu = GridFunction(fes)\n",
    "#scene_u = Draw (gfu, mesh, \"state\")\n",
    "gfp = GridFunction(fes)\n",
    "#scene_p = Draw (gfp, mesh, \"adjoint\")\n",
    "\n",
    "VEC = H1(mesh, order=1, dim=2, dirichlet=\"top|bot|in|out\")\n",
    "PHI, K = VEC.TnT()\n",
    "\n",
    "\n",
    "def Cost(u):\n",
    "    return 0.5*InnerProduct(grad(u),grad(u))*dx\n",
    "\n",
    "def Equation(u,w):\n",
    "    #return (grad(u)*grad(w)+div(u)*q-div(w)*p)*dx\n",
    "    return (grad(u)*grad(w)*w)*dx\n",
    "\n",
    "LagrangianFA = Cost(gfu)+Equation(gfu,gfp)\n",
    "\n",
    "dJOmegaAuto = LinearForm(VEC)\n",
    "dJOmegaAuto += LagrangianFA.DiffShape(K)"
   ]
  },
  {
   "cell_type": "code",
   "execution_count": 50,
   "id": "9f930ee6",
   "metadata": {},
   "outputs": [],
   "source": [
    "#need: fadjoing, aAuto,gfp\n",
    "def SolveAdjointEquation():\n",
    "    rhs = gfp.vec.CreateVector()\n",
    "    rhs.data = fadjoint.vec - aAuto.mat.T * gfp.vec\n",
    "    update = gfp.vec.CreateVector()\n",
    "    update.data = aAuto.mat.Inverse(fes.FreeDofs()).T * rhs\n",
    "    gfp.vec.data += update"
   ]
  },
  {
   "cell_type": "code",
   "execution_count": null,
   "id": "02d0b400",
   "metadata": {},
   "outputs": [],
   "source": [
    "# gf, gfp: solution to state&adjoint eq"
   ]
  },
  {
   "cell_type": "code",
   "execution_count": 1,
   "id": "1b70ac73",
   "metadata": {},
   "outputs": [
    {
     "ename": "NameError",
     "evalue": "name 'gfu' is not defined",
     "output_type": "error",
     "traceback": [
      "\u001b[1;31m---------------------------------------------------------------------------\u001b[0m",
      "\u001b[1;31mNameError\u001b[0m                                 Traceback (most recent call last)",
      "Input \u001b[1;32mIn [1]\u001b[0m, in \u001b[0;36m<cell line: 7>\u001b[1;34m()\u001b[0m\n\u001b[0;32m      4\u001b[0m \u001b[38;5;28;01mdef\u001b[39;00m \u001b[38;5;21mEquation\u001b[39m(u,w):\n\u001b[0;32m      5\u001b[0m     \u001b[38;5;28;01mreturn\u001b[39;00m (InnerProduct(grad(u),grad(v))\u001b[38;5;241m+\u001b[39mdiv(u)\u001b[38;5;241m*\u001b[39mq\u001b[38;5;241m-\u001b[39mdiv(v)\u001b[38;5;241m*\u001b[39mp)\u001b[38;5;241m*\u001b[39mdx\n\u001b[1;32m----> 7\u001b[0m G_pde \u001b[38;5;241m=\u001b[39m Cost(\u001b[43mgfu\u001b[49m) \u001b[38;5;241m*\u001b[39m Equation(gfu, gfp)\n\u001b[0;32m      9\u001b[0m W \u001b[38;5;241m=\u001b[39m V\u001b[38;5;241m.\u001b[39mTestFunction() \u001b[38;5;66;03m# X. or V.\u001b[39;00m\n\u001b[0;32m     10\u001b[0m dJOmega \u001b[38;5;241m=\u001b[39m LinearForm(VEC)\n",
      "\u001b[1;31mNameError\u001b[0m: name 'gfu' is not defined"
     ]
    }
   ],
   "source": [
    "def Cost(u):\n",
    "    return 0.5*InnerProduct(grad(u),grad(u))*dx\n",
    "\n",
    "def Equation(u,w):\n",
    "    return (InnerProduct(grad(u),grad(v))+div(u)*q-div(v)*p)*dx\n",
    "\n",
    "G_pde = Cost(gfu) * Equation(gfu, gfp)\n",
    "\n",
    "W = V.TestFunction() # X. or V.\n",
    "dJOmega = LinearForm(VEC)\n",
    "dfOmega += G_pdre.DiffShape(W)"
   ]
  },
  {
   "cell_type": "code",
   "execution_count": null,
   "id": "fa256b12",
   "metadata": {},
   "outputs": [],
   "source": []
  },
  {
   "cell_type": "code",
   "execution_count": null,
   "id": "241ab07c",
   "metadata": {},
   "outputs": [],
   "source": []
  },
  {
   "cell_type": "code",
   "execution_count": 71,
   "id": "f97b4ebe",
   "metadata": {},
   "outputs": [
    {
     "data": {
      "text/plain": [
       "'\\ngrad_S = CoefficientFunction((S.Diff(x),S.Diff(y)))\\nVEC = H1(mesh, order=1, dim=2)\\n# grid function for deformation field\\ngfset = GridFunction(VEC)\\ngfX = GridFunction(VEC)\\nscene2 = Draw(gfset)\\n\\n# Test and trial functions\\nPHI, PSI = VEC.TnT()\\n\\n# shape derivative\\ndJOmega = LinearForm(VEC)\\ndJOmega += (div(PSI)*f + InnerProduct(grad_f, PSI) )*dx\\n'"
      ]
     },
     "execution_count": 71,
     "metadata": {},
     "output_type": "execute_result"
    }
   ],
   "source": [
    "\"\"\"\n",
    "grad_S = CoefficientFunction((S.Diff(x),S.Diff(y)))\n",
    "VEC = H1(mesh, order=1, dim=2)\n",
    "# grid function for deformation field\n",
    "gfset = GridFunction(VEC)\n",
    "gfX = GridFunction(VEC)\n",
    "scene2 = Draw(gfset)\n",
    "\n",
    "# Test and trial functions\n",
    "PHI, PSI = VEC.TnT()\n",
    "\n",
    "# shape derivative\n",
    "dJOmega = LinearForm(VEC)\n",
    "dJOmega += (div(PSI)*f + InnerProduct(grad_f, PSI) )*dx\n",
    "\"\"\""
   ]
  },
  {
   "cell_type": "code",
   "execution_count": null,
   "id": "d0b3ff5f",
   "metadata": {},
   "outputs": [],
   "source": []
  },
  {
   "cell_type": "code",
   "execution_count": null,
   "id": "511baef7",
   "metadata": {},
   "outputs": [],
   "source": []
  }
 ],
 "metadata": {
  "kernelspec": {
   "display_name": "Python 3 (ipykernel)",
   "language": "python",
   "name": "python3"
  },
  "language_info": {
   "codemirror_mode": {
    "name": "ipython",
    "version": 3
   },
   "file_extension": ".py",
   "mimetype": "text/x-python",
   "name": "python",
   "nbconvert_exporter": "python",
   "pygments_lexer": "ipython3",
   "version": "3.10.1"
  }
 },
 "nbformat": 4,
 "nbformat_minor": 5
}
