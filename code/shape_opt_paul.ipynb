{
 "cells": [
  {
   "cell_type": "code",
   "execution_count": 20,
   "id": "c9277b01",
   "metadata": {},
   "outputs": [],
   "source": [
    "from ngsolve import *\n",
    "from netgen.geom2d import SplineGeometry\n",
    "from ngsolve.webgui import Draw"
   ]
  },
  {
   "cell_type": "markdown",
   "id": "86d0669d",
   "metadata": {},
   "source": [
    "setup geometry"
   ]
  },
  {
   "cell_type": "code",
   "execution_count": 21,
   "id": "8264c4cc",
   "metadata": {},
   "outputs": [],
   "source": [
    "geo = SplineGeometry()\n",
    "geo.AddRectangle( (-3,-2), (3, 2), bcs = (\"top\", \"out\", \"bot\", \"in\"))\n",
    "geo.AddCircle ( (0, 0), r=0.5, leftdomain=0, rightdomain=1, bc=\"cyl\")\n",
    "mesh = Mesh( geo.GenerateMesh(maxh=0.2))\n",
    "mesh.Curve(3);\n",
    "#Draw(mesh)"
   ]
  },
  {
   "cell_type": "markdown",
   "id": "a7d7c7b8",
   "metadata": {},
   "source": [
    "setup FEM space"
   ]
  },
  {
   "cell_type": "code",
   "execution_count": 22,
   "id": "d0910c65",
   "metadata": {},
   "outputs": [],
   "source": [
    "# viscosity\n",
    "nu = 0.01\n",
    "# Order of spaces\n",
    "k = 2\n",
    "# H1 vs VectorH1 -> vector field?!\n",
    "V = VectorH1(mesh,order=k, dirichlet=\"top|bot|cyl|in|out\")\n",
    "Q = H1(mesh,order=k-1)\n",
    "X = FESpace([V,Q]) # X = [V,V,Q] (without VectorH1)"
   ]
  },
  {
   "cell_type": "markdown",
   "id": "06324b5e",
   "metadata": {},
   "source": [
    "setup bilinear form\n",
    "velocityfield u and pressurefield p"
   ]
  },
  {
   "cell_type": "code",
   "execution_count": 23,
   "id": "9304391f",
   "metadata": {},
   "outputs": [
    {
     "data": {
      "text/plain": [
       "<ngsolve.comp.BilinearForm at 0x1c579939130>"
      ]
     },
     "execution_count": 23,
     "metadata": {},
     "output_type": "execute_result"
    }
   ],
   "source": [
    "u,p = X.TrialFunction()\n",
    "v,q = X.TestFunction()\n",
    "\n",
    "a = BilinearForm(X)\n",
    "a += (InnerProduct(grad(u),grad(v))+div(u)*q+div(v)*p)*dx\n",
    "a.Assemble()"
   ]
  },
  {
   "cell_type": "markdown",
   "id": "5a625f97",
   "metadata": {},
   "source": [
    "setup boundary conditions"
   ]
  },
  {
   "cell_type": "code",
   "execution_count": 24,
   "id": "55a5b535",
   "metadata": {
    "scrolled": true
   },
   "outputs": [
    {
     "data": {
      "application/vnd.jupyter.widget-view+json": {
       "model_id": "f7896e268bee44b7b862903bc743f46b",
       "version_major": 2,
       "version_minor": 0
      },
      "text/plain": [
       "WebGuiWidget(value={'ngsolve_version': '6.2.2201', 'mesh_dim': 2, 'order2d': 2, 'order3d': 2, 'draw_vol': Fals…"
      ]
     },
     "metadata": {},
     "output_type": "display_data"
    }
   ],
   "source": [
    "gfu = GridFunction(X)\n",
    "#'gfp = GridFunction(X)\n",
    "# setup flow condition\n",
    "uinf = 0.001\n",
    "uin = CoefficientFunction((uinf,0))\n",
    "gfu.components[0].Set(uin, definedon=mesh.Boundaries(\"in|top|bot|out\"))\n",
    "\n",
    "velocity = CoefficientFunction(gfu.components[0])\n",
    "scene = Draw(velocity, mesh, \"vel\")"
   ]
  },
  {
   "cell_type": "markdown",
   "id": "eaee2173",
   "metadata": {},
   "source": [
    "solve equation"
   ]
  },
  {
   "cell_type": "code",
   "execution_count": 25,
   "id": "8376d727",
   "metadata": {},
   "outputs": [],
   "source": [
    "def solveStokes():\n",
    "    res = gfu.vec.CreateVector()\n",
    "    res.data = -a.mat * gfu.vec\n",
    "    inv = a.mat.Inverse(X.FreeDofs())\n",
    "    gfu.vec.data += inv * res\n",
    "    scene.Redraw()\n",
    "solveStokes()"
   ]
  },
  {
   "cell_type": "markdown",
   "id": "5852ecf9",
   "metadata": {},
   "source": [
    "Drag/ \"dissipated energy\" [should be working]\n",
    "\n",
    "$J(\\Omega ) = \\frac{1}{2} \\int_\\Omega Du : Du dx$ "
   ]
  },
  {
   "cell_type": "code",
   "execution_count": 26,
   "id": "f04efaa9",
   "metadata": {},
   "outputs": [
    {
     "name": "stdout",
     "output_type": "stream",
     "text": [
      "1.09978300562245e-05\n"
     ]
    }
   ],
   "source": [
    "solveStokes()\n",
    "vel = gfu.components[0] #gfu.vec.data\n",
    "drag = Integrate(0.5*InnerProduct(Grad(vel),Grad(vel)),mesh)\n",
    "print(drag)\n",
    "\n",
    "# 1.0997749905576028e-05 - r=0.5\n",
    "# 0.00043084429187575745 - r=1.5"
   ]
  },
  {
   "cell_type": "code",
   "execution_count": 27,
   "id": "b48a5c46",
   "metadata": {},
   "outputs": [
    {
     "data": {
      "text/plain": [
       "'\\neigentlich brauchen wir das gar nicht, weil das ist ja kein side-constraint sondern die haupt shape funktion\\n'"
      ]
     },
     "execution_count": 27,
     "metadata": {},
     "output_type": "execute_result"
    }
   ],
   "source": [
    "def calcDrag(gfu):\n",
    "    vel = gfu.components[0]\n",
    "    return 0.5*InnerProduct(grad(vel),grad(vel))*dx\n",
    "'''\n",
    "eigentlich brauchen wir das gar nicht, weil das ist ja kein side-constraint sondern die haupt shape funktion\n",
    "'''"
   ]
  },
  {
   "cell_type": "markdown",
   "id": "4dd69093",
   "metadata": {},
   "source": [
    "### get surface area of mesh [done]\n",
    "(without ball), should stay constant"
   ]
  },
  {
   "cell_type": "code",
   "execution_count": 28,
   "id": "ed6aabd5",
   "metadata": {},
   "outputs": [
    {
     "name": "stdout",
     "output_type": "stream",
     "text": [
      "23.21459270293146\n",
      " 23.2146\n",
      " 23.2146\n",
      "\n"
     ]
    }
   ],
   "source": [
    "surf = Integrate(1,mesh)\n",
    "print(surf)\n",
    "def calcSurf():\n",
    "    return Integrate(1,mesh)\n",
    "surf_test = GridFunction(X)\n",
    "surf_test.components[0].Set(CoefficientFunction((1,1)))\n",
    "def calcSurf2(gfu):\n",
    "    return surf_test*dx\n",
    "print(Integrate(surf_test.components[0],mesh)) # works \\o/"
   ]
  },
  {
   "cell_type": "markdown",
   "id": "762fa355",
   "metadata": {},
   "source": [
    "### try for barycenter <br>\n",
    "$vol(\\Omega) = \\int_{\\Omega} 1 \\,dx \\in \\mathbb{R}$ <br>\n",
    "$bc^\\Omega = \\frac{1}{vol(\\Omega)}\\int_{\\Omega}x\\,dx \\in \\mathbb{R}^d$"
   ]
  },
  {
   "cell_type": "code",
   "execution_count": 29,
   "id": "75cf3388",
   "metadata": {},
   "outputs": [],
   "source": [
    "def calc_bc(gfu):\n",
    "    surf_test2 = GridFunction(X)\n",
    "    surf_test2.components[0].Set(CoefficientFunction((1,1)))\n",
    "    bc_test = GridFunction(X)\n",
    "    bc_test.components[0].Set(CoefficientFunction((x,y)))\n",
    "    r = surf_test2*bc_test\n",
    "    return surf_test2*dx+bc_test*dx"
   ]
  },
  {
   "cell_type": "code",
   "execution_count": 30,
   "id": "d7b375a2",
   "metadata": {},
   "outputs": [],
   "source": [
    "def Cost(gfu):\n",
    "    return calc_bc(gfu) + calcSurf2(gfu) + calcDrag(gfu)# + calcDrag(gfu) # + calcSurf2() + calcDrag(gfu)"
   ]
  },
  {
   "cell_type": "markdown",
   "id": "4b1dfdce",
   "metadata": {},
   "source": [
    "## Adjoint equation try?\n",
    "maybe we dont even need this??"
   ]
  },
  {
   "cell_type": "markdown",
   "id": "ec63ec0f",
   "metadata": {},
   "source": [
    "* J hängt von u ab, u von omega\n",
    "* dJ nach u -> \"in Vektorfeldrichtung\" -> für jedes Vektorfeld ableiten\n",
    "* stattdessen adjoint -> 1x u und 1x omega\n",
    "* adjoint\n",
    "* Lagrangian du -> adjoint"
   ]
  },
  {
   "cell_type": "code",
   "execution_count": 31,
   "id": "40523790",
   "metadata": {},
   "outputs": [],
   "source": [
    "V2 = VectorH1(mesh,order=k, dirichlet=\"top|bot|in|out|cyl\")\n",
    "gfp = GridFunction(X)\n",
    "r, w = V2.TnT()\n",
    "\n",
    "fadjoint = LinearForm(X)\n",
    "#adjoint_diff = CoefficientFunction(gfu)\n",
    "fadjoint += -1*(Cost(gfu)).Diff(gfu,w)"
   ]
  },
  {
   "cell_type": "code",
   "execution_count": 32,
   "id": "c6e2d022",
   "metadata": {},
   "outputs": [],
   "source": [
    "def SolveAdjointEquation():\n",
    "    rhs = gfp.vec.CreateVector()\n",
    "    rhs.data = fadjoint.vec - a.mat.T * gfp.vec\n",
    "    update = gfp.vec.CreateVector()\n",
    "    update.data = a.mat.Inverse(X.FreeDofs()).T * rhs\n",
    "    gfp.vec.data += update"
   ]
  },
  {
   "cell_type": "code",
   "execution_count": 33,
   "id": "8ec4ac7d",
   "metadata": {},
   "outputs": [
    {
     "data": {
      "application/vnd.jupyter.widget-view+json": {
       "model_id": "4fd9f3cac3a046438230d5f1ca16fa56",
       "version_major": 2,
       "version_minor": 0
      },
      "text/plain": [
       "WebGuiWidget(value={'ngsolve_version': '6.2.2201', 'mesh_dim': 2, 'order2d': 2, 'order3d': 2, 'draw_vol': Fals…"
      ]
     },
     "metadata": {},
     "output_type": "display_data"
    },
    {
     "data": {
      "text/plain": [
       "BaseWebGuiScene"
      ]
     },
     "execution_count": 33,
     "metadata": {},
     "output_type": "execute_result"
    }
   ],
   "source": [
    "fadjoint.Assemble()\n",
    "SolveAdjointEquation()\n",
    "#print(gfp.vec.data)\n",
    "adjoint_sol = CoefficientFunction(gfp.components[0])\n",
    "Draw (adjoint_sol, mesh)"
   ]
  },
  {
   "cell_type": "code",
   "execution_count": 34,
   "id": "9e43cb2d",
   "metadata": {},
   "outputs": [],
   "source": [
    "a.Assemble()\n",
    "solveStokes()"
   ]
  },
  {
   "cell_type": "markdown",
   "id": "6cd72981",
   "metadata": {},
   "source": [
    "________________________________"
   ]
  },
  {
   "cell_type": "markdown",
   "id": "32de4e2a",
   "metadata": {},
   "source": [
    "### creation of gfset\n",
    "function that will perturb our mesh"
   ]
  },
  {
   "cell_type": "code",
   "execution_count": 35,
   "id": "66a1e5d3",
   "metadata": {},
   "outputs": [
    {
     "data": {
      "application/vnd.jupyter.widget-view+json": {
       "model_id": "bc280aeffac040d6b404256362511330",
       "version_major": 2,
       "version_minor": 0
      },
      "text/plain": [
       "WebGuiWidget(value={'ngsolve_version': '6.2.2201', 'mesh_dim': 2, 'order2d': 2, 'order3d': 2, 'draw_vol': Fals…"
      ]
     },
     "metadata": {},
     "output_type": "display_data"
    }
   ],
   "source": [
    "# Test and trial functions for shape derivate -> do we even need this?\n",
    "VEC = H1(mesh, order=2, dim=2)\n",
    "PHI, PSI = VEC.TnT()\n",
    "# gfset denotes the deformation of the original domain and will be updated during the shape optimization\n",
    "gfset = GridFunction(VEC)\n",
    "gfset.Set((0,0))\n",
    "mesh.SetDeformation(gfset)\n",
    "sceneSet = Draw(gfset,mesh,\"gfset\")\n",
    "SetVisualization (deformation=True)"
   ]
  },
  {
   "cell_type": "markdown",
   "id": "33f473cc",
   "metadata": {},
   "source": [
    "### Shape derivative $\\mathrm{d}J(\\Omega)(\\mathbf{X}) = \\int_{\\Omega} \\mathbf{S}_1:D \\mathbf{X} dx$\n",
    "$S_1 = \\biggl(\\frac{1}{2}Du : Du - p div(u) \\biggr) I_2 + Du^T p - Du^T Du.$ <br>\n",
    "$\\mathrm{u}$ and $p$ are the solutions to the stokesflow problem<br>\n",
    "we use u = gfu[0], p = gfu[1]"
   ]
  },
  {
   "cell_type": "markdown",
   "id": "1b5ff792",
   "metadata": {},
   "source": [
    "# Auto shapediff try"
   ]
  },
  {
   "cell_type": "code",
   "execution_count": 37,
   "id": "2635ebba",
   "metadata": {},
   "outputs": [],
   "source": [
    "def Equation(u,v):\n",
    "    return 0.5*(InnerProduct(grad(u.components[0]),grad(u.components[0])))*dx\n",
    "\n",
    "Lagrangian = Cost(gfu) + Equation(gfu,gfp)"
   ]
  },
  {
   "cell_type": "raw",
   "id": "df91b534",
   "metadata": {},
   "source": [
    "dJOmegaAuto = LinearForm(VEC)\n",
    "dJOmegaAuto += (0.5*InnerProduct(grad(gfu.components[0]),grad(gfu.components[0]))-p*div(gfu.components[0]))*Id(2) + grad(gfu.components[0]).trans*p-grad(gfu.components[0]).trans*grad(gfu.components[0])\n",
    "\n",
    "\n",
    "b = BilinearForm(VEC)\n",
    "b += InnerProduct(grad(PSI),grad(PHI))*dx + InnerProduct(PSI,PHI)*dx\n",
    "\n",
    "gfX = GridFunction(VEC)"
   ]
  },
  {
   "cell_type": "markdown",
   "id": "442891b7",
   "metadata": {},
   "source": [
    "## this basically just copy paste"
   ]
  },
  {
   "cell_type": "code",
   "execution_count": 20,
   "id": "305afadc",
   "metadata": {},
   "outputs": [],
   "source": [
    "def SolveDeformationEquationAuto():\n",
    "    rhs = gfX.vec.CreateVector()\n",
    "    rhs.data = dJOmegaAuto.vec - b.mat * gfX.vec\n",
    "    update = gfX.vec.CreateVector()\n",
    "    update.data = b.mat.Inverse(VEC.FreeDofs()) * rhs\n",
    "    gfX.vec.data += update"
   ]
  },
  {
   "cell_type": "code",
   "execution_count": null,
   "id": "522bc69d",
   "metadata": {},
   "outputs": [],
   "source": [
    "b.Assemble()\n",
    "dJOmegaAuto.Assemble()\n",
    "#SolveDeformationEquationAuto()\n",
    "#Draw(-gfX, mesh, \"-gfX\")"
   ]
  },
  {
   "cell_type": "code",
   "execution_count": 1,
   "id": "9c45043d",
   "metadata": {},
   "outputs": [
    {
     "ename": "NameError",
     "evalue": "name 'Integrate' is not defined",
     "output_type": "error",
     "traceback": [
      "\u001b[1;31m---------------------------------------------------------------------------\u001b[0m",
      "\u001b[1;31mNameError\u001b[0m                                 Traceback (most recent call last)",
      "Input \u001b[1;32mIn [1]\u001b[0m, in \u001b[0;36m<cell line: 1>\u001b[1;34m()\u001b[0m\n\u001b[1;32m----> 1\u001b[0m \u001b[38;5;28mprint\u001b[39m(\u001b[38;5;124m'\u001b[39m\u001b[38;5;124mCost at initial design\u001b[39m\u001b[38;5;124m'\u001b[39m, \u001b[43mIntegrate\u001b[49m (Cost(gfu), mesh))\n\u001b[0;32m      2\u001b[0m gfset\u001b[38;5;241m.\u001b[39mSet((\u001b[38;5;241m0\u001b[39m,\u001b[38;5;241m0\u001b[39m))\n\u001b[0;32m      3\u001b[0m scale \u001b[38;5;241m=\u001b[39m \u001b[38;5;241m0.5\u001b[39m \u001b[38;5;241m/\u001b[39m Norm(gfX\u001b[38;5;241m.\u001b[39mvec)\n",
      "\u001b[1;31mNameError\u001b[0m: name 'Integrate' is not defined"
     ]
    }
   ],
   "source": [
    "print('Cost at initial design', Integrate (Cost(gfu), mesh))\n",
    "gfset.Set((0,0))\n",
    "scale = 0.5 / Norm(gfX.vec)\n",
    "gfset.vec.data -= scale * gfX.vec"
   ]
  },
  {
   "cell_type": "code",
   "execution_count": null,
   "id": "e62b6121",
   "metadata": {},
   "outputs": [],
   "source": [
    "scene = Draw(gfset)\n",
    "mesh.SetDeformation(gfset)\n",
    "scene.Redraw()\n",
    "\n",
    "a.Assemble()\n",
    "fadjoint.Assemble()\n",
    "solveStokes()\n",
    "print('Cost at new design', Integrate (Cost(gfu), mesh))"
   ]
  },
  {
   "cell_type": "code",
   "execution_count": null,
   "id": "d6c59f8d",
   "metadata": {},
   "outputs": [],
   "source": [
    "#reset the design\n",
    "gfset.Set((0,0))\n",
    "mesh.SetDeformation(gfset)\n",
    "\n",
    "#check if initial value of cost function 0.000486578350214552 is recovered\n",
    "a.Assemble()\n",
    "fadjoint.Assemble()\n",
    "solveStokes()\n",
    "print('Cost at new design', Integrate (Cost(gfu), mesh))"
   ]
  },
  {
   "cell_type": "markdown",
   "id": "5a037661",
   "metadata": {},
   "source": [
    "# general idea: of iteration"
   ]
  },
  {
   "cell_type": "markdown",
   "id": "eb57414b",
   "metadata": {},
   "source": [
    "* solve solution\n",
    "* deform\n",
    "* calc cost after deform\n",
    "* look how cost changed -> armijo rule\n",
    "* abstieg: -gradient²"
   ]
  },
  {
   "cell_type": "code",
   "execution_count": null,
   "id": "4a7cc66c",
   "metadata": {},
   "outputs": [],
   "source": [
    "scene = Draw(gfset)"
   ]
  },
  {
   "cell_type": "code",
   "execution_count": null,
   "id": "4219a2f6",
   "metadata": {},
   "outputs": [],
   "source": [
    "gfset.Set((0,0))\n",
    "mesh.SetDeformation(gfset)\n",
    "scene.Redraw()\n",
    "a.Assemble()\n",
    "fadjoint.Assemble()\n",
    "solveStokes()\n",
    "\n",
    "LineSearch = False\n",
    "\n",
    "iter_max = 600\n",
    "Jold = Integrate(Cost(gfu), mesh)\n",
    "converged = False\n",
    "\n",
    "# try parts of loop\n",
    "mesh.SetDeformation(gfset)\n",
    "scene.Redraw()\n",
    "\n",
    "print('cost at iteration', k, ': ', Jold)\n",
    "\n",
    "a.Assemble()\n",
    "solveStokes()\n",
    "\n",
    "fadjoint.Assemble()\n",
    "SolveAdjointEquation()\n",
    "\n",
    "#b.Assemble()\n",
    "#dJOmega.Assemble()\n",
    "#SolveDeformationEquation()\n",
    "    \n",
    "'''\n",
    "# input(\"Press enter to start optimization\")\n",
    "for k in range(iter_max):\n",
    "    mesh.SetDeformation(gfset)\n",
    "    scene.Redraw()\n",
    "    \n",
    "    print('cost at iteration', k, ': ', Jold)\n",
    "    \n",
    "    a.Assemble()\n",
    "    solveStokes()\n",
    "    \n",
    "    fadjoint.Assemble()\n",
    "    SolveAdjointEquation()\n",
    "    \n",
    "    b.Assemble()\n",
    "    dJOmega.Assemble()\n",
    "    SolveDeformationEquation()\n",
    "\n",
    "    scale = 0.01 / Norm(gfX.vec)\n",
    "    gfsetOld = gfset\n",
    "    gfset.vec.data -= scale * gfX.vec\n",
    "    \n",
    "    Jnew = Integrate(Cost(gfu), mesh)\n",
    "    \n",
    "    if LineSearch:\n",
    "        while Jnew > Jold and scale > 1e-12:\n",
    "            #input('a')\n",
    "            scale = scale / 2\n",
    "            print(\"scale = \", scale)\n",
    "            if scale <= 1e-12:\n",
    "                converged = True\n",
    "                break\n",
    "\n",
    "            gfset.vec.data = gfsetOld.vec - scale * gfX.vec\n",
    "            mesh.SetDeformation(gfset)\n",
    "            \n",
    "            a.Assemble()\n",
    "            fstate.Assemble()\n",
    "            SolveStateEquation()\n",
    "            Jnew = Integrate(Cost(gfu), mesh)\n",
    "    \n",
    "    if converged==True:\n",
    "        print(\"No more descent can be found\")\n",
    "        break\n",
    "    Jold = Jnew\n",
    "\n",
    "    Redraw(blocking=True)\n",
    "'''"
   ]
  },
  {
   "cell_type": "code",
   "execution_count": null,
   "id": "c4a9f8b0",
   "metadata": {},
   "outputs": [],
   "source": []
  }
 ],
 "metadata": {
  "interpreter": {
   "hash": "916dbcbb3f70747c44a77c7bcd40155683ae19c65e1c03b4aa3499c5328201f1"
  },
  "kernelspec": {
   "display_name": "Python 3 (ipykernel)",
   "language": "python",
   "name": "python3"
  },
  "language_info": {
   "codemirror_mode": {
    "name": "ipython",
    "version": 3
   },
   "file_extension": ".py",
   "mimetype": "text/x-python",
   "name": "python",
   "nbconvert_exporter": "python",
   "pygments_lexer": "ipython3",
   "version": "3.10.1"
  }
 },
 "nbformat": 4,
 "nbformat_minor": 5
}
