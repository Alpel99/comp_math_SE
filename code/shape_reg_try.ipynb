{
 "cells": [
  {
   "cell_type": "code",
   "execution_count": 1,
   "id": "fb6f9e6c",
   "metadata": {},
   "outputs": [],
   "source": [
    "from ngsolve import *\n",
    "from netgen.geom2d import SplineGeometry\n",
    "from ngsolve.webgui import Draw"
   ]
  },
  {
   "cell_type": "code",
   "execution_count": 4,
   "id": "d0cdcccb",
   "metadata": {},
   "outputs": [
    {
     "data": {
      "application/vnd.jupyter.widget-view+json": {
       "model_id": "6bd5d1d019ee4cf9ac94492ea370d7a0",
       "version_major": 2,
       "version_minor": 0
      },
      "text/plain": [
       "WebGuiWidget(value={'ngsolve_version': '6.2.2201', 'mesh_dim': 2, 'order2d': 2, 'order3d': 2, 'draw_vol': None…"
      ]
     },
     "metadata": {},
     "output_type": "display_data"
    }
   ],
   "source": [
    "geo = SplineGeometry()\n",
    "m = 0.6\n",
    "geo.AddCircle(c=(0, 0), r=1, bc=\"cyl\", maxh=m) # 0.04\n",
    "mesh = Mesh(geo.GenerateMesh(maxh=m))\n",
    "mesh2 = Mesh(geo.GenerateMesh(maxh=m))\n",
    "mesh.Curve(3);\n",
    "mesh2.Curve(3)\n",
    "scene = Draw(mesh)\n",
    "\n",
    "# vector space for shape gradient\n",
    "VEC = H1(mesh, order=1, dim=2)\n",
    "# Test and trial functions\n",
    "PHI, X = VEC.TnT()\n",
    "gfX = GridFunction(VEC)"
   ]
  },
  {
   "cell_type": "code",
   "execution_count": 50,
   "id": "cd072ed8",
   "metadata": {},
   "outputs": [
    {
     "name": "stdout",
     "output_type": "stream",
     "text": [
      "1.0357017714625012 0.9262397481817528\n"
     ]
    }
   ],
   "source": [
    "r = getShapeReg()\n",
    "print(r[1],r[2])"
   ]
  },
  {
   "cell_type": "code",
   "execution_count": 51,
   "id": "1fce0340",
   "metadata": {},
   "outputs": [
    {
     "data": {
      "application/vnd.jupyter.widget-view+json": {
       "model_id": "3fa65b41015141d58187748240012f86",
       "version_major": 2,
       "version_minor": 0
      },
      "text/plain": [
       "WebGuiWidget(value={'ngsolve_version': '6.2.2201', 'mesh_dim': 2, 'order2d': 2, 'order3d': 2, 'draw_vol': None…"
      ]
     },
     "metadata": {},
     "output_type": "display_data"
    }
   ],
   "source": [
    "mesh.UnsetDeformation()\n",
    "test = CoefficientFunction((2*x+1,0.5*x))\n",
    "gfX.Set(test)\n",
    "mesh.SetDeformation(gfX)\n",
    "scene = Draw(mesh)"
   ]
  },
  {
   "cell_type": "code",
   "execution_count": 52,
   "id": "ca842012",
   "metadata": {},
   "outputs": [
    {
     "name": "stdout",
     "output_type": "stream",
     "text": [
      "1.0357017714625012 0.9262397481817528\n"
     ]
    }
   ],
   "source": [
    "import numpy as np\n",
    "import scipy.spatial.distance as distance \n",
    "\n",
    "def calcShapeReg(p):\n",
    "    dist = distance.pdist(p)\n",
    "    return dist.max()\n",
    "\n",
    "def getShapeReg():\n",
    "    pl = []\n",
    "    for el in mesh.Elements():\n",
    "        pl.append([mesh[vert].point for vert in el.vertices])\n",
    "\n",
    "    d = [];\n",
    "    for p in pl:\n",
    "        d.append(calcShapeReg(p))\n",
    "    \n",
    "    r = d/np.mean(d)\n",
    "    return (r, max(r), min(r))\n",
    "\n",
    "r = getShapeReg()\n",
    "print(r[1],r[2])"
   ]
  },
  {
   "cell_type": "code",
   "execution_count": null,
   "id": "e990a9e7",
   "metadata": {},
   "outputs": [],
   "source": []
  }
 ],
 "metadata": {
  "kernelspec": {
   "display_name": "Python 3 (ipykernel)",
   "language": "python",
   "name": "python3"
  },
  "language_info": {
   "codemirror_mode": {
    "name": "ipython",
    "version": 3
   },
   "file_extension": ".py",
   "mimetype": "text/x-python",
   "name": "python",
   "nbconvert_exporter": "python",
   "pygments_lexer": "ipython3",
   "version": "3.10.1"
  }
 },
 "nbformat": 4,
 "nbformat_minor": 5
}
