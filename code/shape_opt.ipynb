{
 "cells": [
  {
   "cell_type": "code",
   "execution_count": 1,
   "id": "c9277b01",
   "metadata": {},
   "outputs": [],
   "source": [
    "from ngsolve import *\n",
    "from netgen.geom2d import SplineGeometry\n",
    "from ngsolve.webgui import Draw\n",
    "import copy"
   ]
  },
  {
   "cell_type": "markdown",
   "id": "86d0669d",
   "metadata": {},
   "source": [
    "setup geometry"
   ]
  },
  {
   "cell_type": "code",
   "execution_count": 5,
   "id": "8264c4cc",
   "metadata": {},
   "outputs": [],
   "source": [
    "geo = SplineGeometry()\n",
    "geo.AddRectangle( (-3,-2), (3, 2), bcs = (\"top\", \"out\", \"bot\", \"in\"))\n",
    "geo.AddCircle ( (0, 0), r=0.5, leftdomain=0, rightdomain=1, bc=\"cyl\")\n",
    "mesh = Mesh( geo.GenerateMesh(maxh=0.2))\n",
    "mesh.Curve(3);\n",
    "mesh_orig = copy.deepcopy(mesh)\n",
    "#Draw(mesh)"
   ]
  },
  {
   "cell_type": "markdown",
   "id": "a7d7c7b8",
   "metadata": {},
   "source": [
    "setup FEM space"
   ]
  },
  {
   "cell_type": "code",
   "execution_count": 6,
   "id": "d0910c65",
   "metadata": {},
   "outputs": [],
   "source": [
    "# viscosity\n",
    "nu = 0.01\n",
    "# Order of spaces\n",
    "k = 2\n",
    "# H1 vs VectorH1 -> vector field?!\n",
    "V = H1(mesh,order=k, dirichlet=\"top|bot|cyl|in|out\")\n",
    "Q = H1(mesh,order=k-1)\n",
    "FES = FESpace([V,V,Q]) # X = [V,Q] (without VectorH1)"
   ]
  },
  {
   "cell_type": "markdown",
   "id": "06324b5e",
   "metadata": {},
   "source": [
    "setup bilinear form\n",
    "velocityfield u and pressurefield p"
   ]
  },
  {
   "cell_type": "code",
   "execution_count": 7,
   "id": "9304391f",
   "metadata": {},
   "outputs": [
    {
     "data": {
      "text/plain": [
       "<ngsolve.comp.BilinearForm at 0x7f7162f26bf0>"
      ]
     },
     "execution_count": 7,
     "metadata": {},
     "output_type": "execute_result"
    }
   ],
   "source": [
    "ux,uy,p = FES.TrialFunction()\n",
    "vx,vy,q = FES.TestFunction()\n",
    "\n",
    "# stokes equation\n",
    "def Equation(ux,uy,p,vx,vy,q):\n",
    "    div_u = grad(ux)[0]+grad(uy)[1] # custom div\n",
    "    div_v = grad(vx)[0]+grad(vy)[1]\n",
    "    return (grad(ux)*grad(vx)+grad(uy)*grad(vy) + div_u*q + div_v*p) * dx\n",
    "\n",
    "\n",
    "# (InnerProduct(grad(u),grad(v))+div(u)*q+div(v)*p)*dx\n",
    "a = BilinearForm(FES)\n",
    "a += Equation(ux,uy,p,vx,vy,q)\n",
    "a.Assemble()"
   ]
  },
  {
   "cell_type": "markdown",
   "id": "5a625f97",
   "metadata": {},
   "source": [
    "setup boundary conditions"
   ]
  },
  {
   "cell_type": "code",
   "execution_count": 8,
   "id": "55a5b535",
   "metadata": {
    "scrolled": true
   },
   "outputs": [
    {
     "data": {
      "application/vnd.jupyter.widget-view+json": {
       "model_id": "1cfb8861fca4489ead936daccc3d9b24",
       "version_major": 2,
       "version_minor": 0
      },
      "text/plain": [
       "WebGuiWidget(value={'ngsolve_version': '6.2.2201', 'mesh_dim': 2, 'order2d': 2, 'order3d': 2, 'draw_vol': Fals…"
      ]
     },
     "metadata": {},
     "output_type": "display_data"
    }
   ],
   "source": [
    "gfu = GridFunction(FES)\n",
    "uinf = 0.001\n",
    "uin = CoefficientFunction((uinf))\n",
    "gfu.components[0].Set(uin, definedon=mesh.Boundaries(\"in|top|bot|out\"))\n",
    "\n",
    "x_velocity = CoefficientFunction(gfu.components[0])\n",
    "scene_state = Draw(x_velocity, mesh, \"vel\")"
   ]
  },
  {
   "cell_type": "markdown",
   "id": "1cc7db44",
   "metadata": {},
   "source": [
    "solve stokes"
   ]
  },
  {
   "cell_type": "code",
   "execution_count": 9,
   "id": "8376d727",
   "metadata": {},
   "outputs": [],
   "source": [
    "def solveStokes():\n",
    "    res = gfu.vec.CreateVector()\n",
    "    res.data = -a.mat * gfu.vec\n",
    "    inv = a.mat.Inverse(FES.FreeDofs())\n",
    "    gfu.vec.data += inv * res\n",
    "    scene_state.Redraw()\n",
    "solveStokes()"
   ]
  },
  {
   "cell_type": "markdown",
   "id": "2ef93f57",
   "metadata": {},
   "source": [
    "# Calculations/Setup for all the side constraints"
   ]
  },
  {
   "cell_type": "markdown",
   "id": "5852ecf9",
   "metadata": {},
   "source": [
    "Drag/ \"dissipated energy\" [should be working]\n",
    "\n",
    "$J(\\Omega ) = \\frac{1}{2} \\int_\\Omega Du : Du dx$ "
   ]
  },
  {
   "cell_type": "code",
   "execution_count": 177,
   "id": "b48a5c46",
   "metadata": {},
   "outputs": [],
   "source": [
    "def calc_drag(gfu):\n",
    "    ux = gfu.components[0]\n",
    "    uy = gfu.components[1]\n",
    "    return 0.5*(grad(ux)*grad(ux)+grad(uy)*grad(uy))*dx"
   ]
  },
  {
   "cell_type": "markdown",
   "id": "4dd69093",
   "metadata": {},
   "source": [
    "### get surface area of mesh (main issue)\n",
    "$vol(\\Omega) = \\int_{\\Omega} 1 \\,dx \\in \\mathbb{R}$ should stay constant <br>\n",
    "entire area: $A = 6*4=24$ <br>\n",
    "$\\alpha\\Big(\\mathrm{Vol}(\\Omega(s))-\\mathrm{Vol}(\\Omega_0)\\Big)^2$"
   ]
  },
  {
   "cell_type": "code",
   "execution_count": 178,
   "id": "ed6aabd5",
   "metadata": {},
   "outputs": [],
   "source": [
    "alpha = 1e-4\n",
    "surf_t = CoefficientFunction(1)\n",
    "surf_0 = Integrate(surf_t,mesh)\n",
    "\n",
    "def calc_surf_change():\n",
    "    return alpha*(surf_t*dx-surf_0)**2"
   ]
  },
  {
   "cell_type": "markdown",
   "id": "762fa355",
   "metadata": {},
   "source": [
    "### barycenter (not necessarily useful yet)\n",
    "$bc^\\Omega = \\frac{1}{vol(\\Omega)}\\int_{\\Omega}x\\,dx \\in \\mathbb{R}^d$ for each dimension!!"
   ]
  },
  {
   "cell_type": "code",
   "execution_count": 179,
   "id": "fccd2751",
   "metadata": {},
   "outputs": [],
   "source": [
    "bc_tx = CoefficientFunction(x)\n",
    "bc_ty = CoefficientFunction(y)\n",
    "bc_0x = 1/surf_0*Integrate(bc_tx,mesh)\n",
    "bc_0y = 1/surf_0*Integrate(bc_ty,mesh)"
   ]
  },
  {
   "cell_type": "markdown",
   "id": "fb8b391a",
   "metadata": {},
   "source": [
    "bc_0 = (1/surf_0)*Integrate(bc_tx,mesh)\n",
    "\n",
    "def calc_bc_change():\n",
    "    return ((1/(surf_t*dx))*(bc_t*dx)- bc_0)"
   ]
  },
  {
   "cell_type": "code",
   "execution_count": 180,
   "id": "d7b375a2",
   "metadata": {},
   "outputs": [],
   "source": [
    "def Cost(gfu):\n",
    "    return calc_drag(gfu) + calc_surf_change()# + calc_bc_change()"
   ]
  },
  {
   "cell_type": "markdown",
   "id": "eb55f1d1",
   "metadata": {},
   "source": [
    "# creation of Shapediff Space + pertubation Function\n",
    "function that will perturb our mesh"
   ]
  },
  {
   "cell_type": "code",
   "execution_count": 181,
   "id": "4a7b4f43",
   "metadata": {},
   "outputs": [],
   "source": [
    "# Test and trial functions for shape derivate -> do we even need this?\n",
    "VEC = H1(mesh, order=2, dim=2, dirichlet=\"top|bot|in|out\")\n",
    "PHI, X = VEC.TnT()\n",
    "# gfset denotes the deformation of the original domain and will be updated during the shape optimization\n",
    "gfset = GridFunction(VEC)\n",
    "gfset.Set((0,0))\n",
    "mesh.SetDeformation(gfset)\n",
    "SetVisualization (deformation=True)\n",
    "\n",
    "# deformation calculation\n",
    "gfX = GridFunction(VEC)"
   ]
  },
  {
   "cell_type": "code",
   "execution_count": 182,
   "id": "f1ead8c0",
   "metadata": {},
   "outputs": [],
   "source": [
    "# try for already transformed cost function:\n",
    "n = specialcf.normal(2)\n",
    "def TransfCost():\n",
    "    #return div(X)**2*dx\n",
    "    return (gfX*n)**2*ds(definedon=\"cyl\")"
   ]
  },
  {
   "cell_type": "markdown",
   "id": "e73cb8a5",
   "metadata": {},
   "source": [
    "# Shape Optimization\n",
    "$\\min_{h,u,s} \\int_{\\Omega(s)} \\sum_{i,j=1}^2 \\left( \\frac{\\partial u_i}{\\partial x_j}\\right)^2~\\mathrm{d} x\n",
    " + \\alpha\\Big(\\mathrm{Vol}(\\Omega(s))-\\mathrm{Vol}(\\Omega_0)\\Big)^2\n",
    "+ \\beta\\sum_{j=1}^2 \\Big(\\mathrm{Bc}_j(\\Omega(s))-\\mathrm{Bc}_j(\\Omega_0)\\Big)^2,$\n",
    "\n",
    "$\\frac{1}{2} \\int_\\Omega Du : Du dx + \\alpha\\Big(\\mathrm{Vol}(\\Omega(s))-\\mathrm{Vol}(\\Omega_0)\\Big)^2\n",
    "+ \\beta\\sum_{j=1}^2 \\Big(\\mathrm{Bc}_j(\\Omega(s)) - \\mathrm{Bc}_j(\\Omega_0)\\Big)^2,$ (1)"
   ]
  },
  {
   "cell_type": "code",
   "execution_count": 183,
   "id": "3518fbf8",
   "metadata": {},
   "outputs": [],
   "source": [
    "# trying out different stuff for float/SumOfIntegrals Subtraction\n",
    "surf_init = Parameter(surf_0)\n",
    "surf_in = CoefficientFunction(surf_0)\n",
    "surfdif = (CoefficientFunction(1)*dx(definedon=\"mesh_orig\") - CoefficientFunction(1) * dx(definedon=\"mesh\"))"
   ]
  },
  {
   "cell_type": "code",
   "execution_count": 205,
   "id": "2635ebba",
   "metadata": {},
   "outputs": [],
   "source": [
    "ux = gfu.components[0]\n",
    "uy = gfu.components[1]\n",
    "p = gfu.components[2]\n",
    "\n",
    "vol = Parameter(1)\n",
    "vol.Set(Integrate(surf_t,mesh))\n",
    "\n",
    "Lagrangian = Equation(ux,uy,p,ux,uy,p) + calc_drag(gfu)"
   ]
  },
  {
   "cell_type": "code",
   "execution_count": 206,
   "id": "dc8b31c4",
   "metadata": {},
   "outputs": [],
   "source": [
    "def calcvol():\n",
    "    return surf_t*dx"
   ]
  },
  {
   "cell_type": "code",
   "execution_count": 212,
   "id": "1ca75f8a",
   "metadata": {},
   "outputs": [],
   "source": [
    "dJOmega = LinearForm(VEC)\n",
    "dJOmega += Lagrangian.DiffShape(X)\n",
    "\n",
    "# volume side constraint\n",
    "vol = Parameter(1)\n",
    "vol.Set(Integrate(surf_t,mesh))\n",
    "alpha = 1e-3\n",
    "dJOmega += (alpha*((vol-surf_0)**2)*dx).DiffShape(X)\n",
    "\n",
    "# barycenter x sideconstraint\n",
    "beta = 1e-5\n",
    "bc_x = Parameter(1)\n",
    "bc_x.Set(Integrate(bc_tx,mesh)) # (1/vol)*\n",
    "dJOmega += (beta*((bc_x-bc_0x)**2)*dx).DiffShape(X)\n",
    "\n",
    "# barycenter x sideconstraint\n",
    "bc_y = Parameter(1)\n",
    "bc_y.Set(Integrate(bc_ty,mesh)) # (1/vol)*\n",
    "dJOmega += (beta*((bc_y-bc_0y)**2)*dx).DiffShape(X)\n",
    "\n",
    "b = BilinearForm(VEC)\n",
    "b += InnerProduct(grad(X),grad(PHI))*dx + InnerProduct(X,PHI)*dx # H1 InnerProduct"
   ]
  },
  {
   "cell_type": "markdown",
   "id": "442891b7",
   "metadata": {},
   "source": [
    "## this basically just copy paste"
   ]
  },
  {
   "cell_type": "code",
   "execution_count": 213,
   "id": "305afadc",
   "metadata": {},
   "outputs": [],
   "source": [
    "def SolveDeformationEquation():\n",
    "    rhs = gfX.vec.CreateVector()\n",
    "    rhs.data = dJOmega.vec - b.mat * gfX.vec\n",
    "    update = gfX.vec.CreateVector()\n",
    "    update.data = b.mat.Inverse(VEC.FreeDofs()) * rhs\n",
    "    gfX.vec.data += update"
   ]
  },
  {
   "cell_type": "code",
   "execution_count": 214,
   "id": "4a7cc66c",
   "metadata": {
    "scrolled": true
   },
   "outputs": [
    {
     "data": {
      "application/vnd.jupyter.widget-view+json": {
       "model_id": "0a0b9b08952842249ea23f2be281df37",
       "version_major": 2,
       "version_minor": 0
      },
      "text/plain": [
       "WebGuiWidget(value={'ngsolve_version': '6.2.2201', 'mesh_dim': 2, 'order2d': 2, 'order3d': 2, 'draw_vol': Fals…"
      ]
     },
     "metadata": {},
     "output_type": "display_data"
    }
   ],
   "source": [
    "scene = Draw(gfset)"
   ]
  },
  {
   "cell_type": "code",
   "execution_count": 219,
   "id": "4219a2f6",
   "metadata": {
    "scrolled": true
   },
   "outputs": [
    {
     "name": "stdout",
     "output_type": "stream",
     "text": [
      "cost at iteration 258 :  1.0997749905576035e-05\n",
      "cost at iteration 0 :  1.0997749905576035e-05\n",
      "cost at iteration 1 :  1.0997749905576026e-05\n",
      "cost at iteration 2 :  1.0968170618917597e-05\n",
      "cost at iteration 3 :  1.0934921753665824e-05\n",
      "cost at iteration 4 :  1.090195956878026e-05\n",
      "cost at iteration 5 :  1.0869280592778381e-05\n",
      "cost at iteration 6 :  1.0836881404933624e-05\n",
      "cost at iteration 7 :  1.0804758984699962e-05\n",
      "cost at iteration 8 :  1.0772910747985475e-05\n",
      "cost at iteration 9 :  1.0741334586159466e-05\n",
      "cost at iteration 10 :  1.0710028909340548e-05\n",
      "cost at iteration 11 :  1.0678992695536526e-05\n",
      "cost at iteration 12 :  1.064822554733584e-05\n",
      "cost at iteration 13 :  1.0617727758030585e-05\n",
      "cost at iteration 14 :  1.0587500389279713e-05\n",
      "cost at iteration 15 :  1.0557545362704919e-05\n",
      "cost at iteration 16 :  1.0527865568144795e-05\n",
      "cost at iteration 17 :  1.049846499166931e-05\n",
      "cost at iteration 18 :  1.046934886686695e-05\n",
      "cost at iteration 19 :  1.044052385332047e-05\n",
      "cost at iteration 20 :  1.0411998246548266e-05\n",
      "cost at iteration 21 :  1.0383782223908233e-05\n",
      "cost at iteration 22 :  1.0355888130905505e-05\n",
      "cost at iteration 23 :  1.0328330811801199e-05\n",
      "cost at iteration 24 :  1.0301127987056959e-05\n",
      "cost at iteration 25 :  1.0274300677499856e-05\n",
      "cost at iteration 26 :  1.0247873670494576e-05\n",
      "cost at iteration 27 :  1.0221876016007907e-05\n",
      "cost at iteration 28 :  1.0196341529196634e-05\n",
      "cost at iteration 29 :  1.0171309259970624e-05\n",
      "cost at iteration 30 :  1.0146823868116707e-05\n",
      "cost at iteration 31 :  1.0122935815239445e-05\n",
      "cost at iteration 32 :  1.0099701254346476e-05\n",
      "cost at iteration 33 :  1.0077181470391711e-05\n",
      "cost at iteration 34 :  1.0055441711657474e-05\n",
      "cost at iteration 35 :  1.0034549269138867e-05\n",
      "cost at iteration 36 :  1.0014570728264785e-05\n",
      "cost at iteration 37 :  9.995568447929734e-06\n",
      "cost at iteration 38 :  9.977596510458217e-06\n",
      "cost at iteration 39 :  9.960696595036031e-06\n",
      "cost at iteration 40 :  9.94489438497615e-06\n",
      "cost at iteration 41 :  9.93019714342467e-06\n",
      "cost at iteration 42 :  9.916592933414865e-06\n",
      "cost at iteration 43 :  9.904051641531929e-06\n",
      "cost at iteration 44 :  9.892527592053492e-06\n",
      "cost at iteration 45 :  9.881963241844867e-06\n",
      "cost at iteration 46 :  9.872293317457687e-06\n",
      "cost at iteration 47 :  9.863448806049159e-06\n",
      "cost at iteration 48 :  9.85536038229143e-06\n",
      "cost at iteration 49 :  9.847961060694303e-06\n",
      "cost at iteration 50 :  9.841188040407756e-06\n",
      "cost at iteration 51 :  9.834983826719025e-06\n",
      "cost at iteration 52 :  9.829296769755082e-06\n",
      "cost at iteration 53 :  9.824081172051395e-06\n",
      "cost at iteration 54 :  9.819297101557781e-06\n",
      "cost at iteration 55 :  9.814910020501452e-06\n",
      "cost at iteration 56 :  9.810890312879826e-06\n",
      "cost at iteration 57 :  9.807212769012993e-06\n",
      "cost at iteration 58 :  9.803856066211175e-06\n",
      "cost at iteration 59 :  9.800802270167474e-06\n",
      "cost at iteration 60 :  9.798036371413936e-06\n",
      "cost at iteration 61 :  9.795545864144937e-06\n",
      "cost at iteration 62 :  9.79332037005529e-06\n",
      "cost at iteration 63 :  9.791351306869805e-06\n",
      "cost at iteration 64 :  9.789631599430702e-06\n",
      "cost at iteration 65 :  9.788155430188516e-06\n",
      "cost at iteration 66 :  9.78691802543468e-06\n",
      "cost at iteration 67 :  9.785915473454546e-06\n",
      "cost at iteration 68 :  9.785144570828577e-06\n",
      "cost at iteration 69 :  9.78460269329448e-06\n",
      "cost at iteration 70 :  9.784287687840777e-06\n",
      "cost at iteration 71 :  9.784197783001207e-06\n",
      "cost at iteration 72 :  9.784331514628932e-06\n",
      "cost at iteration 73 :  9.784687664740362e-06\n",
      "cost at iteration 74 :  9.78526521131143e-06\n",
      "cost at iteration 75 :  9.786063287190083e-06\n",
      "cost at iteration 76 :  9.787081146539349e-06\n",
      "cost at iteration 77 :  9.788318137459913e-06\n",
      "cost at iteration 78 :  9.78977367964546e-06\n",
      "cost at iteration 79 :  9.791447246108388e-06\n",
      "cost at iteration 80 :  9.793338348172968e-06\n",
      "cost at iteration 81 :  9.795446523074255e-06\n",
      "cost at iteration 82 :  9.797771323619556e-06\n",
      "cost at iteration 83 :  9.80031230947402e-06\n",
      "cost at iteration 84 :  9.80306903971747e-06\n",
      "cost at iteration 85 :  9.80604106639554e-06\n",
      "cost at iteration 86 :  9.809227928845584e-06\n",
      "cost at iteration 87 :  9.812629148632552e-06\n",
      "cost at iteration 88 :  9.816244224969545e-06\n",
      "cost at iteration 89 :  9.82007263053056e-06\n",
      "cost at iteration 90 :  9.82411380759238e-06\n",
      "cost at iteration 91 :  9.828367164462558e-06\n",
      "cost at iteration 92 :  9.832832072166295e-06\n",
      "cost at iteration 93 :  9.837507861381156e-06\n",
      "cost at iteration 94 :  9.84239381961347e-06\n",
      "cost at iteration 95 :  9.847489188623216e-06\n",
      "cost at iteration 96 :  9.852793162100821e-06\n",
      "cost at iteration 97 :  9.858304883613808e-06\n",
      "cost at iteration 98 :  9.864023444830286e-06\n",
      "cost at iteration 99 :  9.869947884036312e-06\n",
      "cost at iteration 100 :  9.876077184958998e-06\n",
      "cost at iteration 101 :  9.882410275907235e-06\n",
      "cost at iteration 102 :  9.888946029240536e-06\n",
      "cost at iteration 103 :  9.895683261172924e-06\n",
      "cost at iteration 104 :  9.90262073191852e-06\n",
      "cost at iteration 105 :  9.909757146179237e-06\n",
      "cost at iteration 106 :  9.917091153975356e-06\n",
      "cost at iteration 107 :  9.924621351814866e-06\n",
      "cost at iteration 108 :  9.932346284194408e-06\n",
      "cost at iteration 109 :  9.940264445422467e-06\n",
      "cost at iteration 110 :  9.948374281751695e-06\n",
      "cost at iteration 111 :  9.956674193805461e-06\n",
      "cost at iteration 112 :  9.965162539280799e-06\n",
      "cost at iteration 113 :  9.973837635907555e-06\n",
      "cost at iteration 114 :  9.982697764643686e-06\n",
      "cost at iteration 115 :  9.991741173082248e-06\n",
      "cost at iteration 116 :  1.0000966079047756e-05\n",
      "cost at iteration 117 :  1.0010370674357921e-05\n",
      "cost at iteration 118 :  1.0019953128726967e-05\n",
      "cost at iteration 119 :  1.0029711593787411e-05\n",
      "cost at iteration 120 :  1.003964420720976e-05\n",
      "cost at iteration 121 :  1.004974909689873e-05\n",
      "cost at iteration 122 :  1.0060024385250054e-05\n",
      "cost at iteration 123 :  1.0070468193453232e-05\n",
      "cost at iteration 124 :  1.008107864583033e-05\n",
      "cost at iteration 125 :  1.0091853874203896e-05\n",
      "cost at iteration 126 :  1.0102792022294946e-05\n",
      "cost at iteration 127 :  1.0113891250156163e-05\n",
      "cost at iteration 128 :  1.0125149738653663e-05\n",
      "cost at iteration 129 :  1.0136565694018766e-05\n",
      "cost at iteration 130 :  1.0148137352504369e-05\n",
      "cost at iteration 131 :  1.0159862985188351e-05\n",
      "cost at iteration 132 :  1.0171740902986296e-05\n",
      "cost at iteration 133 :  1.0183769461949126e-05\n",
      "cost at iteration 134 :  1.0195947068952743e-05\n",
      "cost at iteration 135 :  1.0208272187906592e-05\n",
      "cost at iteration 136 :  1.0220743346650735e-05\n",
      "cost at iteration 137 :  1.0233359144760559e-05\n",
      "cost at iteration 138 :  1.0246118262535539e-05\n",
      "cost at iteration 139 :  1.0259019471539789e-05\n",
      "cost at iteration 140 :  1.0272061647167102e-05\n",
      "cost at iteration 141 :  1.028524378386066e-05\n",
      "cost at iteration 142 :  1.029856501382354e-05\n",
      "cost at iteration 143 :  1.0312024630346452e-05\n",
      "cost at iteration 144 :  1.0325622117287023e-05\n",
      "cost at iteration 145 :  1.0339357186816324e-05\n",
      "cost at iteration 146 :  1.0353229828383464e-05\n",
      "cost at iteration 147 :  1.0367240373084041e-05\n",
      "cost at iteration 148 :  1.0381389579433391e-05\n",
      "cost at iteration 149 :  1.0395678749321626e-05\n",
      "cost at iteration 150 :  1.041010988713582e-05\n",
      "cost at iteration 151 :  1.042468592164842e-05\n",
      "cost at iteration 152 :  1.0439411020680505e-05\n",
      "cost at iteration 153 :  1.0454291045233975e-05\n",
      "cost at iteration 154 :  1.0469346047353788e-05\n",
      "cost at iteration 155 :  1.0484634689246331e-05\n",
      "cost at iteration 156 :  1.0500167424807241e-05\n",
      "cost at iteration 157 :  1.0515943108827735e-05\n",
      "cost at iteration 158 :  1.0531973252466926e-05\n",
      "cost at iteration 159 :  1.0548293982141556e-05\n",
      "cost at iteration 160 :  1.0564968870074253e-05\n",
      "cost at iteration 161 :  1.0582077078770971e-05\n",
      "cost at iteration 162 :  1.0594500290090285e-05\n",
      "cost at iteration 163 :  1.0580185227233839e-05\n",
      "cost at iteration 164 :  1.0571455198788347e-05\n",
      "cost at iteration 165 :  1.0568048650078442e-05\n",
      "cost at iteration 166 :  1.0568127776889153e-05\n",
      "cost at iteration 167 :  1.0570582580822683e-05\n",
      "cost at iteration 168 :  1.0574790521356594e-05\n",
      "cost at iteration 169 :  1.0580346177456911e-05\n",
      "cost at iteration 170 :  1.0586971423964137e-05\n",
      "cost at iteration 171 :  1.0594464155370921e-05\n",
      "cost at iteration 172 :  1.0602669200229403e-05\n",
      "cost at iteration 173 :  1.061146317500614e-05\n",
      "cost at iteration 174 :  1.062074700210372e-05\n"
     ]
    },
    {
     "name": "stdout",
     "output_type": "stream",
     "text": [
      "cost at iteration 175 :  1.0630441800891696e-05\n",
      "cost at iteration 176 :  1.0640485826604965e-05\n",
      "cost at iteration 177 :  1.0650831559825657e-05\n",
      "cost at iteration 178 :  1.0661442830696161e-05\n",
      "cost at iteration 179 :  1.0672292151438548e-05\n",
      "cost at iteration 180 :  1.0683358442421118e-05\n",
      "cost at iteration 181 :  1.0694625241924735e-05\n",
      "cost at iteration 182 :  1.0706079388935955e-05\n",
      "cost at iteration 183 :  1.0717710103547101e-05\n",
      "cost at iteration 184 :  1.0729508365791912e-05\n",
      "cost at iteration 185 :  1.0741466499321447e-05\n",
      "cost at iteration 186 :  1.0753577886341671e-05\n",
      "cost at iteration 187 :  1.076583676320381e-05\n",
      "cost at iteration 188 :  1.0778238065476193e-05\n",
      "cost at iteration 189 :  1.0790777305004794e-05\n",
      "cost at iteration 190 :  1.0803450469735401e-05\n",
      "cost at iteration 191 :  1.0816253941369363e-05\n",
      "cost at iteration 192 :  1.0829184427817169e-05\n",
      "cost at iteration 193 :  1.0842238908118063e-05\n",
      "cost at iteration 194 :  1.085541458774917e-05\n",
      "cost at iteration 195 :  1.0868708862436457e-05\n",
      "cost at iteration 196 :  1.0882119288800785e-05\n",
      "cost at iteration 197 :  1.0895643560449953e-05\n",
      "cost at iteration 198 :  1.0909279488400036e-05\n",
      "cost at iteration 199 :  1.092302498495868e-05\n"
     ]
    }
   ],
   "source": [
    "gfset.Set((0,0))\n",
    "mesh.SetDeformation(gfset)\n",
    "scene.Redraw()\n",
    "a.Assemble()\n",
    "solveStokes()\n",
    "\n",
    "drag = []\n",
    "volu = []\n",
    "LineSearch = False\n",
    "\n",
    "iter_max = 200\n",
    "Jold = Integrate(calc_drag(gfu), mesh)\n",
    "converged = False\n",
    "\n",
    "# try parts of loop\n",
    "mesh.SetDeformation(gfset)\n",
    "scene.Redraw()\n",
    "\n",
    "print('cost at iteration', k, ': ', Jold)\n",
    "    \n",
    "# input(\"Press enter to start optimization\")\n",
    "for k in range(iter_max):\n",
    "    mesh.SetDeformation(gfset)\n",
    "    scene.Redraw()\n",
    "    scene_state.Redraw()\n",
    "    \n",
    "    print('cost at iteration', k, ': ', Jold)\n",
    "    volu.append(Integrate(1,mesh))\n",
    "    drag.append(Integrate(calc_drag(gfu),mesh))\n",
    "    #print('volume iteration', k, ': ', 24-Integrate(1,mesh))\n",
    "    a.Assemble()\n",
    "    solveStokes()\n",
    "    \n",
    "    b.Assemble()\n",
    "    dJOmega.Assemble()\n",
    "    vol.Set(Integrate(surf_t,mesh))\n",
    "    SolveDeformationEquation()\n",
    "    \n",
    "    \n",
    "    mesh.UnsetDeformation()\n",
    "    \n",
    "    scale = 0.01 / Norm(gfX.vec)\n",
    "    #scale = 0.1 / Norm(gfX.vec)\n",
    "    gfsetOld = gfset\n",
    "    gfset.vec.data -= scale * gfX.vec\n",
    "    Jnew = Integrate(calc_drag(gfu), mesh)\n",
    "    \n",
    "    if LineSearch:\n",
    "        while Jnew > Jold and scale > 1e-12:\n",
    "            #input('a')\n",
    "            scale = scale / 2\n",
    "            print(\"scale = \", scale)\n",
    "            if scale <= 1e-12:\n",
    "                converged = True\n",
    "                break\n",
    "\n",
    "            gfset.vec.data = gfsetOld.vec - scale * gfX.vec\n",
    "            mesh.SetDeformation(gfset)\n",
    "            \n",
    "            a.Assemble()\n",
    "            solveStokes()\n",
    "            Jnew = Integrate(calc_drag(gfu), mesh)\n",
    "    \n",
    "    if converged==True:\n",
    "        print(\"No more descent can be found\")\n",
    "        break\n",
    "    Jold = Jnew\n",
    "\n",
    "    Redraw(blocking=True)"
   ]
  },
  {
   "cell_type": "code",
   "execution_count": 218,
   "id": "c4a9f8b0",
   "metadata": {
    "scrolled": false
   },
   "outputs": [
    {
     "data": {
      "text/plain": [
       "[<matplotlib.lines.Line2D at 0x7fd1a51353d0>]"
      ]
     },
     "execution_count": 218,
     "metadata": {},
     "output_type": "execute_result"
    },
    {
     "data": {
      "image/png": "[encoded data removed]",
      "text/plain": [
       "<Figure size 432x288 with 1 Axes>"
      ]
     },
     "metadata": {
      "needs_background": "light"
     },
     "output_type": "display_data"
    },
    {
     "data": {
      "image/png": "[encoded data removed]",
      "text/plain": [
       "<Figure size 432x288 with 1 Axes>"
      ]
     },
     "metadata": {
      "needs_background": "light"
     },
     "output_type": "display_data"
    }
   ],
   "source": [
    "import matplotlib.pyplot as plt\n",
    "plt.plot(range(0,len(drag)),drag)\n",
    "plt.figure(2)\n",
    "plt.plot(range(0,len(volu)),volu)"
   ]
  },
  {
   "cell_type": "code",
   "execution_count": null,
   "id": "ec33d906",
   "metadata": {},
   "outputs": [],
   "source": [
    "Integrate(1,mesh)\n",
    "#21.357359197038754"
   ]
  },
  {
   "cell_type": "code",
   "execution_count": null,
   "id": "3a95f110",
   "metadata": {},
   "outputs": [],
   "source": []
  }
 ],
 "metadata": {
  "interpreter": {
   "hash": "916dbcbb3f70747c44a77c7bcd40155683ae19c65e1c03b4aa3499c5328201f1"
  },
  "kernelspec": {
   "display_name": "Python 3",
   "language": "python",
   "name": "python3"
  },
  "language_info": {
   "codemirror_mode": {
    "name": "ipython",
    "version": 3
   },
   "file_extension": ".py",
   "mimetype": "text/x-python",
   "name": "python",
   "nbconvert_exporter": "python",
   "pygments_lexer": "ipython3",
   "version": "3.9.10"
  }
 },
 "nbformat": 4,
 "nbformat_minor": 5
}
