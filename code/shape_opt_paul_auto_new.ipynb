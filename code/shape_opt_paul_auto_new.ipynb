{
 "cells": [
  {
   "cell_type": "code",
   "execution_count": 2,
   "id": "c9277b01",
   "metadata": {},
   "outputs": [],
   "source": [
    "from ngsolve import *\n",
    "from netgen.geom2d import SplineGeometry\n",
    "from ngsolve.webgui import Draw\n",
    "import copy"
   ]
  },
  {
   "cell_type": "markdown",
   "id": "86d0669d",
   "metadata": {},
   "source": [
    "setup geometry"
   ]
  },
  {
   "cell_type": "code",
   "execution_count": 3,
   "id": "8264c4cc",
   "metadata": {},
   "outputs": [],
   "source": [
    "geo = SplineGeometry()\n",
    "geo.AddRectangle( (-3,-2), (3, 2), bcs = (\"top\", \"out\", \"bot\", \"in\"))\n",
    "geo.AddCircle ( (0, 0), r=0.5, leftdomain=0, rightdomain=1, bc=\"cyl\")\n",
    "mesh = Mesh( geo.GenerateMesh(maxh=0.1))\n",
    "mesh.Curve(3);\n",
    "mesh_orig = copy.deepcopy(mesh)\n",
    "#Draw(mesh)"
   ]
  },
  {
   "cell_type": "markdown",
   "id": "a7d7c7b8",
   "metadata": {},
   "source": [
    "setup FEM space"
   ]
  },
  {
   "cell_type": "code",
   "execution_count": 4,
   "id": "d0910c65",
   "metadata": {},
   "outputs": [],
   "source": [
    "# viscosity\n",
    "nu = 0.01\n",
    "# Order of spaces\n",
    "k = 2\n",
    "# H1 vs VectorH1 -> vector field?!\n",
    "V = VectorH1(mesh,order=k, dirichlet=\"top|bot|cyl|in|out\")\n",
    "Q = H1(mesh,order=k-1)\n",
    "X = FESpace([V,Q]) # X = [V,V,Q] (without VectorH1)"
   ]
  },
  {
   "cell_type": "markdown",
   "id": "06324b5e",
   "metadata": {},
   "source": [
    "setup bilinear form\n",
    "velocityfield u and pressurefield p"
   ]
  },
  {
   "cell_type": "code",
   "execution_count": 5,
   "id": "9304391f",
   "metadata": {},
   "outputs": [
    {
     "data": {
      "text/plain": [
       "<ngsolve.comp.BilinearForm at 0x7facfcf6c230>"
      ]
     },
     "execution_count": 5,
     "metadata": {},
     "output_type": "execute_result"
    }
   ],
   "source": [
    "u,p = X.TrialFunction()\n",
    "v,q = X.TestFunction()\n",
    "# (InnerProduct(grad(u),grad(v))+div(u)*q+div(v)*p)*dx\n",
    "a = BilinearForm(X)\n",
    "a += (InnerProduct(grad(u),grad(v))+div(u)*q+div(v)*p)*dx\n",
    "a.Assemble()"
   ]
  },
  {
   "cell_type": "markdown",
   "id": "5a625f97",
   "metadata": {},
   "source": [
    "setup boundary conditions"
   ]
  },
  {
   "cell_type": "code",
   "execution_count": 6,
   "id": "55a5b535",
   "metadata": {
    "scrolled": true
   },
   "outputs": [
    {
     "data": {
      "application/vnd.jupyter.widget-view+json": {
       "model_id": "3e9d854fcf4742298926d0d64a923fcc",
       "version_major": 2,
       "version_minor": 0
      },
      "text/plain": [
       "WebGuiWidget(value={'ngsolve_version': '6.2.2201', 'mesh_dim': 2, 'order2d': 2, 'order3d': 2, 'draw_vol': Fals…"
      ]
     },
     "metadata": {},
     "output_type": "display_data"
    }
   ],
   "source": [
    "gfu = GridFunction(X)\n",
    "#'gfp = GridFunction(X)\n",
    "# setup flow condition\n",
    "uinf = 0.001\n",
    "uin = CoefficientFunction((uinf,0))\n",
    "gfu.components[0].Set(uin, definedon=mesh.Boundaries(\"in|top|bot|out\"))\n",
    "\n",
    "velocity = CoefficientFunction(gfu.components[0])\n",
    "scene_state = Draw(velocity, mesh, \"vel\")"
   ]
  },
  {
   "cell_type": "markdown",
   "id": "eaee2173",
   "metadata": {},
   "source": [
    "solve equation"
   ]
  },
  {
   "cell_type": "code",
   "execution_count": 7,
   "id": "8376d727",
   "metadata": {},
   "outputs": [],
   "source": [
    "def solveStokes():\n",
    "    res = gfu.vec.CreateVector()\n",
    "    res.data = -a.mat * gfu.vec\n",
    "    inv = a.mat.Inverse(X.FreeDofs())\n",
    "    gfu.vec.data += inv * res\n",
    "    scene_state.Redraw()\n",
    "solveStokes()"
   ]
  },
  {
   "cell_type": "markdown",
   "id": "eb55f1d1",
   "metadata": {},
   "source": [
    "### creation of gfset\n",
    "function that will perturb our mesh"
   ]
  },
  {
   "cell_type": "code",
   "execution_count": 8,
   "id": "4a7b4f43",
   "metadata": {},
   "outputs": [
    {
     "data": {
      "application/vnd.jupyter.widget-view+json": {
       "model_id": "e0920d841d914742aed5ad88bdc20adc",
       "version_major": 2,
       "version_minor": 0
      },
      "text/plain": [
       "WebGuiWidget(value={'ngsolve_version': '6.2.2201', 'mesh_dim': 2, 'order2d': 2, 'order3d': 2, 'draw_vol': Fals…"
      ]
     },
     "metadata": {},
     "output_type": "display_data"
    }
   ],
   "source": [
    "# Test and trial functions for shape derivate -> do we even need this?\n",
    "VEC = H1(mesh, order=2, dim=2, dirichlet=\"top|bot|in|out\")\n",
    "PHI, PSI = VEC.TnT()\n",
    "# gfset denotes the deformation of the original domain and will be updated during the shape optimization\n",
    "gfset = GridFunction(VEC)\n",
    "gfset.Set((0,0))\n",
    "mesh.SetDeformation(gfset)\n",
    "sceneSet = Draw(gfset,mesh,\"gfset\")\n",
    "SetVisualization (deformation=True)\n",
    "\n",
    "# deformation calculation?!\n",
    "gfX = GridFunction(VEC)"
   ]
  },
  {
   "cell_type": "markdown",
   "id": "5852ecf9",
   "metadata": {},
   "source": [
    "Drag/ \"dissipated energy\" [should be working]\n",
    "\n",
    "$J(\\Omega ) = \\frac{1}{2} \\int_\\Omega Du : Du dx$ "
   ]
  },
  {
   "cell_type": "code",
   "execution_count": 9,
   "id": "f04efaa9",
   "metadata": {},
   "outputs": [
    {
     "name": "stdout",
     "output_type": "stream",
     "text": [
      "1.0989139295909543e-05\n"
     ]
    }
   ],
   "source": [
    "solveStokes()\n",
    "vel = gfu.components[0] #gfu.vec.data\n",
    "drag = Integrate(0.5*InnerProduct(Grad(vel),Grad(vel)),mesh)\n",
    "print(drag)\n",
    "\n",
    "# 1.0997749905576028e-05 - r=0.5\n",
    "# 0.00043084429187575745 - r=1.5"
   ]
  },
  {
   "cell_type": "code",
   "execution_count": 10,
   "id": "b48a5c46",
   "metadata": {},
   "outputs": [],
   "source": [
    "def calc_drag(gfu):\n",
    "    vel = gfu.components[0]\n",
    "    return 0.5*InnerProduct(grad(vel),grad(vel))*dx"
   ]
  },
  {
   "cell_type": "markdown",
   "id": "4dd69093",
   "metadata": {},
   "source": [
    "### get surface area of mesh [done]\n",
    "(without ball), should stay constant"
   ]
  },
  {
   "cell_type": "code",
   "execution_count": 11,
   "id": "ed6aabd5",
   "metadata": {},
   "outputs": [
    {
     "data": {
      "text/plain": [
       "0.04307633755446834"
      ]
     },
     "execution_count": 11,
     "metadata": {},
     "output_type": "execute_result"
    }
   ],
   "source": [
    "surf_t = CoefficientFunction(1)\n",
    "surf_0 = Integrate(surf_t,mesh)\n",
    "\n",
    "def calc_surf():\n",
    "    return surf_t*dx-surf_0\n",
    "\n",
    "def calc_surf_inv():\n",
    "    return 1/(surf_t*dx)\n",
    "\n",
    "def calc_surf_diff():\n",
    "    return (surf_0 - surf_t*dx)**2\n",
    "\n",
    "1/Integrate(surf_t,mesh)"
   ]
  },
  {
   "cell_type": "markdown",
   "id": "762fa355",
   "metadata": {},
   "source": [
    "### try for barycenter <br>\n",
    "$vol(\\Omega) = \\int_{\\Omega} 1 \\,dx \\in \\mathbb{R}$ <br>\n",
    "von Hand abeleiten\n",
    "\n",
    "$bc^\\Omega = \\frac{1}{vol(\\Omega)}\\int_{\\Omega}x\\,dx \\in \\mathbb{R}^d$\n"
   ]
  },
  {
   "cell_type": "code",
   "execution_count": 12,
   "id": "a9cc83c5",
   "metadata": {},
   "outputs": [
    {
     "name": "stdout",
     "output_type": "stream",
     "text": [
      "-2.3687994282703518e-17\n",
      "2.3800082583725774e-17\n"
     ]
    }
   ],
   "source": [
    "#real calculation:\n",
    "print((1/Integrate(1,mesh))*Integrate(x,mesh))\n",
    "print((1/Integrate(1,mesh))*Integrate(y,mesh))"
   ]
  },
  {
   "cell_type": "code",
   "execution_count": 13,
   "id": "fccd2751",
   "metadata": {},
   "outputs": [
    {
     "name": "stdout",
     "output_type": "stream",
     "text": [
      "-2.3687994282703518e-17\n"
     ]
    },
    {
     "data": {
      "text/plain": [
       "-5.499073418846478e-16"
      ]
     },
     "execution_count": 13,
     "metadata": {},
     "output_type": "execute_result"
    }
   ],
   "source": [
    "bc_t = CoefficientFunction(x)\n",
    "bc_0 = 1/surf_0*Integrate(bc_t,mesh)\n",
    "print(bc_0)\n",
    "to = 1/CoefficientFunction(1)*CoefficientFunction(x)\n",
    "Integrate(to,mesh)"
   ]
  },
  {
   "cell_type": "code",
   "execution_count": 14,
   "id": "86f9b972",
   "metadata": {},
   "outputs": [],
   "source": [
    "bc_t = CoefficientFunction(x)\n",
    "bc_0 = 1/surf_0*Integrate(bc_t,mesh)\n",
    "\n",
    "def calc_bc():\n",
    "    return (calc_surf_inv()*(bc_t*dx))# - bc_0\n",
    "    #return bc_t*dx\n",
    "    \n",
    "def calc_bc_test():\n",
    "    return 1/CoefficientFunction(1)*dx*CoefficientFunction(x+y)*dx # does not work"
   ]
  },
  {
   "cell_type": "code",
   "execution_count": null,
   "id": "d7b375a2",
   "metadata": {},
   "outputs": [],
   "source": [
    "\n"
   ]
  },
  {
   "cell_type": "code",
   "execution_count": 15,
   "id": "f1ead8c0",
   "metadata": {},
   "outputs": [],
   "source": [
    "n = specialcf.normal(2)\n",
    "def DiffCost(gfu):\n",
    "    #return 100*div(gfset)**2*dx\n",
    "    return (CoefficientFunction((x,y))*n)**2*ds(definedon=\"cyl\")\n",
    "\n",
    "def Cost(u):\n",
    "    return (CoefficientFunction((x,y))*n)**2*ds(definedon=\"cyl\")\n",
    "\n",
    "def Volume():\n",
    "    return Integrate((CoefficientFunction((x,y))*n)**2*ds(definedon=\"cyl\"),mesh)\n"
   ]
  },
  {
   "cell_type": "markdown",
   "id": "4b1dfdce",
   "metadata": {},
   "source": [
    "## Adjoint equation try?\n",
    "maybe we dont even need this??"
   ]
  },
  {
   "cell_type": "markdown",
   "id": "ec63ec0f",
   "metadata": {},
   "source": [
    "* J hängt von u ab, u von omega\n",
    "* dJ nach u -> \"in Vektorfeldrichtung\" -> für jedes Vektorfeld ableiten\n",
    "* stattdessen adjoint -> 1x u und 1x omega\n",
    "* adjoint\n",
    "* Lagrangian du -> adjoint"
   ]
  },
  {
   "cell_type": "code",
   "execution_count": 16,
   "id": "40523790",
   "metadata": {},
   "outputs": [],
   "source": [
    "gfp = GridFunction(X)\n",
    "r, w = X.TnT()\n",
    "fadjoint = LinearForm(X)\n",
    "#fadjoint += -1*(Cost(gfu)).Diff(gfu,w)\n",
    "# add by hand derived formula for constant volume:\n",
    "fadjoint += -1*(DiffCost(gfu))"
   ]
  },
  {
   "cell_type": "code",
   "execution_count": 17,
   "id": "c6e2d022",
   "metadata": {},
   "outputs": [],
   "source": [
    "def SolveAdjointEquation():\n",
    "    rhs = gfp.vec.CreateVector()\n",
    "    rhs.data = fadjoint.vec - a.mat.T * gfp.vec\n",
    "    update = gfp.vec.CreateVector()\n",
    "    update.data = a.mat.Inverse(X.FreeDofs()).T * rhs\n",
    "    gfp.vec.data += update"
   ]
  },
  {
   "cell_type": "code",
   "execution_count": 18,
   "id": "8ec4ac7d",
   "metadata": {},
   "outputs": [
    {
     "data": {
      "application/vnd.jupyter.widget-view+json": {
       "model_id": "0577f53ee8924441838e38813227f821",
       "version_major": 2,
       "version_minor": 0
      },
      "text/plain": [
       "WebGuiWidget(value={'ngsolve_version': '6.2.2201', 'mesh_dim': 2, 'order2d': 2, 'order3d': 2, 'draw_vol': Fals…"
      ]
     },
     "metadata": {},
     "output_type": "display_data"
    },
    {
     "data": {
      "text/plain": [
       "BaseWebGuiScene"
      ]
     },
     "execution_count": 18,
     "metadata": {},
     "output_type": "execute_result"
    }
   ],
   "source": [
    "fadjoint.Assemble()\n",
    "SolveAdjointEquation()\n",
    "adjoint_sol = CoefficientFunction(gfp.components[0])\n",
    "Draw (adjoint_sol, mesh)"
   ]
  },
  {
   "cell_type": "markdown",
   "id": "33f473cc",
   "metadata": {},
   "source": [
    "### Shape derivative $\\mathrm{d}J(\\Omega)(\\mathbf{X}) = \\int_{\\Omega} \\mathbf{S}_1:D \\mathbf{X} dx$\n",
    "$S_1 = \\biggl(\\frac{1}{2}Du : Du - p div(u) \\biggr) I_2 + Du^T p - Du^T Du.$ <br>\n",
    "$\\mathrm{u}$ and $p$ are the solutions to the stokesflow problem<br>\n",
    "we use u = gfu[0], p = gfu[1]"
   ]
  },
  {
   "cell_type": "markdown",
   "id": "1b5ff792",
   "metadata": {},
   "source": [
    "# Auto shapediff try"
   ]
  },
  {
   "cell_type": "code",
   "execution_count": 19,
   "id": "2635ebba",
   "metadata": {},
   "outputs": [],
   "source": [
    "def J(u):\n",
    "    return 0.5*(InnerProduct(grad(u.components[0]),grad(u.components[0])))*dx # cost\n",
    "    #return (InnerProduct(grad(u.components[0]),grad(v.components[0]))+div(u.components[0])*v.components[1]+div(v.components[0])*u.components[1])*dx # stokes\n",
    "    #return (0.5*(InnerProduct(grad(u.components[0]),grad(u.components[0]))-v*div(u))*Id(2)+grad(u).trans*v-grad(u).trans*grad(u))*dx # shape derivative\n",
    "\n",
    "Lagrangian = J(gfu)  #DiffCost(gfu.components[0])  + Cost(gfu)"
   ]
  },
  {
   "cell_type": "code",
   "execution_count": 20,
   "id": "1ca75f8a",
   "metadata": {},
   "outputs": [],
   "source": [
    "dJOmega = LinearForm(VEC)\n",
    "dJOmega += Lagrangian.DiffShape(PSI)\n",
    "#dJOmega += 2*(Volume()-pi/4)*InnerProduct(n,PSI)*ds(definedon=\"cyl\") #dVolume\n",
    "#dJOmega += Equation(PHI,PSI)\n",
    "#dJOmega += DiffCost.DiffShape(PSI)\n",
    "\n",
    "b = BilinearForm(VEC)\n",
    "b += InnerProduct(grad(PSI),grad(PHI))*dx + InnerProduct(PSI,PHI)*dx\n",
    "\n",
    "# gfX = GridFunction(VEC)"
   ]
  },
  {
   "cell_type": "markdown",
   "id": "442891b7",
   "metadata": {},
   "source": [
    "## this basically just copy paste"
   ]
  },
  {
   "cell_type": "code",
   "execution_count": 21,
   "id": "305afadc",
   "metadata": {},
   "outputs": [],
   "source": [
    "def SolveDeformationEquation():\n",
    "    rhs = gfX.vec.CreateVector()\n",
    "    rhs.data = dJOmega.vec - b.mat * gfX.vec\n",
    "    update = gfX.vec.CreateVector()\n",
    "    update.data = b.mat.Inverse(VEC.FreeDofs()) * rhs\n",
    "    gfX.vec.data += update"
   ]
  },
  {
   "cell_type": "code",
   "execution_count": 22,
   "id": "522bc69d",
   "metadata": {},
   "outputs": [
    {
     "data": {
      "application/vnd.jupyter.widget-view+json": {
       "model_id": "6dd850961cf74ebda3d69cf57258f9a4",
       "version_major": 2,
       "version_minor": 0
      },
      "text/plain": [
       "WebGuiWidget(value={'ngsolve_version': '6.2.2201', 'mesh_dim': 2, 'order2d': 2, 'order3d': 2, 'draw_vol': Fals…"
      ]
     },
     "metadata": {},
     "output_type": "display_data"
    },
    {
     "data": {
      "text/plain": [
       "BaseWebGuiScene"
      ]
     },
     "execution_count": 22,
     "metadata": {},
     "output_type": "execute_result"
    }
   ],
   "source": [
    "b.Assemble()\n",
    "dJOmega.Assemble()\n",
    "SolveDeformationEquation()\n",
    "Draw(-gfX, mesh, \"-gfX\")"
   ]
  },
  {
   "cell_type": "code",
   "execution_count": 23,
   "id": "9c45043d",
   "metadata": {},
   "outputs": [
    {
     "name": "stdout",
     "output_type": "stream",
     "text": [
      "Cost at initial design 0.7853990296189934\n"
     ]
    }
   ],
   "source": [
    "print('Cost at initial design', Integrate (Cost(gfu), mesh))\n",
    "gfset.Set((0,0))\n",
    "scale = 0.5 / Norm(gfX.vec)\n",
    "gfset.vec.data -= scale * gfX.vec"
   ]
  },
  {
   "cell_type": "code",
   "execution_count": 24,
   "id": "e62b6121",
   "metadata": {},
   "outputs": [
    {
     "data": {
      "application/vnd.jupyter.widget-view+json": {
       "model_id": "0bf3b1fd9c5e4f2497e8609d7641c6e1",
       "version_major": 2,
       "version_minor": 0
      },
      "text/plain": [
       "WebGuiWidget(value={'ngsolve_version': '6.2.2201', 'mesh_dim': 2, 'order2d': 2, 'order3d': 2, 'draw_vol': Fals…"
      ]
     },
     "metadata": {},
     "output_type": "display_data"
    },
    {
     "name": "stdout",
     "output_type": "stream",
     "text": [
      "Cost at new design 0.5774458352662157\n"
     ]
    }
   ],
   "source": [
    "test_scene = Draw(gfset)\n",
    "mesh.SetDeformation(gfset)\n",
    "test_scene.Redraw()\n",
    "\n",
    "a.Assemble()\n",
    "fadjoint.Assemble()\n",
    "solveStokes()\n",
    "print('Cost at new design', Integrate (Cost(gfu), mesh))"
   ]
  },
  {
   "cell_type": "code",
   "execution_count": 25,
   "id": "d6c59f8d",
   "metadata": {},
   "outputs": [
    {
     "name": "stdout",
     "output_type": "stream",
     "text": [
      "Cost at new design 0.7853990296189934\n"
     ]
    }
   ],
   "source": [
    "#reset the design\n",
    "gfset.Set((0,0))\n",
    "mesh.SetDeformation(gfset)\n",
    "\n",
    "#check if initial value of cost function 0.000486578350214552 is recovered\n",
    "a.Assemble()\n",
    "fadjoint.Assemble()\n",
    "solveStokes()\n",
    "print('Cost at new design', Integrate (Cost(gfu), mesh))"
   ]
  },
  {
   "cell_type": "markdown",
   "id": "5a037661",
   "metadata": {},
   "source": [
    "# general idea: of iteration"
   ]
  },
  {
   "cell_type": "markdown",
   "id": "eb57414b",
   "metadata": {},
   "source": [
    "* solve solution\n",
    "* deform\n",
    "* calc cost after deform\n",
    "* look how cost changed -> armijo rule\n",
    "* abstieg: -gradient²"
   ]
  },
  {
   "cell_type": "code",
   "execution_count": 27,
   "id": "4a7cc66c",
   "metadata": {},
   "outputs": [
    {
     "data": {
      "application/vnd.jupyter.widget-view+json": {
       "model_id": "4b32dadd141f4d359523210339a66036",
       "version_major": 2,
       "version_minor": 0
      },
      "text/plain": [
       "WebGuiWidget(value={'ngsolve_version': '6.2.2201', 'mesh_dim': 2, 'order2d': 2, 'order3d': 2, 'draw_vol': Fals…"
      ]
     },
     "metadata": {},
     "output_type": "display_data"
    }
   ],
   "source": [
    "scene = Draw(gfset)"
   ]
  },
  {
   "cell_type": "code",
   "execution_count": 28,
   "id": "4219a2f6",
   "metadata": {},
   "outputs": [
    {
     "name": "stdout",
     "output_type": "stream",
     "text": [
      "cost at iteration 2 :  0.7853990296189934\n",
      "cost at iteration 0 :  0.7853990296189934\n",
      "volume iteration 0 :  0.7853990296189934\n",
      "cost at iteration 1 :  0.740093782438725\n",
      "volume iteration 1 :  0.740093782438725\n",
      "cost at iteration 2 :  0.6965783012250752\n",
      "volume iteration 2 :  0.6965783012250752\n",
      "cost at iteration 3 :  0.6549585275936112\n",
      "volume iteration 3 :  0.6549585275936112\n",
      "cost at iteration 4 :  0.6153230729682527\n",
      "volume iteration 4 :  0.6153230729682527\n",
      "cost at iteration 5 :  0.577734239856099\n",
      "volume iteration 5 :  0.577734239856099\n",
      "cost at iteration 6 :  0.5422215841909237\n",
      "volume iteration 6 :  0.5422215841909237\n",
      "cost at iteration 7 :  0.5087794048707024\n",
      "volume iteration 7 :  0.5087794048707024\n",
      "cost at iteration 8 :  0.47736842676430696\n",
      "volume iteration 8 :  0.47736842676430696\n",
      "cost at iteration 9 :  0.4479208481072295\n",
      "volume iteration 9 :  0.4479208481072295\n",
      "cost at iteration 10 :  0.4203473018180518\n",
      "volume iteration 10 :  0.4203473018180518\n"
     ]
    },
    {
     "ename": "KeyboardInterrupt",
     "evalue": "",
     "output_type": "error",
     "traceback": [
      "\u001b[0;31m---------------------------------------------------------------------------\u001b[0m",
      "\u001b[0;31mKeyboardInterrupt\u001b[0m                         Traceback (most recent call last)",
      "Input \u001b[0;32mIn [28]\u001b[0m, in \u001b[0;36m<module>\u001b[0;34m\u001b[0m\n\u001b[1;32m     32\u001b[0m SolveAdjointEquation()\n\u001b[1;32m     34\u001b[0m b\u001b[38;5;241m.\u001b[39mAssemble()\n\u001b[0;32m---> 35\u001b[0m \u001b[43mdJOmega\u001b[49m\u001b[38;5;241;43m.\u001b[39;49m\u001b[43mAssemble\u001b[49m\u001b[43m(\u001b[49m\u001b[43m)\u001b[49m\n\u001b[1;32m     36\u001b[0m SolveDeformationEquation()\n\u001b[1;32m     38\u001b[0m \u001b[38;5;66;03m#scale = 0.01 / Norm(gfX.vec)\u001b[39;00m\n",
      "\u001b[0;31mKeyboardInterrupt\u001b[0m: "
     ]
    }
   ],
   "source": [
    "gfset.Set((0,0))\n",
    "mesh.SetDeformation(gfset)\n",
    "scene.Redraw()\n",
    "a.Assemble()\n",
    "fadjoint.Assemble()\n",
    "solveStokes()\n",
    "\n",
    "LineSearch = False\n",
    "\n",
    "iter_max = 20\n",
    "Jold = Integrate(Cost(gfu), mesh)\n",
    "converged = False\n",
    "\n",
    "# try parts of loop\n",
    "mesh.SetDeformation(gfset)\n",
    "scene.Redraw()\n",
    "\n",
    "print('cost at iteration', k, ': ', Jold)\n",
    "    \n",
    "# input(\"Press enter to start optimization\")\n",
    "for k in range(iter_max):\n",
    "    mesh.SetDeformation(gfset)\n",
    "    scene.Redraw()\n",
    "    scene_state.Redraw()\n",
    "    \n",
    "    print('cost at iteration', k, ': ', Jold)\n",
    "    print('volume iteration', k, ': ', Volume())\n",
    "    a.Assemble()\n",
    "    solveStokes()\n",
    "    \n",
    "    fadjoint.Assemble()\n",
    "    SolveAdjointEquation()\n",
    "    \n",
    "    b.Assemble()\n",
    "    dJOmega.Assemble()\n",
    "    SolveDeformationEquation()\n",
    "\n",
    "    #scale = 0.01 / Norm(gfX.vec)\n",
    "    scale = 0.1 / Norm(gfX.vec)\n",
    "    gfsetOld = gfset\n",
    "    gfset.vec.data -= scale * gfX.vec\n",
    "    Jnew = Integrate(DiffCost(gfu), mesh)\n",
    "    \n",
    "    if LineSearch:\n",
    "        while Jnew > Jold and scale > 1e-12:\n",
    "            #input('a')\n",
    "            scale = scale / 2\n",
    "            print(\"scale = \", scale)\n",
    "            if scale <= 1e-12:\n",
    "                converged = True\n",
    "                break\n",
    "\n",
    "            gfset.vec.data = gfsetOld.vec - scale * gfX.vec\n",
    "            mesh.SetDeformation(gfset)\n",
    "            \n",
    "            a.Assemble()\n",
    "            solveStokes()\n",
    "            Jnew = Integrate(Cost(gfu), mesh)\n",
    "    \n",
    "    if converged==True:\n",
    "        print(\"No more descent can be found\")\n",
    "        break\n",
    "    Jold = Jnew\n",
    "\n",
    "    Redraw(blocking=True)"
   ]
  },
  {
   "cell_type": "code",
   "execution_count": null,
   "id": "c4a9f8b0",
   "metadata": {},
   "outputs": [],
   "source": []
  },
  {
   "cell_type": "code",
   "execution_count": null,
   "id": "3fb8c5c0",
   "metadata": {},
   "outputs": [],
   "source": []
  }
 ],
 "metadata": {
  "interpreter": {
   "hash": "916dbcbb3f70747c44a77c7bcd40155683ae19c65e1c03b4aa3499c5328201f1"
  },
  "kernelspec": {
   "display_name": "Python 3",
   "language": "python",
   "name": "python3"
  },
  "language_info": {
   "codemirror_mode": {
    "name": "ipython",
    "version": 3
   },
   "file_extension": ".py",
   "mimetype": "text/x-python",
   "name": "python",
   "nbconvert_exporter": "python",
   "pygments_lexer": "ipython3",
   "version": "3.9.10"
  }
 },
 "nbformat": 4,
 "nbformat_minor": 5
}
