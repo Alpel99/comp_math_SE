{
 "cells": [
  {
   "cell_type": "code",
   "execution_count": 1,
   "id": "c9277b01",
   "metadata": {
    "scrolled": true
   },
   "outputs": [],
   "source": [
    "from ngsolve import *\n",
    "from netgen.geom2d import SplineGeometry\n",
    "from ngsolve.webgui import Draw\n",
    "import copy"
   ]
  },
  {
   "cell_type": "markdown",
   "id": "86d0669d",
   "metadata": {},
   "source": [
    "setup geometry"
   ]
  },
  {
   "cell_type": "code",
   "execution_count": 2,
   "id": "8264c4cc",
   "metadata": {
    "scrolled": true
   },
   "outputs": [
    {
     "data": {
      "application/vnd.jupyter.widget-view+json": {
       "model_id": "4d37ad7d98784e899d495243141a4a83",
       "version_major": 2,
       "version_minor": 0
      },
      "text/plain": [
       "WebGuiWidget(value={'ngsolve_version': '6.2.2201', 'mesh_dim': 2, 'order2d': 2, 'order3d': 2, 'draw_vol': None…"
      ]
     },
     "metadata": {},
     "output_type": "display_data"
    },
    {
     "data": {
      "text/plain": [
       "BaseWebGuiScene"
      ]
     },
     "execution_count": 2,
     "metadata": {},
     "output_type": "execute_result"
    }
   ],
   "source": [
    "geo = SplineGeometry()\n",
    "geo.AddRectangle( (-3,-2), (3, 2), bcs = (\"top\", \"out\", \"bot\", \"in\"), leftdomain=1, rightdomain=0, maxh=0.4)\n",
    "geo.AddCircle(c=(0, 0), r=1, leftdomain=2, rightdomain=1, bc=\"outer_cylinder\", maxh=0.1)\n",
    "geo.AddCircle(c=(0, 0), r=0.5, leftdomain=0, rightdomain=2, bc=\"cyl\", maxh=0.04)\n",
    "geo.SetDomainMaxH(2, 0.08)\n",
    "mesh = Mesh(geo.GenerateMesh(maxh=0.4))\n",
    "mesh.Curve(5);\n",
    "\n",
    "geo_1 = SplineGeometry()\n",
    "geo_1.AddRectangle((0,0),(1,1))\n",
    "mesh_1 = Mesh(geo_1.GenerateMesh())\n",
    "Draw(mesh)"
   ]
  },
  {
   "cell_type": "markdown",
   "id": "a7d7c7b8",
   "metadata": {},
   "source": [
    "setup FEM space"
   ]
  },
  {
   "cell_type": "code",
   "execution_count": 3,
   "id": "d0910c65",
   "metadata": {
    "scrolled": true
   },
   "outputs": [],
   "source": [
    "# Order of spaces\n",
    "k = 4\n",
    "# H1 vs VectorH1 -> vector field?!\n",
    "V = H1(mesh,order=k, dirichlet=\"top|bot|cyl|in|out\")\n",
    "Q = H1(mesh,order=k-1)\n",
    "FES = FESpace([V,V,Q]) # [V,Q] (without VectorH1)"
   ]
  },
  {
   "cell_type": "markdown",
   "id": "06324b5e",
   "metadata": {},
   "source": [
    "setup bilinear form\n",
    "velocityfield u and pressurefield p"
   ]
  },
  {
   "cell_type": "code",
   "execution_count": 4,
   "id": "9304391f",
   "metadata": {
    "scrolled": true
   },
   "outputs": [
    {
     "data": {
      "text/plain": [
       "<ngsolve.comp.BilinearForm at 0x7f77f6efa5b0>"
      ]
     },
     "execution_count": 4,
     "metadata": {},
     "output_type": "execute_result"
    }
   ],
   "source": [
    "ux,uy,p = FES.TrialFunction()\n",
    "vx,vy,q = FES.TestFunction()\n",
    "\n",
    "# stokes equation\n",
    "def Equation(ux,uy,p,vx,vy,q):\n",
    "    div_u = grad(ux)[0]+grad(uy)[1] # custom div\n",
    "    div_v = grad(vx)[0]+grad(vy)[1]\n",
    "    return (grad(ux)*grad(vx)+grad(uy)*grad(vy) + div_u*q + div_v*p).Compile() * dx\n",
    "\n",
    "\n",
    "# (InnerProduct(grad(u),grad(v))+div(u)*q+div(v)*p)*dx\n",
    "a = BilinearForm(FES)\n",
    "a += Equation(ux,uy,p,vx,vy,q)\n",
    "a.Assemble()"
   ]
  },
  {
   "cell_type": "markdown",
   "id": "5a625f97",
   "metadata": {},
   "source": [
    "setup boundary conditions"
   ]
  },
  {
   "cell_type": "code",
   "execution_count": 5,
   "id": "55a5b535",
   "metadata": {
    "scrolled": false
   },
   "outputs": [
    {
     "data": {
      "application/vnd.jupyter.widget-view+json": {
       "model_id": "786d22bdade146c39f9b45f89dc87de0",
       "version_major": 2,
       "version_minor": 0
      },
      "text/plain": [
       "WebGuiWidget(value={'ngsolve_version': '6.2.2201', 'mesh_dim': 2, 'order2d': 2, 'order3d': 2, 'draw_vol': Fals…"
      ]
     },
     "metadata": {},
     "output_type": "display_data"
    }
   ],
   "source": [
    "gfu = GridFunction(FES)\n",
    "uinf = 0.001\n",
    "uin = CoefficientFunction((uinf))\n",
    "gfu.components[0].Set(uin, definedon=mesh.Boundaries(\"in|top|bot|out\"))\n",
    "\n",
    "x_velocity = CoefficientFunction(gfu.components[0])\n",
    "scene_state = Draw(x_velocity, mesh, \"vel\")"
   ]
  },
  {
   "cell_type": "markdown",
   "id": "1cc7db44",
   "metadata": {},
   "source": [
    "solve stokes"
   ]
  },
  {
   "cell_type": "code",
   "execution_count": 6,
   "id": "8376d727",
   "metadata": {
    "scrolled": true
   },
   "outputs": [],
   "source": [
    "def solveStokes():\n",
    "    res = gfu.vec.CreateVector()\n",
    "    res.data = -a.mat * gfu.vec\n",
    "    inv = a.mat.Inverse(FES.FreeDofs())\n",
    "    gfu.vec.data += inv * res\n",
    "    scene_state.Redraw()\n",
    "solveStokes()"
   ]
  },
  {
   "cell_type": "markdown",
   "id": "2ef93f57",
   "metadata": {},
   "source": [
    "# Calculations/Setup for all the side constraints"
   ]
  },
  {
   "cell_type": "markdown",
   "id": "5852ecf9",
   "metadata": {},
   "source": [
    "Drag/ \"dissipated energy\" [should be working]\n",
    "\n",
    "$J(\\Omega ) = \\frac{1}{2} \\int_\\Omega Du : Du dx$ "
   ]
  },
  {
   "cell_type": "code",
   "execution_count": 7,
   "id": "b48a5c46",
   "metadata": {
    "scrolled": true
   },
   "outputs": [],
   "source": [
    "def calc_drag(gfu):\n",
    "    ux = gfu.components[0]\n",
    "    uy = gfu.components[1]\n",
    "    return 0.5*(grad(ux)*grad(ux)+grad(uy)*grad(uy)).Compile()*dx"
   ]
  },
  {
   "cell_type": "markdown",
   "id": "4dd69093",
   "metadata": {},
   "source": [
    "### get surface area of mesh (main issue)\n",
    "$vol(\\Omega) = \\int_{\\Omega} 1 \\,dx \\in \\mathbb{R}$ should stay constant <br>\n",
    "entire area: $A = 6*4=24$ <br>\n",
    "$\\alpha\\Big(\\mathrm{Vol}(\\Omega(s))-\\mathrm{Vol}(\\Omega_0)\\Big)^2$"
   ]
  },
  {
   "cell_type": "code",
   "execution_count": 8,
   "id": "ed6aabd5",
   "metadata": {
    "scrolled": true
   },
   "outputs": [],
   "source": [
    "alpha = 1e-4\n",
    "surf_t = CoefficientFunction(1)\n",
    "surf_0 = Integrate(surf_t,mesh)\n",
    "\n",
    "def calc_surf_change():\n",
    "    return alpha*(surf_t*dx-surf_0)**2"
   ]
  },
  {
   "cell_type": "markdown",
   "id": "762fa355",
   "metadata": {},
   "source": [
    "### barycenter (not necessarily useful yet)\n",
    "$bc^\\Omega = \\frac{1}{vol(\\Omega)}\\int_{\\Omega}x\\,dx \\in \\mathbb{R}^d$ for each dimension!!"
   ]
  },
  {
   "cell_type": "code",
   "execution_count": 9,
   "id": "fccd2751",
   "metadata": {
    "scrolled": true
   },
   "outputs": [],
   "source": [
    "bc_tx = CoefficientFunction(x)\n",
    "bc_ty = CoefficientFunction(y)\n",
    "bc_0x = 1/surf_0*Integrate(bc_tx,mesh)\n",
    "bc_0y = 1/surf_0*Integrate(bc_ty,mesh)"
   ]
  },
  {
   "cell_type": "markdown",
   "id": "fb8b391a",
   "metadata": {},
   "source": [
    "bc_0 = (1/surf_0)*Integrate(bc_tx,mesh)\n",
    "\n",
    "def calc_bc_change():\n",
    "    return ((1/(surf_t*dx))*(bc_t*dx)- bc_0)"
   ]
  },
  {
   "cell_type": "code",
   "execution_count": 10,
   "id": "d7b375a2",
   "metadata": {
    "scrolled": true
   },
   "outputs": [],
   "source": [
    "def Cost(gfu):\n",
    "    return calc_drag(gfu) + calc_surf_change()# + calc_bc_change()"
   ]
  },
  {
   "cell_type": "markdown",
   "id": "eb55f1d1",
   "metadata": {},
   "source": [
    "# creation of Shapediff Space + pertubation Function\n",
    "function that will perturb our mesh"
   ]
  },
  {
   "cell_type": "code",
   "execution_count": 11,
   "id": "4a7b4f43",
   "metadata": {
    "scrolled": true
   },
   "outputs": [],
   "source": [
    "# Test and trial functions for shape derivate -> do we even need this?\n",
    "VEC = H1(mesh, order=2, dim=2, dirichlet=\"top|bot|in|out\")\n",
    "PHI, X = VEC.TnT()\n",
    "# gfset denotes the deformation of the original domain and will be updated during the shape optimization\n",
    "gfset = GridFunction(VEC)\n",
    "gfset.Set((0,0))\n",
    "mesh.SetDeformation(gfset)\n",
    "SetVisualization (deformation=True)\n",
    "\n",
    "# deformation calculation\n",
    "gfX = GridFunction(VEC)"
   ]
  },
  {
   "cell_type": "markdown",
   "id": "e73cb8a5",
   "metadata": {},
   "source": [
    "# Shape Optimization\n",
    "$\\min_{h,u,s} \\int_{\\Omega(s)} \\sum_{i,j=1}^2 \\left( \\frac{\\partial u_i}{\\partial x_j}\\right)^2~\\mathrm{d} x\n",
    " + \\alpha\\Big(\\mathrm{Vol}(\\Omega(s))-\\mathrm{Vol}(\\Omega_0)\\Big)^2\n",
    "+ \\beta\\sum_{j=1}^2 \\Big(\\mathrm{Bc}_j(\\Omega(s))-\\mathrm{Bc}_j(\\Omega_0)\\Big)^2,$\n",
    "\n",
    "$\\frac{1}{2} \\int_\\Omega Du : Du dx + \\alpha\\Big(\\mathrm{Vol}(\\Omega(s))-\\mathrm{Vol}(\\Omega_0)\\Big)^2\n",
    "+ \\beta\\sum_{j=1}^2 \\Big(\\mathrm{Bc}_j(\\Omega(s)) - \\mathrm{Bc}_j(\\Omega_0)\\Big)^2,$ (1)"
   ]
  },
  {
   "cell_type": "code",
   "execution_count": 12,
   "id": "2635ebba",
   "metadata": {
    "scrolled": false
   },
   "outputs": [],
   "source": [
    "ux = gfu.components[0]\n",
    "uy = gfu.components[1]\n",
    "p = gfu.components[2]\n",
    "\n",
    "vol = Parameter(1)\n",
    "vol.Set(Integrate(surf_t,mesh))\n",
    "\n",
    "Lagrangian = Equation(ux,uy,p,ux,uy,p) + calc_drag(gfu)"
   ]
  },
  {
   "cell_type": "code",
   "execution_count": 13,
   "id": "1ca75f8a",
   "metadata": {
    "scrolled": true
   },
   "outputs": [],
   "source": [
    "dJOmega = LinearForm(VEC)\n",
    "dJOmega += Lagrangian.DiffShape(X)\n",
    "\n",
    "# volume side constraint\n",
    "vol = Parameter(1)\n",
    "vol.Set(Integrate(surf_t,mesh))\n",
    "alpha0 = 1e-4\n",
    "alpha = Parameter(alpha0)\n",
    "dJOmega += ((alpha*((vol-surf_0)**2)*dx)).Compile().DiffShape(X) # (definedon=\"mesh_1\")\n",
    "\n",
    "# barycenter x sideconstraint\n",
    "beta0 = 1e-3\n",
    "beta = Parameter(beta0)\n",
    "bc_x = Parameter(1)\n",
    "bc_x.Set((1/surf_0)*Integrate(bc_tx,mesh))\n",
    "dJOmega += ((beta*((bc_x-bc_0x)**2)*dx)).Compile().DiffShape(X)\n",
    "\n",
    "# barycenter y sideconstraint\n",
    "bc_y = Parameter(1)\n",
    "bc_y.Set((1/surf_0)*Integrate(bc_ty,mesh))\n",
    "dJOmega += ((beta*((bc_y-bc_0y)**2)*dx)).Compile().DiffShape(X)\n",
    "\n",
    "b = BilinearForm(VEC)\n",
    "b += (InnerProduct(grad(X),grad(PHI))).Compile() *dx + (InnerProduct(X,PHI)).Compile()*dx"
   ]
  },
  {
   "cell_type": "code",
   "execution_count": 14,
   "id": "8919e855",
   "metadata": {
    "scrolled": true
   },
   "outputs": [],
   "source": [
    "def updateParams(v=False):\n",
    "    vol.Set(Integrate(surf_t,mesh))\n",
    "    bc_x.Set((1/surf_0)*Integrate(bc_tx,mesh))\n",
    "    bc_y.Set((1/surf_0)*Integrate(bc_ty,mesh))\n",
    "    if(v):\n",
    "        print(vol.Get(), bc_x.Get(), bc_y.Get())\n",
    "updateParams()\n",
    "\n",
    "def increaseParams(k=2,v=False):\n",
    "    alpha.Set(alpha.Get()*k)\n",
    "    beta.Set(beta.Get()*k)\n",
    "    if(v):\n",
    "        print(\"alpha: \", alpha.Get(), \", beta: \", beta.Get())"
   ]
  },
  {
   "cell_type": "markdown",
   "id": "442891b7",
   "metadata": {},
   "source": [
    "## this basically just copy paste"
   ]
  },
  {
   "cell_type": "code",
   "execution_count": 15,
   "id": "305afadc",
   "metadata": {
    "scrolled": true
   },
   "outputs": [],
   "source": [
    "def SolveDeformationEquation():\n",
    "    rhs = gfX.vec.CreateVector()\n",
    "    rhs.data = dJOmega.vec - b.mat * gfX.vec\n",
    "    update = gfX.vec.CreateVector()\n",
    "    update.data = b.mat.Inverse(VEC.FreeDofs()) * rhs\n",
    "    gfX.vec.data += update"
   ]
  },
  {
   "cell_type": "code",
   "execution_count": 16,
   "id": "4a7cc66c",
   "metadata": {
    "scrolled": true
   },
   "outputs": [
    {
     "data": {
      "application/vnd.jupyter.widget-view+json": {
       "model_id": "ebb315f0782e46a8a6751b27f4bdb852",
       "version_major": 2,
       "version_minor": 0
      },
      "text/plain": [
       "WebGuiWidget(value={'ngsolve_version': '6.2.2201', 'mesh_dim': 2, 'order2d': 2, 'order3d': 2, 'draw_vol': Fals…"
      ]
     },
     "metadata": {},
     "output_type": "display_data"
    }
   ],
   "source": [
    "scene = Draw(gfset)"
   ]
  },
  {
   "cell_type": "code",
   "execution_count": 17,
   "id": "4219a2f6",
   "metadata": {
    "scrolled": false
   },
   "outputs": [
    {
     "name": "stdout",
     "output_type": "stream",
     "text": [
      "drag at iteration 0 :  1.0988322233939566e-05\n",
      "drag at iteration 50 :  9.945642737492238e-06\n",
      "drag at iteration 100 :  9.427390258773258e-06\n"
     ]
    },
    {
     "ename": "KeyboardInterrupt",
     "evalue": "",
     "output_type": "error",
     "traceback": [
      "\u001b[0;31m---------------------------------------------------------------------------\u001b[0m",
      "\u001b[0;31mKeyboardInterrupt\u001b[0m                         Traceback (most recent call last)",
      "Input \u001b[0;32mIn [17]\u001b[0m, in \u001b[0;36m<module>\u001b[0;34m\u001b[0m\n\u001b[1;32m     36\u001b[0m data[\u001b[38;5;241m3\u001b[39m]\u001b[38;5;241m.\u001b[39mappend(bc_y\u001b[38;5;241m.\u001b[39mGet())\n\u001b[1;32m     38\u001b[0m a\u001b[38;5;241m.\u001b[39mAssemble()\n\u001b[0;32m---> 39\u001b[0m \u001b[43msolveStokes\u001b[49m\u001b[43m(\u001b[49m\u001b[43m)\u001b[49m\n\u001b[1;32m     41\u001b[0m b\u001b[38;5;241m.\u001b[39mAssemble()\n\u001b[1;32m     42\u001b[0m dJOmega\u001b[38;5;241m.\u001b[39mAssemble()\n",
      "Input \u001b[0;32mIn [6]\u001b[0m, in \u001b[0;36msolveStokes\u001b[0;34m()\u001b[0m\n\u001b[1;32m      2\u001b[0m res \u001b[38;5;241m=\u001b[39m gfu\u001b[38;5;241m.\u001b[39mvec\u001b[38;5;241m.\u001b[39mCreateVector()\n\u001b[1;32m      3\u001b[0m res\u001b[38;5;241m.\u001b[39mdata \u001b[38;5;241m=\u001b[39m \u001b[38;5;241m-\u001b[39ma\u001b[38;5;241m.\u001b[39mmat \u001b[38;5;241m*\u001b[39m gfu\u001b[38;5;241m.\u001b[39mvec\n\u001b[0;32m----> 4\u001b[0m inv \u001b[38;5;241m=\u001b[39m \u001b[43ma\u001b[49m\u001b[38;5;241;43m.\u001b[39;49m\u001b[43mmat\u001b[49m\u001b[38;5;241;43m.\u001b[39;49m\u001b[43mInverse\u001b[49m\u001b[43m(\u001b[49m\u001b[43mFES\u001b[49m\u001b[38;5;241;43m.\u001b[39;49m\u001b[43mFreeDofs\u001b[49m\u001b[43m(\u001b[49m\u001b[43m)\u001b[49m\u001b[43m)\u001b[49m\n\u001b[1;32m      5\u001b[0m gfu\u001b[38;5;241m.\u001b[39mvec\u001b[38;5;241m.\u001b[39mdata \u001b[38;5;241m+\u001b[39m\u001b[38;5;241m=\u001b[39m inv \u001b[38;5;241m*\u001b[39m res\n\u001b[1;32m      6\u001b[0m scene_state\u001b[38;5;241m.\u001b[39mRedraw()\n",
      "\u001b[0;31mKeyboardInterrupt\u001b[0m: "
     ]
    }
   ],
   "source": [
    "gfset.Set((0,0))\n",
    "mesh.SetDeformation(gfset)\n",
    "scene.Redraw()\n",
    "\n",
    "updateParams()\n",
    "alpha0 = 5e-3\n",
    "beta0 = 5e-3\n",
    "alpha.Set(alpha0)\n",
    "beta.Set(beta0)\n",
    "\n",
    "a.Assemble()\n",
    "solveStokes()\n",
    "\n",
    "data = [[] for x in range(6)]\n",
    "\n",
    "iter_max = 300\n",
    "Jold = Integrate(calc_drag(gfu), mesh)\n",
    "\n",
    "# try parts of loop\n",
    "mesh.SetDeformation(gfset)\n",
    "scene.Redraw()\n",
    "\n",
    "# input(\"Press enter to start optimization\")\n",
    "for i in range(0,iter_max):\n",
    "    mesh.SetDeformation(gfset)\n",
    "    scene.Redraw()\n",
    "    scene_state.Redraw()\n",
    "    \n",
    "    if i%50 == 0:\n",
    "        print('drag at iteration', i, ': ', Jold)\n",
    "        \n",
    "    titles = [\"drag\",\"volume\",\"bc_x\",\"bc_y\",\"scale\",\"gfxnorm\"] # collecting data\n",
    "    data[0].append(Integrate(calc_drag(gfu),mesh))\n",
    "    data[1].append(vol.Get())\n",
    "    data[2].append(bc_x.Get())\n",
    "    data[3].append(bc_y.Get())\n",
    "    \n",
    "    a.Assemble()\n",
    "    solveStokes()\n",
    "    \n",
    "    b.Assemble()\n",
    "    dJOmega.Assemble()\n",
    "    SolveDeformationEquation()\n",
    "    updateParams()\n",
    "    \n",
    "    Jnew = Integrate(calc_drag(gfu), mesh)\n",
    "    mesh.UnsetDeformation()\n",
    "    \n",
    "    gfxnorm = Norm(gfX.vec)\n",
    "    \n",
    "    #scale = 0.1 / Norm(gfX.vec)\n",
    "    scale = 0.01 / gfxnorm\n",
    "    data[4].append(scale)\n",
    "    jdiff = abs(Jnew-Jold)\n",
    "    data[5].append(gfxnorm)\n",
    "    \n",
    "    if(gfxnorm < 1e-5):\n",
    "        if alpha.Get() < 1:\n",
    "            increaseParams(2,True)\n",
    "        else:\n",
    "            print(\"alpha too big\")\n",
    "            break\n",
    "            \n",
    "    gfsetOld = gfset\n",
    "    gfset.vec.data -= scale * gfX.vec\n",
    "    Jold = Jnew\n",
    "\n",
    "    Redraw(blocking=True)"
   ]
  },
  {
   "cell_type": "code",
   "execution_count": null,
   "id": "c4a9f8b0",
   "metadata": {
    "scrolled": false
   },
   "outputs": [],
   "source": [
    "import matplotlib.pyplot as plt\n",
    "plt.rcParams['figure.dpi'] = 150\n",
    "c = 0\n",
    "for e in data:\n",
    "    plt.figure(c)\n",
    "    plt.title(titles[c])\n",
    "    plt.plot(range(len(e)),e)\n",
    "    c += 1"
   ]
  },
  {
   "cell_type": "code",
   "execution_count": null,
   "id": "1350e4bf",
   "metadata": {},
   "outputs": [],
   "source": []
  }
 ],
 "metadata": {
  "interpreter": {
   "hash": "916dbcbb3f70747c44a77c7bcd40155683ae19c65e1c03b4aa3499c5328201f1"
  },
  "kernelspec": {
   "display_name": "Python 3",
   "language": "python",
   "name": "python3"
  },
  "language_info": {
   "codemirror_mode": {
    "name": "ipython",
    "version": 3
   },
   "file_extension": ".py",
   "mimetype": "text/x-python",
   "name": "python",
   "nbconvert_exporter": "python",
   "pygments_lexer": "ipython3",
   "version": "3.9.10"
  }
 },
 "nbformat": 4,
 "nbformat_minor": 5
}
