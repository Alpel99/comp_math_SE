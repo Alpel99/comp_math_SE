{
 "cells": [
  {
   "cell_type": "code",
   "execution_count": 37,
   "id": "9bbc760d",
   "metadata": {},
   "outputs": [],
   "source": [
    "from ngsolve import *\n",
    "from netgen.geom2d import SplineGeometry\n",
    "from ngsolve.webgui import Draw"
   ]
  },
  {
   "cell_type": "code",
   "execution_count": 38,
   "id": "f600dfea",
   "metadata": {},
   "outputs": [
    {
     "data": {
      "application/vnd.jupyter.widget-view+json": {
       "model_id": "35fa7bef0a1b4aab8ec1b50d7967a75b",
       "version_major": 2,
       "version_minor": 0
      },
      "text/plain": [
       "WebGuiWidget(value={'ngsolve_version': '6.2.2201', 'mesh_dim': 2, 'order2d': 2, 'order3d': 2, 'draw_vol': None…"
      ]
     },
     "metadata": {},
     "output_type": "display_data"
    }
   ],
   "source": [
    "geo = SplineGeometry()\n",
    "m = 0.6\n",
    "geo.AddCircle(c=(0, 0), r=1, bc=\"cyl\", maxh=m) # 0.04\n",
    "mesh = Mesh(geo.GenerateMesh(maxh=m))\n",
    "mesh2 = Mesh(geo.GenerateMesh(maxh=m))\n",
    "mesh.Curve(3);\n",
    "mesh2.Curve(3)\n",
    "scene1 = Draw(mesh)"
   ]
  },
  {
   "cell_type": "code",
   "execution_count": 39,
   "id": "4dd25961",
   "metadata": {},
   "outputs": [],
   "source": [
    "# vector space for shape gradient\n",
    "VEC = H1(mesh, order=1, dim=2)\n",
    "# Test and trial functions\n",
    "PHI, X = VEC.TnT()\n",
    "gfX = GridFunction(VEC)"
   ]
  },
  {
   "cell_type": "code",
   "execution_count": 40,
   "id": "ed57e5f9",
   "metadata": {},
   "outputs": [],
   "source": [
    "surf_t = CoefficientFunction(1)\n",
    "surf_0 = Integrate(surf_t,mesh)\n",
    "\n",
    "dJOmega  = LinearForm(VEC)\n",
    "vol = Parameter(1)\n",
    "vol.Set(Integrate(surf_t,mesh))\n",
    "alpha0 = 1\n",
    "alpha = Parameter(alpha0)\n",
    "#dJOmega += ((alpha*((vol-surf_0)**2)*dx)).DiffShape(X) # (definedon=\"mesh_1\")\n",
    "dJOmega += ((2*alpha*((vol-surf_0))*vol)*dx).DiffShape(X)\n",
    "# vol-surf_0 = 1*dx() - zahl\n",
    "# dJOmega += (surf_t*dx(definedon=\"mesh\")-surf_t*dx(definedon=\"mesh2\"))*((div(X))*dx)\n",
    "# dJOmega += (surf_t*dx(definedon=\"mesh\")-Parameter(surf_0))*((div(X))*dx)\n",
    "#dJOmega += CoefficientFunction((x*y)).DiffShape(PSI)*dx"
   ]
  },
  {
   "cell_type": "code",
   "execution_count": 41,
   "id": "c341a59d",
   "metadata": {},
   "outputs": [
    {
     "name": "stdout",
     "output_type": "stream",
     "text": [
      "3.1417066211235207\n",
      "       0\n",
      "      0\n",
      "\n",
      "       0\n",
      "      0\n",
      "\n",
      "       0\n",
      "      0\n",
      "\n",
      "       0\n",
      "      0\n",
      "\n",
      "       0\n",
      "      0\n",
      "\n",
      "\n"
     ]
    }
   ],
   "source": [
    "dJOmega.Assemble()\n",
    "print(surf_0)\n",
    "print(dJOmega.vec[0:5])"
   ]
  },
  {
   "cell_type": "code",
   "execution_count": 42,
   "id": "87f96858",
   "metadata": {
    "scrolled": true
   },
   "outputs": [
    {
     "data": {
      "application/vnd.jupyter.widget-view+json": {
       "model_id": "2b06e7683f8c463caea4624d8d2f13c0",
       "version_major": 2,
       "version_minor": 0
      },
      "text/plain": [
       "WebGuiWidget(value={'ngsolve_version': '6.2.2201', 'mesh_dim': 2, 'order2d': 2, 'order3d': 2, 'draw_vol': None…"
      ]
     },
     "metadata": {},
     "output_type": "display_data"
    },
    {
     "data": {
      "text/plain": [
       "BaseWebGuiScene"
      ]
     },
     "execution_count": 42,
     "metadata": {},
     "output_type": "execute_result"
    }
   ],
   "source": [
    "test = CoefficientFunction((2*x,0.5*x))\n",
    "gfX.Set(test)\n",
    "mesh.SetDeformation(gfX)\n",
    "Draw(mesh)"
   ]
  },
  {
   "cell_type": "code",
   "execution_count": 43,
   "id": "d00cb53a",
   "metadata": {
    "scrolled": true
   },
   "outputs": [
    {
     "name": "stdout",
     "output_type": "stream",
     "text": [
      "9.452133423394868\n",
      "6.310426802271347\n",
      "  30.299\n",
      " -180.824\n",
      "\n",
      "  59.6283\n",
      " 8.22729e-14\n",
      "\n",
      "  -30.299\n",
      " 180.824\n",
      "\n",
      "  -59.6283\n",
      " -8.34491e-14\n",
      "\n",
      "  57.4223\n",
      " -160.421\n",
      "\n",
      "  68.9504\n",
      " -92.2063\n",
      "\n",
      "  38.2028\n",
      " 92.2063\n",
      "\n",
      "  3.99998\n",
      " 160.421\n",
      "\n",
      "  -57.4223\n",
      " 160.421\n",
      "\n",
      "  -68.9504\n",
      " 92.2063\n",
      "\n",
      "  -38.2028\n",
      " -92.2063\n",
      "\n",
      "  -3.99998\n",
      " -160.421\n",
      "\n",
      "  -3.55271e-15\n",
      " 1.42109e-14\n",
      "\n",
      "       0\n",
      " 1.42109e-14\n",
      "\n",
      "  -7.10543e-15\n",
      " -2.34257e-14\n",
      "\n",
      "  2.88658e-15\n",
      " 1.42109e-14\n",
      "\n",
      "  1.42109e-14\n",
      " 9.4369e-15\n",
      "\n",
      "  -1.70974e-14\n",
      "      0\n",
      "\n",
      "       0\n",
      " -1.42109e-14\n",
      "\n",
      "\n"
     ]
    }
   ],
   "source": [
    "vol.Set(Integrate(surf_t,mesh))\n",
    "dJOmega.Assemble()\n",
    "print(vol.Get())\n",
    "print(abs(surf_0-vol.Get()))\n",
    "print(dJOmega.vec)"
   ]
  }
 ],
 "metadata": {
  "kernelspec": {
   "display_name": "Python 3",
   "language": "python",
   "name": "python3"
  },
  "language_info": {
   "codemirror_mode": {
    "name": "ipython",
    "version": 3
   },
   "file_extension": ".py",
   "mimetype": "text/x-python",
   "name": "python",
   "nbconvert_exporter": "python",
   "pygments_lexer": "ipython3",
   "version": "3.9.10"
  }
 },
 "nbformat": 4,
 "nbformat_minor": 5
}
