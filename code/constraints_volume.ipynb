{
 "cells": [
  {
   "cell_type": "code",
   "execution_count": 32,
   "id": "9bbc760d",
   "metadata": {},
   "outputs": [],
   "source": [
    "from ngsolve import *\n",
    "from netgen.geom2d import SplineGeometry\n",
    "from ngsolve.webgui import Draw"
   ]
  },
  {
   "cell_type": "code",
   "execution_count": 33,
   "id": "f600dfea",
   "metadata": {},
   "outputs": [
    {
     "data": {
      "application/vnd.jupyter.widget-view+json": {
       "model_id": "d6fe36f5e0ab4365a9b645859154b5eb",
       "version_major": 2,
       "version_minor": 0
      },
      "text/plain": [
       "WebGuiWidget(value={'ngsolve_version': '6.2.2201', 'mesh_dim': 2, 'order2d': 2, 'order3d': 2, 'draw_vol': None…"
      ]
     },
     "metadata": {},
     "output_type": "display_data"
    }
   ],
   "source": [
    "geo = SplineGeometry()\n",
    "m = 0.6\n",
    "geo.AddCircle(c=(0, 0), r=1, bc=\"cyl\", maxh=m) # 0.04\n",
    "mesh = Mesh(geo.GenerateMesh(maxh=m))\n",
    "mesh2 = Mesh(geo.GenerateMesh(maxh=m))\n",
    "mesh.Curve(3);\n",
    "mesh2.Curve(3)\n",
    "scene1 = Draw(mesh)"
   ]
  },
  {
   "cell_type": "code",
   "execution_count": 34,
   "id": "4dd25961",
   "metadata": {},
   "outputs": [],
   "source": [
    "# vector space for shape gradient\n",
    "VEC = H1(mesh, order=1, dim=2)\n",
    "# Test and trial functions\n",
    "PHI, X = VEC.TnT()\n",
    "gfX = GridFunction(VEC)\n",
    "t = GridFunction(VEC)"
   ]
  },
  {
   "cell_type": "code",
   "execution_count": 35,
   "id": "ed57e5f9",
   "metadata": {},
   "outputs": [],
   "source": [
    "surf_t = CoefficientFunction(1)\n",
    "surf_0 = Integrate(surf_t,mesh)\n",
    "# different try\n",
    "#surf_0 = 4\n",
    "\n",
    "dJOmega  = LinearForm(VEC)\n",
    "vol = Parameter(1)\n",
    "vol.Set(Integrate(surf_t,mesh))\n",
    "alpha0 = 1\n",
    "alpha = Parameter(alpha0)\n",
    "dJOmega += ((alpha*((vol-surf_0)**2)*dx)).DiffShape(X) # (definedon=\"mesh_1\")\n",
    "#dJOmega += ((2*alpha*((vol-surf_0))*vol)*dx).DiffShape(X)\n",
    "# vol-surf_0 = 1*dx() - zahl\n",
    "# dJOmega += (surf_t*dx(definedon=\"mesh\")-surf_t*dx(definedon=\"mesh2\"))*((div(X))*dx)\n",
    "# dJOmega += (surf_t*dx(definedon=\"mesh\")-Parameter(surf_0))*((div(X))*dx)\n",
    "#dJOmega += CoefficientFunction((x*y)).DiffShape(PSI)*dx"
   ]
  },
  {
   "cell_type": "code",
   "execution_count": 36,
   "id": "c341a59d",
   "metadata": {
    "scrolled": false
   },
   "outputs": [
    {
     "name": "stdout",
     "output_type": "stream",
     "text": [
      "3.1417066211235207\n",
      "       0\n",
      "      0\n",
      "\n",
      "       0\n",
      "      0\n",
      "\n",
      "       0\n",
      "      0\n",
      "\n",
      "       0\n",
      "      0\n",
      "\n",
      "       0\n",
      "      0\n",
      "\n",
      "\n"
     ]
    }
   ],
   "source": [
    "dJOmega.Assemble()\n",
    "print(surf_0)\n",
    "print(dJOmega.vec[0:5])"
   ]
  },
  {
   "cell_type": "code",
   "execution_count": 37,
   "id": "87f96858",
   "metadata": {},
   "outputs": [
    {
     "data": {
      "application/vnd.jupyter.widget-view+json": {
       "model_id": "7e44021beba243f38591ba227cbe8f57",
       "version_major": 2,
       "version_minor": 0
      },
      "text/plain": [
       "WebGuiWidget(value={'ngsolve_version': '6.2.2201', 'mesh_dim': 2, 'order2d': 2, 'order3d': 2, 'draw_vol': None…"
      ]
     },
     "metadata": {},
     "output_type": "display_data"
    }
   ],
   "source": [
    "mesh.UnsetDeformation()\n",
    "test = CoefficientFunction((2*x,0.5*x))\n",
    "t.Set(test)\n",
    "mesh.SetDeformation(t)\n",
    "scene = Draw(mesh)"
   ]
  },
  {
   "cell_type": "code",
   "execution_count": 38,
   "id": "d00cb53a",
   "metadata": {
    "scrolled": true
   },
   "outputs": [
    {
     "name": "stdout",
     "output_type": "stream",
     "text": [
      "9.452133423394868\n",
      "6.310426802271347\n",
      "  10.1141\n",
      " -60.3608\n",
      "\n",
      "  19.9045\n",
      " -3.46939e-15\n",
      "\n",
      "  -10.1141\n",
      " 60.3608\n",
      "\n",
      "  -19.9045\n",
      " -5.45679e-15\n",
      "\n",
      "  19.1681\n",
      " -53.5502\n",
      "\n",
      "  23.0163\n",
      " -30.7793\n",
      "\n",
      "  12.7525\n",
      " 30.7793\n",
      "\n",
      "  1.33523\n",
      " 53.5502\n",
      "\n",
      "  -19.1681\n",
      " 53.5502\n",
      "\n",
      "  -23.0163\n",
      " 30.7793\n",
      "\n",
      "  -12.7525\n",
      " -30.7793\n",
      "\n",
      "  -1.33523\n",
      " -53.5502\n",
      "\n",
      "  -5.32907e-15\n",
      " 7.10543e-15\n",
      "\n",
      "  -3.55271e-15\n",
      "      0\n",
      "\n",
      "       0\n",
      " -8.60423e-15\n",
      "\n",
      "  4.66294e-15\n",
      " 7.10543e-15\n",
      "\n",
      "  3.55271e-15\n",
      " -5.60663e-15\n",
      "\n",
      "  2.44249e-15\n",
      " 7.10543e-15\n",
      "\n",
      "  5.32907e-15\n",
      " -1.42109e-14\n",
      "\n",
      "\n"
     ]
    }
   ],
   "source": [
    "vol.Set(Integrate(surf_t,mesh))\n",
    "dJOmega.Assemble()\n",
    "print(vol.Get())\n",
    "print(abs(surf_0-vol.Get()))\n",
    "print(dJOmega.vec)"
   ]
  },
  {
   "cell_type": "markdown",
   "id": "0cfccaa4",
   "metadata": {},
   "source": [
    "## try to do this as shape optimization"
   ]
  },
  {
   "cell_type": "code",
   "execution_count": 48,
   "id": "5e557d90",
   "metadata": {},
   "outputs": [],
   "source": [
    "# don't use 2 deformations, just set surf_0 to something else, let's see if we get there:\n",
    "mesh.UnsetDeformation()\n",
    "surf_0 = 10\n",
    "\n",
    "gfset = GridFunction(VEC)\n",
    "\n",
    "dJOmega2 = LinearForm(VEC)\n",
    "# this one doesn't work here\n",
    "#dJOmega2 += ((alpha*((vol-surf_0)**2)*dx)).DiffShape(X) # (definedon=\"mesh_1\")\n",
    "# this one does work\n",
    "#dJOmega2 += ((2*alpha*((vol-surf_0))*vol)*dx).DiffShape(X)\n",
    "# this one works aswell:\n",
    "dJOmega2 += ((2*alpha*((vol-surf_0))*(vol)*dx)).DiffShape(X)\n",
    "\n",
    "\n",
    "\n",
    "b = BilinearForm(VEC)\n",
    "b += (InnerProduct(grad(X),grad(PHI))).Compile() *dx + (InnerProduct(X,PHI)).Compile()*dx\n",
    "\n",
    "def SolveDeformationEquation():\n",
    "    rhs = gfX.vec.CreateVector()\n",
    "    rhs.data = dJOmega2.vec - b.mat * gfX.vec\n",
    "    update = gfX.vec.CreateVector()\n",
    "    update.data = b.mat.Inverse(VEC.FreeDofs()) * rhs\n",
    "    gfX.vec.data += update"
   ]
  },
  {
   "cell_type": "code",
   "execution_count": 49,
   "id": "2b30447e",
   "metadata": {},
   "outputs": [
    {
     "data": {
      "text/plain": [
       "3.1417066211235207"
      ]
     },
     "execution_count": 49,
     "metadata": {},
     "output_type": "execute_result"
    }
   ],
   "source": [
    "# volume before\n",
    "Integrate(surf_t,mesh)"
   ]
  },
  {
   "cell_type": "code",
   "execution_count": 50,
   "id": "41bcf01f",
   "metadata": {
    "scrolled": false
   },
   "outputs": [
    {
     "name": "stdout",
     "output_type": "stream",
     "text": [
      "3.1417066211235207\n",
      "3.3117426307357003\n",
      "3.4863942872430136\n",
      "3.6656740854858905\n",
      "3.849594636215097\n",
      "4.0381686511821675\n",
      "4.231408928033909\n",
      "4.429328335033572\n",
      "4.631939795632392\n",
      "4.839256272916322\n",
      "5.051290753953879\n",
      "5.268056234072002\n",
      "5.489565701087749\n",
      "5.715832119524542\n",
      "5.946868414842416\n",
      "6.182687457712414\n",
      "6.423302048365796\n",
      "6.668724901049226\n",
      "6.918968628617404\n",
      "7.174045727294831\n",
      "7.4339685616384354\n",
      "7.698749349732768\n",
      "7.968400148649279\n",
      "8.242932840200732\n",
      "8.522359117021505\n",
      "8.806690469003739\n",
      "9.095938170118576\n",
      "9.390113265650811\n",
      "9.689226559874259\n",
      "9.993288604193808\n",
      "10.302309685779035\n",
      "9.993030728456034\n",
      "10.302043915104107\n",
      "9.992772790806216\n",
      "10.301778080339393\n"
     ]
    }
   ],
   "source": [
    "import time\n",
    "\n",
    "gfset.Set((0,0))\n",
    "mesh.SetDeformation(gfset)\n",
    "scene.Redraw()\n",
    "iter_max = 35\n",
    "\n",
    "for i in range(0,iter_max):\n",
    "    mesh.SetDeformation(gfset)\n",
    "    scene.Redraw()\n",
    "    \n",
    "    b.Assemble()\n",
    "    vol.Set(Integrate(surf_t,mesh)) # needed for multiple iterations (already done once before)\n",
    "    dJOmega2.Assemble()\n",
    "    SolveDeformationEquation()\n",
    "    \n",
    "    print(Integrate(surf_t,mesh))\n",
    "    mesh.UnsetDeformation()\n",
    "    \n",
    "    gfxnorm = Norm(gfX.vec)\n",
    "    scale = 0.1 / gfxnorm\n",
    "    gfset.vec.data -= scale * gfX.vec\n",
    "    time.sleep(0.3)"
   ]
  },
  {
   "cell_type": "code",
   "execution_count": 51,
   "id": "119110c6",
   "metadata": {
    "scrolled": false
   },
   "outputs": [
    {
     "data": {
      "text/plain": [
       "9.992514791248553"
      ]
     },
     "execution_count": 51,
     "metadata": {},
     "output_type": "execute_result"
    }
   ],
   "source": [
    "# volume after\n",
    "mesh.SetDeformation(gfset)\n",
    "Integrate(surf_t,mesh)"
   ]
  },
  {
   "cell_type": "code",
   "execution_count": null,
   "id": "cf993cfb",
   "metadata": {},
   "outputs": [],
   "source": []
  }
 ],
 "metadata": {
  "kernelspec": {
   "display_name": "Python 3 (ipykernel)",
   "language": "python",
   "name": "python3"
  },
  "language_info": {
   "codemirror_mode": {
    "name": "ipython",
    "version": 3
   },
   "file_extension": ".py",
   "mimetype": "text/x-python",
   "name": "python",
   "nbconvert_exporter": "python",
   "pygments_lexer": "ipython3",
   "version": "3.10.1"
  }
 },
 "nbformat": 4,
 "nbformat_minor": 5
}
