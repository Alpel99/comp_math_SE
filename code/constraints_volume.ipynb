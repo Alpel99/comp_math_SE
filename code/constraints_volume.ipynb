{
 "cells": [
  {
   "cell_type": "code",
   "execution_count": 1,
   "id": "9bbc760d",
   "metadata": {},
   "outputs": [],
   "source": [
    "from ngsolve import *\n",
    "from netgen.geom2d import SplineGeometry\n",
    "from ngsolve.webgui import Draw"
   ]
  },
  {
   "cell_type": "code",
   "execution_count": 2,
   "id": "f600dfea",
   "metadata": {},
   "outputs": [
    {
     "data": {
      "application/vnd.jupyter.widget-view+json": {
       "model_id": "4bef161096a8431cab617e3145cd42e9",
       "version_major": 2,
       "version_minor": 0
      },
      "text/plain": [
       "WebGuiWidget(value={'ngsolve_version': '6.2.2201', 'mesh_dim': 2, 'order2d': 2, 'order3d': 2, 'draw_vol': None…"
      ]
     },
     "metadata": {},
     "output_type": "display_data"
    }
   ],
   "source": [
    "geo = SplineGeometry()\n",
    "m = 0.6\n",
    "geo.AddCircle(c=(0, 0), r=1, bc=\"cyl\", maxh=m) # 0.04\n",
    "mesh = Mesh(geo.GenerateMesh(maxh=m))\n",
    "mesh2 = Mesh(geo.GenerateMesh(maxh=m))\n",
    "mesh.Curve(3);\n",
    "mesh2.Curve(3)\n",
    "scene1 = Draw(mesh)"
   ]
  },
  {
   "cell_type": "code",
   "execution_count": 3,
   "id": "4dd25961",
   "metadata": {},
   "outputs": [],
   "source": [
    "# vector space for shape gradient\n",
    "VEC = H1(mesh, order=1, dim=2)\n",
    "# Test and trial functions\n",
    "PHI, X = VEC.TnT()\n",
    "gfX = GridFunction(VEC)"
   ]
  },
  {
   "cell_type": "code",
   "execution_count": 4,
   "id": "ed57e5f9",
   "metadata": {},
   "outputs": [],
   "source": [
    "surf_t = CoefficientFunction(1)\n",
    "surf_0 = Integrate(surf_t,mesh)\n",
    "\n",
    "dJOmega  = LinearForm(VEC)\n",
    "vol = Parameter(1)\n",
    "vol.Set(Integrate(surf_t,mesh))\n",
    "alpha0 = 1\n",
    "alpha = Parameter(alpha0)\n",
    "#dJOmega += ((alpha*((vol-surf_0)**2)*dx)).DiffShape(X) # (definedon=\"mesh_1\")\n",
    "dJOmega += ((2*alpha*((vol-surf_0))*vol)*dx).DiffShape(X)\n",
    "# vol-surf_0 = 1*dx() - zahl\n",
    "# dJOmega += (surf_t*dx(definedon=\"mesh\")-surf_t*dx(definedon=\"mesh2\"))*((div(X))*dx)\n",
    "# dJOmega += (surf_t*dx(definedon=\"mesh\")-Parameter(surf_0))*((div(X))*dx)\n",
    "#dJOmega += CoefficientFunction((x*y)).DiffShape(PSI)*dx"
   ]
  },
  {
   "cell_type": "code",
   "execution_count": 5,
   "id": "c341a59d",
   "metadata": {},
   "outputs": [
    {
     "name": "stdout",
     "output_type": "stream",
     "text": [
      "3.1417066211235207\n",
      "       0\n",
      "      0\n",
      "\n",
      "       0\n",
      "      0\n",
      "\n",
      "       0\n",
      "      0\n",
      "\n",
      "       0\n",
      "      0\n",
      "\n",
      "       0\n",
      "      0\n",
      "\n",
      "\n"
     ]
    }
   ],
   "source": [
    "dJOmega.Assemble()\n",
    "print(surf_0)\n",
    "print(dJOmega.vec[0:5])"
   ]
  },
  {
   "cell_type": "code",
   "execution_count": 6,
   "id": "87f96858",
   "metadata": {},
   "outputs": [
    {
     "data": {
      "application/vnd.jupyter.widget-view+json": {
       "model_id": "5711d09a2b7a4ecdb1975d64b4359981",
       "version_major": 2,
       "version_minor": 0
      },
      "text/plain": [
       "WebGuiWidget(value={'ngsolve_version': '6.2.2201', 'mesh_dim': 2, 'order2d': 2, 'order3d': 2, 'draw_vol': None…"
      ]
     },
     "metadata": {},
     "output_type": "display_data"
    }
   ],
   "source": [
    "mesh.UnsetDeformation()\n",
    "test = CoefficientFunction((2*x,0.5*x))\n",
    "gfX.Set(test)\n",
    "mesh.SetDeformation(gfX)\n",
    "scene = Draw(mesh)"
   ]
  },
  {
   "cell_type": "code",
   "execution_count": 7,
   "id": "d00cb53a",
   "metadata": {
    "scrolled": false
   },
   "outputs": [
    {
     "name": "stdout",
     "output_type": "stream",
     "text": [
      "9.452133423394868\n",
      "6.310426802271347\n",
      "  30.299\n",
      " -180.824\n",
      "\n",
      "  59.6283\n",
      " -8.6476e-15\n",
      "\n",
      "  -30.299\n",
      " 180.824\n",
      "\n",
      "  -59.6283\n",
      " -3.65391e-14\n",
      "\n",
      "  57.4223\n",
      " -160.421\n",
      "\n",
      "  68.9504\n",
      " -92.2063\n",
      "\n",
      "  38.2028\n",
      " 92.2063\n",
      "\n",
      "  3.99998\n",
      " 160.421\n",
      "\n",
      "  -57.4223\n",
      " 160.421\n",
      "\n",
      "  -68.9504\n",
      " 92.2063\n",
      "\n",
      "  -38.2028\n",
      " -92.2063\n",
      "\n",
      "  -3.99998\n",
      " -160.421\n",
      "\n",
      "  -1.06581e-14\n",
      " -2.84217e-14\n",
      "\n",
      "  -1.42109e-14\n",
      "      0\n",
      "\n",
      "  -7.10543e-15\n",
      " -6.66134e-16\n",
      "\n",
      "  1.02141e-14\n",
      " 1.42109e-14\n",
      "\n",
      "       0\n",
      " -1.35447e-14\n",
      "\n",
      "  3.77476e-15\n",
      " -1.42109e-14\n",
      "\n",
      "  7.10543e-15\n",
      " -2.84217e-14\n",
      "\n",
      "\n"
     ]
    }
   ],
   "source": [
    "vol.Set(Integrate(surf_t,mesh))\n",
    "dJOmega.Assemble()\n",
    "print(vol.Get())\n",
    "print(abs(surf_0-vol.Get()))\n",
    "print(dJOmega.vec)"
   ]
  },
  {
   "cell_type": "markdown",
   "id": "0cfccaa4",
   "metadata": {},
   "source": [
    "## try to do this as shape optimization"
   ]
  },
  {
   "cell_type": "code",
   "execution_count": 8,
   "id": "5e557d90",
   "metadata": {},
   "outputs": [],
   "source": [
    "gfset = GridFunction(VEC)\n",
    "\n",
    "b = BilinearForm(VEC)\n",
    "b += (InnerProduct(grad(X),grad(PHI))).Compile() *dx + (InnerProduct(X,PHI)).Compile()*dx\n",
    "\n",
    "def SolveDeformationEquation():\n",
    "    rhs = gfX.vec.CreateVector()\n",
    "    rhs.data = dJOmega.vec - b.mat * gfX.vec\n",
    "    update = gfX.vec.CreateVector()\n",
    "    update.data = b.mat.Inverse(VEC.FreeDofs()) * rhs\n",
    "    gfX.vec.data += update"
   ]
  },
  {
   "cell_type": "code",
   "execution_count": 9,
   "id": "2b30447e",
   "metadata": {},
   "outputs": [
    {
     "data": {
      "text/plain": [
       "9.452133423394868"
      ]
     },
     "execution_count": 9,
     "metadata": {},
     "output_type": "execute_result"
    }
   ],
   "source": [
    "# volume before\n",
    "Integrate(surf_t,mesh)"
   ]
  },
  {
   "cell_type": "code",
   "execution_count": 10,
   "id": "41bcf01f",
   "metadata": {},
   "outputs": [],
   "source": [
    "gfset.Set((0,0))\n",
    "mesh.SetDeformation(gfset)\n",
    "scene.Redraw()\n",
    "iter_max = 1\n",
    "\n",
    "for i in range(0,iter_max):\n",
    "    mesh.SetDeformation(gfset)\n",
    "    scene.Redraw()\n",
    "    \n",
    "    b.Assemble()\n",
    "    vol.Set(Integrate(surf_t,mesh)) # needed for multiple iterations (already done once before)\n",
    "    dJOmega.Assemble()\n",
    "    SolveDeformationEquation()\n",
    "    \n",
    "    mesh.UnsetDeformation()\n",
    "    \n",
    "    gfxnorm = Norm(gfX.vec)\n",
    "    scale = 0.01 / gfxnorm\n",
    "    gfset.vec.data -= scale * gfX.vec\n",
    "    Redraw(blocking=True)"
   ]
  },
  {
   "cell_type": "code",
   "execution_count": 11,
   "id": "119110c6",
   "metadata": {},
   "outputs": [
    {
     "data": {
      "text/plain": [
       "3.1417066211235207"
      ]
     },
     "execution_count": 11,
     "metadata": {},
     "output_type": "execute_result"
    }
   ],
   "source": [
    "# volume after\n",
    "Integrate(surf_t,mesh)"
   ]
  },
  {
   "cell_type": "code",
   "execution_count": null,
   "id": "cf993cfb",
   "metadata": {},
   "outputs": [],
   "source": []
  }
 ],
 "metadata": {
  "kernelspec": {
   "display_name": "Python 3 (ipykernel)",
   "language": "python",
   "name": "python3"
  },
  "language_info": {
   "codemirror_mode": {
    "name": "ipython",
    "version": 3
   },
   "file_extension": ".py",
   "mimetype": "text/x-python",
   "name": "python",
   "nbconvert_exporter": "python",
   "pygments_lexer": "ipython3",
   "version": "3.10.1"
  }
 },
 "nbformat": 4,
 "nbformat_minor": 5
}
