{
 "cells": [
  {
   "cell_type": "code",
   "execution_count": 1,
   "id": "9bbc760d",
   "metadata": {},
   "outputs": [],
   "source": [
    "from ngsolve import *\n",
    "from netgen.geom2d import SplineGeometry\n",
    "from ngsolve.webgui import Draw"
   ]
  },
  {
   "cell_type": "code",
   "execution_count": 2,
   "id": "f600dfea",
   "metadata": {},
   "outputs": [
    {
     "data": {
      "application/vnd.jupyter.widget-view+json": {
       "model_id": "f26dbbe4b7c841ceb6432edb766627ad",
       "version_major": 2,
       "version_minor": 0
      },
      "text/plain": [
       "WebGuiWidget(value={'ngsolve_version': '6.2.2201', 'mesh_dim': 2, 'order2d': 2, 'order3d': 2, 'draw_vol': None…"
      ]
     },
     "metadata": {},
     "output_type": "display_data"
    }
   ],
   "source": [
    "geo = SplineGeometry()\n",
    "m = 0.6\n",
    "geo.AddCircle(c=(0, 0), r=1, bc=\"cyl\", maxh=m) # 0.04\n",
    "mesh = Mesh(geo.GenerateMesh(maxh=m))\n",
    "mesh2 = Mesh(geo.GenerateMesh(maxh=m))\n",
    "mesh.Curve(3);\n",
    "mesh2.Curve(3)\n",
    "scene1 = Draw(mesh)"
   ]
  },
  {
   "cell_type": "code",
   "execution_count": 3,
   "id": "4dd25961",
   "metadata": {},
   "outputs": [],
   "source": [
    "# vector space for shape gradient\n",
    "VEC = H1(mesh, order=1, dim=2)\n",
    "# Test and trial functions\n",
    "PHI, X = VEC.TnT()\n",
    "gfX = GridFunction(VEC)"
   ]
  },
  {
   "cell_type": "code",
   "execution_count": 4,
   "id": "ed57e5f9",
   "metadata": {},
   "outputs": [],
   "source": [
    "surf_t = CoefficientFunction(1)\n",
    "surf_0 = Integrate(surf_t,mesh)\n",
    "\n",
    "dJOmega  = LinearForm(VEC)\n",
    "\n",
    "# volume stuff\n",
    "surf_t = CoefficientFunction(1)\n",
    "surf_0 = Integrate(surf_t,mesh)\n",
    "\n",
    "# bc prep\n",
    "bc_tx = CoefficientFunction(x)\n",
    "bc_ty = CoefficientFunction(y)\n",
    "bc_0x = 1/surf_0*Integrate(bc_tx,mesh)\n",
    "bc_0y = 1/surf_0*Integrate(bc_ty,mesh)\n",
    "\n",
    "# bc constraints\n",
    "beta0 = 1e-3\n",
    "beta = Parameter(beta0)\n",
    "bc_x = Parameter(1)\n",
    "bc_x.Set((1/surf_0)*Integrate(bc_tx,mesh))\n",
    "\n",
    "dJOmega += ((beta*((bc_x-bc_0x)**2)*dx)).DiffShape(X)"
   ]
  },
  {
   "cell_type": "code",
   "execution_count": 5,
   "id": "c341a59d",
   "metadata": {},
   "outputs": [
    {
     "name": "stdout",
     "output_type": "stream",
     "text": [
      "3.1417066211235207\n",
      "       0\n",
      "      0\n",
      "\n",
      "       0\n",
      "      0\n",
      "\n",
      "       0\n",
      "      0\n",
      "\n",
      "       0\n",
      "      0\n",
      "\n",
      "       0\n",
      "      0\n",
      "\n",
      "\n"
     ]
    }
   ],
   "source": [
    "dJOmega.Assemble()\n",
    "print(surf_0)\n",
    "print(dJOmega.vec[0:5])"
   ]
  },
  {
   "cell_type": "code",
   "execution_count": 6,
   "id": "87f96858",
   "metadata": {
    "scrolled": true
   },
   "outputs": [
    {
     "data": {
      "application/vnd.jupyter.widget-view+json": {
       "model_id": "65d66859d038409680cfa87c317aa822",
       "version_major": 2,
       "version_minor": 0
      },
      "text/plain": [
       "WebGuiWidget(value={'ngsolve_version': '6.2.2201', 'mesh_dim': 2, 'order2d': 2, 'order3d': 2, 'draw_vol': None…"
      ]
     },
     "metadata": {},
     "output_type": "display_data"
    },
    {
     "data": {
      "text/plain": [
       "BaseWebGuiScene"
      ]
     },
     "execution_count": 6,
     "metadata": {},
     "output_type": "execute_result"
    }
   ],
   "source": [
    "test = CoefficientFunction((2*x+1,0.5*x))\n",
    "gfX.Set(test)\n",
    "mesh.SetDeformation(gfX)\n",
    "Draw(mesh)"
   ]
  },
  {
   "cell_type": "code",
   "execution_count": 7,
   "id": "d00cb53a",
   "metadata": {
    "scrolled": true
   },
   "outputs": [
    {
     "name": "stdout",
     "output_type": "stream",
     "text": [
      "3.008598371293703\n",
      "3.008598371293703\n",
      "  0.00229899\n",
      " -0.0137204\n",
      "\n",
      "  0.00452441\n",
      " -2.28952e-18\n",
      "\n",
      "  -0.00229899\n",
      " 0.0137204\n",
      "\n",
      "  -0.00452441\n",
      " -1.99058e-18\n",
      "\n",
      "  0.00435703\n",
      " -0.0121723\n",
      "\n",
      "  0.00523175\n",
      " -0.00699633\n",
      "\n",
      "  0.00289872\n",
      " 0.00699633\n",
      "\n",
      "  0.000303506\n",
      " 0.0121723\n",
      "\n",
      "  -0.00435703\n",
      " 0.0121723\n",
      "\n",
      "  -0.00523175\n",
      " 0.00699633\n",
      "\n",
      "  -0.00289872\n",
      " -0.00699633\n",
      "\n",
      "  -0.000303506\n",
      " -0.0121723\n",
      "\n",
      "  -4.33681e-19\n",
      " 3.46945e-18\n",
      "\n",
      "  4.33681e-19\n",
      " -8.67362e-19\n",
      "\n",
      "  8.67362e-19\n",
      " -5.42101e-20\n",
      "\n",
      "  3.52366e-19\n",
      " -1.73472e-18\n",
      "\n",
      "  -8.67362e-19\n",
      " 5.42101e-20\n",
      "\n",
      "  5.14996e-19\n",
      " -1.73472e-18\n",
      "\n",
      "  8.67362e-19\n",
      " 8.67362e-19\n",
      "\n",
      "\n"
     ]
    }
   ],
   "source": [
    "bc_x.Set((1/surf_0)*Integrate(bc_tx,mesh))\n",
    "dJOmega.Assemble()\n",
    "print(bc_x.Get())\n",
    "print(abs(bc_0x-bc_x.Get()))\n",
    "print(dJOmega.vec)"
   ]
  },
  {
   "cell_type": "code",
   "execution_count": null,
   "id": "bc1910a0",
   "metadata": {},
   "outputs": [],
   "source": []
  }
 ],
 "metadata": {
  "kernelspec": {
   "display_name": "Python 3",
   "language": "python",
   "name": "python3"
  },
  "language_info": {
   "codemirror_mode": {
    "name": "ipython",
    "version": 3
   },
   "file_extension": ".py",
   "mimetype": "text/x-python",
   "name": "python",
   "nbconvert_exporter": "python",
   "pygments_lexer": "ipython3",
   "version": "3.9.10"
  }
 },
 "nbformat": 4,
 "nbformat_minor": 5
}
