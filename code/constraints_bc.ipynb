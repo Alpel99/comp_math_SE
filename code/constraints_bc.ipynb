{
 "cells": [
  {
   "cell_type": "code",
   "execution_count": 27,
   "id": "9bbc760d",
   "metadata": {},
   "outputs": [],
   "source": [
    "from ngsolve import *\n",
    "from netgen.geom2d import SplineGeometry\n",
    "from ngsolve.webgui import Draw"
   ]
  },
  {
   "cell_type": "code",
   "execution_count": 28,
   "id": "f600dfea",
   "metadata": {},
   "outputs": [
    {
     "data": {
      "application/vnd.jupyter.widget-view+json": {
       "model_id": "b8edd12ac46a488e9f13b8cce11850d3",
       "version_major": 2,
       "version_minor": 0
      },
      "text/plain": [
       "WebGuiWidget(value={'ngsolve_version': '6.2.2201', 'mesh_dim': 2, 'order2d': 2, 'order3d': 2, 'draw_vol': None…"
      ]
     },
     "metadata": {},
     "output_type": "display_data"
    }
   ],
   "source": [
    "geo = SplineGeometry()\n",
    "m = 0.6\n",
    "geo.AddCircle(c=(0, 0), r=1, bc=\"cyl\", maxh=m) # 0.04\n",
    "mesh = Mesh(geo.GenerateMesh(maxh=m))\n",
    "mesh2 = Mesh(geo.GenerateMesh(maxh=m))\n",
    "mesh.Curve(3);\n",
    "mesh2.Curve(3)\n",
    "scene1 = Draw(mesh)"
   ]
  },
  {
   "cell_type": "code",
   "execution_count": 29,
   "id": "4dd25961",
   "metadata": {},
   "outputs": [],
   "source": [
    "# vector space for shape gradient\n",
    "VEC = H1(mesh, order=1, dim=2)\n",
    "# Test and trial functions\n",
    "PHI, X = VEC.TnT()\n",
    "gfX = GridFunction(VEC)"
   ]
  },
  {
   "cell_type": "code",
   "execution_count": 30,
   "id": "ed57e5f9",
   "metadata": {},
   "outputs": [],
   "source": [
    "surf_t = CoefficientFunction(1)\n",
    "surf_0 = Integrate(surf_t,mesh)\n",
    "\n",
    "dJOmega  = LinearForm(VEC)\n",
    "\n",
    "# volume stuff\n",
    "surf_t = CoefficientFunction(1)\n",
    "surf_0 = Integrate(surf_t,mesh)\n",
    "\n",
    "# bc prep\n",
    "bc_tx = CoefficientFunction(x)\n",
    "bc_ty = CoefficientFunction(y)\n",
    "bc_0x = 1/surf_0*Integrate(bc_tx,mesh)\n",
    "bc_0y = 1/surf_0*Integrate(bc_ty,mesh)\n",
    "\n",
    "# bc constraints\n",
    "beta0 = 1e-3\n",
    "beta = Parameter(beta0)\n",
    "bc_x = Parameter(1)\n",
    "bc_x.Set((1/surf_0)*Integrate(bc_tx,mesh))\n",
    "\n",
    "dJOmega += ((beta*((bc_x-bc_0x)**2)*dx)).DiffShape(X)"
   ]
  },
  {
   "cell_type": "code",
   "execution_count": 31,
   "id": "c341a59d",
   "metadata": {
    "scrolled": true
   },
   "outputs": [
    {
     "name": "stdout",
     "output_type": "stream",
     "text": [
      "Initial bc:  -2.4295022466382792e-17\n",
      "       0\n",
      "      0\n",
      "\n",
      "       0\n",
      "      0\n",
      "\n",
      "       0\n",
      "      0\n",
      "\n",
      "       0\n",
      "      0\n",
      "\n",
      "       0\n",
      "      0\n",
      "\n",
      "\n"
     ]
    }
   ],
   "source": [
    "dJOmega.Assemble()\n",
    "print(\"Initial bc: \", bc_x.Get())\n",
    "print(dJOmega.vec[0:5])"
   ]
  },
  {
   "cell_type": "code",
   "execution_count": 37,
   "id": "87f96858",
   "metadata": {
    "scrolled": true
   },
   "outputs": [
    {
     "data": {
      "application/vnd.jupyter.widget-view+json": {
       "model_id": "89351a5ea8f84efaa86014a50b678c90",
       "version_major": 2,
       "version_minor": 0
      },
      "text/plain": [
       "WebGuiWidget(value={'ngsolve_version': '6.2.2201', 'mesh_dim': 2, 'order2d': 2, 'order3d': 2, 'draw_vol': None…"
      ]
     },
     "metadata": {},
     "output_type": "display_data"
    }
   ],
   "source": [
    "mesh.UnsetDeformation()\n",
    "test = CoefficientFunction((2*x+1,0.5*x))\n",
    "gfX.Set(test)\n",
    "mesh.SetDeformation(gfX)\n",
    "scene = Draw(mesh)"
   ]
  },
  {
   "cell_type": "code",
   "execution_count": 38,
   "id": "d00cb53a",
   "metadata": {
    "scrolled": true
   },
   "outputs": [
    {
     "name": "stdout",
     "output_type": "stream",
     "text": [
      "3.0085983712937034\n",
      "3.0085983712937034\n",
      "  0.00229899\n",
      " -0.0137204\n",
      "\n",
      "  0.00452441\n",
      " 6.61141e-18\n",
      "\n",
      "  -0.00229899\n",
      " 0.0137204\n",
      "\n",
      "  -0.00452441\n",
      " -4.85588e-18\n",
      "\n",
      "  0.00435703\n",
      " -0.0121723\n",
      "\n",
      "  0.00523175\n",
      " -0.00699633\n",
      "\n",
      "  0.00289872\n",
      " 0.00699633\n",
      "\n",
      "  0.000303506\n",
      " 0.0121723\n",
      "\n",
      "  -0.00435703\n",
      " 0.0121723\n",
      "\n",
      "  -0.00523175\n",
      " 0.00699633\n",
      "\n",
      "  -0.00289872\n",
      " -0.00699633\n",
      "\n",
      "  -0.000303506\n",
      " -0.0121723\n",
      "\n",
      "  -8.67362e-19\n",
      " 2.60209e-18\n",
      "\n",
      "  -1.73472e-18\n",
      " 3.46945e-18\n",
      "\n",
      "  4.33681e-19\n",
      " -3.37458e-18\n",
      "\n",
      "  1.16552e-18\n",
      "      0\n",
      "\n",
      "  -8.67362e-19\n",
      " -1.81604e-18\n",
      "\n",
      "  -3.25261e-19\n",
      "      0\n",
      "\n",
      "  1.73472e-18\n",
      "      0\n",
      "\n",
      "\n"
     ]
    }
   ],
   "source": [
    "bc_x.Set((1/surf_0)*Integrate(bc_tx,mesh))\n",
    "dJOmega.Assemble()\n",
    "print(bc_x.Get())\n",
    "print(abs(bc_0x-bc_x.Get()))\n",
    "print(dJOmega.vec)"
   ]
  },
  {
   "cell_type": "markdown",
   "id": "5cc65b5a",
   "metadata": {},
   "source": [
    "## try to do this as shape optimization"
   ]
  },
  {
   "cell_type": "code",
   "execution_count": 39,
   "id": "8a0b6c12",
   "metadata": {
    "scrolled": true
   },
   "outputs": [],
   "source": [
    "gfset = GridFunction(VEC)\n",
    "\n",
    "b = BilinearForm(VEC)\n",
    "b += (InnerProduct(grad(X),grad(PHI))).Compile() *dx + (InnerProduct(X,PHI)).Compile()*dx\n",
    "\n",
    "def SolveDeformationEquation():\n",
    "    rhs = gfX.vec.CreateVector()\n",
    "    rhs.data = dJOmega.vec - b.mat * gfX.vec\n",
    "    update = gfX.vec.CreateVector()\n",
    "    update.data = b.mat.Inverse(VEC.FreeDofs()) * rhs\n",
    "    gfX.vec.data += update"
   ]
  },
  {
   "cell_type": "code",
   "execution_count": 40,
   "id": "80dbfe4b",
   "metadata": {},
   "outputs": [
    {
     "data": {
      "text/plain": [
       "3.0085983712937034"
      ]
     },
     "execution_count": 40,
     "metadata": {},
     "output_type": "execute_result"
    }
   ],
   "source": [
    "bc_x.Get()"
   ]
  },
  {
   "cell_type": "code",
   "execution_count": 41,
   "id": "4919ea69",
   "metadata": {},
   "outputs": [],
   "source": [
    "gfset.Set((0,0))\n",
    "mesh.SetDeformation(gfset)\n",
    "scene.Redraw()\n",
    "iter_max = 1\n",
    "\n",
    "for i in range(0,iter_max):\n",
    "    mesh.SetDeformation(gfset)\n",
    "    scene.Redraw()\n",
    "    \n",
    "    b.Assemble()\n",
    "    bc_x.Set((1/surf_0)*Integrate(bc_tx,mesh)) # needed for multiple iterations (already done once before)\n",
    "    dJOmega.Assemble()\n",
    "    SolveDeformationEquation()\n",
    "    \n",
    "    mesh.UnsetDeformation()\n",
    "    \n",
    "    gfxnorm = Norm(gfX.vec)\n",
    "    scale = 0.01 / gfxnorm\n",
    "    gfset.vec.data -= scale * gfX.vec\n",
    "    Redraw(blocking=True)"
   ]
  },
  {
   "cell_type": "code",
   "execution_count": 42,
   "id": "030de107",
   "metadata": {},
   "outputs": [
    {
     "data": {
      "text/plain": [
       "-2.4295022466382792e-17"
      ]
     },
     "execution_count": 42,
     "metadata": {},
     "output_type": "execute_result"
    }
   ],
   "source": [
    "bc_x.Get()"
   ]
  },
  {
   "cell_type": "code",
   "execution_count": null,
   "id": "af77a56f",
   "metadata": {},
   "outputs": [],
   "source": []
  }
 ],
 "metadata": {
  "kernelspec": {
   "display_name": "Python 3 (ipykernel)",
   "language": "python",
   "name": "python3"
  },
  "language_info": {
   "codemirror_mode": {
    "name": "ipython",
    "version": 3
   },
   "file_extension": ".py",
   "mimetype": "text/x-python",
   "name": "python",
   "nbconvert_exporter": "python",
   "pygments_lexer": "ipython3",
   "version": "3.10.1"
  }
 },
 "nbformat": 4,
 "nbformat_minor": 5
}
