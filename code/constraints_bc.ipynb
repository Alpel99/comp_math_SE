{
 "cells": [
  {
   "cell_type": "code",
   "execution_count": 2,
   "id": "9bbc760d",
   "metadata": {},
   "outputs": [],
   "source": [
    "from ngsolve import *\n",
    "from netgen.geom2d import SplineGeometry\n",
    "from ngsolve.webgui import Draw"
   ]
  },
  {
   "cell_type": "code",
   "execution_count": 3,
   "id": "f600dfea",
   "metadata": {},
   "outputs": [
    {
     "data": {
      "application/vnd.jupyter.widget-view+json": {
       "model_id": "eb804674d77f4a80a906026a8ed70127",
       "version_major": 2,
       "version_minor": 0
      },
      "text/plain": [
       "WebGuiWidget(value={'ngsolve_version': '6.2.2201', 'mesh_dim': 2, 'order2d': 2, 'order3d': 2, 'draw_vol': None…"
      ]
     },
     "metadata": {},
     "output_type": "display_data"
    }
   ],
   "source": [
    "geo = SplineGeometry()\n",
    "m = 0.6\n",
    "geo.AddCircle(c=(0, 0), r=2, bc=\"cyl\", maxh=m) # 0.04\n",
    "mesh = Mesh(geo.GenerateMesh(maxh=m))\n",
    "mesh2 = Mesh(geo.GenerateMesh(maxh=m))\n",
    "mesh.Curve(3);\n",
    "mesh2.Curve(3)\n",
    "scene1 = Draw(mesh)"
   ]
  },
  {
   "cell_type": "code",
   "execution_count": 4,
   "id": "1185cacb",
   "metadata": {},
   "outputs": [
    {
     "data": {
      "text/plain": [
       "-5.080028269950915e-17"
      ]
     },
     "execution_count": 4,
     "metadata": {},
     "output_type": "execute_result"
    }
   ],
   "source": [
    "def calcBc():\n",
    "    r = 1/Integrate(1,mesh)*Integrate(x,mesh)\n",
    "    return r\n",
    "calcBc()"
   ]
  },
  {
   "cell_type": "code",
   "execution_count": 5,
   "id": "4dd25961",
   "metadata": {},
   "outputs": [],
   "source": [
    "# vector space for shape gradient\n",
    "VEC = H1(mesh, order=1, dim=2)\n",
    "# Test and trial functions\n",
    "PHI, X = VEC.TnT()\n",
    "gfX = GridFunction(VEC)"
   ]
  },
  {
   "cell_type": "code",
   "execution_count": 6,
   "id": "ed57e5f9",
   "metadata": {},
   "outputs": [],
   "source": [
    "surf_t = CoefficientFunction(1)\n",
    "surf_0 = Integrate(surf_t,mesh)\n",
    "\n",
    "dJOmega  = LinearForm(VEC)\n",
    "\n",
    "# volume stuff\n",
    "surf_t = CoefficientFunction(1)\n",
    "surf_0 = Integrate(surf_t,mesh)\n",
    "vol = Parameter(1)\n",
    "vol.Set(Integrate(surf_t,mesh))\n",
    "vol_inv = Parameter(1)\n",
    "vol_inv.Set(1/Integrate(surf_t,mesh))\n",
    "# bc prep\n",
    "bc_tx = CoefficientFunction(x)\n",
    "bc_0x = 1/surf_0*Integrate(bc_tx,mesh)\n",
    "\n",
    "# bc constraints\n",
    "beta0 = 1e-3\n",
    "beta = Parameter(beta0)\n",
    "bc_x = Parameter(1)\n",
    "bc_int = Parameter(1)\n",
    "bc_int.Set(Integrate(bc_tx,mesh))\n",
    "bc_x.Set(calcBc())\n",
    "\n",
    "dJOmega += ((beta*((bc_x-bc_0x)**2)*dx)).DiffShape(X)"
   ]
  },
  {
   "cell_type": "code",
   "execution_count": 7,
   "id": "c341a59d",
   "metadata": {
    "scrolled": false
   },
   "outputs": [
    {
     "name": "stdout",
     "output_type": "stream",
     "text": [
      "curvol:  12.566430839284152\n",
      "Initial bc:  -5.080028269950915e-17\n",
      "       0\n",
      "      0\n",
      "\n",
      "       0\n",
      "      0\n",
      "\n",
      "       0\n",
      "      0\n",
      "\n",
      "       0\n",
      "      0\n",
      "\n",
      "       0\n",
      "      0\n",
      "\n",
      "\n"
     ]
    }
   ],
   "source": [
    "dJOmega.Assemble()\n",
    "print(\"curvol: \", vol.Get())\n",
    "print(\"Initial bc: \", bc_x.Get())\n",
    "print(dJOmega.vec[0:5])"
   ]
  },
  {
   "cell_type": "code",
   "execution_count": 8,
   "id": "87f96858",
   "metadata": {},
   "outputs": [
    {
     "data": {
      "application/vnd.jupyter.widget-view+json": {
       "model_id": "a29abbc1b63b49fb93f64c2ded1834ec",
       "version_major": 2,
       "version_minor": 0
      },
      "text/plain": [
       "WebGuiWidget(value={'ngsolve_version': '6.2.2201', 'mesh_dim': 2, 'order2d': 2, 'order3d': 2, 'draw_vol': None…"
      ]
     },
     "metadata": {},
     "output_type": "display_data"
    }
   ],
   "source": [
    "mesh.UnsetDeformation()\n",
    "test = CoefficientFunction((0.8,1.2))\n",
    "gfX.Set(test)\n",
    "mesh.SetDeformation(gfX)\n",
    "scene = Draw(mesh)"
   ]
  },
  {
   "cell_type": "code",
   "execution_count": 9,
   "id": "d00cb53a",
   "metadata": {
    "scrolled": true
   },
   "outputs": [
    {
     "name": "stdout",
     "output_type": "stream",
     "text": [
      "curvol:  12.56643083928415\n",
      "0.7999999999999996\n",
      "0.7999999999999996\n",
      "  1.89735e-19\n",
      " -0.000392056\n",
      "\n",
      "  0.000392056\n",
      " 1.35525e-19\n",
      "\n",
      "  -4.40457e-20\n",
      " 0.000392056\n",
      "\n",
      "  -0.000392056\n",
      " -8.80914e-20\n",
      "\n",
      "  0.000123018\n",
      " -0.0003812\n",
      "\n",
      "  0.000235182\n",
      " -0.000324147\n",
      "\n",
      "  0.000324147\n",
      " -0.000235182\n",
      "\n",
      "  0.0003812\n",
      " -0.000123018\n",
      "\n",
      "  0.0003812\n",
      " 0.000123018\n",
      "\n",
      "  0.000324147\n",
      " 0.000235182\n",
      "\n",
      "  0.000235182\n",
      " 0.000324147\n",
      "\n",
      "  0.000123018\n",
      " 0.0003812\n",
      "\n",
      "  -0.000123018\n",
      " 0.0003812\n",
      "\n",
      "  -0.000235182\n",
      " 0.000324147\n",
      "\n",
      "  -0.000324147\n",
      " 0.000235182\n",
      "\n",
      "  -0.0003812\n",
      " 0.000123018\n",
      "\n",
      "  -0.0003812\n",
      " -0.000123018\n",
      "\n",
      "  -0.000324147\n",
      " -0.000235182\n",
      "\n",
      "  -0.000235182\n",
      " -0.000324147\n",
      "\n",
      "  -0.000123018\n",
      " -0.0003812\n",
      "\n",
      "  6.77626e-21\n",
      " -1.0842e-19\n",
      "\n",
      "  -8.13152e-20\n",
      "      0\n",
      "\n",
      "  -1.0842e-19\n",
      " -2.71051e-20\n",
      "\n",
      "  6.94567e-20\n",
      " 1.0842e-19\n",
      "\n",
      "       0\n",
      " -1.35525e-19\n",
      "\n",
      "  5.42101e-20\n",
      " -2.71051e-20\n",
      "\n",
      "  -1.35525e-20\n",
      " 1.0842e-19\n",
      "\n",
      "  -5.42101e-20\n",
      " 1.35525e-20\n",
      "\n",
      "  5.42101e-20\n",
      " -8.13152e-20\n",
      "\n",
      "  2.71051e-20\n",
      " -2.71051e-20\n",
      "\n",
      "  1.0842e-19\n",
      " -1.81053e-20\n",
      "\n",
      "       0\n",
      " 5.42101e-20\n",
      "\n",
      "  2.71051e-20\n",
      " 1.0842e-19\n",
      "\n",
      "  -5.42101e-20\n",
      " -5.42101e-20\n",
      "\n",
      "  5.42101e-20\n",
      " -5.42101e-20\n",
      "\n",
      "  -7.45389e-20\n",
      " 8.13152e-20\n",
      "\n",
      "  -2.71051e-20\n",
      "      0\n",
      "\n",
      "  1.35525e-20\n",
      " 5.42101e-20\n",
      "\n",
      "  -8.13152e-20\n",
      " -6.77626e-20\n",
      "\n",
      "  -2.71051e-20\n",
      " 2.71051e-20\n",
      "\n",
      "\n"
     ]
    }
   ],
   "source": [
    "bc_x.Set((1/surf_0)*Integrate(bc_tx,mesh))\n",
    "dJOmega.Assemble()\n",
    "print(\"curvol: \", Integrate(1,mesh))\n",
    "print(bc_x.Get())\n",
    "print(abs(bc_0x-bc_x.Get()))\n",
    "print(dJOmega.vec)"
   ]
  },
  {
   "cell_type": "markdown",
   "id": "5cc65b5a",
   "metadata": {},
   "source": [
    "## try to do this as shape optimization\n",
    "Barycenter:\n",
    "$\\Large bc = \\frac{1}{\\int_\\Omega 1 \\mathrm{dx}}\\cdot\\int_\\Omega x \\mathrm{dx}$ <br>\n",
    "$\\Large \\frac{\\partial }{\\partial x} \\beta(bc(x)-bc_0)^2 =$ ... <br>\n",
    "$\\Large \\frac{\\partial bc_{trafo}}{\\partial X}= \\frac{div(X)\\int xdx-\\int 1dx\\int X_1 dx}{(\\int xdx)^2} $ unimplementierbar?!"
   ]
  },
  {
   "cell_type": "code",
   "execution_count": 44,
   "id": "c36f1eeb",
   "metadata": {},
   "outputs": [],
   "source": [
    "# don't use 2 deformations, just set bc_0x to something else, let's see if we get there:\n",
    "mesh.UnsetDeformation()\n",
    "bc_0x = 3\n",
    "\n",
    "gfset = GridFunction(VEC)\n",
    "\n",
    "dJOmega2 = LinearForm(VEC)\n",
    "# initial try in auto (wrong)\n",
    "#dJOmega2 += ((beta*((bc_x-bc_0x)**2)*dx)).DiffShape(X)\n",
    "# derivative by sturm (wrong)\n",
    "#dJOmega2 += ((2*beta*((1/bc_x-bc_0x))*(1/bc_x)*dx)).DiffShape(X)\n",
    "# another try (wrong)\n",
    "# dJOmega2 += (2*(1/(vol_inv*bc_int)-bc_0x)*(1/(vol_inv*bc_int))*dx).DiffShape(X)\n",
    "# \n",
    "#dJOmega2 += \n",
    "\n",
    "gfset = GridFunction(VEC)\n",
    "\n",
    "b = BilinearForm(VEC)\n",
    "b += (InnerProduct(grad(X),grad(PHI))).Compile() *dx + (InnerProduct(X,PHI)).Compile()*dx\n",
    "\n",
    "def SolveDeformationEquation():\n",
    "    rhs = gfX.vec.CreateVector()\n",
    "    rhs.data = dJOmega2.vec - b.mat * gfX.vec\n",
    "    update = gfX.vec.CreateVector()\n",
    "    update.data = b.mat.Inverse(VEC.FreeDofs()) * rhs\n",
    "    gfX.vec.data += update"
   ]
  },
  {
   "cell_type": "code",
   "execution_count": 45,
   "id": "80dbfe4b",
   "metadata": {
    "scrolled": false
   },
   "outputs": [
    {
     "data": {
      "text/plain": [
       "-5.080028269950915e-17"
      ]
     },
     "execution_count": 45,
     "metadata": {},
     "output_type": "execute_result"
    }
   ],
   "source": [
    "bc_x.Set((1/surf_0)*Integrate(bc_tx,mesh))\n",
    "bc_x.Get()"
   ]
  },
  {
   "cell_type": "code",
   "execution_count": 46,
   "id": "4919ea69",
   "metadata": {},
   "outputs": [
    {
     "name": "stdout",
     "output_type": "stream",
     "text": [
      "-5.080028269950915e-17\n",
      "0.004334282701915581\n",
      "0.017571449417101676\n",
      "0.01816207956700874\n",
      "0.02791769207187798\n",
      "0.01489319747730005\n",
      "0.02650208460673902\n",
      "0.034807934212739984\n",
      "0.019881868926274443\n",
      "0.03361032270109616\n",
      "0.04491658815858835\n"
     ]
    },
    {
     "ename": "ZeroDivisionError",
     "evalue": "float division by zero",
     "output_type": "error",
     "traceback": [
      "\u001b[1;31m---------------------------------------------------------------------------\u001b[0m",
      "\u001b[1;31mZeroDivisionError\u001b[0m                         Traceback (most recent call last)",
      "Input \u001b[1;32mIn [46]\u001b[0m, in \u001b[0;36m<cell line: 7>\u001b[1;34m()\u001b[0m\n\u001b[0;32m     20\u001b[0m mesh\u001b[38;5;241m.\u001b[39mUnsetDeformation()\n\u001b[0;32m     22\u001b[0m gfxnorm \u001b[38;5;241m=\u001b[39m Norm(gfX\u001b[38;5;241m.\u001b[39mvec)\n\u001b[1;32m---> 23\u001b[0m scale \u001b[38;5;241m=\u001b[39m \u001b[38;5;241;43m0.1\u001b[39;49m\u001b[43m \u001b[49m\u001b[38;5;241;43m/\u001b[39;49m\u001b[43m \u001b[49m\u001b[43mgfxnorm\u001b[49m\n\u001b[0;32m     24\u001b[0m gfset\u001b[38;5;241m.\u001b[39mvec\u001b[38;5;241m.\u001b[39mdata \u001b[38;5;241m-\u001b[39m\u001b[38;5;241m=\u001b[39m scale \u001b[38;5;241m*\u001b[39m gfX\u001b[38;5;241m.\u001b[39mvec\n\u001b[0;32m     26\u001b[0m time\u001b[38;5;241m.\u001b[39msleep(\u001b[38;5;241m0.1\u001b[39m)\n",
      "\u001b[1;31mZeroDivisionError\u001b[0m: float division by zero"
     ]
    }
   ],
   "source": [
    "import time\n",
    "gfset.Set((0,0))\n",
    "mesh.SetDeformation(gfset)\n",
    "scene.Redraw()\n",
    "iter_max = 100\n",
    "\n",
    "for i in range(0,iter_max):\n",
    "    mesh.SetDeformation(gfset)\n",
    "    scene.Redraw()\n",
    "    \n",
    "    b.Assemble()\n",
    "    #bc_x.Set((1/surf_0)*Integrate(bc_tx,mesh)) # needed for multiple iterations (already done once before)\n",
    "    vol_inv.Set(1/Integrate(surf_t,mesh))\n",
    "    bc_int.Set(Integrate(bc_tx,mesh))\n",
    "    print(1/Integrate(1,mesh)*Integrate(x,mesh))\n",
    "    #print(bc_x.Get())\n",
    "    dJOmega2.Assemble()\n",
    "    SolveDeformationEquation()\n",
    "    \n",
    "    mesh.UnsetDeformation()\n",
    "    \n",
    "    gfxnorm = Norm(gfX.vec)\n",
    "    scale = 0.1 / gfxnorm\n",
    "    gfset.vec.data -= scale * gfX.vec\n",
    "    \n",
    "    time.sleep(0.1)"
   ]
  },
  {
   "cell_type": "code",
   "execution_count": null,
   "id": "030de107",
   "metadata": {},
   "outputs": [],
   "source": [
    "bc_x.Get()"
   ]
  },
  {
   "cell_type": "code",
   "execution_count": 15,
   "id": "af77a56f",
   "metadata": {
    "scrolled": true
   },
   "outputs": [],
   "source": [
    "a = gfX.MDComponent(1)"
   ]
  },
  {
   "cell_type": "code",
   "execution_count": null,
   "id": "79446fa3",
   "metadata": {},
   "outputs": [],
   "source": []
  }
 ],
 "metadata": {
  "kernelspec": {
   "display_name": "Python 3 (ipykernel)",
   "language": "python",
   "name": "python3"
  },
  "language_info": {
   "codemirror_mode": {
    "name": "ipython",
    "version": 3
   },
   "file_extension": ".py",
   "mimetype": "text/x-python",
   "name": "python",
   "nbconvert_exporter": "python",
   "pygments_lexer": "ipython3",
   "version": "3.10.1"
  }
 },
 "nbformat": 4,
 "nbformat_minor": 5
}
