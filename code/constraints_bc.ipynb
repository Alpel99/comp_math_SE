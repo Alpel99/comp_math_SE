{
 "cells": [
  {
   "cell_type": "code",
   "execution_count": 14,
   "id": "9bbc760d",
   "metadata": {},
   "outputs": [],
   "source": [
    "from ngsolve import *\n",
    "from netgen.geom2d import SplineGeometry\n",
    "from ngsolve.webgui import Draw"
   ]
  },
  {
   "cell_type": "code",
   "execution_count": 15,
   "id": "f600dfea",
   "metadata": {},
   "outputs": [
    {
     "data": {
      "application/vnd.jupyter.widget-view+json": {
       "model_id": "1bc8e6d031bf47fdb0de0fc0d4f831b4",
       "version_major": 2,
       "version_minor": 0
      },
      "text/plain": [
       "WebGuiWidget(value={'ngsolve_version': '6.2.2203', 'mesh_dim': 2, 'order2d': 2, 'order3d': 2, 'draw_vol': None…"
      ]
     },
     "metadata": {},
     "output_type": "display_data"
    }
   ],
   "source": [
    "geo = SplineGeometry()\n",
    "m = 0.6\n",
    "geo.AddCircle(c=(0, 0), r=2, bc=\"cyl\", maxh=m) # 0.04\n",
    "mesh = Mesh(geo.GenerateMesh(maxh=m))\n",
    "mesh2 = Mesh(geo.GenerateMesh(maxh=m))\n",
    "mesh.Curve(3);\n",
    "mesh2.Curve(3)\n",
    "scene1 = Draw(mesh)"
   ]
  },
  {
   "cell_type": "code",
   "execution_count": 16,
   "id": "1185cacb",
   "metadata": {},
   "outputs": [
    {
     "data": {
      "text/plain": [
       "-5.080028269950915e-17"
      ]
     },
     "execution_count": 16,
     "metadata": {},
     "output_type": "execute_result"
    }
   ],
   "source": [
    "def calcBc():\n",
    "    r = 1/Integrate(1,mesh)*Integrate(x,mesh)\n",
    "    return r\n",
    "calcBc()"
   ]
  },
  {
   "cell_type": "code",
   "execution_count": 17,
   "id": "4dd25961",
   "metadata": {},
   "outputs": [],
   "source": [
    "# vector space for shape gradient\n",
    "VEC = H1(mesh, order=1, dim=2)\n",
    "# Test and trial functions\n",
    "PHI, X = VEC.TnT()\n",
    "gfX = GridFunction(VEC)"
   ]
  },
  {
   "cell_type": "code",
   "execution_count": 19,
   "id": "ed57e5f9",
   "metadata": {},
   "outputs": [],
   "source": [
    "surf_t = CoefficientFunction(1)\n",
    "surf_0 = Integrate(surf_t,mesh)\n",
    "\n",
    "dJOmega  = LinearForm(VEC)\n",
    "\n",
    "# volume stuff\n",
    "surf_t = CoefficientFunction(1)\n",
    "surf_0 = Integrate(surf_t,mesh)\n",
    "vol = Parameter(1)\n",
    "vol.Set(Integrate(surf_t,mesh))\n",
    "vol_inv = Parameter(1)\n",
    "vol_inv.Set(1/Integrate(surf_t,mesh))\n",
    "# bc prep\n",
    "bc_tx = CoefficientFunction(x)\n",
    "bc_0x = 1/surf_0*Integrate(bc_tx,mesh)\n",
    "\n",
    "# bc constraints\n",
    "beta0 = 1e-1\n",
    "beta = Parameter(beta0)\n",
    "bc_x = Parameter(1)\n",
    "bc_int = Parameter(1)\n",
    "bc_int.Set(Integrate(bc_tx,mesh))\n",
    "bc_x.Set(calcBc())\n",
    "\n",
    "dJOmega += ((beta*((bc_x-bc_0x)**2)*dx)).DiffShape(X)"
   ]
  },
  {
   "cell_type": "code",
   "execution_count": 20,
   "id": "c341a59d",
   "metadata": {
    "scrolled": false
   },
   "outputs": [
    {
     "name": "stdout",
     "output_type": "stream",
     "text": [
      "curvol:  12.566430839284152\n",
      "Initial bc:  -5.080028269950915e-17\n",
      "       0\n",
      "      0\n",
      "\n",
      "       0\n",
      "      0\n",
      "\n",
      "       0\n",
      "      0\n",
      "\n",
      "       0\n",
      "      0\n",
      "\n",
      "       0\n",
      "      0\n",
      "\n",
      "\n"
     ]
    }
   ],
   "source": [
    "dJOmega.Assemble()\n",
    "print(\"curvol: \", vol.Get())\n",
    "print(\"Initial bc: \", bc_x.Get())\n",
    "print(dJOmega.vec[0:5])"
   ]
  },
  {
   "cell_type": "code",
   "execution_count": 21,
   "id": "87f96858",
   "metadata": {},
   "outputs": [
    {
     "data": {
      "application/vnd.jupyter.widget-view+json": {
       "model_id": "cbea733b112f4571a88672fb5b1697c0",
       "version_major": 2,
       "version_minor": 0
      },
      "text/plain": [
       "WebGuiWidget(value={'ngsolve_version': '6.2.2203', 'mesh_dim': 2, 'order2d': 2, 'order3d': 2, 'draw_vol': None…"
      ]
     },
     "metadata": {},
     "output_type": "display_data"
    }
   ],
   "source": [
    "mesh.UnsetDeformation()\n",
    "test = CoefficientFunction((0.8,1.2))\n",
    "gfX.Set(test)\n",
    "mesh.SetDeformation(gfX)\n",
    "scene = Draw(mesh)"
   ]
  },
  {
   "cell_type": "code",
   "execution_count": 22,
   "id": "d00cb53a",
   "metadata": {
    "scrolled": true
   },
   "outputs": [
    {
     "name": "stdout",
     "output_type": "stream",
     "text": [
      "curvol:  12.56643083928415\n",
      "0.7999999999999996\n",
      "0.7999999999999996\n"
     ]
    }
   ],
   "source": [
    "bc_x.Set((1/surf_0)*Integrate(bc_tx,mesh))\n",
    "dJOmega.Assemble()\n",
    "print(\"curvol: \", Integrate(1,mesh))\n",
    "print(bc_x.Get())\n",
    "print(abs(bc_0x-bc_x.Get()))\n",
    "#print(dJOmega.vec)"
   ]
  },
  {
   "cell_type": "markdown",
   "id": "cb7349c0",
   "metadata": {},
   "source": [
    "## try to do this as shape optimization\n",
    "Barycenter:\n",
    "$\\Large bc = \\frac{1}{\\int_\\Omega 1 \\mathrm{dx}}\\cdot\\int_\\Omega x \\mathrm{dx}$ <br>\n",
    "#### above as shape derivative:\n",
    "$\\Large-\\frac{1}{|\\Omega |^2}\\cdot\\int div(x)\\mathrm{dx}\\cdot(\\int x \\mathrm{dx})+$<br>\n",
    "$\\Large\\frac{1}{|\\Omega |}\\cdot\\int div(v)x_i \\mathrm{dx}\\cdot\\int v_i \\mathrm{dx}$ <br>"
   ]
  },
  {
   "cell_type": "code",
   "execution_count": 23,
   "id": "c36f1eeb",
   "metadata": {},
   "outputs": [],
   "source": [
    "# don't use 2 deformations, just set bc_0x to something else, let's see if we get there:\n",
    "mesh.UnsetDeformation()\n",
    "bc_0x = 1.5\n",
    "\n",
    "gfset = GridFunction(VEC)\n",
    "\n",
    "dJOmega2 = LinearForm(VEC)\n",
    "# initial try in auto (wrong)\n",
    "#dJOmega2 += ((beta*((bc_x-bc_0x)**2)*dx)).DiffShape(X)\n",
    "# derivative by sturm (wrong)\n",
    "#dJOmega2 += ((2*beta*((1/bc_x-bc_0x))*(1/bc_x)*dx)).DiffShape(X)\n",
    "# another try (wrong)\n",
    "# dJOmega2 += (2*(1/(vol_inv*bc_int)-bc_0x)*(1/(vol_inv*bc_int))*dx).DiffShape(X)\n",
    "# new try\n",
    "dJOmega2 += 2*beta*(bc_x-bc_0x)*((1/vol**2)*div(X)*x+(1/vol)*div(X)*x*sum(gfset.vecs[0].data)[0])*dx\n",
    "\n",
    "gfset = GridFunction(VEC)\n",
    "\n",
    "b = BilinearForm(VEC)\n",
    "#b += (InnerProduct(grad(X),grad(PHI))).Compile() *dx + (InnerProduct(X,PHI)).Compile()*dx\n",
    "b += (InnerProduct(grad(X)+grad(X).trans,grad(PHI))).Compile() *dx + (InnerProduct(X,PHI)).Compile()*dx\n",
    "\n",
    "def SolveDeformationEquation():\n",
    "    rhs = gfX.vec.CreateVector()\n",
    "    rhs.data = dJOmega2.vec - b.mat * gfX.vec\n",
    "    update = gfX.vec.CreateVector()\n",
    "    update.data = b.mat.Inverse(VEC.FreeDofs()) * rhs\n",
    "    gfX.vec.data += update"
   ]
  },
  {
   "cell_type": "code",
   "execution_count": 25,
   "id": "80dbfe4b",
   "metadata": {
    "scrolled": false
   },
   "outputs": [
    {
     "data": {
      "text/plain": [
       "-5.080028269950915e-17"
      ]
     },
     "execution_count": 25,
     "metadata": {},
     "output_type": "execute_result"
    }
   ],
   "source": [
    "bc_x.Set((1/surf_0)*Integrate(bc_tx,mesh))\n",
    "bc_x.Get()"
   ]
  },
  {
   "cell_type": "code",
   "execution_count": null,
   "id": "4bd14bbb",
   "metadata": {},
   "outputs": [],
   "source": []
  },
  {
   "cell_type": "code",
   "execution_count": 26,
   "id": "4919ea69",
   "metadata": {},
   "outputs": [
    {
     "name": "stdout",
     "output_type": "stream",
     "text": [
      "-5.080028269950915e-17\n",
      "0.02343659597493792\n",
      "0.046866434835170265\n",
      "0.07028781954400685\n",
      "0.09369906261353192\n",
      "0.11709848741137051\n",
      "0.14048442959105104\n",
      "0.16385523862162735\n",
      "0.18720927939009757\n",
      "0.21054493384877376\n",
      "0.23386060267912728\n",
      "0.2571547069437334\n",
      "0.2804256896987187\n",
      "0.30367201754053946\n",
      "0.32689218206288767\n",
      "0.35008470120193735\n",
      "0.3732481204509493\n",
      "0.39638101392829733\n",
      "0.41948198528620056\n",
      "0.4425496684507316\n",
      "0.46558272818692653\n",
      "0.48857986048599306\n",
      "0.5115397927746146\n",
      "0.5344612839491013\n",
      "0.5573431242396759\n",
      "0.580184134912379\n",
      "0.6029831678179827\n",
      "0.6257391047988947\n",
      "0.6484508569662709\n",
      "0.6711173638605349\n",
      "0.6937375925091295\n",
      "0.716310536395719\n",
      "0.738835214355193\n",
      "0.7613106694087018\n",
      "0.7837359675526739\n",
      "0.8061101965153136\n",
      "0.828432464493411\n",
      "0.8507018988816337\n",
      "0.8729176450055965\n",
      "0.8950788648691275\n",
      "0.9171847359252027\n",
      "0.9392344498790527\n",
      "0.9612272115309424\n",
      "0.9831622376651218\n",
      "1.0050387559905205\n",
      "1.0268560041377304\n",
      "1.0486132287159704\n",
      "1.0703096844328026\n",
      "1.0919446332785767\n",
      "1.1135173437767634\n",
      "1.1350270903006523\n",
      "1.156473152456238\n",
      "1.1778548145304508\n",
      "1.1991713650034634\n",
      "1.220422096123228\n",
      "1.2416063035400637\n",
      "1.2627232859986977\n",
      "1.2837723450849448\n",
      "1.3047527850238987\n",
      "1.325663912526378\n",
      "1.3465050366802187\n",
      "1.367275468882907\n",
      "1.3879745228120461\n",
      "1.4086015144300679\n",
      "1.429155762019764\n",
      "1.449636586247102\n",
      "1.4700433102480908\n",
      "1.4903752597363855\n",
      "1.5106317631286326\n",
      "1.490378293965224\n",
      "1.5106343187329507\n",
      "1.4903813213783401\n",
      "1.5106368673627548\n",
      "1.490384341975366\n",
      "1.5106394090174755\n",
      "1.4903873557559308\n",
      "1.5106419436965453\n",
      "1.4903903627196577\n",
      "1.5106444713993918\n",
      "1.4903933628661676\n",
      "1.5106469921254422\n",
      "1.4903963561950728\n",
      "1.5106495058741145\n",
      "1.4903993427059914\n",
      "1.5106520126448282\n",
      "1.4904023223985274\n",
      "1.510654512436997\n",
      "1.4904052952722904\n",
      "1.5106570052500294\n",
      "1.4904082613268756\n",
      "1.5106594910833329\n",
      "1.4904112205618858\n",
      "1.5106619699363097\n",
      "1.4904141729769125\n",
      "1.5106644418083575\n",
      "1.4904171185715445\n",
      "1.5106669066988714\n",
      "1.490420057345371\n",
      "1.5106693646072424\n",
      "1.4904229892979723\n"
     ]
    }
   ],
   "source": [
    "import time\n",
    "gfset.Set((0,0))\n",
    "mesh.SetDeformation(gfset)\n",
    "scene.Redraw()\n",
    "iter_max = 100\n",
    "\n",
    "for i in range(0,iter_max):\n",
    "    mesh.SetDeformation(gfset)\n",
    "    scene.Redraw()\n",
    "    \n",
    "    b.Assemble()\n",
    "    \n",
    "    vol_inv.Set(1/Integrate(surf_t,mesh))\n",
    "    vol.Set(Integrate(surf_t,mesh))\n",
    "    bc_x.Set((1/vol.Get())*Integrate(bc_tx,mesh)) # needed for multiple iterations (already done once before)\n",
    "    bc_int.Set(Integrate(bc_tx,mesh))\n",
    "    #print(1/Integrate(1,mesh)*Integrate(x,mesh))\n",
    "    print(bc_x.Get())\n",
    "    dJOmega2.Assemble()\n",
    "    SolveDeformationEquation()\n",
    "    \n",
    "    mesh.UnsetDeformation()\n",
    "    \n",
    "    gfxnorm = Norm(gfX.vec)\n",
    "    scale = 0.1 / gfxnorm\n",
    "    gfset.vec.data -= scale * gfX.vec\n",
    "    \n",
    "    time.sleep(0.1)"
   ]
  },
  {
   "cell_type": "code",
   "execution_count": 12,
   "id": "030de107",
   "metadata": {},
   "outputs": [
    {
     "data": {
      "text/plain": [
       "1.4998614940847228"
      ]
     },
     "execution_count": 12,
     "metadata": {},
     "output_type": "execute_result"
    }
   ],
   "source": [
    "bc_x.Get()"
   ]
  },
  {
   "cell_type": "code",
   "execution_count": null,
   "id": "79446fa3",
   "metadata": {},
   "outputs": [],
   "source": []
  }
 ],
 "metadata": {
  "kernelspec": {
   "display_name": "Python 3 (ipykernel)",
   "language": "python",
   "name": "python3"
  },
  "language_info": {
   "codemirror_mode": {
    "name": "ipython",
    "version": 3
   },
   "file_extension": ".py",
   "mimetype": "text/x-python",
   "name": "python",
   "nbconvert_exporter": "python",
   "pygments_lexer": "ipython3",
   "version": "3.8.10"
  }
 },
 "nbformat": 4,
 "nbformat_minor": 5
}
