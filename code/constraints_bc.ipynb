{
 "cells": [
  {
   "cell_type": "code",
   "execution_count": 40,
   "id": "9bbc760d",
   "metadata": {},
   "outputs": [],
   "source": [
    "from ngsolve import *\n",
    "from netgen.geom2d import SplineGeometry\n",
    "from ngsolve.webgui import Draw"
   ]
  },
  {
   "cell_type": "code",
   "execution_count": 41,
   "id": "f600dfea",
   "metadata": {},
   "outputs": [
    {
     "data": {
      "application/vnd.jupyter.widget-view+json": {
       "model_id": "78628d2f7b7145ca9f2a19ebd2e82cea",
       "version_major": 2,
       "version_minor": 0
      },
      "text/plain": [
       "WebGuiWidget(value={'ngsolve_version': '6.2.2201', 'mesh_dim': 2, 'order2d': 2, 'order3d': 2, 'draw_vol': None…"
      ]
     },
     "metadata": {},
     "output_type": "display_data"
    }
   ],
   "source": [
    "geo = SplineGeometry()\n",
    "m = 0.6\n",
    "geo.AddCircle(c=(0, 0), r=2, bc=\"cyl\", maxh=m) # 0.04\n",
    "mesh = Mesh(geo.GenerateMesh(maxh=m))\n",
    "mesh2 = Mesh(geo.GenerateMesh(maxh=m))\n",
    "mesh.Curve(3);\n",
    "mesh2.Curve(3)\n",
    "scene1 = Draw(mesh)"
   ]
  },
  {
   "cell_type": "code",
   "execution_count": 42,
   "id": "4dd25961",
   "metadata": {},
   "outputs": [],
   "source": [
    "# vector space for shape gradient\n",
    "VEC = H1(mesh, order=1, dim=2)\n",
    "# Test and trial functions\n",
    "PHI, X = VEC.TnT()\n",
    "gfX = GridFunction(VEC)"
   ]
  },
  {
   "cell_type": "code",
   "execution_count": 43,
   "id": "ed57e5f9",
   "metadata": {},
   "outputs": [],
   "source": [
    "surf_t = CoefficientFunction(1)\n",
    "surf_0 = Integrate(surf_t,mesh)\n",
    "\n",
    "dJOmega  = LinearForm(VEC)\n",
    "\n",
    "# volume stuff\n",
    "surf_t = CoefficientFunction(1)\n",
    "surf_0 = Integrate(surf_t,mesh)\n",
    "\n",
    "# bc prep\n",
    "bc_tx = CoefficientFunction(x)\n",
    "bc_0x = 1/surf_0*Integrate(bc_tx,mesh)\n",
    "\n",
    "# bc constraints\n",
    "beta0 = 1e-3\n",
    "beta = Parameter(beta0)\n",
    "bc_x = Parameter(1)\n",
    "bc_x.Set((1/surf_0)*Integrate(bc_tx,mesh))\n",
    "\n",
    "dJOmega += ((beta*((bc_x-bc_0x)**2)*dx)).DiffShape(X)"
   ]
  },
  {
   "cell_type": "code",
   "execution_count": 44,
   "id": "c341a59d",
   "metadata": {
    "scrolled": true
   },
   "outputs": [
    {
     "name": "stdout",
     "output_type": "stream",
     "text": [
      "curvol:  12.566430839284152\n",
      "Initial bc:  -5.080028269950915e-17\n",
      "       0\n",
      "      0\n",
      "\n",
      "       0\n",
      "      0\n",
      "\n",
      "       0\n",
      "      0\n",
      "\n",
      "       0\n",
      "      0\n",
      "\n",
      "       0\n",
      "      0\n",
      "\n",
      "\n"
     ]
    }
   ],
   "source": [
    "dJOmega.Assemble()\n",
    "print(\"curvol: \", surf_0)\n",
    "print(\"Initial bc: \", bc_x.Get())\n",
    "print(dJOmega.vec[0:5])"
   ]
  },
  {
   "cell_type": "code",
   "execution_count": 49,
   "id": "87f96858",
   "metadata": {},
   "outputs": [
    {
     "data": {
      "application/vnd.jupyter.widget-view+json": {
       "model_id": "abacc2ef215743aebef1a764d78ca497",
       "version_major": 2,
       "version_minor": 0
      },
      "text/plain": [
       "WebGuiWidget(value={'ngsolve_version': '6.2.2201', 'mesh_dim': 2, 'order2d': 2, 'order3d': 2, 'draw_vol': None…"
      ]
     },
     "metadata": {},
     "output_type": "display_data"
    }
   ],
   "source": [
    "mesh.UnsetDeformation()\n",
    "test = CoefficientFunction((0.8,1.2))\n",
    "gfX.Set(test)\n",
    "mesh.SetDeformation(gfX)\n",
    "scene = Draw(mesh)"
   ]
  },
  {
   "cell_type": "code",
   "execution_count": 50,
   "id": "d00cb53a",
   "metadata": {
    "scrolled": true
   },
   "outputs": [
    {
     "name": "stdout",
     "output_type": "stream",
     "text": [
      "curvol:  12.56643083928415\n",
      "0.7999999999999996\n",
      "0.7999999999999996\n",
      "  1.89735e-19\n",
      " -0.000392056\n",
      "\n",
      "  0.000392056\n",
      " 1.35525e-19\n",
      "\n",
      "  -4.40457e-20\n",
      " 0.000392056\n",
      "\n",
      "  -0.000392056\n",
      " -8.80914e-20\n",
      "\n",
      "  0.000123018\n",
      " -0.0003812\n",
      "\n",
      "  0.000235182\n",
      " -0.000324147\n",
      "\n",
      "  0.000324147\n",
      " -0.000235182\n",
      "\n",
      "  0.0003812\n",
      " -0.000123018\n",
      "\n",
      "  0.0003812\n",
      " 0.000123018\n",
      "\n",
      "  0.000324147\n",
      " 0.000235182\n",
      "\n",
      "  0.000235182\n",
      " 0.000324147\n",
      "\n",
      "  0.000123018\n",
      " 0.0003812\n",
      "\n",
      "  -0.000123018\n",
      " 0.0003812\n",
      "\n",
      "  -0.000235182\n",
      " 0.000324147\n",
      "\n",
      "  -0.000324147\n",
      " 0.000235182\n",
      "\n",
      "  -0.0003812\n",
      " 0.000123018\n",
      "\n",
      "  -0.0003812\n",
      " -0.000123018\n",
      "\n",
      "  -0.000324147\n",
      " -0.000235182\n",
      "\n",
      "  -0.000235182\n",
      " -0.000324147\n",
      "\n",
      "  -0.000123018\n",
      " -0.0003812\n",
      "\n",
      "  6.77626e-21\n",
      " -1.0842e-19\n",
      "\n",
      "  -8.13152e-20\n",
      "      0\n",
      "\n",
      "  -1.0842e-19\n",
      " -2.71051e-20\n",
      "\n",
      "  6.94567e-20\n",
      " 1.0842e-19\n",
      "\n",
      "       0\n",
      " -1.35525e-19\n",
      "\n",
      "  5.42101e-20\n",
      " -2.71051e-20\n",
      "\n",
      "  -1.35525e-20\n",
      " 1.0842e-19\n",
      "\n",
      "  -5.42101e-20\n",
      " 1.35525e-20\n",
      "\n",
      "  5.42101e-20\n",
      " -8.13152e-20\n",
      "\n",
      "  2.71051e-20\n",
      " -2.71051e-20\n",
      "\n",
      "  1.0842e-19\n",
      " -1.81053e-20\n",
      "\n",
      "       0\n",
      " 5.42101e-20\n",
      "\n",
      "  2.71051e-20\n",
      " 1.0842e-19\n",
      "\n",
      "  -5.42101e-20\n",
      " -5.42101e-20\n",
      "\n",
      "  5.42101e-20\n",
      " -5.42101e-20\n",
      "\n",
      "  -7.45389e-20\n",
      " 8.13152e-20\n",
      "\n",
      "  -2.71051e-20\n",
      "      0\n",
      "\n",
      "  1.35525e-20\n",
      " 5.42101e-20\n",
      "\n",
      "  -8.13152e-20\n",
      " -6.77626e-20\n",
      "\n",
      "  -2.71051e-20\n",
      " 2.71051e-20\n",
      "\n",
      "\n"
     ]
    }
   ],
   "source": [
    "bc_x.Set((1/surf_0)*Integrate(bc_tx,mesh))\n",
    "dJOmega.Assemble()\n",
    "print(\"curvol: \", Integrate(1,mesh))\n",
    "print(bc_x.Get())\n",
    "print(abs(bc_0x-bc_x.Get()))\n",
    "print(dJOmega.vec)"
   ]
  },
  {
   "cell_type": "markdown",
   "id": "5cc65b5a",
   "metadata": {},
   "source": [
    "## try to do this as shape optimization\n",
    "\n",
    "$\\Large \\frac{\\partial }{\\partial x} \\beta(bc(x)-bc_0)^2 =$ <br>\n",
    "$\\Large 2(\\frac{1}{bc(x)}-bc_0)\\cdot \\frac{\\partial }{\\partial x}(\\frac{1}{bc(x)})$"
   ]
  },
  {
   "cell_type": "code",
   "execution_count": 88,
   "id": "8a0b6c12",
   "metadata": {
    "scrolled": true
   },
   "outputs": [],
   "source": [
    "# don't use 2 deformations, just set bc_0x to something else, let's see if we get there:\n",
    "mesh.UnsetDeformation()\n",
    "bc_0x = 3\n",
    "\n",
    "gfset = GridFunction(VEC)\n",
    "\n",
    "dJOmega2 = LinearForm(VEC)\n",
    "#dJOmega2 += ((beta*((bc_x-bc_0x)**2)*dx)).DiffShape(X)\n",
    "dJOmega2 += ((2*beta*((1/bc_x-bc_0x))*(1/bc_x)*dx)).DiffShape(X)\n",
    "\n",
    "gfset = GridFunction(VEC)\n",
    "\n",
    "b = BilinearForm(VEC)\n",
    "b += (InnerProduct(grad(X),grad(PHI))).Compile() *dx + (InnerProduct(X,PHI)).Compile()*dx\n",
    "\n",
    "def SolveDeformationEquation():\n",
    "    rhs = gfX.vec.CreateVector()\n",
    "    rhs.data = dJOmega2.vec - b.mat * gfX.vec\n",
    "    update = gfX.vec.CreateVector()\n",
    "    update.data = b.mat.Inverse(VEC.FreeDofs()) * rhs\n",
    "    gfX.vec.data += update"
   ]
  },
  {
   "cell_type": "code",
   "execution_count": 89,
   "id": "80dbfe4b",
   "metadata": {
    "scrolled": true
   },
   "outputs": [
    {
     "data": {
      "text/plain": [
       "-5.080028269950915e-17"
      ]
     },
     "execution_count": 89,
     "metadata": {},
     "output_type": "execute_result"
    }
   ],
   "source": [
    "bc_x.Set((1/surf_0)*Integrate(bc_tx,mesh))\n",
    "bc_x.Get()"
   ]
  },
  {
   "cell_type": "code",
   "execution_count": 90,
   "id": "4919ea69",
   "metadata": {},
   "outputs": [
    {
     "name": "stdout",
     "output_type": "stream",
     "text": [
      "-5.080028269950915e-17\n",
      "1.4006351566346755e-05\n",
      "0.0023193158109753153\n",
      "0.002286869875901136\n",
      "0.002255452077417368\n",
      "0.0022235148028596405\n",
      "0.00219110385621081\n",
      "0.002158263313539249\n",
      "0.0021250355719572294\n",
      "0.002091461398338092\n",
      "0.0020575799777029025\n",
      "0.0020234289611910997\n",
      "0.0019890445135384684\n",
      "0.0019544613599879143\n",
      "0.0019197128325665154\n",
      "0.0018848309156665125\n",
      "0.0018498462908744713\n",
      "0.0018147883809975004\n",
      "0.0017796853932402917\n",
      "0.0017445643614938547\n",
      "0.0017094511876992512\n",
      "0.0016743706822562945\n",
      "0.0016393466034519313\n",
      "0.0016044016958856437\n",
      "0.0015695577278765395\n",
      "0.0015348355278375254\n",
      "0.0015002550196091613\n",
      "0.001465835256746472\n",
      "0.0014315944557583588\n",
      "0.0013975500282996445\n",
      "0.0013637186123214584\n",
      "0.0013301161021864343\n",
      "0.0012967576777593124\n",
      "0.001263657832484508\n",
      "0.0012308304004658194\n"
     ]
    },
    {
     "ename": "KeyboardInterrupt",
     "evalue": "",
     "output_type": "error",
     "traceback": [
      "\u001b[1;31m---------------------------------------------------------------------------\u001b[0m",
      "\u001b[1;31mKeyboardInterrupt\u001b[0m                         Traceback (most recent call last)",
      "Input \u001b[1;32mIn [90]\u001b[0m, in \u001b[0;36m<cell line: 7>\u001b[1;34m()\u001b[0m\n\u001b[0;32m     20\u001b[0m scale \u001b[38;5;241m=\u001b[39m \u001b[38;5;241m0.1\u001b[39m \u001b[38;5;241m/\u001b[39m gfxnorm\n\u001b[0;32m     21\u001b[0m gfset\u001b[38;5;241m.\u001b[39mvec\u001b[38;5;241m.\u001b[39mdata \u001b[38;5;241m-\u001b[39m\u001b[38;5;241m=\u001b[39m scale \u001b[38;5;241m*\u001b[39m gfX\u001b[38;5;241m.\u001b[39mvec\n\u001b[1;32m---> 23\u001b[0m \u001b[43mtime\u001b[49m\u001b[38;5;241;43m.\u001b[39;49m\u001b[43msleep\u001b[49m\u001b[43m(\u001b[49m\u001b[38;5;241;43m0.1\u001b[39;49m\u001b[43m)\u001b[49m\n",
      "\u001b[1;31mKeyboardInterrupt\u001b[0m: "
     ]
    }
   ],
   "source": [
    "import time\n",
    "gfset.Set((0,0))\n",
    "mesh.SetDeformation(gfset)\n",
    "scene.Redraw()\n",
    "iter_max = 100\n",
    "\n",
    "for i in range(0,iter_max):\n",
    "    mesh.SetDeformation(gfset)\n",
    "    scene.Redraw()\n",
    "    \n",
    "    b.Assemble()\n",
    "    bc_x.Set((1/surf_0)*Integrate(bc_tx,mesh)) # needed for multiple iterations (already done once before)\n",
    "    print(bc_x.Get())\n",
    "    dJOmega2.Assemble()\n",
    "    SolveDeformationEquation()\n",
    "    \n",
    "    mesh.UnsetDeformation()\n",
    "    \n",
    "    gfxnorm = Norm(gfX.vec)\n",
    "    scale = 0.1 / gfxnorm\n",
    "    gfset.vec.data -= scale * gfX.vec\n",
    "    \n",
    "    time.sleep(0.1)"
   ]
  },
  {
   "cell_type": "code",
   "execution_count": null,
   "id": "030de107",
   "metadata": {},
   "outputs": [],
   "source": [
    "bc_x.Get()"
   ]
  },
  {
   "cell_type": "code",
   "execution_count": null,
   "id": "af77a56f",
   "metadata": {},
   "outputs": [],
   "source": []
  }
 ],
 "metadata": {
  "kernelspec": {
   "display_name": "Python 3 (ipykernel)",
   "language": "python",
   "name": "python3"
  },
  "language_info": {
   "codemirror_mode": {
    "name": "ipython",
    "version": 3
   },
   "file_extension": ".py",
   "mimetype": "text/x-python",
   "name": "python",
   "nbconvert_exporter": "python",
   "pygments_lexer": "ipython3",
   "version": "3.10.1"
  }
 },
 "nbformat": 4,
 "nbformat_minor": 5
}
