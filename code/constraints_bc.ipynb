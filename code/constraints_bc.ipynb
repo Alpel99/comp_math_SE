{
 "cells": [
  {
   "cell_type": "code",
   "execution_count": 1,
   "id": "9bbc760d",
   "metadata": {},
   "outputs": [],
   "source": [
    "from ngsolve import *\n",
    "from netgen.geom2d import SplineGeometry\n",
    "from ngsolve.webgui import Draw"
   ]
  },
  {
   "cell_type": "code",
   "execution_count": 2,
   "id": "f600dfea",
   "metadata": {},
   "outputs": [
    {
     "data": {
      "application/vnd.jupyter.widget-view+json": {
       "model_id": "da3a37034ec749a1baf90d3f79e65e45",
       "version_major": 2,
       "version_minor": 0
      },
      "text/plain": [
       "WebGuiWidget(value={'ngsolve_version': '6.2.2201', 'mesh_dim': 2, 'order2d': 2, 'order3d': 2, 'draw_vol': None…"
      ]
     },
     "metadata": {},
     "output_type": "display_data"
    }
   ],
   "source": [
    "geo = SplineGeometry()\n",
    "m = 0.6\n",
    "geo.AddCircle(c=(0, 0), r=2, bc=\"cyl\", maxh=m) # 0.04\n",
    "mesh = Mesh(geo.GenerateMesh(maxh=m))\n",
    "mesh2 = Mesh(geo.GenerateMesh(maxh=m))\n",
    "mesh.Curve(3);\n",
    "mesh2.Curve(3)\n",
    "scene1 = Draw(mesh)"
   ]
  },
  {
   "cell_type": "code",
   "execution_count": 3,
   "id": "1185cacb",
   "metadata": {},
   "outputs": [
    {
     "data": {
      "text/plain": [
       "-5.080028269950915e-17"
      ]
     },
     "execution_count": 3,
     "metadata": {},
     "output_type": "execute_result"
    }
   ],
   "source": [
    "def calcBc():\n",
    "    r = 1/Integrate(1,mesh)*Integrate(x,mesh)\n",
    "    return r\n",
    "calcBc()"
   ]
  },
  {
   "cell_type": "code",
   "execution_count": 4,
   "id": "4dd25961",
   "metadata": {},
   "outputs": [],
   "source": [
    "# vector space for shape gradient\n",
    "VEC = H1(mesh, order=1, dim=2)\n",
    "# Test and trial functions\n",
    "PHI, X = VEC.TnT()\n",
    "gfX = GridFunction(VEC)"
   ]
  },
  {
   "cell_type": "code",
   "execution_count": 5,
   "id": "ed57e5f9",
   "metadata": {},
   "outputs": [],
   "source": [
    "surf_t = CoefficientFunction(1)\n",
    "surf_0 = Integrate(surf_t,mesh)\n",
    "\n",
    "dJOmega  = LinearForm(VEC)\n",
    "\n",
    "# volume stuff\n",
    "surf_t = CoefficientFunction(1)\n",
    "surf_0 = Integrate(surf_t,mesh)\n",
    "vol = Parameter(1)\n",
    "vol.Set(Integrate(surf_t,mesh))\n",
    "vol_inv = Parameter(1)\n",
    "vol_inv.Set(1/Integrate(surf_t,mesh))\n",
    "# bc prep\n",
    "bc_tx = CoefficientFunction(x)\n",
    "bc_0x = 1/surf_0*Integrate(bc_tx,mesh)\n",
    "\n",
    "# bc constraints\n",
    "beta0 = 1e-1\n",
    "beta = Parameter(beta0)\n",
    "bc_x = Parameter(1)\n",
    "bc_int = Parameter(1)\n",
    "bc_int.Set(Integrate(bc_tx,mesh))\n",
    "bc_x.Set(calcBc())\n",
    "\n",
    "dJOmega += ((beta*((bc_x-bc_0x)**2)*dx)).DiffShape(X)"
   ]
  },
  {
   "cell_type": "code",
   "execution_count": 6,
   "id": "c341a59d",
   "metadata": {
    "scrolled": false
   },
   "outputs": [
    {
     "name": "stdout",
     "output_type": "stream",
     "text": [
      "curvol:  12.566430839284152\n",
      "Initial bc:  -5.080028269950915e-17\n",
      "       0\n",
      "      0\n",
      "\n",
      "       0\n",
      "      0\n",
      "\n",
      "       0\n",
      "      0\n",
      "\n",
      "       0\n",
      "      0\n",
      "\n",
      "       0\n",
      "      0\n",
      "\n",
      "\n"
     ]
    }
   ],
   "source": [
    "dJOmega.Assemble()\n",
    "print(\"curvol: \", vol.Get())\n",
    "print(\"Initial bc: \", bc_x.Get())\n",
    "print(dJOmega.vec[0:5])"
   ]
  },
  {
   "cell_type": "code",
   "execution_count": 7,
   "id": "87f96858",
   "metadata": {},
   "outputs": [
    {
     "data": {
      "application/vnd.jupyter.widget-view+json": {
       "model_id": "dce51b245025486a93902b6e26b8416c",
       "version_major": 2,
       "version_minor": 0
      },
      "text/plain": [
       "WebGuiWidget(value={'ngsolve_version': '6.2.2201', 'mesh_dim': 2, 'order2d': 2, 'order3d': 2, 'draw_vol': None…"
      ]
     },
     "metadata": {},
     "output_type": "display_data"
    }
   ],
   "source": [
    "mesh.UnsetDeformation()\n",
    "test = CoefficientFunction((0.8,1.2))\n",
    "gfX.Set(test)\n",
    "mesh.SetDeformation(gfX)\n",
    "scene = Draw(mesh)"
   ]
  },
  {
   "cell_type": "code",
   "execution_count": 8,
   "id": "d00cb53a",
   "metadata": {
    "scrolled": true
   },
   "outputs": [
    {
     "name": "stdout",
     "output_type": "stream",
     "text": [
      "curvol:  12.56643083928415\n",
      "0.7999999999999996\n",
      "0.7999999999999996\n"
     ]
    }
   ],
   "source": [
    "bc_x.Set((1/surf_0)*Integrate(bc_tx,mesh))\n",
    "dJOmega.Assemble()\n",
    "print(\"curvol: \", Integrate(1,mesh))\n",
    "print(bc_x.Get())\n",
    "print(abs(bc_0x-bc_x.Get()))\n",
    "#print(dJOmega.vec)"
   ]
  },
  {
   "cell_type": "markdown",
   "id": "cb7349c0",
   "metadata": {},
   "source": [
    "## try to do this as shape optimization\n",
    "Barycenter:\n",
    "$\\Large bc = \\frac{1}{\\int_\\Omega 1 \\mathrm{dx}}\\cdot\\int_\\Omega x \\mathrm{dx}$ <br>\n",
    "#### above as shape derivative:\n",
    "$\\Large-\\frac{1}{|\\Omega |^2}\\cdot\\int div(x)\\mathrm{dx}\\cdot(\\int x \\mathrm{dx})+$<br>\n",
    "$\\Large\\frac{1}{|\\Omega |}\\cdot\\int div(v)x_i \\mathrm{dx}\\cdot\\int v_i \\mathrm{dx}$ <br>\n",
    " unimplementierbar?!"
   ]
  },
  {
   "cell_type": "code",
   "execution_count": 9,
   "id": "c36f1eeb",
   "metadata": {},
   "outputs": [],
   "source": [
    "# don't use 2 deformations, just set bc_0x to something else, let's see if we get there:\n",
    "mesh.UnsetDeformation()\n",
    "bc_0x = 1.5\n",
    "\n",
    "gfset = GridFunction(VEC)\n",
    "\n",
    "dJOmega2 = LinearForm(VEC)\n",
    "# initial try in auto (wrong)\n",
    "#dJOmega2 += ((beta*((bc_x-bc_0x)**2)*dx)).DiffShape(X)\n",
    "# derivative by sturm (wrong)\n",
    "#dJOmega2 += ((2*beta*((1/bc_x-bc_0x))*(1/bc_x)*dx)).DiffShape(X)\n",
    "# another try (wrong)\n",
    "# dJOmega2 += (2*(1/(vol_inv*bc_int)-bc_0x)*(1/(vol_inv*bc_int))*dx).DiffShape(X)\n",
    "# new try\n",
    "dJOmega2 += 2*beta*(bc_x-bc_0x)*((1/vol**2)*div(X)*x+(1/vol)*div(X)*x*sum(gfset.vecs[0].data)[0])*dx\n",
    "\n",
    "gfset = GridFunction(VEC)\n",
    "\n",
    "b = BilinearForm(VEC)\n",
    "b += (InnerProduct(grad(X),grad(PHI))).Compile() *dx + (InnerProduct(X,PHI)).Compile()*dx\n",
    "\n",
    "def SolveDeformationEquation():\n",
    "    rhs = gfX.vec.CreateVector()\n",
    "    rhs.data = dJOmega2.vec - b.mat * gfX.vec\n",
    "    update = gfX.vec.CreateVector()\n",
    "    update.data = b.mat.Inverse(VEC.FreeDofs()) * rhs\n",
    "    gfX.vec.data += update"
   ]
  },
  {
   "cell_type": "code",
   "execution_count": 10,
   "id": "80dbfe4b",
   "metadata": {
    "scrolled": false
   },
   "outputs": [
    {
     "data": {
      "text/plain": [
       "-5.080028269950915e-17"
      ]
     },
     "execution_count": 10,
     "metadata": {},
     "output_type": "execute_result"
    }
   ],
   "source": [
    "bc_x.Set((1/surf_0)*Integrate(bc_tx,mesh))\n",
    "bc_x.Get()"
   ]
  },
  {
   "cell_type": "code",
   "execution_count": null,
   "id": "4bd14bbb",
   "metadata": {},
   "outputs": [],
   "source": []
  },
  {
   "cell_type": "code",
   "execution_count": 11,
   "id": "4919ea69",
   "metadata": {},
   "outputs": [
    {
     "name": "stdout",
     "output_type": "stream",
     "text": [
      "-5.080028269950915e-17\n",
      "0.027932077808441386\n",
      "0.05585240900613169\n",
      "0.08374819370381457\n",
      "0.11160677482548435\n",
      "0.13941573952627767\n",
      "0.16716301491991595\n",
      "0.1948369556881842\n",
      "0.222426421552814\n",
      "0.24992084308403373\n",
      "0.27731027486086873\n",
      "0.30458543554618583\n",
      "0.3317377349579224\n",
      "0.3587592886769194\n",
      "0.38564292110992676\n",
      "0.41238215821171603\n",
      "0.4389712112596988\n",
      "0.4654049531726351\n",
      "0.49167888888211253\n",
      "0.5177891212154769\n",
      "0.5437323136473814\n",
      "0.5695056511397629\n",
      "0.5951068001313029\n",
      "0.6205338685697541\n",
      "0.6457853667138714\n",
      "0.67086016927368\n",
      "0.6957574793134634\n",
      "0.7204767942144156\n",
      "0.7450178738845704\n",
      "0.7693807113126743\n",
      "0.7935655054891231\n",
      "0.8175726366595419\n",
      "0.8414026438332011\n",
      "0.8650562044373006\n",
      "0.8885341159871786\n",
      "0.9118372796299373\n",
      "0.9349666854130353\n",
      "0.9579233991286591\n",
      "0.9807085505877671\n",
      "1.0033233231836576\n",
      "1.0257689446126972\n",
      "1.048046678628887\n",
      "1.0701578177186128\n",
      "1.0921036765917924\n",
      "1.1138855863954287\n",
      "1.1355048895650457\n",
      "1.15696293523841\n",
      "1.1782610751643792\n",
      "1.1994006600474376\n",
      "1.2203830362755865\n",
      "1.2412095429856804\n",
      "1.261881509426098\n",
      "1.2824002525818339\n",
      "1.3027670750317177\n",
      "1.3229832630115703\n",
      "1.343050084660722\n",
      "1.362968788432526\n",
      "1.3827406016522894\n",
      "1.4023667292085118\n",
      "1.4218483523654444\n",
      "1.4411866276869105\n",
      "1.4603826860628915\n",
      "1.4794376318318951\n",
      "1.4983525419932722\n",
      "1.5171284655048338\n",
      "1.4984365862492488\n",
      "1.5172113127526325\n",
      "1.4985206053666809\n",
      "1.5172941355756733\n",
      "1.498604599347588\n",
      "1.517376933975775\n",
      "1.498688568194004\n",
      "1.517459707954761\n",
      "1.4987725119079724\n",
      "1.517542457514473\n",
      "1.4988564304915422\n",
      "1.5176251826567542\n",
      "1.498940323946781\n",
      "1.517707883383464\n",
      "1.4990241922757577\n",
      "1.5177905596964707\n",
      "1.4991080354805593\n",
      "1.5178732115976499\n",
      "1.4991918535632773\n",
      "1.5179558390888883\n",
      "1.4992756465260197\n",
      "1.518038442172085\n",
      "1.4993594143708964\n",
      "1.5181210208491478\n",
      "1.499443157100036\n",
      "1.5182035751219918\n",
      "1.4995268747155692\n",
      "1.5182861049925467\n",
      "1.4996105672196471\n",
      "1.518368610462747\n",
      "1.4996942346144175\n",
      "1.5184510915345437\n",
      "1.4997778769020518\n",
      "1.5185335482098883\n",
      "1.4998614940847232\n"
     ]
    }
   ],
   "source": [
    "import time\n",
    "gfset.Set((0,0))\n",
    "mesh.SetDeformation(gfset)\n",
    "scene.Redraw()\n",
    "iter_max = 100\n",
    "\n",
    "for i in range(0,iter_max):\n",
    "    mesh.SetDeformation(gfset)\n",
    "    scene.Redraw()\n",
    "    \n",
    "    b.Assemble()\n",
    "    \n",
    "    vol_inv.Set(1/Integrate(surf_t,mesh))\n",
    "    vol.Set(Integrate(surf_t,mesh))\n",
    "    bc_x.Set((1/vol.Get())*Integrate(bc_tx,mesh)) # needed for multiple iterations (already done once before)\n",
    "    bc_int.Set(Integrate(bc_tx,mesh))\n",
    "    #print(1/Integrate(1,mesh)*Integrate(x,mesh))\n",
    "    print(bc_x.Get())\n",
    "    dJOmega2.Assemble()\n",
    "    SolveDeformationEquation()\n",
    "    \n",
    "    mesh.UnsetDeformation()\n",
    "    \n",
    "    gfxnorm = Norm(gfX.vec)\n",
    "    scale = 0.1 / gfxnorm\n",
    "    gfset.vec.data -= scale * gfX.vec\n",
    "    \n",
    "    time.sleep(0.1)"
   ]
  },
  {
   "cell_type": "code",
   "execution_count": 12,
   "id": "030de107",
   "metadata": {},
   "outputs": [
    {
     "data": {
      "text/plain": [
       "1.4998614940847232"
      ]
     },
     "execution_count": 12,
     "metadata": {},
     "output_type": "execute_result"
    }
   ],
   "source": [
    "bc_x.Get()"
   ]
  },
  {
   "cell_type": "code",
   "execution_count": null,
   "id": "79446fa3",
   "metadata": {},
   "outputs": [],
   "source": []
  }
 ],
 "metadata": {
  "kernelspec": {
   "display_name": "Python 3 (ipykernel)",
   "language": "python",
   "name": "python3"
  },
  "language_info": {
   "codemirror_mode": {
    "name": "ipython",
    "version": 3
   },
   "file_extension": ".py",
   "mimetype": "text/x-python",
   "name": "python",
   "nbconvert_exporter": "python",
   "pygments_lexer": "ipython3",
   "version": "3.9.6"
  }
 },
 "nbformat": 4,
 "nbformat_minor": 5
}
