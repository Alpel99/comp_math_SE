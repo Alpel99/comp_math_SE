{
 "cells": [
  {
   "cell_type": "code",
   "execution_count": 92,
   "id": "9bbc760d",
   "metadata": {},
   "outputs": [],
   "source": [
    "from ngsolve import *\n",
    "from netgen.geom2d import SplineGeometry\n",
    "from ngsolve.webgui import Draw"
   ]
  },
  {
   "cell_type": "code",
   "execution_count": 131,
   "id": "f600dfea",
   "metadata": {},
   "outputs": [
    {
     "data": {
      "application/vnd.jupyter.widget-view+json": {
       "model_id": "e4ec3b098dd0425796fe9c5fd2e9af76",
       "version_major": 2,
       "version_minor": 0
      },
      "text/plain": [
       "WebGuiWidget(value={'ngsolve_version': '6.2.2201', 'mesh_dim': 2, 'order2d': 2, 'order3d': 2, 'draw_vol': None…"
      ]
     },
     "metadata": {},
     "output_type": "display_data"
    }
   ],
   "source": [
    "geo = SplineGeometry()\n",
    "m = 0.6\n",
    "geo.AddCircle(c=(0, 0), r=2, bc=\"cyl\", maxh=m) # 0.04\n",
    "mesh = Mesh(geo.GenerateMesh(maxh=m))\n",
    "mesh2 = Mesh(geo.GenerateMesh(maxh=m))\n",
    "mesh.Curve(3);\n",
    "mesh2.Curve(3)\n",
    "scene1 = Draw(mesh)"
   ]
  },
  {
   "cell_type": "code",
   "execution_count": 132,
   "id": "1185cacb",
   "metadata": {},
   "outputs": [
    {
     "data": {
      "text/plain": [
       "-5.080028269950915e-17"
      ]
     },
     "execution_count": 132,
     "metadata": {},
     "output_type": "execute_result"
    }
   ],
   "source": [
    "def calcBc():\n",
    "    r = 1/Integrate(1,mesh)*Integrate(x,mesh)\n",
    "    return r\n",
    "calcBc()"
   ]
  },
  {
   "cell_type": "code",
   "execution_count": 94,
   "id": "4dd25961",
   "metadata": {},
   "outputs": [],
   "source": [
    "# vector space for shape gradient\n",
    "VEC = H1(mesh, order=1, dim=2)\n",
    "# Test and trial functions\n",
    "PHI, X = VEC.TnT()\n",
    "gfX = GridFunction(VEC)"
   ]
  },
  {
   "cell_type": "code",
   "execution_count": 134,
   "id": "ed57e5f9",
   "metadata": {},
   "outputs": [],
   "source": [
    "surf_t = CoefficientFunction(1)\n",
    "surf_0 = Integrate(surf_t,mesh)\n",
    "\n",
    "dJOmega  = LinearForm(VEC)\n",
    "\n",
    "# volume stuff\n",
    "surf_t = CoefficientFunction(1)\n",
    "surf_0 = Integrate(surf_t,mesh)\n",
    "vol = Parameter(1)\n",
    "vol.Set(Integrate(surf_t,mesh))\n",
    "vol_inv = Parameter(1)\n",
    "vol_inv.Set(1/Integrate(surf_t,mesh))\n",
    "# bc prep\n",
    "bc_tx = CoefficientFunction(x)\n",
    "bc_0x = 1/surf_0*Integrate(bc_tx,mesh)\n",
    "\n",
    "# bc constraints\n",
    "beta0 = 1e-3\n",
    "beta = Parameter(beta0)\n",
    "bc_x = Parameter(1)\n",
    "bc_int = Parameter(1)\n",
    "bc_int.Set(Integrate(bc_tx,mesh))\n",
    "bc_x.Set(calcBc())\n",
    "\n",
    "dJOmega += ((beta*((bc_x-bc_0x)**2)*dx)).DiffShape(X)"
   ]
  },
  {
   "cell_type": "code",
   "execution_count": 135,
   "id": "c341a59d",
   "metadata": {
    "scrolled": false
   },
   "outputs": [
    {
     "name": "stdout",
     "output_type": "stream",
     "text": [
      "curvol:  12.566430839284152\n",
      "Initial bc:  -5.080028269950915e-17\n",
      "       0\n",
      "      0\n",
      "\n",
      "       0\n",
      "      0\n",
      "\n",
      "       0\n",
      "      0\n",
      "\n",
      "       0\n",
      "      0\n",
      "\n",
      "       0\n",
      "      0\n",
      "\n",
      "\n"
     ]
    }
   ],
   "source": [
    "dJOmega.Assemble()\n",
    "print(\"curvol: \", vol.Get())\n",
    "print(\"Initial bc: \", bc_x.Get())\n",
    "print(dJOmega.vec[0:5])"
   ]
  },
  {
   "cell_type": "code",
   "execution_count": 136,
   "id": "87f96858",
   "metadata": {},
   "outputs": [
    {
     "data": {
      "application/vnd.jupyter.widget-view+json": {
       "model_id": "ac2d8556c9f74f3b9e40c807646aafc5",
       "version_major": 2,
       "version_minor": 0
      },
      "text/plain": [
       "WebGuiWidget(value={'ngsolve_version': '6.2.2201', 'mesh_dim': 2, 'order2d': 2, 'order3d': 2, 'draw_vol': None…"
      ]
     },
     "metadata": {},
     "output_type": "display_data"
    }
   ],
   "source": [
    "mesh.UnsetDeformation()\n",
    "test = CoefficientFunction((0.8,1.2))\n",
    "gfX.Set(test)\n",
    "mesh.SetDeformation(gfX)\n",
    "scene = Draw(mesh)"
   ]
  },
  {
   "cell_type": "code",
   "execution_count": 99,
   "id": "d00cb53a",
   "metadata": {
    "scrolled": true
   },
   "outputs": [
    {
     "name": "stdout",
     "output_type": "stream",
     "text": [
      "curvol:  12.56643083928415\n",
      "0.7999999999999996\n",
      "0.7999999999999996\n",
      "  1.89735e-19\n",
      " -0.000392056\n",
      "\n",
      "  0.000392056\n",
      " 1.35525e-19\n",
      "\n",
      "  -4.40457e-20\n",
      " 0.000392056\n",
      "\n",
      "  -0.000392056\n",
      " -8.80914e-20\n",
      "\n",
      "  0.000123018\n",
      " -0.0003812\n",
      "\n",
      "  0.000235182\n",
      " -0.000324147\n",
      "\n",
      "  0.000324147\n",
      " -0.000235182\n",
      "\n",
      "  0.0003812\n",
      " -0.000123018\n",
      "\n",
      "  0.0003812\n",
      " 0.000123018\n",
      "\n",
      "  0.000324147\n",
      " 0.000235182\n",
      "\n",
      "  0.000235182\n",
      " 0.000324147\n",
      "\n",
      "  0.000123018\n",
      " 0.0003812\n",
      "\n",
      "  -0.000123018\n",
      " 0.0003812\n",
      "\n",
      "  -0.000235182\n",
      " 0.000324147\n",
      "\n",
      "  -0.000324147\n",
      " 0.000235182\n",
      "\n",
      "  -0.0003812\n",
      " 0.000123018\n",
      "\n",
      "  -0.0003812\n",
      " -0.000123018\n",
      "\n",
      "  -0.000324147\n",
      " -0.000235182\n",
      "\n",
      "  -0.000235182\n",
      " -0.000324147\n",
      "\n",
      "  -0.000123018\n",
      " -0.0003812\n",
      "\n",
      "  6.77626e-21\n",
      " -1.0842e-19\n",
      "\n",
      "  -8.13152e-20\n",
      "      0\n",
      "\n",
      "  -1.0842e-19\n",
      " -2.71051e-20\n",
      "\n",
      "  6.94567e-20\n",
      " 1.0842e-19\n",
      "\n",
      "       0\n",
      " -1.35525e-19\n",
      "\n",
      "  5.42101e-20\n",
      " -2.71051e-20\n",
      "\n",
      "  -1.35525e-20\n",
      " 1.0842e-19\n",
      "\n",
      "  -5.42101e-20\n",
      " 1.35525e-20\n",
      "\n",
      "  5.42101e-20\n",
      " -8.13152e-20\n",
      "\n",
      "  2.71051e-20\n",
      " -2.71051e-20\n",
      "\n",
      "  1.0842e-19\n",
      " -1.81053e-20\n",
      "\n",
      "       0\n",
      " 5.42101e-20\n",
      "\n",
      "  2.71051e-20\n",
      " 1.0842e-19\n",
      "\n",
      "  -5.42101e-20\n",
      " -5.42101e-20\n",
      "\n",
      "  5.42101e-20\n",
      " -5.42101e-20\n",
      "\n",
      "  -7.45389e-20\n",
      " 8.13152e-20\n",
      "\n",
      "  -2.71051e-20\n",
      "      0\n",
      "\n",
      "  1.35525e-20\n",
      " 5.42101e-20\n",
      "\n",
      "  -8.13152e-20\n",
      " -6.77626e-20\n",
      "\n",
      "  -2.71051e-20\n",
      " 2.71051e-20\n",
      "\n",
      "\n"
     ]
    }
   ],
   "source": [
    "bc_x.Set((1/surf_0)*Integrate(bc_tx,mesh))\n",
    "dJOmega.Assemble()\n",
    "print(\"curvol: \", Integrate(1,mesh))\n",
    "print(bc_x.Get())\n",
    "print(abs(bc_0x-bc_x.Get()))\n",
    "print(dJOmega.vec)"
   ]
  },
  {
   "cell_type": "markdown",
   "id": "5cc65b5a",
   "metadata": {},
   "source": [
    "## try to do this as shape optimization\n",
    "\n",
    "$\\Large \\frac{\\partial }{\\partial x} \\beta(bc(x)-bc_0)^2 =$ <br>\n",
    "$\\Large 2(\\frac{1}{bc(x)}-bc_0)\\cdot \\frac{\\partial }{\\partial x}(\\frac{1}{bc(x)})$"
   ]
  },
  {
   "cell_type": "code",
   "execution_count": 122,
   "id": "8a0b6c12",
   "metadata": {
    "scrolled": true
   },
   "outputs": [],
   "source": [
    "# don't use 2 deformations, just set bc_0x to something else, let's see if we get there:\n",
    "mesh.UnsetDeformation()\n",
    "bc_0x = 3\n",
    "\n",
    "gfset = GridFunction(VEC)\n",
    "\n",
    "dJOmega2 = LinearForm(VEC)\n",
    "#dJOmega2 += ((beta*((bc_x-bc_0x)**2)*dx)).DiffShape(X)\n",
    "#dJOmega2 += ((2*beta*((1/bc_x-bc_0x))*(1/bc_x)*dx)).DiffShape(X)\n",
    "dJOmega2 += (2*(1/(vol_inv*bc_int)-bc_0x)*(1/(vol_inv*bc_int))*dx).DiffShape(X)\n",
    "\n",
    "gfset = GridFunction(VEC)\n",
    "\n",
    "b = BilinearForm(VEC)\n",
    "b += (InnerProduct(grad(X),grad(PHI))).Compile() *dx + (InnerProduct(X,PHI)).Compile()*dx\n",
    "\n",
    "def SolveDeformationEquation():\n",
    "    rhs = gfX.vec.CreateVector()\n",
    "    rhs.data = dJOmega2.vec - b.mat * gfX.vec\n",
    "    update = gfX.vec.CreateVector()\n",
    "    update.data = b.mat.Inverse(VEC.FreeDofs()) * rhs\n",
    "    gfX.vec.data += update"
   ]
  },
  {
   "cell_type": "code",
   "execution_count": 125,
   "id": "80dbfe4b",
   "metadata": {
    "scrolled": true
   },
   "outputs": [
    {
     "data": {
      "text/plain": [
       "-5.0800282699509165e-17"
      ]
     },
     "execution_count": 125,
     "metadata": {},
     "output_type": "execute_result"
    }
   ],
   "source": [
    "bc_x.Set((1/surf_0)*Integrate(bc_tx,mesh))\n",
    "bc_x.Get()"
   ]
  },
  {
   "cell_type": "code",
   "execution_count": 124,
   "id": "4919ea69",
   "metadata": {},
   "outputs": [
    {
     "name": "stdout",
     "output_type": "stream",
     "text": [
      "-5.080028269950915e-17\n",
      "1.429376008822665e-05\n",
      "0.0037971088310493222\n",
      "0.0038118208830393687\n",
      "0.0038260633696637607\n",
      "0.0038399070568818842\n",
      "0.003853360777934556\n",
      "0.0038664331665739476\n",
      "0.0038791326557327597\n",
      "0.003891467476622981\n",
      "0.0039034456582471176\n",
      "0.003915075027301849\n",
      "0.003926363208455309\n",
      "0.003937317624979514\n",
      "0.003947945499715264\n",
      "0.003958253856350968\n",
      "0.00396824952099261\n",
      "0.003977939124005045\n",
      "0.003987329102100785\n",
      "0.003996425700657394\n",
      "0.004005234976238724\n",
      "0.004013762799300506\n",
      "0.004022014857057539\n",
      "0.004029996656491026\n",
      "0.004037713527474182\n",
      "0.004045170625995862\n",
      "0.004052372937459982\n",
      "0.004059325280040356\n",
      "0.0040660323080704995\n",
      "0.004072498515448639\n",
      "0.0040787282390354045\n",
      "0.00408472566202808\n",
      "0.004090494817288327\n",
      "0.004096039590606752\n",
      "0.004101363723882562\n",
      "0.0041064708182014815\n",
      "0.004111364336791161\n",
      "0.004116047607836409\n",
      "0.004120523827133511\n",
      "0.004124796060566072\n",
      "0.004128867246381856\n",
      "0.004132740197250145\n",
      "0.00413641760208111\n",
      "0.004139902027584064\n",
      "0.004143195919543373\n",
      "0.004146301603790125\n",
      "0.004149221286844041\n",
      "0.004151957056201191\n",
      "0.00415451088023971\n",
      "0.004156884607715641\n",
      "0.004159079966816377\n",
      "0.00416109856373917\n",
      "0.004162941880758282\n",
      "0.004164611273739963\n",
      "0.004166107969063959\n",
      "0.004167433059903046\n",
      "0.004168587501809804\n",
      "0.0041695721075538945\n",
      "0.004170387541149237\n",
      "0.004171034311003392\n",
      "0.004171512762116473\n",
      "0.00417182306725074\n",
      "0.004171965216986706\n",
      "0.004171939008574158\n",
      "0.004171744033483275\n",
      "0.004171379663558007\n",
      "0.004170845035670629\n",
      "0.004170139034782681\n",
      "0.004169260275323968\n",
      "0.004168207080821643\n",
      "0.004166977461741237\n",
      "0.004165569091555706\n",
      "0.004163979281136147\n",
      "0.004162204951682856\n"
     ]
    },
    {
     "ename": "KeyboardInterrupt",
     "evalue": "",
     "output_type": "error",
     "traceback": [
      "\u001b[1;31m---------------------------------------------------------------------------\u001b[0m",
      "\u001b[1;31mKeyboardInterrupt\u001b[0m                         Traceback (most recent call last)",
      "Input \u001b[1;32mIn [124]\u001b[0m, in \u001b[0;36m<cell line: 7>\u001b[1;34m()\u001b[0m\n\u001b[0;32m     23\u001b[0m scale \u001b[38;5;241m=\u001b[39m \u001b[38;5;241m0.1\u001b[39m \u001b[38;5;241m/\u001b[39m gfxnorm\n\u001b[0;32m     24\u001b[0m gfset\u001b[38;5;241m.\u001b[39mvec\u001b[38;5;241m.\u001b[39mdata \u001b[38;5;241m-\u001b[39m\u001b[38;5;241m=\u001b[39m scale \u001b[38;5;241m*\u001b[39m gfX\u001b[38;5;241m.\u001b[39mvec\n\u001b[1;32m---> 26\u001b[0m \u001b[43mtime\u001b[49m\u001b[38;5;241;43m.\u001b[39;49m\u001b[43msleep\u001b[49m\u001b[43m(\u001b[49m\u001b[38;5;241;43m0.1\u001b[39;49m\u001b[43m)\u001b[49m\n",
      "\u001b[1;31mKeyboardInterrupt\u001b[0m: "
     ]
    }
   ],
   "source": [
    "import time\n",
    "gfset.Set((0,0))\n",
    "mesh.SetDeformation(gfset)\n",
    "scene.Redraw()\n",
    "iter_max = 100\n",
    "\n",
    "for i in range(0,iter_max):\n",
    "    mesh.SetDeformation(gfset)\n",
    "    scene.Redraw()\n",
    "    \n",
    "    b.Assemble()\n",
    "    #bc_x.Set((1/surf_0)*Integrate(bc_tx,mesh)) # needed for multiple iterations (already done once before)\n",
    "    vol_inv.Set(1/Integrate(surf_t,mesh))\n",
    "    bc_int.Set(Integrate(bc_tx,mesh))\n",
    "    print(1/Integrate(1,mesh)*Integrate(x,mesh))\n",
    "    #print(bc_x.Get())\n",
    "    dJOmega2.Assemble()\n",
    "    SolveDeformationEquation()\n",
    "    \n",
    "    mesh.UnsetDeformation()\n",
    "    \n",
    "    gfxnorm = Norm(gfX.vec)\n",
    "    scale = 0.1 / gfxnorm\n",
    "    gfset.vec.data -= scale * gfX.vec\n",
    "    \n",
    "    time.sleep(0.1)"
   ]
  },
  {
   "cell_type": "code",
   "execution_count": null,
   "id": "030de107",
   "metadata": {},
   "outputs": [],
   "source": [
    "bc_x.Get()"
   ]
  },
  {
   "cell_type": "code",
   "execution_count": null,
   "id": "af77a56f",
   "metadata": {},
   "outputs": [],
   "source": []
  }
 ],
 "metadata": {
  "kernelspec": {
   "display_name": "Python 3 (ipykernel)",
   "language": "python",
   "name": "python3"
  },
  "language_info": {
   "codemirror_mode": {
    "name": "ipython",
    "version": 3
   },
   "file_extension": ".py",
   "mimetype": "text/x-python",
   "name": "python",
   "nbconvert_exporter": "python",
   "pygments_lexer": "ipython3",
   "version": "3.10.1"
  }
 },
 "nbformat": 4,
 "nbformat_minor": 5
}
