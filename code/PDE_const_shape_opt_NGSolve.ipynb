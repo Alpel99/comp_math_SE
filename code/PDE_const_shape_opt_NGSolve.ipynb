{
 "cells": [
  {
   "cell_type": "markdown",
   "id": "c9277b01",
   "metadata": {
    "scrolled": true
   },
   "source": [
    "# PDE- Constrained Shape Optimization in NGSolve\n",
    "# Laminar stationary Stokes flow around an obstacle\n",
    "## Computational Mathematics Seminary - TU Vienna\n",
    "## Authors: Paul Genest & Camilo Tello Fachin\n",
    "## Supervisor: Dr. Kevin Sturm\n"
   ]
  },
  {
   "cell_type": "markdown",
   "id": "43ca057e",
   "metadata": {},
   "source": [
    "Import relevant libraries"
   ]
  },
  {
   "cell_type": "code",
   "execution_count": null,
   "id": "3066dc1f",
   "metadata": {},
   "outputs": [],
   "source": [
    "from ngsolve import *\n",
    "from netgen.geom2d import SplineGeometry\n",
    "from ngsolve.webgui import Draw\n",
    "import numpy as np\n",
    "import matplotlib.pyplot as plt"
   ]
  },
  {
   "cell_type": "markdown",
   "id": "86d0669d",
   "metadata": {},
   "source": [
    "Setup Geometry with 2 different mesh density regions\n",
    "- $\\tt{h_{fine}}$ is the parameter for the mesh region adjacent to the Cylinder Boundary $\\Gamma$\n",
    "- $\\tt{h_{coarse}}$ for the region adjacent to the outer domain boundary $\\Gamma_{\\infty}$"
   ]
  },
  {
   "cell_type": "code",
   "execution_count": null,
   "id": "8264c4cc",
   "metadata": {
    "scrolled": true
   },
   "outputs": [],
   "source": [
    "geo = SplineGeometry()\n",
    "h_coarse = 1\n",
    "h_fine = 0.15\n",
    "geo.AddRectangle( (-3,-2), (3, 2), bcs = (\"top\", \"out\", \"bot\", \"in\"), leftdomain=1, rightdomain=0, maxh=h_coarse) \n",
    "geo.AddCircle(c=(0, 0), r=0.6, leftdomain=2, rightdomain=1, bc=\"outer_cylinder\", maxh=h_fine) \n",
    "geo.AddCircle(c=(0, 0), r=0.5, leftdomain=0, rightdomain=2, bc=\"cyl\", maxh=h_fine) \n",
    "mesh = Mesh(geo.GenerateMesh(maxh=h_coarse))\n",
    "mesh.Curve(2);\n",
    "scene1 = Draw(mesh)"
   ]
  },
  {
   "cell_type": "markdown",
   "id": "a7d7c7b8",
   "metadata": {},
   "source": [
    "Setup Vector spaces for Taylor Hood Elements"
   ]
  },
  {
   "cell_type": "code",
   "execution_count": null,
   "id": "d0910c65",
   "metadata": {
    "scrolled": true
   },
   "outputs": [],
   "source": [
    "# Order of spaces for Taylor-Hood Elements\n",
    "k = 2\n",
    "V = H1(mesh,order=k, dirichlet=\"top|bot|cyl|in|out\")\n",
    "Q = H1(mesh,order=k-1)\n",
    "FES = FESpace([V,V,Q])"
   ]
  },
  {
   "cell_type": "markdown",
   "id": "06324b5e",
   "metadata": {},
   "source": [
    "Setup bilinear form corresponding to the weak formulation of the linear stationary Stokes PDE: \n",
    "\n",
    "Find $u \\in [H^1_0(\\Omega)]^d$ and $p \\in L^2(\\Omega)$ such that:\n",
    "\\begin{align*}\n",
    "    \\int_{\\Omega} \\nabla u : \\nabla v \\, dx + \\int_{\\Omega} \\mathrm{div}(v)p \\, dx + \\int_{\\Omega} \\mathrm{div}(u)q \\, dx = \\, 0 \\quad \\forall (v,q)\n",
    "    \\in  [H^1_0(\\Omega)]^d \\times L^2(\\Omega)\n",
    "\\end{align*}"
   ]
  },
  {
   "cell_type": "code",
   "execution_count": null,
   "id": "9304391f",
   "metadata": {
    "scrolled": true
   },
   "outputs": [],
   "source": [
    "ux,uy,p = FES.TrialFunction()\n",
    "vx,vy,q = FES.TestFunction()\n",
    "\n",
    "# stokes equation\n",
    "def Equation(ux,uy,p,vx,vy,q):\n",
    "    div_u = grad(ux)[0]+grad(uy)[1] # custom div\n",
    "    div_v = grad(vx)[0]+grad(vy)[1]\n",
    "    return (grad(ux)*grad(vx)+grad(uy)*grad(vy) + div_u*q + div_v*p)* dx\n",
    "\n",
    "a = BilinearForm(FES)\n",
    "a += Equation(ux,uy,p,vx,vy,q)\n",
    "a.Assemble()"
   ]
  },
  {
   "cell_type": "markdown",
   "id": "5a625f97",
   "metadata": {},
   "source": [
    "Setup the Boundary conditions by overwriting the solution variable $\\tt{gfu}$ at the corresponding entries:\n",
    "\n",
    "\\begin{aligned}\n",
    "    \\mathbf{u} &=0& \\, &\\text{on } \\Gamma,& \\\\\n",
    "    \\mathbf{u} &=\\mathbf{u}_{\\infty}& \\, &\\text{on } \\Gamma_{\\infty},& \\\\\n",
    "\\end{aligned}\n",
    "\n",
    "In the beginning, the mesh is visible with the gridfunction $\\tt{gfu}$ plotted with only the boundary conditions applied. During the iterations, the perturbed mesh with the solution to the stokes flow on the perturbed domain is plotted."
   ]
  },
  {
   "cell_type": "code",
   "execution_count": null,
   "id": "55a5b535",
   "metadata": {
    "scrolled": false
   },
   "outputs": [],
   "source": [
    "gfu = GridFunction(FES)\n",
    "uinf = 0.0005\n",
    "uin = CoefficientFunction((uinf))\n",
    "gfu.components[0].Set(uin, definedon=mesh.Boundaries(\"in|top|bot|out\"))\n",
    "\n",
    "x_velocity = CoefficientFunction(gfu.components[0])\n",
    "scene_state = Draw(x_velocity, mesh, \"vel\")"
   ]
  },
  {
   "cell_type": "markdown",
   "id": "1cc7db44",
   "metadata": {},
   "source": [
    "Solve stokes by inverting the assembled matrix $\\mathbf{A}$"
   ]
  },
  {
   "cell_type": "code",
   "execution_count": null,
   "id": "8376d727",
   "metadata": {
    "scrolled": true
   },
   "outputs": [],
   "source": [
    "def solveStokes():\n",
    "    res = gfu.vec.CreateVector()\n",
    "    res.data = -a.mat * gfu.vec\n",
    "    inv = a.mat.Inverse(FES.FreeDofs())\n",
    "    gfu.vec.data += inv * res\n",
    "    scene_state.Redraw()\n",
    "solveStokes()"
   ]
  },
  {
   "cell_type": "markdown",
   "id": "5852ecf9",
   "metadata": {},
   "source": [
    "Create a Function that returns a scalar representative quantitiy for the \"dissipated energy\" \n",
    "over the domain $\\Omega$ :\n",
    "\n",
    "\\begin{align*}\n",
    "    J(\\Omega ) = \\frac{1}{2} \\int_\\Omega Du : Du \\ \\mathrm{dx}\n",
    "\\end{align*}"
   ]
  },
  {
   "cell_type": "code",
   "execution_count": null,
   "id": "b48a5c46",
   "metadata": {
    "scrolled": true
   },
   "outputs": [],
   "source": [
    "def calc_drag(gfu):\n",
    "    ux = gfu.components[0]\n",
    "    uy = gfu.components[1]\n",
    "    return 0.5*(grad(ux)*grad(ux)+grad(uy)*grad(uy)).Compile()*dx"
   ]
  },
  {
   "cell_type": "markdown",
   "id": "4dd69093",
   "metadata": {},
   "source": [
    "Create a Parameter that describes a scalar quantity corresponding to be used in the penalizing term\n",
    "in the augmented lagrangian for the constant volume side constraint. These are later used to create terms that are small if the volume is close to its initial value.\n",
    "\\begin{align*}\n",
    "    \\mathrm{vol}(\\Omega) &= \\int_{\\Omega} 1 \\ \\mathrm{dx} \\in \\mathbb{R} \\\\\n",
    "    \\mathcal{L}^2_{\\mathrm{vol}} &= \\alpha \\ \\Big( \\mathrm{vol}( \\mathbf{T}_{t}(\\Omega) )-\\mathrm{vol}(\\Omega_0) \\Big) ^2\n",
    "\\end{align*}"
   ]
  },
  {
   "cell_type": "code",
   "execution_count": null,
   "id": "ed6aabd5",
   "metadata": {
    "scrolled": true
   },
   "outputs": [],
   "source": [
    "alpha = 1e-4\n",
    "surf_t = CoefficientFunction(1)\n",
    "surf_0 = Integrate(surf_t,mesh)"
   ]
  },
  {
   "cell_type": "markdown",
   "id": "762fa355",
   "metadata": {},
   "source": [
    "In this Cell the barycenter of the unperturbed domain $\\Omega$ is calculated. This is used for the barycenter term in the augmented Lagrangian later on. For arbitrary geometry setups, the barycenter of the obstacle should be used, since the geometry at hand is symmetrical, the barycenter of the domain is equivalent :\n",
    "\n",
    "\\begin{align*}\n",
    "    \\vec{\\mathrm{bc}}(\\Omega) &=\n",
    "    \\frac{1}{\\mathrm{vol}(\\Omega)}\\int_{\\Omega} \\mathbf{x} \\ \\mathrm{d} \\mathbf{x} \\in \\mathbb{R}^d \\\\\n",
    "\\end{align*}\n",
    "\n",
    "The barycenter sideconstraint is vectorial. Since the Lagrangian only treats scalar quantities\n",
    "it is decomposed into its compontents:\n",
    "\n",
    "\\begin{align*}\n",
    "    \\mathrm{bc}_x(\\Omega) &=\n",
    "    \\frac{1}{\\mathrm{vol}(\\Omega)}\\int_{\\Omega} x \\ \\mathrm{d}x \\in \\mathbb{R} \\\\\n",
    "    \\mathrm{bc}_y(\\Omega) &=\n",
    "    \\frac{1}{\\mathrm{vol}(\\Omega)}\\int_{\\Omega} y \\ \\mathrm{d}x \\in \\mathbb{R} \\\\\n",
    "\\end{align*}\n",
    "\n",
    "The quadratically penalized term:\n",
    "\\begin{align*}\n",
    "\t\\mathcal{L}^2_{\\mathrm{bc}}(\\Omega) &= \\beta \\Big( \\mathrm{bc}_x( \\mathbf{T}_{t}(\\Omega) )-\\mathrm{bc}_x(\\Omega_0) \\Big)^2 + \n",
    "\t\\gamma\\Big( \\mathrm{bc}_y( \\mathbf{T}_{t}(\\Omega) )-\\mathrm{bc}_y(\\Omega_0) \\Big)^2 \\\\\n",
    "\\end{align*}"
   ]
  },
  {
   "cell_type": "code",
   "execution_count": null,
   "id": "fccd2751",
   "metadata": {
    "scrolled": true
   },
   "outputs": [],
   "source": [
    "bc_tx = CoefficientFunction(x)\n",
    "bc_ty = CoefficientFunction(y)\n",
    "bc_0x = 1/surf_0*Integrate(bc_tx,mesh)\n",
    "bc_0y = 1/surf_0*Integrate(bc_ty,mesh)"
   ]
  },
  {
   "cell_type": "markdown",
   "id": "eb55f1d1",
   "metadata": {},
   "source": [
    "# Creation of Shapediff Space and Pertubation Function\n",
    "function that will perturb our mesh"
   ]
  },
  {
   "cell_type": "code",
   "execution_count": null,
   "id": "4a7b4f43",
   "metadata": {
    "scrolled": true
   },
   "outputs": [],
   "source": [
    "# Test and trial functions for shape derivate\n",
    "VEC = H1(mesh, order=2, dim=2, dirichlet=\"top|bot|in|out\")\n",
    "PHI, X = VEC.TnT()\n",
    "# gfset denotes the deformation of the original domain and will be updated during the shape optimization\n",
    "gfset = GridFunction(VEC)\n",
    "gfset.Set((0,0))\n",
    "mesh.SetDeformation(gfset)\n",
    "SetVisualization(deformation=True)\n",
    "\n",
    "# deformation calculation\n",
    "gfX = GridFunction(VEC)"
   ]
  },
  {
   "cell_type": "markdown",
   "id": "e73cb8a5",
   "metadata": {},
   "source": [
    "# Shape Optimization\n",
    "Since the existstence of the Shape Derivative is shown in the seminary paper, one can use an augmented Lagrangian to find a minimum of the problem by iteratively finding minimizers\n",
    "of the quadratically penalized Lagrangian which is an approximate minimizer to the original minimization problem:\n",
    "\n",
    "\\begin{align*}\n",
    "    \\mathcal{L}(\\Omega) &= \\frac{1}{2} \\int_{\\Omega} \\mathrm{D}\\mathbf{u}: \\mathrm{D} \\mathbf{u} \\, \\mathrm{dx} + \n",
    "\t\\int_{\\Omega} \\nabla \\mathbf{u} : \\nabla \\mathbf{u} \\, \\mathrm{dx} + \\int_{\\Omega} \\mathrm{div}(\\mathbf{u})p \\, \\mathrm{dx} +\n",
    "\t\\int_{\\Omega} \\mathrm{div}(\\mathbf{u})p \\, \\mathrm{dx}\n",
    "\\end{align*}\n",
    "\n",
    "Finally, the quadratically penalized Augmented Lagrangian:\n",
    "\\begin{align*}\n",
    "\t\\mathcal{L}_{\\mathrm{aug}}(\\Omega) =  \\mathcal{L}(\\Omega) + \\mathcal{L}^2_{\\mathrm{vol}}(\\Omega) + \\mathcal{L}^2_{\\mathrm{bc}}(\\Omega)\n",
    "\\end{align*}\n",
    "The parameters $\\alpha$, $\\beta$ and $\\gamma$ are used to weigh the quadratically penalized terms and vary them dynamically while iterating. The derivative of the Augmented Lagrangian or the Shape Derivative:\n",
    "\n",
    "\\begin{align*}\n",
    "\t\\mathrm{d}\\mathcal{L}_{\\mathrm{aug}}(\\Omega)(X) = \\mathrm{d}\\mathcal{L}(\\Omega)(X) + \\mathrm{d}\\mathcal{L}^2_{\\mathrm{vol}}(\\Omega)(X) \n",
    "\t+ \\mathrm{d}\\mathcal{L}^2_{\\mathrm{bc}}(\\Omega)(X)\n",
    "\\end{align*}\n"
   ]
  },
  {
   "cell_type": "code",
   "execution_count": null,
   "id": "1ca75f8a",
   "metadata": {
    "scrolled": true
   },
   "outputs": [],
   "source": [
    "ux = gfu.components[0]\n",
    "uy = gfu.components[1]\n",
    "p = gfu.components[2]\n",
    "\n",
    "vol = Parameter(1)\n",
    "vol.Set(Integrate(surf_t,mesh))\n",
    "\n",
    "Lagrangian = Equation(ux,uy,p,ux,uy,p) + calc_drag(gfu)  \n",
    "\n",
    "dJOmega = LinearForm(VEC)\n",
    "# automatic shape differentiation\n",
    "dJOmega += Lagrangian.DiffShape(X)\n",
    "\n",
    "# volume side constraint\n",
    "vol = Parameter(1)\n",
    "vol.Set(Integrate(surf_t,mesh))\n",
    "alpha0 = 1e-4\n",
    "alpha = Parameter(alpha0)\n",
    "dJOmega += 2*alpha*(vol-surf_0)*div(X)*dx\n",
    "\n",
    "# barycenter x sideconstraint\n",
    "beta0 = 1e-3\n",
    "beta = Parameter(beta0)\n",
    "bc_x = Parameter(1)\n",
    "bc_x.Set((1/surf_0)*Integrate(bc_tx,mesh))\n",
    "dJOmega += 2*beta*(bc_x-bc_0x)*((1/vol**2)*div(X)*x+(1/vol)*div(X)*x*sum(gfset.vecs[0].data)[0])*dx\n",
    "\n",
    "# barycenter y sideconstraint\n",
    "bc_y = Parameter(1)\n",
    "bc_y.Set((1/surf_0)*Integrate(bc_ty,mesh))\n",
    "dJOmega += 2*beta*(bc_y-bc_0y)*((1/vol**2)*div(X)*y+(1/vol)*div(X)*y*sum(gfset.vecs[0].data)[1])*dx\n"
   ]
  },
  {
   "cell_type": "markdown",
   "id": "36165979",
   "metadata": {},
   "source": [
    "Auxiliary Problem:\n",
    "\n",
    "find $X \\in [H(\\Omega)]^2$ such that:\n",
    "\\begin{align}\n",
    "\t\\mathrm{d}\\mathcal{L}_{\\mathrm{aug}}(\\Omega)(X) = \\zeta (\\mathcal{B}X,\\mathcal{B}\\varphi)_P\n",
    "\t+ (X,\\varphi)_H, \\quad \\zeta \\in \\mathbb{R}, \\quad \\forall \\varphi \\in [H(\\Omega)]^2\n",
    "\\end{align}\n",
    "\n",
    "Where $\\mathcal{B}$ is the Cauchy-Riemann operator."
   ]
  },
  {
   "cell_type": "code",
   "execution_count": null,
   "id": "31061380",
   "metadata": {},
   "outputs": [],
   "source": [
    "b = BilinearForm(VEC)\n",
    "b += (InnerProduct(grad(X),grad(PHI)+grad(PHI).trans)).Compile() *dx + (InnerProduct(X,PHI)).Compile()*dx\n",
    "\n",
    "#Cauchy-Riemann Penalisation\n",
    "gamma0 = 25\n",
    "gamma = Parameter(gamma0)\n",
    "zeta = 150\n",
    "b += zeta*(PHI.Deriv()[0,0] - PHI.Deriv()[1,1])*(X.Deriv()[0,0] - X.Deriv()[1,1])*dx\n",
    "b += zeta*(PHI.Deriv()[1,0] - PHI.Deriv()[0,1])*(X.Deriv()[1,0] - X.Deriv()[0,1])*dx"
   ]
  },
  {
   "cell_type": "markdown",
   "id": "311df1d8",
   "metadata": {},
   "source": [
    "creating functions to handle the parameters in the loop"
   ]
  },
  {
   "cell_type": "code",
   "execution_count": null,
   "id": "8919e855",
   "metadata": {
    "scrolled": true
   },
   "outputs": [],
   "source": [
    "def updateParams(v=False):\n",
    "    vol.Set(Integrate(surf_t,mesh))\n",
    "    bc_x.Set((1/surf_0)*Integrate(bc_tx,mesh))\n",
    "    bc_y.Set((1/surf_0)*Integrate(bc_ty,mesh))\n",
    "    if(v):\n",
    "        print(vol.Get(), bc_x.Get(), bc_y.Get())\n",
    "updateParams()\n",
    "\n",
    "def increaseParams(k=2,v=False):\n",
    "    alpha.Set(alpha.Get()*k)\n",
    "    beta.Set(beta.Get()*k)\n",
    "    gamma.Set(gamma.Get()*k)\n",
    "    if(v):\n",
    "        print(\"alpha: \", alpha.Get(), \", beta: \", beta.Get(), \", gamma: \", gamma.Get())"
   ]
  },
  {
   "cell_type": "code",
   "execution_count": null,
   "id": "305afadc",
   "metadata": {
    "scrolled": true
   },
   "outputs": [],
   "source": [
    "def SolveDeformationEquation():\n",
    "    rhs = gfX.vec.CreateVector()\n",
    "    rhs.data = dJOmega.vec - b.mat * gfX.vec\n",
    "    update = gfX.vec.CreateVector()\n",
    "    update.data = b.mat.Inverse(VEC.FreeDofs()) * rhs\n",
    "    gfX.vec.data += update"
   ]
  },
  {
   "cell_type": "markdown",
   "id": "53ae0abf",
   "metadata": {},
   "source": [
    "Visualisation of the Shape Derivative by showing two quantities:\n",
    " \n",
    "- The Perturbed Domain\n",
    "\\begin{align*}\n",
    "  \\Omega + tX\n",
    "\\end{align*}\n",
    "\n",
    "- The Deformation Field Magnitude on the Perturbed Domain\n",
    "\\begin{align*}\n",
    "  || X ||_{L^2( \\Omega_{\\mathrm{n}} )}\n",
    "\\end{align*}"
   ]
  },
  {
   "cell_type": "code",
   "execution_count": null,
   "id": "5ca6d7fb",
   "metadata": {
    "scrolled": true
   },
   "outputs": [],
   "source": [
    "scene = Draw(gfX)"
   ]
  },
  {
   "cell_type": "markdown",
   "id": "442891b7",
   "metadata": {},
   "source": [
    "## Iterations - Gradient Descent Method"
   ]
  },
  {
   "cell_type": "code",
   "execution_count": null,
   "id": "4219a2f6",
   "metadata": {
    "scrolled": true
   },
   "outputs": [],
   "source": [
    "gfset.Set((0,0))\n",
    "mesh.SetDeformation(gfset)\n",
    "scene.Redraw()\n",
    "\n",
    "updateParams()\n",
    "alpha0 = 1e-4\n",
    "beta0 = 1e-0\n",
    "gamma0 = 1e2\n",
    "alpha.Set(alpha0)\n",
    "beta.Set(beta0)\n",
    "gamma.Set(gamma0)\n",
    "\n",
    "a.Assemble()\n",
    "solveStokes()\n",
    "\n",
    "data = [[] for x in range(7)]\n",
    "\n",
    "iter_max = 800\n",
    "\n",
    "# try parts of loop\n",
    "mesh.SetDeformation(gfset)\n",
    "scene.Redraw()\n",
    "\n",
    "c = 0\n",
    "\n",
    "# input(\"Press enter to start optimization\")\n",
    "for i in range(0,iter_max):\n",
    "    mesh.SetDeformation(gfset)\n",
    "    scene.Redraw()\n",
    "    scene_state.Redraw()\n",
    "    \n",
    "    if i%50 == 0:\n",
    "        print('drag at iteration', i, ': ', Integrate(calc_drag(gfu), mesh))\n",
    "        \n",
    "    titles = [\"Energy Dissipation\",\"Volume\",\"bc_x\",\"bc_y\",\"scale\",\"gfxnorm\",\"gfxbndnorm\"] # collecting data\n",
    "    data[0].append(Integrate(calc_drag(gfu),mesh))\n",
    "    data[1].append(vol.Get())\n",
    "    data[2].append(bc_x.Get())\n",
    "    data[3].append(bc_y.Get())\n",
    "    \n",
    "    a.Assemble()\n",
    "    solveStokes()\n",
    "    \n",
    "    b.Assemble()\n",
    "    dJOmega.Assemble()\n",
    "    SolveDeformationEquation()\n",
    "    updateParams()\n",
    "    \n",
    "    mesh.UnsetDeformation()\n",
    "    \n",
    "    gfxnorm = Norm(gfX.vec)\n",
    "    gfxbndnorm = Integrate(sqrt(gfX**2),mesh,BND)\n",
    "    data[6].append(gfxbndnorm)\n",
    "    #scale = 0.1 / Norm(gfX.vec)\n",
    "    scale = 0.01 / gfxnorm\n",
    "    data[4].append(scale)\n",
    "    data[5].append(gfxnorm)\n",
    "    \n",
    "    \n",
    "    c += 1\n",
    "    #if(gfxnorm < 1e-5):\n",
    "    if(gfxbndnorm < 1e-7 and c > 50):\n",
    "        if alpha.Get() < 100:\n",
    "            increaseParams(5,True)\n",
    "            c = 0\n",
    "        else:\n",
    "            print(\"alpha too big\")\n",
    "            break\n",
    "            \n",
    "    gfset.vec.data -= scale * gfX.vec"
   ]
  },
  {
   "cell_type": "markdown",
   "id": "80a4d73f",
   "metadata": {},
   "source": [
    "### Function for evaluating the Element Quality Distribution on the domain $\\Omega_{\\mathrm{n}}$"
   ]
  },
  {
   "cell_type": "code",
   "execution_count": null,
   "id": "ad125e3a",
   "metadata": {},
   "outputs": [],
   "source": [
    "Element_Iterator = mesh.Elements()\n",
    "Element_Quality_Data = np.empty(Element_Iterator.stop)\n",
    "deformation_vector = np.asarray(gfset.vec)\n",
    "\n",
    "# Element Quality ratio eta with sidelengths a,b,c of element K\n",
    "def eta_K(abc):\n",
    "    A, B, C = abc[0,:], abc[1,:], abc[2,:]\n",
    "    a, b, c = np.linalg.norm(A-C), np.linalg.norm(A-B), np.linalg.norm(B-C)\n",
    "    s = 1/2*(a+b+c) #half the circumference of element\n",
    "    A = np.sqrt(s*(s-a)*(s-b)*(s-c)) #Area calculation with Heron Theorem\n",
    "    r = 2*A / (a+b+c) # radius of inscribed circle\n",
    "    R = (a*b*c) / (4*A) # radius of circumscribed circle\n",
    "    eta = R / (2*r) \n",
    "    return eta\n",
    "\n",
    "for elmnt in mesh.Elements():\n",
    "    el = NodeId(ELEMENT,elmnt.nr)\n",
    "    meshel = mesh[el]\n",
    "    abc = np.empty([3,2])\n",
    "    counter = 0\n",
    "\n",
    "    for vert in elmnt.vertices:\n",
    "        ve = NodeId(VERTEX, vert.nr)\n",
    "        meshvert = mesh[ve]\n",
    "        abc[counter] = np.asarray(meshvert.point) + deformation_vector[vert.nr]\n",
    "        counter += 1\n",
    "\n",
    "    counter = 0\n",
    "    Element_Quality_Data[elmnt.nr] = eta_K(abc)"
   ]
  },
  {
   "cell_type": "markdown",
   "id": "a763d9ac",
   "metadata": {},
   "source": [
    "### Only Plot Settigns & Plots from here on:"
   ]
  },
  {
   "cell_type": "code",
   "execution_count": null,
   "id": "b7af6ba9",
   "metadata": {},
   "outputs": [],
   "source": [
    "from pylab import rcParams\n",
    "rcParams['figure.figsize'] = 8, 3\n",
    "\n",
    "plt.rc('text', usetex=True)\n",
    "plt.rcParams['text.usetex']=True\n",
    "\n",
    "plt.rc('font', family='sans-serif', weight='bold')\n",
    "\n",
    "SMALL_SIZE = 20\n",
    "MEDIUM_SIZE = 20\n",
    "BIGGER_SIZE = 25\n",
    "\n",
    "plt.rc('font', size=SMALL_SIZE)          # controls default text sizes\n",
    "plt.rc('axes', titlesize=BIGGER_SIZE)    # fontsize of the axes title\n",
    "plt.rc('axes', labelsize=MEDIUM_SIZE)    # fontsize of the x and y labels\n",
    "plt.rc('xtick', labelsize=SMALL_SIZE)    # fontsize of the tick labels\n",
    "plt.rc('ytick', labelsize=SMALL_SIZE)    # fontsize of the tick labels\n",
    "plt.rc('legend', fontsize=SMALL_SIZE)    # legend fontsize\n",
    "plt.rc('figure', titlesize=BIGGER_SIZE)  # fontsize of the figure title"
   ]
  },
  {
   "cell_type": "code",
   "execution_count": null,
   "id": "c4a9f8b0",
   "metadata": {
    "scrolled": false
   },
   "outputs": [],
   "source": [
    "fsx=10\n",
    "fsy=5\n",
    "plot_color = 'red'\n",
    "plot_linewidth = 2\n",
    "plt.rcParams['figure.dpi'] = 500  \n",
    "\n",
    "# Energy Dissipation\n",
    "plt.figure(0)\n",
    "plt.figure(figsize=(fsx, fsy)) \n",
    "plt.title('Energy Dissipation $J(\\Omega_{\\mathrm{n}})$')\n",
    "plt.plot(data[0], color=plot_color, linewidth=plot_linewidth)\n",
    "plt.xlabel('$\\mathrm{n}$ Iterations / -')\n",
    "plt.ylabel('$J(\\Omega_{\\mathrm{n}})$ / -')\n",
    "plt.grid()\n",
    "plt.tight_layout()\n",
    "\n",
    "# Volume\n",
    "plt.figure(1)\n",
    "plt.figure(figsize=(fsx, fsy))\n",
    "plt.title('Domain Volume $ \\mathrm{vol}( \\Omega_{\\mathrm{n}} )$')\n",
    "plt.plot(data[1], color=plot_color, linewidth=plot_linewidth)\n",
    "plt.xlabel('$\\mathrm{n}$ Iterations / -')\n",
    "plt.ylabel('$\\mathrm{vol}(\\Omega_{\\mathrm{n}})$ / -')\n",
    "plt.grid() \n",
    "plt.tight_layout()\n",
    " \n",
    "# bc_x\n",
    "plt.figure(2)\n",
    "plt.figure(figsize=(fsx, fsy)) \n",
    "plt.title('$x$-Barycenter $ \\mathrm{bc}_x(\\Omega_{\\mathrm{n}}) $')\n",
    "plt.plot(data[2], color=plot_color, linewidth=plot_linewidth)\n",
    "plt.ylabel('$ \\mathrm{bc}_x(\\Omega_{\\mathrm{n}}) $ / -')\n",
    "plt.grid()\n",
    "plt.xlabel('$\\mathrm{n}$ Iterations / -')\n",
    "plt.tight_layout()\n",
    "\n",
    "# bc_y\n",
    "plt.figure(3)\n",
    "plt.figure(figsize=(fsx, fsy)) \n",
    "plt.title('$y$-Barycenter $ \\mathrm{bc}_y(\\Omega_{\\mathrm{n}}) $')\n",
    "plt.plot(data[3], color=plot_color, linewidth=plot_linewidth)\n",
    "plt.xlabel('$\\mathrm{n}$ Iterations / -')\n",
    "plt.ylabel('$ \\mathrm{bc}_y(\\Omega_{\\mathrm{n}}) $ / -')\n",
    "plt.grid()\n",
    "plt.tight_layout()\n",
    "\n",
    "# gfxnorm\n",
    "plt.figure(5)\n",
    "plt.figure(figsize=(fsx, fsy)) \n",
    "plt.title('Deformation Field Norm - $ || X ||_{\\mathrm{L}^2(\\Omega_{\\mathrm{n}})} $')\n",
    "plt.plot(data[5], color=plot_color, linewidth=plot_linewidth)\n",
    "plt.ylabel('$ || X ||_{\\mathrm{L}^2(\\Omega_{\\mathrm{n}})} $ / -')\n",
    "plt.grid()\n",
    "plt.xlabel('$\\mathrm{n}$ Iterations / -')\n",
    "plt.tight_layout()\n",
    "\n",
    "# gfx_bndnorm\n",
    "plt.figure(6)\n",
    "plt.figure(figsize=(fsx, fsy)) \n",
    "plt.title('Deformation Field Norm on Obstacle Boundary - $ || X ||_{\\mathrm{L}^2(\\Gamma_{\\infty , \\mathrm{n}})} $')\n",
    "plt.plot(data[6], color=plot_color, linewidth=plot_linewidth)\n",
    "plt.ylabel('$ || X ||_{\\mathrm{L}^2(\\Gamma_{\\infty , \\mathrm{n}})} $ / -')\n",
    "plt.grid()\n",
    "plt.xlabel('$\\mathrm{n}$ Iterations / -')\n",
    "plt.tight_layout()\n",
    "\n",
    "# element quality distribution\n",
    "plt.figure(7)\n",
    "plt.figure(figsize=(fsx, fsy))\n",
    "plt.title(\"Element Quality Distribution on Final Domain\") \n",
    "plt.hist(Element_Quality_Data, 25, color=plot_color)\n",
    "plt.ylabel(\"Number of Elements / -\")\n",
    "plt.grid()\n",
    "plt.xlabel(\"Element Quality Ratio / -\")\n",
    "plt.tight_layout()\n"
   ]
  }
 ],
 "metadata": {
  "kernelspec": {
   "display_name": "Python 3 (ipykernel)",
   "language": "python",
   "name": "python3"
  },
  "language_info": {
   "codemirror_mode": {
    "name": "ipython",
    "version": 3
   },
   "file_extension": ".py",
   "mimetype": "text/x-python",
   "name": "python",
   "nbconvert_exporter": "python",
   "pygments_lexer": "ipython3",
   "version": "3.8.10"
  },
  "vscode": {
   "interpreter": {
    "hash": "916dbcbb3f70747c44a77c7bcd40155683ae19c65e1c03b4aa3499c5328201f1"
   }
  }
 },
 "nbformat": 4,
 "nbformat_minor": 5
}
