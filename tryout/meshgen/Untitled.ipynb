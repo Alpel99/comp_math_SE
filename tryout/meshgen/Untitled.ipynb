{
 "cells": [
  {
   "cell_type": "code",
   "execution_count": 32,
   "id": "67e1d498",
   "metadata": {},
   "outputs": [],
   "source": [
    "from ngsolve import *\n",
    "from netgen.geom2d import SplineGeometry\n",
    "from ngsolve.webgui import Draw"
   ]
  },
  {
   "cell_type": "code",
   "execution_count": 38,
   "id": "8dc0f1a8",
   "metadata": {},
   "outputs": [],
   "source": [
    "geo = SplineGeometry()\n",
    "geo.AddRectangle( (-3,-2), (3, 2), bcs = (\"top\", \"out\", \"bot\", \"inlet\"))\n",
    "geo.AddCircle ( (0, 0), r=0.5, leftdomain=0, rightdomain=1, bc=\"cyl\")\n",
    "#geo.AddCircle ( (-0.5, 0.5), r=0.2, leftdomain=0, rightdomain=1, bc=\"cyl2\")\n",
    "\n",
    "mesh = Mesh( geo.GenerateMesh(maxh=0.2))\n",
    "mesh.Curve(3);\n",
    "# viscosity\n",
    "nu = 0.001\n",
    "k = 3\n",
    "V = VectorH1(mesh,order=k, dirichlet=\"top|bot|cyl|inlet|out|cyl2\")\n",
    "Q = H1(mesh,order=k-1)\n",
    "X = V*Q"
   ]
  },
  {
   "cell_type": "code",
   "execution_count": 39,
   "id": "ef6064fb",
   "metadata": {},
   "outputs": [
    {
     "data": {
      "application/vnd.jupyter.widget-view+json": {
       "model_id": "7fbb4f7eda4846b3b3901fe072cb5f4c",
       "version_major": 2,
       "version_minor": 0
      },
      "text/plain": [
       "WebGuiWidget(value={'ngsolve_version': '6.2.2201', 'mesh_dim': 2, 'order2d': 2, 'order3d': 2, 'draw_vol': Fals…"
      ]
     },
     "metadata": {},
     "output_type": "display_data"
    }
   ],
   "source": [
    "gfu = GridFunction(X)\n",
    "velocity = gfu.components[0]\n",
    "scene = Draw(velocity,mesh,\"u\")#,sd=3)\n",
    "#scene2 = Draw(gfu.components[1],mesh,\"p\")#,sd=3)\n",
    "#visoptions.scalfunction = \"u:0\"\n",
    "\n",
    "# parabolic inflow at bc=1:\n",
    "uinf = 0.001\n",
    "uin = CoefficientFunction((uinf,0))\n",
    "ball = CoefficientFunction((0,0))\n",
    "init = uin + ball\n",
    "#gfu.components[0].Set(ball, definedon=mesh.Boundaries(\"cyl\"))\n",
    "gfu.components[0].Set(uin, definedon=mesh.Boundaries(\"inlet|top|bot|out\"))\n",
    "\n",
    "#gfu.componets[0] += gfu.components[0].Set(ball, definedon=mesh.Boundaries(\"cyl\"))\n",
    "\n",
    "# first component of gfu.components bedlongs to v ans has dim=2, [1] is tShe pressure broski\n",
    "scene.Redraw()\n",
    "#scene2.Redraw()"
   ]
  },
  {
   "cell_type": "code",
   "execution_count": 41,
   "id": "2542ec71",
   "metadata": {},
   "outputs": [
    {
     "name": "stdout",
     "output_type": "stream",
     "text": [
      "0.0002197740785547812\n"
     ]
    }
   ],
   "source": [
    "(u,p), (v,q) = X.TnT()\n",
    "\n",
    "a = BilinearForm(X)\n",
    "stokes = (nu*InnerProduct(grad(u),grad(v))-div(u)*q-div(v)*p)*dx\n",
    "a += stokes\n",
    "a.Assemble()\n",
    "\n",
    "f = LinearForm(X)\n",
    "f.Assemble()\n",
    "\n",
    "#drag\n",
    "drag_x_test = GridFunction(X)\n",
    "drag_x_test.components[0].Set(CoefficientFunction((10.0,0)), definedon=mesh.Boundaries(\"cyl\"))\n",
    "\n",
    "# calc going on\n",
    "inv_stokes = a.mat.Inverse(X.FreeDofs())\n",
    "\n",
    "res = f.vec.CreateVector()\n",
    "res.data = f.vec - a.mat*gfu.vec\n",
    "gfu.vec.data += inv_stokes * res\n",
    "\n",
    "# somehow only works the 2nd time\n",
    "print(InnerProduct(res, drag_x_test.vec))\n",
    "\n",
    "scene.Redraw()"
   ]
  },
  {
   "cell_type": "code",
   "execution_count": 31,
   "id": "8bab37f4",
   "metadata": {},
   "outputs": [
    {
     "name": "stdout",
     "output_type": "stream",
     "text": [
      "[-0.00040579870906503495]\n"
     ]
    }
   ],
   "source": [
    "# getting the drag in here\n",
    "drag_x_test = GridFunction(X)\n",
    "drag_x_test.components[0].Set(CoefficientFunction((-20.0,0)), definedon=mesh.Boundaries(\"cyl\"))\n",
    "drag_x_vals = []\n",
    "res.data = f.vec - a.mat*gfu.vec\n",
    "gfu.vec.data += inv_stokes * res\n",
    "drag_x_vals.append(InnerProduct(res, drag_x_test.vec) )\n",
    "print(drag_x_vals)"
   ]
  },
  {
   "cell_type": "code",
   "execution_count": null,
   "id": "25e33752",
   "metadata": {},
   "outputs": [],
   "source": []
  }
 ],
 "metadata": {
  "kernelspec": {
   "display_name": "Python 3 (ipykernel)",
   "language": "python",
   "name": "python3"
  },
  "language_info": {
   "codemirror_mode": {
    "name": "ipython",
    "version": 3
   },
   "file_extension": ".py",
   "mimetype": "text/x-python",
   "name": "python",
   "nbconvert_exporter": "python",
   "pygments_lexer": "ipython3",
   "version": "3.10.1"
  }
 },
 "nbformat": 4,
 "nbformat_minor": 5
}
