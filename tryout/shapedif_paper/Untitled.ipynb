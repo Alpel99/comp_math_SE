{
 "cells": [
  {
   "cell_type": "markdown",
   "id": "e0b02e2e",
   "metadata": {},
   "source": [
    "# 2.1 Solving PDEs with finite elements in NGSolve\n"
   ]
  },
  {
   "cell_type": "code",
   "execution_count": 3,
   "id": "da7b05f5",
   "metadata": {},
   "outputs": [
    {
     "data": {
      "text/plain": [
       "<ngsolve.comp.Mesh at 0x25ea3acbb50>"
      ]
     },
     "execution_count": 3,
     "metadata": {},
     "output_type": "execute_result"
    }
   ],
   "source": [
    "from ngsolve import *\n",
    "from netgen.geom2d import SplineGeometry\n",
    "from ngsolve.webgui import Draw\n",
    "\n",
    "geo = SplineGeometry()\n",
    "geo.AddCircle((0.5,0.5), 0.5, bc=\"circle\")\n",
    "\n",
    "mesh = Mesh(geo.GenerateMesh(maxh=0.2))\n",
    "mesh.Curve(3)"
   ]
  },
  {
   "cell_type": "code",
   "execution_count": 4,
   "id": "ad42d4b2",
   "metadata": {},
   "outputs": [],
   "source": [
    "fes = H1(mesh, order=3, dirichlet=\"circle\")\n",
    "u = fes.TrialFunction()\n",
    "w = fes.TestFunction()"
   ]
  },
  {
   "cell_type": "code",
   "execution_count": 5,
   "id": "3e505ed4",
   "metadata": {},
   "outputs": [],
   "source": [
    "X = CoefficientFunction((x,y,z))"
   ]
  },
  {
   "cell_type": "code",
   "execution_count": 6,
   "id": "1049cd30",
   "metadata": {},
   "outputs": [],
   "source": [
    "L = LinearForm(fes)\n",
    "# 2*y*(1-y)+2*x*(1-x)\n",
    "#f1 = (2*X[1]*(1-X[1])+2*X[0]*(1-X[0]))\n",
    "f1 = X[0]**2\n",
    "L += f1 * w * dx\n",
    "\n",
    "a = BilinearForm(fes, symmetric=True)\n",
    "a += grad(u)*grad(w)*dx"
   ]
  },
  {
   "cell_type": "code",
   "execution_count": 7,
   "id": "2edf31e0",
   "metadata": {},
   "outputs": [
    {
     "data": {
      "application/vnd.jupyter.widget-view+json": {
       "model_id": "858f86c0c33f411cac403331446fc109",
       "version_major": 2,
       "version_minor": 0
      },
      "text/plain": [
       "WebGuiWidget(value={'ngsolve_version': '6.2.2201', 'mesh_dim': 2, 'order2d': 2, 'order3d': 2, 'draw_vol': Fals…"
      ]
     },
     "metadata": {},
     "output_type": "display_data"
    },
    {
     "data": {
      "text/plain": [
       "BaseWebGuiScene"
      ]
     },
     "execution_count": 7,
     "metadata": {},
     "output_type": "execute_result"
    }
   ],
   "source": [
    "a.Assemble()\n",
    "L.Assemble()\n",
    "\n",
    "gfu = GridFunction(fes)\n",
    "gfu.vec.data = a.mat.Inverse(fes.FreeDofs(), inverse=\"sparsecholesky\") * L.vec\n",
    "\n",
    "Draw(gfu,mesh,\"state\")"
   ]
  },
  {
   "cell_type": "markdown",
   "id": "6462af29",
   "metadata": {},
   "source": [
    "# 3.1.1 Shape differentiation of unconstrained volume integrals\n",
    "f (x1, x2) = (x1 − 0.5)2/a2 + (x2 −0.5)2/b2 − R2\n",
    "\n",
    "with a = 1.3, b = 1/a and R = 0.5"
   ]
  },
  {
   "cell_type": "code",
   "execution_count": 8,
   "id": "42b6a3d4",
   "metadata": {},
   "outputs": [],
   "source": [
    "f = ((X[0]-0.5)/1.3)**2+(1.3*(X[1]-0.5))**2-0.5**2\n",
    "F = Id(2)\n",
    "G_f = f * Det(F) * dx"
   ]
  },
  {
   "cell_type": "code",
   "execution_count": 9,
   "id": "f3c74577",
   "metadata": {},
   "outputs": [],
   "source": [
    "VEC = VectorH1(mesh, order=1, dirichlet=\"\")\n",
    "V = VEC.TestFunction()\n",
    "\n",
    "dJOmega_f = LinearForm(VEC)\n",
    "dJOmega_f += G_f.Diff(X, V)\n",
    "dJOmega_f += G_f.Diff(F, grad(V))"
   ]
  },
  {
   "cell_type": "markdown",
   "id": "3428e8c5",
   "metadata": {},
   "source": [
    "# 3.1.2 Shape differentiation of unconstrained boundary integrals"
   ]
  },
  {
   "cell_type": "code",
   "execution_count": 10,
   "id": "e18946dc",
   "metadata": {},
   "outputs": [],
   "source": [
    "G_f_bnd = f * Det(F) * Norm(Inv(F).trans * specialcf.normal(2)) * ds\n",
    "dJOmega_f_bnd = LinearForm(VEC)\n",
    "dJOmega_f_bnd += G_f_bnd.Diff(X, V)\n",
    "dJOmega_f_bnd += G_f_bnd.Diff(F, grad(V).Trace())"
   ]
  },
  {
   "cell_type": "markdown",
   "id": "0e84736d",
   "metadata": {},
   "source": [
    "# 3.2 Second-order shape derivatives"
   ]
  },
  {
   "cell_type": "code",
   "execution_count": 11,
   "id": "72652e7f",
   "metadata": {},
   "outputs": [],
   "source": [
    "d2JOmega_f = BilinearForm(VEC)\n",
    "W = VEC.TrialFunction()\n",
    "d2JOmega_f += (G_f.Diff(X,W)+G_f.Diff(F,grad(W))).Diff(X,V)\n",
    "d2JOmega_f += (G_f.Diff(X,W)+G_f.Diff(F,grad(W))).Diff(F,grad(V))"
   ]
  },
  {
   "cell_type": "markdown",
   "id": "d6b7eaa5",
   "metadata": {},
   "source": [
    "# 3.2 2nd order boundary integrals"
   ]
  },
  {
   "cell_type": "code",
   "execution_count": 12,
   "id": "36d858d8",
   "metadata": {},
   "outputs": [],
   "source": [
    "d2JOmega_f_bnd = BilinearForm(VEC)\n",
    "d2JOmega_f_bnd += (G_f_bnd.Diff(X,W)+G_f_bnd.Diff(F,grad(W).Trace())).Diff(X,V)\n",
    "d2JOmega_f_bnd += (G_f_bnd.Diff(X,W)+G_f_bnd.Diff(F,grad(W).Trace())).Diff(F,grad(V).Trace())"
   ]
  },
  {
   "cell_type": "markdown",
   "id": "ee07539f",
   "metadata": {},
   "source": [
    "# 4 Semi-automatic shape differentiation with PDE constraints\n",
    "ud = x*(x-1)*y*(1-y) \n",
    "\n",
    "Cost = (u-ud)² * Det(f) * dx (31)"
   ]
  },
  {
   "cell_type": "code",
   "execution_count": 13,
   "id": "c3993d87",
   "metadata": {},
   "outputs": [
    {
     "data": {
      "application/vnd.jupyter.widget-view+json": {
       "model_id": "79d6b27095854563a94e7709067876ad",
       "version_major": 2,
       "version_minor": 0
      },
      "text/plain": [
       "WebGuiWidget(value={'ngsolve_version': '6.2.2201', 'mesh_dim': 2, 'order2d': 2, 'order3d': 2, 'draw_vol': Fals…"
      ]
     },
     "metadata": {},
     "output_type": "display_data"
    },
    {
     "data": {
      "text/plain": [
       "BaseWebGuiScene"
      ]
     },
     "execution_count": 13,
     "metadata": {},
     "output_type": "execute_result"
    }
   ],
   "source": [
    "ud = X[0]*(1-X[0])*X[1]*(1-X[1])\n",
    "def Cost(u):\n",
    "    return (u-ud)**2 * Det(F) * dx\n",
    "\n",
    "# solve adjoint equation\n",
    "gfp = GridFunction(fes)\n",
    "dCostdu = LinearForm(fes)\n",
    "dCostdu += Cost(gfu).Diff(gfu, w)\n",
    "dCostdu.Assemble()\n",
    "gfp.vec.data = -a.mat.Inverse(fes.FreeDofs(), inverse=\"sparsecholesky\").T * dCostdu.vec\n",
    "Draw(gfp, mesh, \"adjoint\")"
   ]
  },
  {
   "cell_type": "code",
   "execution_count": 14,
   "id": "8a8ec38a",
   "metadata": {},
   "outputs": [],
   "source": [
    "def Equation(u,w): #(31)\n",
    "    return ((Inv(F).trans * grad(u)) * (Inv(F).trans * grad(w)) - f*w)*Det(F)*dx\n",
    "\n",
    "G_pde = Cost(gfu) + Equation(gfu, gfp)\n",
    "\n",
    "dFOmega_pde = LinearForm(VEC)\n",
    "dFOmega_pde += G_pde.Diff(X,V)\n",
    "dFOmega_pde += G_pde.Diff(F, grad(V))"
   ]
  },
  {
   "cell_type": "markdown",
   "id": "ffc8808d",
   "metadata": {},
   "source": [
    "# 4.3 Second-order shape derivative"
   ]
  },
  {
   "cell_type": "code",
   "execution_count": 15,
   "id": "74daa156",
   "metadata": {},
   "outputs": [],
   "source": [
    "X2 = FESpace([fes, fes])\n",
    "dsu, dsp = X2.TrialFunction()\n",
    "uTest, pTest = X2.TestFunction()\n",
    "gfV = GridFunction(VEC)\n",
    "gfW = GridFunction(VEC)\n",
    "gfV.Set((X[0]*X[0]*X[1]*exp(X[1]),X[1]*X[1]*X[0]*exp(X[0])))\n",
    "gfW.Set((X[1]*X[1]*X[0]*exp(X[0]), X[0]*X[0]*X[1]*exp(X[1])))"
   ]
  },
  {
   "cell_type": "code",
   "execution_count": 16,
   "id": "cfbad9e2",
   "metadata": {},
   "outputs": [],
   "source": [
    "shapeHessLag2 = BilinearForm(X2)\n",
    "shapeGradLag2 = LinearForm(X2)\n",
    "\n",
    "shapeHessLag2 += (G_pde.Diff(gfu, uTest)).Diff(gfu, dsu) #block(1,1)\n",
    "shapeHessLag2 += (G_pde.Diff(gfu, uTest)).Diff(gfp, dsp) #block(1,2)\n",
    "shapeHessLag2 += (G_pde.Diff(gfu, pTest)).Diff(gfp, dsu) #block(2,1)\n",
    "\n",
    "#line 1\n",
    "shapeGradLag2 += (G_pde.Diff(gfu, uTest)).Diff(F, grad(gfV))\n",
    "shapeGradLag2 += (G_pde.Diff(gfu, uTest)).Diff(X, gfV)\n",
    "\n",
    "#line 2\n",
    "shapeGradLag2 += (G_pde.Diff(gfp, pTest)).Diff(F, grad(gfV))\n",
    "shapeGradLag2 += (G_pde.Diff(gfp, pTest)).Diff(X, gfV)"
   ]
  },
  {
   "cell_type": "markdown",
   "id": "7c292545",
   "metadata": {},
   "source": [
    "gfCombined2 = GridFunction(X2)\n",
    "shapeHessLag2.Assemble()\n",
    "shapeGradLag2.Assemble()\n",
    "gfCombined2.vec.data = shapeHessLag2.mat.Inverse(X2.FreeDofs(), inverse=\"pardiso\") * shapeGradLag2.vec\n",
    "\n",
    "gfdsu = GridFunction(fes)\n",
    "gfdsp = GridFunction(fes)\n",
    "gfdsu.vec.data = gfCombined2.components[0].vec\n",
    "gfdsp.vec.data = gfCombined2.components[1].vec\n",
    "\n",
    "Draw(gfdsu, mesh, \"dsu\")\n",
    "Draw(gfdsp, mesh, \"dsp\")"
   ]
  },
  {
   "cell_type": "markdown",
   "id": "fca4c85c",
   "metadata": {},
   "source": [
    "# 5. Fully automated shape differentiation"
   ]
  },
  {
   "cell_type": "code",
   "execution_count": 17,
   "id": "5c290d4f",
   "metadata": {},
   "outputs": [],
   "source": [
    "G_f_0 = f*dx\n",
    "dJOmega_f_0 = LinearForm(VEC)\n",
    "dJOmega_f_0 += G_f_0.DiffShape(V)"
   ]
  },
  {
   "cell_type": "code",
   "execution_count": 18,
   "id": "2d5dbbbb",
   "metadata": {},
   "outputs": [],
   "source": [
    "def Cost_0(u):\n",
    "    return (u-ud)**2*dx\n",
    "\n",
    "def Equation_0(u,w):\n",
    "    return (grad(u)*grad(w)-f1*w)*dx\n",
    "\n",
    "G_pde_0 = Cost_0(gfu) + Equation_0(gfu, gfp)\n",
    "\n",
    "dJOmega_pde_0 = LinearForm(VEC)\n",
    "dJOmega_pde_0 += G_pde_0.DiffShape(V)"
   ]
  },
  {
   "cell_type": "code",
   "execution_count": 22,
   "id": "18aec669",
   "metadata": {},
   "outputs": [
    {
     "data": {
      "application/vnd.jupyter.widget-view+json": {
       "model_id": "c58c26414cb24a1f9fb6fc02c8fab8f3",
       "version_major": 2,
       "version_minor": 0
      },
      "text/plain": [
       "WebGuiWidget(value={'ngsolve_version': '6.2.2201', 'mesh_dim': 2, 'order2d': 2, 'order3d': 2, 'draw_vol': Fals…"
      ]
     },
     "metadata": {},
     "output_type": "display_data"
    }
   ],
   "source": [
    "#mesh.UnsetDeformation()\n",
    "gfset = GridFunction(VEC)\n",
    "Draw(gfset, mesh, \"gfset\")      \n",
    "SetVisualization(deformation=True)\n",
    "# x²y, y²x\n",
    "gfset.Set((X[0]*X[0]*X[1], X[1]*X[1]*X[0]))\n",
    "mesh.SetDeformation(gfset)\n",
    "Redraw()"
   ]
  },
  {
   "cell_type": "code",
   "execution_count": 110,
   "id": "e28cfc3a",
   "metadata": {},
   "outputs": [
    {
     "data": {
      "application/vnd.jupyter.widget-view+json": {
       "model_id": "6acfc5399e1d4d62811cd1f15b02da66",
       "version_major": 2,
       "version_minor": 0
      },
      "text/plain": [
       "WebGuiWidget(value={'ngsolve_version': '6.2.2201', 'mesh_dim': 2, 'order2d': 2, 'order3d': 2, 'draw_vol': Fals…"
      ]
     },
     "metadata": {},
     "output_type": "display_data"
    },
    {
     "data": {
      "text/plain": [
       "BaseWebGuiScene"
      ]
     },
     "execution_count": 110,
     "metadata": {},
     "output_type": "execute_result"
    }
   ],
   "source": [
    "def solvePDE():\n",
    "    a.Assemble()\n",
    "    L.Assemble()\n",
    "    dCostdu.Assemble()\n",
    "    \n",
    "    inva = a.mat.Inverse(fes.FreeDofs(), inverse = \"sparsecholesky\")\n",
    "    gfu.vec.data = inva*L.vec\n",
    "    gfp.vec.data = -inva.T * dCostdu.vec\n",
    "    \n",
    "solvePDE()\n",
    "Draw(gfset, mesh, \"gfset\")"
   ]
  },
  {
   "cell_type": "code",
   "execution_count": 1,
   "id": "39b1faf7",
   "metadata": {},
   "outputs": [
    {
     "ename": "NameError",
     "evalue": "name 'X' is not defined",
     "output_type": "error",
     "traceback": [
      "\u001b[1;31m---------------------------------------------------------------------------\u001b[0m",
      "\u001b[1;31mNameError\u001b[0m                                 Traceback (most recent call last)",
      "Input \u001b[1;32mIn [1]\u001b[0m, in \u001b[0;36m<cell line: 8>\u001b[1;34m()\u001b[0m\n\u001b[0;32m      5\u001b[0m         p[\u001b[38;5;241m1\u001b[39m] \u001b[38;5;241m+\u001b[39m\u001b[38;5;241m=\u001b[39m v[\u001b[38;5;241m1\u001b[39m]\n\u001b[0;32m      6\u001b[0m     mesh\u001b[38;5;241m.\u001b[39mngmesh\u001b[38;5;241m.\u001b[39mUpdate()\n\u001b[1;32m----> 8\u001b[0m moveNGmesh2D((\u001b[43mX\u001b[49m[\u001b[38;5;241m0\u001b[39m]\u001b[38;5;241m*\u001b[39m\u001b[38;5;241m0.1\u001b[39m,X[\u001b[38;5;241m1\u001b[39m]), gfset)\n",
      "\u001b[1;31mNameError\u001b[0m: name 'X' is not defined"
     ]
    }
   ],
   "source": [
    "def moveNGmesh2D(displ, mesh):\n",
    "    for p in mesh.ngmesh.Points():\n",
    "        v = displ(mesh(p[0], p[1]))\n",
    "        p[0] += v[0]\n",
    "        p[1] += v[1]\n",
    "    mesh.ngmesh.Update()\n",
    "\n",
    "moveNGmesh2D((X[0]*0.1,X[1]), gfset)\n",
    "# ngmesh.OptimizeMesh2d()"
   ]
  },
  {
   "cell_type": "code",
   "execution_count": null,
   "id": "7d25f910",
   "metadata": {},
   "outputs": [],
   "source": []
  }
 ],
 "metadata": {
  "kernelspec": {
   "display_name": "Python 3 (ipykernel)",
   "language": "python",
   "name": "python3"
  },
  "language_info": {
   "codemirror_mode": {
    "name": "ipython",
    "version": 3
   },
   "file_extension": ".py",
   "mimetype": "text/x-python",
   "name": "python",
   "nbconvert_exporter": "python",
   "pygments_lexer": "ipython3",
   "version": "3.10.1"
  }
 },
 "nbformat": 4,
 "nbformat_minor": 5
}
