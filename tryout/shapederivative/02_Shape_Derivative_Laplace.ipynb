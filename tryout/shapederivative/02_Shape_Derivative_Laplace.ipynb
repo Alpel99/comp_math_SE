{
 "cells": [
  {
   "cell_type": "markdown",
   "metadata": {},
   "source": [
    "# 7.2 PDE-Constrained Shape Optimization"
   ]
  },
  {
   "cell_type": "markdown",
   "metadata": {},
   "source": [
    "We want to solve the PDE-constrained shape optimization problem\n",
    "$$\n",
    "            \\underset{\\Omega\\subset \\mathsf{D}}{\\mbox{min}} \\; J(u) := \\int_\\Omega |u-u_d|^2 \\; dx\n",
    "$$\n",
    " subject to that $(\\Omega,u)$ satisfy\n",
    " $$\n",
    "           \\int_\\Omega \\nabla u \\cdot \\nabla v \\; dx = \\int_\\Omega f v \\; dx \\; \\quad \\text{ for all } v \\in H_0^1(\\Omega),\n",
    "$$\n",
    "where $\\Omega \\subset \\mathbb R^2$ for given $u_d, f \\in C^1(\\mathbb R^2)$."
   ]
  },
  {
   "cell_type": "code",
   "execution_count": 1,
   "metadata": {},
   "outputs": [],
   "source": [
    "from ngsolve import *\n",
    "from ngsolve.webgui import Draw\n",
    "from netgen.geom2d import SplineGeometry"
   ]
  },
  {
   "cell_type": "code",
   "execution_count": 2,
   "metadata": {},
   "outputs": [],
   "source": [
    "geo = SplineGeometry()\n",
    "geo.AddRectangle( (0.2, 0.2), (0.8, 0.8), bcs = ('b','r','t','l'))\n",
    "mesh = Mesh(geo.GenerateMesh(maxh = 0.1))"
   ]
  },
  {
   "cell_type": "code",
   "execution_count": 3,
   "metadata": {},
   "outputs": [],
   "source": [
    "#given data of our problem (chosen such that \\Omega^* = [0,1]^2 is the optimal shape)\n",
    "f = CoefficientFunction(2*y*(1-y)+2*x*(1-x))\n",
    "ud = x*(1-x)*y*(1-y)\n",
    "\n",
    "grad_f = CoefficientFunction( (f.Diff(x), f.Diff(y) ) )\n",
    "grad_ud = CoefficientFunction( (ud.Diff(x), ud.Diff(y) ) )"
   ]
  },
  {
   "cell_type": "markdown",
   "metadata": {},
   "source": [
    "### State equation"
   ]
  },
  {
   "cell_type": "code",
   "execution_count": 4,
   "metadata": {},
   "outputs": [
    {
     "data": {
      "application/vnd.jupyter.widget-view+json": {
       "model_id": "ce20d439e52d4f1296effced7953d414",
       "version_major": 2,
       "version_minor": 0
      },
      "text/plain": [
       "WebGuiWidget(value={'ngsolve_version': '6.2.2201', 'mesh_dim': 2, 'order2d': 2, 'order3d': 2, 'draw_vol': Fals…"
      ]
     },
     "metadata": {},
     "output_type": "display_data"
    }
   ],
   "source": [
    "fes = H1(mesh, order=2, dirichlet=\".*\")\n",
    "u, v = fes.TnT()\n",
    "gfu = GridFunction(fes)\n",
    "scene = Draw (gfu, mesh, \"state\")\n",
    "\n",
    "a = BilinearForm(fes, symmetric=True)\n",
    "a += grad(u)*grad(v)*dx\n",
    "\n",
    "fstate = LinearForm(fes)\n",
    "fstate += f*v*dx"
   ]
  },
  {
   "cell_type": "code",
   "execution_count": 5,
   "metadata": {},
   "outputs": [],
   "source": [
    "def SolveStateEquation():\n",
    "    rhs = gfu.vec.CreateVector()\n",
    "    rhs.data = fstate.vec - a.mat * gfu.vec\n",
    "    update = gfu.vec.CreateVector()\n",
    "    update.data = a.mat.Inverse(fes.FreeDofs()) * rhs\n",
    "    gfu.vec.data += update"
   ]
  },
  {
   "cell_type": "code",
   "execution_count": 6,
   "metadata": {},
   "outputs": [],
   "source": [
    "a.Assemble()\n",
    "fstate.Assemble()\n",
    "SolveStateEquation()\n",
    "scene.Redraw()"
   ]
  },
  {
   "cell_type": "markdown",
   "metadata": {},
   "source": [
    "### Adjoint equation"
   ]
  },
  {
   "cell_type": "markdown",
   "metadata": {},
   "source": [
    "We set up the adjoint equation\n",
    "$$\n",
    "    \\mbox{Find } p \\in H_0^1(\\Omega): \\int_\\Omega \\nabla w \\cdot \\nabla p \\, \\mbox dx = - \\partial_u J(u)(w) \\quad \\text{ for all } w \\in H_0^1(\\Omega)\n",
    "$$\n",
    "where $u$ is the solution to the state equation. For $J(u) = \\int_\\Omega |u-u_d|^2 \\mbox dx$, we get\n",
    "$$\n",
    "    \\partial_u J(u)(w) = -2 \\int_\\Omega (u-u_d)w \\,\\mbox dx.\n",
    "$$\n",
    "However, we can also use the Diff(...) command:"
   ]
  },
  {
   "cell_type": "code",
   "execution_count": 7,
   "metadata": {},
   "outputs": [
    {
     "data": {
      "application/vnd.jupyter.widget-view+json": {
       "model_id": "2311500fc0814803adb9e56ac6d0648b",
       "version_major": 2,
       "version_minor": 0
      },
      "text/plain": [
       "WebGuiWidget(value={'ngsolve_version': '6.2.2201', 'mesh_dim': 2, 'order2d': 2, 'order3d': 2, 'draw_vol': Fals…"
      ]
     },
     "metadata": {},
     "output_type": "display_data"
    }
   ],
   "source": [
    "def Cost(u): \n",
    "    return (u-ud)**2*dx\n",
    "\n",
    "p, w = fes.TnT()\n",
    "gfp = GridFunction(fes)\n",
    "scene = Draw (gfp, mesh, \"adjoint\")\n",
    "\n",
    "fadjoint = LinearForm(fes)\n",
    "fadjoint += -1*Cost(gfu).Diff(gfu,w)"
   ]
  },
  {
   "cell_type": "code",
   "execution_count": 8,
   "metadata": {},
   "outputs": [],
   "source": [
    "def SolveAdjointEquation():\n",
    "    rhs = gfp.vec.CreateVector()\n",
    "    rhs.data = fadjoint.vec - a.mat.T * gfp.vec\n",
    "    update = gfp.vec.CreateVector()\n",
    "    update.data = a.mat.Inverse(fes.FreeDofs()).T * rhs\n",
    "    gfp.vec.data += update"
   ]
  },
  {
   "cell_type": "code",
   "execution_count": 9,
   "metadata": {},
   "outputs": [],
   "source": [
    "fadjoint.Assemble()\n",
    "SolveAdjointEquation()\n",
    "scene.Redraw()"
   ]
  },
  {
   "cell_type": "code",
   "execution_count": 20,
   "metadata": {},
   "outputs": [
    {
     "data": {
      "application/vnd.jupyter.widget-view+json": {
       "model_id": "8bb7a55c3d8840409332fc358e6bbce1",
       "version_major": 2,
       "version_minor": 0
      },
      "text/plain": [
       "WebGuiWidget(value={'ngsolve_version': '6.2.2201', 'mesh_dim': 2, 'order2d': 2, 'order3d': 2, 'draw_vol': Fals…"
      ]
     },
     "metadata": {},
     "output_type": "display_data"
    },
    {
     "data": {
      "text/plain": [
       "BaseWebGuiScene"
      ]
     },
     "execution_count": 20,
     "metadata": {},
     "output_type": "execute_result"
    }
   ],
   "source": [
    "Draw(gfu-gfp,mesh)"
   ]
  },
  {
   "cell_type": "code",
   "execution_count": 21,
   "metadata": {},
   "outputs": [
    {
     "name": "stdout",
     "output_type": "stream",
     "text": [
      "0.0\n",
      "0.0\n",
      "0.0\n",
      "0.0\n",
      "0.0\n",
      "0.0\n",
      "0.0\n",
      "0.0\n",
      "0.0\n",
      "0.0\n",
      "0.0\n",
      "0.0\n",
      "0.0\n",
      "0.0\n",
      "0.0\n",
      "0.0\n",
      "0.0\n",
      "0.0\n",
      "0.0\n",
      "0.0\n",
      "0.0\n",
      "0.0\n",
      "0.0\n",
      "0.0\n",
      "0.009620707236726665\n",
      "0.012254545944535416\n",
      "0.011851887949983916\n",
      "0.009343723350379286\n",
      "0.006043984316083979\n",
      "0.009121390041480723\n",
      "0.011455478315293923\n",
      "0.01139540281753879\n",
      "0.008325308999918849\n",
      "0.008704379118447117\n",
      "0.011492846929100676\n",
      "0.011109772180678143\n",
      "0.009530232290497844\n",
      "0.00657467019502536\n",
      "0.00963784860576135\n",
      "0.010608525691709551\n",
      "0.010842101329021378\n",
      "0.01977220484032261\n",
      "0.01725862797425328\n",
      "0.013350381901781309\n",
      "0.01925672757810752\n",
      "0.017813927545330697\n",
      "0.01570569496129353\n",
      "0.017040176974747977\n",
      "0.019860444131930527\n",
      "0.01511887781021652\n",
      "0.017226227023884315\n",
      "0.017767908373753683\n",
      "0.018014285667571163\n",
      "0.021393496466619102\n",
      "0.02174645379202496\n",
      "0.02277804955012286\n",
      "0.0\n",
      "0.0\n",
      "0.0\n",
      "0.0\n",
      "0.008202540198268944\n",
      "0.0\n",
      "0.0\n",
      "0.0\n",
      "0.0\n",
      "0.008789865872684237\n",
      "0.0\n",
      "-0.021950159057346603\n",
      "-0.004948335176754645\n",
      "0.0\n",
      "-0.016345266061121792\n",
      "-0.004443487551973481\n",
      "0.0\n",
      "-0.00747336405545632\n",
      "-0.005434533445660002\n",
      "0.0\n",
      "-0.003520924294101413\n",
      "-0.005330647022580713\n",
      "0.0009358657693881825\n",
      "-0.005484305868528705\n",
      "0.0\n",
      "-0.0051839367919887455\n",
      "0.0011314217964730237\n",
      "0.0\n",
      "-0.004823906821925531\n",
      "-0.0031771667946077792\n",
      "0.0\n",
      "-0.004934818219653002\n",
      "-0.006523543138787797\n",
      "0.0\n",
      "-0.003768377968008985\n",
      "-0.009000352494962944\n",
      "-0.021905482961056547\n",
      "-0.001052655361188291\n",
      "0.0\n",
      "-0.01018355882014254\n",
      "0.0005180642635133401\n",
      "0.0\n",
      "-0.006086680200948106\n",
      "-0.003640634340514701\n",
      "0.0\n",
      "-0.0061571380527822486\n",
      "-0.004634742777676307\n",
      "0.0\n",
      "-0.002900264298878164\n",
      "-0.005287904029446173\n",
      "0.001000670783977776\n",
      "-0.005363221342965658\n",
      "0.0\n",
      "-0.005085594933985463\n",
      "0.0011440878952069656\n",
      "0.0\n",
      "-0.005014594766098487\n",
      "-0.002526955684241938\n",
      "0.0\n",
      "-0.0040999535398334955\n",
      "-0.00597532303720662\n",
      "0.0\n",
      "-0.015568504382114183\n",
      "-0.0032736883272755884\n",
      "-0.004475465115384068\n",
      "-0.0058834931925615085\n",
      "-0.00618384331736661\n",
      "-0.0015959169705600349\n",
      "-0.002370337749174132\n",
      "-0.00431140627552295\n",
      "-0.007157880244834166\n",
      "-0.0017201707198831802\n",
      "-0.005859637686514493\n",
      "-0.0048756640388530215\n",
      "-0.0027158939243202783\n",
      "-0.003845410966577427\n",
      "-0.003302233371314443\n",
      "-0.0028583906974314973\n",
      "6.786423150505173e-05\n",
      "-0.0016905776928833123\n",
      "-0.0035683148069079497\n",
      "-0.0031594486836552427\n",
      "-0.002112708792517705\n",
      "-0.00609876969531882\n",
      "-0.004451222507847171\n",
      "-0.0023492455101787723\n",
      "-0.004221390258563766\n",
      "-0.007215657359994614\n",
      "-0.006576806646086313\n",
      "-0.0021464005651333886\n",
      "-0.0013161428392944913\n",
      "-0.0032545448803603014\n",
      "-0.0018099964898642099\n",
      "-0.006836513332160686\n",
      "-0.005271524897483576\n",
      "-0.0018668749404777095\n",
      "-0.0034780456687096522\n",
      "-0.0073286815349202575\n",
      "-0.0029216716972997486\n",
      "-0.002114539290713846\n",
      "-0.004221277808292483\n",
      "-0.0029543046397008297\n",
      "-0.0005398615555829736\n",
      "-0.0018879237033843092\n",
      "-0.003921424864844885\n",
      "-0.0028656631082382067\n",
      "-0.001992778454634272\n",
      "-0.003682638685965857\n",
      "-0.004200479281615756\n",
      "-0.006929237041560884\n",
      "-0.002267688710453284\n",
      "-0.0043176592951728165\n",
      "-0.003361945707771108\n",
      "-0.005385835374660073\n",
      "-0.005943681855403072\n",
      "-0.003815614469897425\n",
      "-0.0035935905197530126\n",
      "-0.002319543103314783\n",
      "-0.0022594679970598186\n",
      "-0.003731663315515925\n",
      "-0.0039796085371520944\n",
      "-0.007834926198895793\n",
      "-0.005067023868602028\n",
      "-0.00448146782244297\n",
      "-0.00584632966753356\n",
      "-0.0037501307407563304\n",
      "-0.0036327740427915755\n",
      "-0.002709649906940807\n",
      "-0.0033842503609847886\n",
      "-0.004312366556953143\n",
      "-0.008151877674187133\n",
      "-0.002835727661086554\n",
      "-0.003929458390741454\n",
      "-0.002253574466319709\n",
      "-0.003485656501678871\n",
      "-0.003874500702882333\n",
      "-0.004752437288167088\n",
      "-0.006304805784723732\n",
      "-0.003890154548915676\n",
      "-0.00673315267190814\n",
      "-0.005016676515211074\n"
     ]
    }
   ],
   "source": [
    "gfud = list(gfu.vec.data)\n",
    "gfpd = list(gfp.vec.data)\n",
    "for gfue,gfpe in zip(gfud,gfpd):\n",
    "    print(gfue-gfpe)"
   ]
  },
  {
   "cell_type": "code",
   "execution_count": 35,
   "metadata": {},
   "outputs": [
    {
     "name": "stdout",
     "output_type": "stream",
     "text": [
      "0.000408289490470634\n",
      "0.0005480499541829699\n",
      "0.0003169113632459708\n",
      "0.0005256921675022454\n",
      "0.0003965722700794127\n",
      "0.00032443424741338206\n",
      "0.00029586255557341473\n",
      "0.00018687081376986958\n",
      "0.0003403184169573071\n",
      "0.000239543613394453\n",
      "0.0006683666334452552\n",
      "0.00035382546838221484\n",
      "0.0002871056823181453\n",
      "0.00022815524186652018\n",
      "0.00030414680308936637\n",
      "0.0003183159418927136\n",
      "0.0004893105307598467\n",
      "0.00037193935516634604\n",
      "0.0004194392567216958\n",
      "0.0006448086670365487\n",
      "0.00033581426351362605\n",
      "0.00030879125156118024\n",
      "0.00019868780581886158\n",
      "0.0002029612887419669\n",
      "0.01077838016465806\n",
      "0.01365194804560793\n",
      "0.013385871547486449\n",
      "0.01061605518762742\n",
      "0.00686503954450062\n",
      "0.010291695270730967\n",
      "0.01267490180593997\n",
      "0.013005930036792745\n",
      "0.00944442084286444\n",
      "0.009808735509162407\n",
      "0.012677537048069627\n",
      "0.012361307330463662\n",
      "0.010724318779180021\n",
      "0.00732657913206929\n",
      "0.010571950171671701\n",
      "0.011808625813804752\n",
      "0.012174957186754326\n",
      "0.021684377255211697\n",
      "0.019019345424633242\n",
      "0.015171220378236658\n",
      "0.021231377304591324\n",
      "0.019522414223613786\n",
      "0.017550452110822155\n",
      "0.01911071357987912\n",
      "0.021730938143366504\n",
      "0.016742522733310932\n",
      "0.018841987886699933\n",
      "0.019520446823885738\n",
      "0.02015385955611993\n",
      "0.023855865526020203\n",
      "0.02399831011513083\n",
      "0.024940305808555767\n",
      "0.00039235661066355906\n",
      "0.0005374786946571278\n",
      "0.00017997216618888725\n",
      "0.00030007199361167504\n",
      "0.009235971586522769\n",
      "0.000147203464904332\n",
      "1.8301371417482205e-05\n",
      "0.0002546798705058664\n",
      "0.00031178652512325124\n",
      "0.009894574660886425\n",
      "0.00024282539165716097\n",
      "-0.023516027312787607\n",
      "-0.004921221092004273\n",
      "0.00015006042262314762\n",
      "-0.017218402448376073\n",
      "-0.0045161514997037275\n",
      "0.00020157739934429687\n",
      "-0.008033694442212067\n",
      "-0.005437013010141167\n",
      "0.0005112859783978531\n",
      "-0.003447728633766912\n",
      "-0.005501140397796394\n",
      "0.0023943445950585385\n",
      "-0.0059938105149946715\n",
      "0.0005780951952168926\n",
      "-0.005255202142858697\n",
      "0.0011897564660791693\n",
      "0.00027495280894446634\n",
      "-0.004802673267899198\n",
      "-0.0035174447242708566\n",
      "-5.4704686458946086e-05\n",
      "-0.004950892108328013\n",
      "-0.007154922928402353\n",
      "0.000501166886093785\n",
      "-0.004203526132828468\n",
      "-0.009321135932983917\n",
      "-0.023580456811991193\n",
      "-0.0011812587737811435\n",
      "0.0004628369019525471\n",
      "-0.01052546242464985\n",
      "0.0005265535797848368\n",
      "0.00038272215273413307\n",
      "-0.006086680200948106\n",
      "-0.004023356493248834\n",
      "-8.489316271496688e-06\n",
      "-0.005815234448274939\n",
      "-0.005097579679628854\n",
      "0.0001286034125928525\n",
      "-0.00122529044794352\n",
      "-0.004967120591425199\n",
      "0.0014358189487972592\n",
      "-0.005864388229059443\n",
      "0.0006313797896145554\n",
      "-0.005069521045310452\n",
      "0.0011987925816659118\n",
      "0.0003402779296630773\n",
      "-0.005035828320124821\n",
      "-0.002801908493186404\n",
      "-5.833466960614557e-05\n",
      "-0.004028688188963545\n",
      "-0.006553418232423513\n",
      "0.0005095046464659666\n",
      "-0.01702698320778454\n",
      "-0.003103194952059908\n",
      "-0.004548660775718569\n",
      "-0.006394779170959362\n",
      "-0.0061813637528854454\n",
      "-0.0010355865838042886\n",
      "-0.002571915148518429\n",
      "-0.004238742327792704\n",
      "-0.006284743857579888\n",
      "-0.001870231142506328\n",
      "-0.0058867517712648644\n",
      "-0.0033097957834120153\n",
      "-0.0029587193159774394\n",
      "-0.004950119754779617\n",
      "-0.0036140198964376945\n",
      "-0.0031130705679373637\n",
      "4.956286008756952e-05\n",
      "-0.0018377811577876444\n",
      "-0.004601746195161774\n",
      "-0.0034595206772669177\n",
      "-0.0022926809587065925\n",
      "-0.006636248389975948\n",
      "-0.00484357911851073\n",
      "-0.004511501768611681\n",
      "-0.006473246581669638\n",
      "-0.009678026419395715\n",
      "-0.008716380534635079\n",
      "-0.0038989390152654427\n",
      "-0.00293190370211011\n",
      "-0.004878189803454713\n",
      "-0.0036804905013001865\n",
      "-0.008907049937291828\n",
      "-0.007116282047012202\n",
      "-0.003575361618760797\n",
      "-0.005452695395193455\n",
      "-0.009149520011375607\n",
      "-0.004682389147679708\n",
      "-0.004026711705602932\n",
      "-0.005554133666025431\n",
      "-0.00415440476179603\n",
      "-0.0014739631214933232\n",
      "-0.0026398326404282395\n",
      "-0.005115511353527062\n",
      "-0.004117198258023726\n",
      "-0.003177468573603224\n",
      "-0.004786995076681147\n",
      "-0.005319591124561347\n",
      "-0.008539764260814837\n",
      "-0.0034871122010993304\n",
      "-0.005487964524423062\n",
      "-0.004183000936187749\n",
      "-0.006658167211908207\n",
      "-0.007477665452905603\n",
      "-0.005213016570969939\n",
      "-0.004751263447684408\n",
      "-0.0025225043920567495\n",
      "-0.0024581558028786803\n",
      "-0.0040404545670771055\n",
      "-0.0043154228006657205\n",
      "-0.008479734865932342\n",
      "-0.005486463125323724\n",
      "-0.004853407177609316\n",
      "-0.006335640198293406\n",
      "-0.004068446682649044\n",
      "-0.003936920845880942\n",
      "-0.002937805148807327\n",
      "-0.003671356043302934\n",
      "-0.004666192025335358\n",
      "-0.008820244307632388\n",
      "-0.003075271274481007\n",
      "-0.0042697768076987615\n",
      "-0.0024404452800895786\n",
      "-0.0037815190572522855\n",
      "-0.004198934950295715\n",
      "-0.005149009558246501\n",
      "-0.006830497952225977\n",
      "-0.004207065912161647\n",
      "-0.00728120262609111\n",
      "-0.0054249660056817075\n"
     ]
    }
   ],
   "source": [
    "l = len(gfud)\n",
    "tfunc = GridFunction(fes)\n",
    "tvec = tfunc.vec.CreateVector()\n",
    "for c in range(0,l):\n",
    "    print(gfud[c]-gfpd[l-c-1])\n",
    "    tvec.data[c] = abs(gfud[c]-gfpd[l-c-1])"
   ]
  },
  {
   "cell_type": "code",
   "execution_count": 36,
   "metadata": {},
   "outputs": [
    {
     "data": {
      "application/vnd.jupyter.widget-view+json": {
       "model_id": "322b0a55fad24d859d4160e5df7e55c2",
       "version_major": 2,
       "version_minor": 0
      },
      "text/plain": [
       "WebGuiWidget(value={'ngsolve_version': '6.2.2201', 'mesh_dim': 2, 'order2d': 2, 'order3d': 2, 'draw_vol': Fals…"
      ]
     },
     "metadata": {},
     "output_type": "display_data"
    },
    {
     "data": {
      "text/plain": [
       "BaseWebGuiScene"
      ]
     },
     "execution_count": 36,
     "metadata": {},
     "output_type": "execute_result"
    }
   ],
   "source": [
    "tfunc.vec.data += tvec\n",
    "Draw(tfunc,mesh)"
   ]
  },
  {
   "cell_type": "markdown",
   "metadata": {},
   "source": [
    "Note that (for linear problems) the operator on the left hand side of the adjoint equation is just the transpose of the state operator."
   ]
  },
  {
   "cell_type": "markdown",
   "metadata": {},
   "source": [
    "### Shape derivative"
   ]
  },
  {
   "cell_type": "markdown",
   "metadata": {},
   "source": [
    "The shape derivative of the shape function \n",
    "$$\n",
    "\\mathcal{J}(\\Omega):= \\int_\\Omega |u-u_d|^2\\;dx\n",
    "$$\n",
    "at $\\Omega$ in direction $X$ is given by the formula\n",
    "$$\n",
    "    \\begin{array}{rl}\n",
    "    d\\mathcal J(\\Omega; X) =&\\int_{\\Omega}  \\mbox{div}(X) |u-u_d|^2  - 2(u-u_d)\\nabla u_d \\cdot X \\, dx \\\\\n",
    "\t\t& + \\int_{\\Omega} (\\mbox{div}(X) I - D X - D X^\\top )\\nabla u \\cdot \\nabla p \\, dx \\\\\n",
    "\t\t&- \\int_\\Omega (\\nabla f\\cdot X + f \\mbox{div}(X)) p\\, dx.\n",
    "    \\end{array}\n",
    "$$\n",
    "We now assemble this shape derivaitve in NGSolve as follows:"
   ]
  },
  {
   "cell_type": "code",
   "execution_count": null,
   "metadata": {},
   "outputs": [],
   "source": [
    "VEC = H1(mesh, order=2, dim=2)\n",
    "PHI, X = VEC.TnT()\n",
    "\n",
    "dJOmega = LinearForm(VEC)\n",
    "dJOmega += SymbolicLFI(div(X)*( (gfu-ud)**2 - f*gfp + InnerProduct(grad(gfu),grad(gfp))))\n",
    "dJOmega += SymbolicLFI(-2*(gfu-ud)*InnerProduct(grad_ud,X) - InnerProduct(grad_f,X)*gfp)\n",
    "dJOmega += SymbolicLFI(-InnerProduct(X.Deriv()*grad(gfu),grad(gfp))-InnerProduct(grad(gfu),X.Deriv()*grad(gfp)))"
   ]
  },
  {
   "cell_type": "markdown",
   "metadata": {},
   "source": [
    "### Descent Direction"
   ]
  },
  {
   "cell_type": "markdown",
   "metadata": {},
   "source": [
    "<ul>\n",
    " <li> Next, we want to find a vector field $X$ which yields a decrease of the objective function, i.e. we want to find a vector field $X$ such that $$d \\mathcal J(\\Omega;X)<0.$$ </li>\n",
    "<li> This can be achieved by solving an auxiliary boundary value problem of the type \n",
    "$$\n",
    "    \\mbox{Find } X \\in H: \\qquad b(X, \\Phi) = d\\mathcal J(\\Omega; \\Phi) \\; \\text{ for all } \\Phi \\in H\n",
    "$$\n",
    "for a suitable Hilbert space $H$ (e.g. $H=H^1(\\Omega)^2$). Here, $b(\\cdot, \\cdot): H \\times H \\rightarrow \\mathbb R$ is a positive definite bilinear form which we are free to choose. Then, $-X$ is a descent direction since $$ d\\mathcal J(\\Omega; -X) = -d\\mathcal J(\\Omega; X) = - b(X, X) < 0.$$ </li>\n",
    "</ul>"
   ]
  },
  {
   "cell_type": "code",
   "execution_count": null,
   "metadata": {},
   "outputs": [],
   "source": [
    "b = BilinearForm(VEC)\n",
    "b += InnerProduct(grad(X),grad(PHI))*dx + InnerProduct(X,PHI)*dx\n",
    "\n",
    "gfX = GridFunction(VEC)\n",
    "\n",
    "# gfset denotes the deformation of the original domain and will be updated during the shape optimization\n",
    "gfset = GridFunction(VEC)\n",
    "gfset.Set((0,0))\n",
    "scene = Draw(gfset,mesh,\"gfset\")\n",
    "SetVisualization (deformation=True)"
   ]
  },
  {
   "cell_type": "code",
   "execution_count": null,
   "metadata": {},
   "outputs": [],
   "source": [
    "def SolveDeformationEquation():\n",
    "    rhs = gfX.vec.CreateVector()\n",
    "    rhs.data = dJOmega.vec - b.mat * gfX.vec\n",
    "    update = gfX.vec.CreateVector()\n",
    "    update.data = b.mat.Inverse(VEC.FreeDofs()) * rhs\n",
    "    gfX.vec.data += update"
   ]
  },
  {
   "cell_type": "code",
   "execution_count": null,
   "metadata": {},
   "outputs": [],
   "source": [
    "b.Assemble()\n",
    "dJOmega.Assemble()\n",
    "SolveDeformationEquation()\n",
    "Draw(-gfX, mesh, \"gfX\")"
   ]
  },
  {
   "cell_type": "markdown",
   "metadata": {},
   "source": [
    "Now let us update the geometry in the direction of $-X$. Here, we need to choose the step size accordingly (a descent is only guaranteed for this step size being sufficiently small)"
   ]
  },
  {
   "cell_type": "code",
   "execution_count": null,
   "metadata": {},
   "outputs": [],
   "source": [
    "print('Cost at initial design', Integrate (Cost(gfu), mesh))\n",
    "gfset.Set((0,0))\n",
    "scale = 0.5 / Norm(gfX.vec)\n",
    "gfset.vec.data -= scale * gfX.vec"
   ]
  },
  {
   "cell_type": "markdown",
   "metadata": {},
   "source": [
    "Let us now update the design and compute the new value of the cost function:"
   ]
  },
  {
   "cell_type": "code",
   "execution_count": null,
   "metadata": {},
   "outputs": [],
   "source": [
    "scene = Draw(gfset)\n",
    "mesh.SetDeformation(gfset)\n",
    "scene.Redraw()\n",
    "\n",
    "a.Assemble()\n",
    "fstate.Assemble()\n",
    "SolveStateEquation()\n",
    "print('Cost at new design', Integrate (Cost(gfu), mesh))"
   ]
  },
  {
   "cell_type": "code",
   "execution_count": null,
   "metadata": {},
   "outputs": [],
   "source": [
    "#reset the design\n",
    "gfset.Set((0,0))\n",
    "mesh.SetDeformation(gfset)\n",
    "\n",
    "#check if initial value of cost function 0.000486578350214552 is recovered\n",
    "a.Assemble()\n",
    "fstate.Assemble()\n",
    "SolveStateEquation()\n",
    "print('Cost at new design', Integrate (Cost(gfu), mesh))"
   ]
  },
  {
   "cell_type": "markdown",
   "metadata": {},
   "source": [
    "Finally, this can be applied in an iterative algorithm with a line search for choosing the step size:"
   ]
  },
  {
   "cell_type": "code",
   "execution_count": null,
   "metadata": {},
   "outputs": [],
   "source": [
    "scene = Draw(gfset)"
   ]
  },
  {
   "cell_type": "code",
   "execution_count": null,
   "metadata": {},
   "outputs": [],
   "source": [
    "gfset.Set((0,0))\n",
    "mesh.SetDeformation(gfset)\n",
    "scene.Redraw()\n",
    "a.Assemble()\n",
    "fstate.Assemble()\n",
    "SolveStateEquation()\n",
    "\n",
    "LineSearch = True\n",
    "\n",
    "iter_max = 600\n",
    "Jold = Integrate(Cost(gfu), mesh)\n",
    "converged = False\n",
    "\n",
    "# input(\"Press enter to start optimization\")\n",
    "for k in range(iter_max):\n",
    "    mesh.SetDeformation(gfset)\n",
    "    scene.Redraw()\n",
    "    \n",
    "    print('cost at iteration', k, ': ', Jold)\n",
    "    \n",
    "    a.Assemble()\n",
    "    fstate.Assemble()\n",
    "    SolveStateEquation()\n",
    "    \n",
    "    fadjoint.Assemble()\n",
    "    SolveAdjointEquation()\n",
    "    \n",
    "    b.Assemble()\n",
    "    dJOmega.Assemble()\n",
    "    SolveDeformationEquation()\n",
    "\n",
    "    scale = 0.01 / Norm(gfX.vec)\n",
    "    gfsetOld = gfset\n",
    "    gfset.vec.data -= scale * gfX.vec\n",
    "    \n",
    "    Jnew = Integrate(Cost(gfu), mesh)\n",
    "    \n",
    "    if LineSearch:\n",
    "        while Jnew > Jold and scale > 1e-12:\n",
    "            #input('a')\n",
    "            scale = scale / 2\n",
    "            print(\"scale = \", scale)\n",
    "            if scale <= 1e-12:\n",
    "                converged = True\n",
    "                break\n",
    "\n",
    "            gfset.vec.data = gfsetOld.vec - scale * gfX.vec\n",
    "            mesh.SetDeformation(gfset)\n",
    "            \n",
    "            a.Assemble()\n",
    "            fstate.Assemble()\n",
    "            SolveStateEquation()\n",
    "            Jnew = Integrate(Cost(gfu), mesh)\n",
    "    \n",
    "    if converged==True:\n",
    "        print(\"No more descent can be found\")\n",
    "        break\n",
    "    Jold = Jnew\n",
    "\n",
    "    Redraw(blocking=True)"
   ]
  },
  {
   "cell_type": "code",
   "execution_count": null,
   "metadata": {},
   "outputs": [],
   "source": []
  }
 ],
 "metadata": {
  "kernelspec": {
   "display_name": "Python 3 (ipykernel)",
   "language": "python",
   "name": "python3"
  },
  "language_info": {
   "codemirror_mode": {
    "name": "ipython",
    "version": 3
   },
   "file_extension": ".py",
   "mimetype": "text/x-python",
   "name": "python",
   "nbconvert_exporter": "python",
   "pygments_lexer": "ipython3",
   "version": "3.10.1"
  }
 },
 "nbformat": 4,
 "nbformat_minor": 4
}
