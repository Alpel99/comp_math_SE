{
 "cells": [
  {
   "cell_type": "markdown",
   "metadata": {},
   "source": [
    "# 7.5 PDE-Constrained Shape Optimization (fully automated)"
   ]
  },
  {
   "cell_type": "markdown",
   "metadata": {},
   "source": [
    "We want to solve the PDE-constrained shape optimization problem\n",
    "$$\n",
    "            \\underset{\\Omega\\subset \\mathsf{D}}{\\mbox{min}} \\; J(u) := \\int_\\Omega |u-u_d|^q \\; dx, \\quad q\\ge 2\n",
    "$$\n",
    "subject to that $(\\Omega,u)$ satisfy\n",
    "$$\n",
    "           \\int_\\Omega \\nabla u \\cdot \\nabla v \\; dx = \\int_\\Omega f v \\; dx \\; \\quad \\text{ for all } v \\in H_0^1(\\Omega),\n",
    "$$\n",
    "where $\\Omega \\subset \\mathbb R^2$ for given $u_d, f \\in C^1(\\mathbb R^2)$.\n",
    "\n",
    "Again, we want to compute the shape derivative by differentiation of a suitably defined perturbed Lagrangian using automated differentiation. Here this is accounted for automatically by NGSolve. For details we refer to \n",
    "\n",
    "P. Gangl, K. Sturm, M. Neunteufel, J. Schöberl.\n",
    "Fully and Semi-Automated Shape Differentiation in NGSolve,\n",
    "Struct. Multidisc. Optim., 63, pp.1579-1607, 2021."
   ]
  },
  {
   "cell_type": "code",
   "execution_count": 22,
   "metadata": {},
   "outputs": [],
   "source": [
    "from ngsolve import *\n",
    "from ngsolve.webgui import Draw\n",
    "from netgen.geom2d import SplineGeometry\n",
    "from ngsolve.solvers import *"
   ]
  },
  {
   "cell_type": "code",
   "execution_count": 23,
   "metadata": {},
   "outputs": [
    {
     "data": {
      "application/vnd.jupyter.widget-view+json": {
       "model_id": "ce4324ca647b42809da2448203c1989c",
       "version_major": 2,
       "version_minor": 0
      },
      "text/plain": [
       "WebGuiWidget(value={'ngsolve_version': '6.2.2201', 'mesh_dim': 2, 'order2d': 1, 'order3d': 1, 'draw_vol': None…"
      ]
     },
     "metadata": {},
     "output_type": "display_data"
    },
    {
     "data": {
      "text/plain": [
       "BaseWebGuiScene"
      ]
     },
     "execution_count": 23,
     "metadata": {},
     "output_type": "execute_result"
    }
   ],
   "source": [
    "geo = SplineGeometry()\n",
    "geo.AddCircle(c=(0.5,0.5), r=0.5, bc = 'circle')\n",
    "mesh = Mesh(geo.GenerateMesh(maxh = 0.08))\n",
    "Draw(mesh)"
   ]
  },
  {
   "cell_type": "code",
   "execution_count": 24,
   "metadata": {},
   "outputs": [],
   "source": [
    "#given data of our problem (chosen such that \\Omega^* = [0,1]^2 is the optimal shape)\n",
    "f = CoefficientFunction(-2*y*(1-y)+2*x*(1-x))\n",
    "ud = x*(1-x)*y*(1-y)\n",
    "\n",
    "grad_f = CoefficientFunction( (f.Diff(x), f.Diff(y) ) )\n",
    "grad_ud = CoefficientFunction( (ud.Diff(x), ud.Diff(y) ) )"
   ]
  },
  {
   "cell_type": "code",
   "execution_count": 25,
   "metadata": {},
   "outputs": [
    {
     "data": {
      "application/vnd.jupyter.widget-view+json": {
       "model_id": "7cc3c8436f994e93b6809e5a4211d8f3",
       "version_major": 2,
       "version_minor": 0
      },
      "text/plain": [
       "WebGuiWidget(value={'ngsolve_version': '6.2.2201', 'mesh_dim': 2, 'order2d': 2, 'order3d': 2, 'draw_vol': Fals…"
      ]
     },
     "metadata": {},
     "output_type": "display_data"
    },
    {
     "data": {
      "application/vnd.jupyter.widget-view+json": {
       "model_id": "642ff66f77e1433bbb240f3f55dc62df",
       "version_major": 2,
       "version_minor": 0
      },
      "text/plain": [
       "WebGuiWidget(value={'ngsolve_version': '6.2.2201', 'mesh_dim': 2, 'order2d': 2, 'order3d': 2, 'draw_vol': Fals…"
      ]
     },
     "metadata": {},
     "output_type": "display_data"
    }
   ],
   "source": [
    "fes = H1(mesh, order=2, dirichlet=\".*\")\n",
    "gfu = GridFunction(fes)\n",
    "scene_u = Draw (gfu, mesh, \"state\")\n",
    "\n",
    "gfp = GridFunction(fes)\n",
    "scene_p = Draw (gfp, mesh, \"adjoint\")"
   ]
  },
  {
   "cell_type": "markdown",
   "metadata": {},
   "source": [
    "Note that (for linear problems) the operator on the left hand side of the adjoint equation is just the transpose of the state operator."
   ]
  },
  {
   "cell_type": "markdown",
   "metadata": {},
   "source": [
    "### Automatic Shape Differentiation"
   ]
  },
  {
   "cell_type": "markdown",
   "metadata": {},
   "source": [
    "The formula for the shape derivative was derived as the partial derivative of the perturbed Lagrangian (brought back to the original domain):\n",
    "$$\n",
    "    d\\mathcal J(\\Omega; X) = \\frac{\\partial}{\\partial t} \\left. \\left( \\int_\\Omega |u - u_d^t|^q  \\,\\mbox{det}(F_t) \\mbox{d} x \n",
    "         +  \\int_{\\Omega} (F_t^{-\\top}\\nabla u) \\cdot (F_t^{-\\top} \\nabla p)\\,  \\mbox{det}(F_t) \\, dx - \\int_{\\Omega}f^t p  \\,\\mbox{det}(F_t) \\,dx \\right) \\right \\rvert_{t=0} \n",
    "$$\n",
    "where \n",
    "<ul>\n",
    "    <li>   $T_t(x)=x+tX(x)=y$ \n",
    "    <li> $F_t = DT_t = I+t DX$\n",
    "    <li>  $u_d^t = u_d \\circ T_t$\n",
    "    <li> $f^t = f \\circ T_t$\n",
    "</ul>\n",
    "\n",
    "The integrand depends on the parameter $t$ only via $F_t$ and $T_t$. We define the Lagrangian in this form, involving a parameter t that has the value 0."
   ]
  },
  {
   "cell_type": "markdown",
   "metadata": {},
   "source": [
    "### In order to define the perturbed Lagrangian for a given problem, one needs to know transformation rules of differential operators, e.g., $$(\\nabla u)\\circ T_t = (\\partial T_t)^{-T} \\nabla (u \\circ T_t)$$ for $u \\in H^1$.\n",
    "### Since these transformation rules are known by NGSolve for all implemented differential operators, also the step of defining the perturbed Lagrangian can be automated."
   ]
  },
  {
   "cell_type": "code",
   "execution_count": 5,
   "metadata": {},
   "outputs": [],
   "source": [
    "VEC = H1(mesh, order=2, dim=2)\n",
    "PHI, X = VEC.TnT()\n",
    "\n",
    "def EquationFA(u,v):\n",
    "    return ( grad(u)*grad(v)-f*v)*dx\n",
    "\n",
    "q=4\n",
    "def CostAutoFA(u): \n",
    "    return (u-ud)**q*dx\n",
    "\n",
    "def CostAuto2(u): \n",
    "    return CostAutoFA(u)\n",
    "\n",
    "LagrangianFA = CostAutoFA(gfu) + EquationFA(gfu,gfp)"
   ]
  },
  {
   "cell_type": "markdown",
   "metadata": {},
   "source": [
    "### State equation"
   ]
  },
  {
   "cell_type": "markdown",
   "metadata": {},
   "source": [
    "Equation can also be used to define the bilinear form. The following defines left and right hand side of the PDE in a \"BilinearForm\":"
   ]
  },
  {
   "cell_type": "code",
   "execution_count": 6,
   "metadata": {},
   "outputs": [],
   "source": [
    "u, v = fes.TnT()\n",
    "\n",
    "aAuto = BilinearForm(fes, symmetric=True)\n",
    "aAuto += EquationFA(u,v)"
   ]
  },
  {
   "cell_type": "markdown",
   "metadata": {},
   "source": [
    "Now the PDE can be conveniently solved by calling Newton's method (which terminates after one iteration since the PDE is linear)"
   ]
  },
  {
   "cell_type": "code",
   "execution_count": 7,
   "metadata": {},
   "outputs": [
    {
     "name": "stdout",
     "output_type": "stream",
     "text": [
      "Newton iteration  0\n",
      "err =  0.1304243597310235\n",
      "Newton iteration  1\n",
      "err =  1.2322859411137204e-16\n"
     ]
    }
   ],
   "source": [
    "gfu.vec[:]=0\n",
    "Newton(aAuto,gfu,freedofs=fes.FreeDofs())\n",
    "scene_u.Redraw()"
   ]
  },
  {
   "cell_type": "markdown",
   "metadata": {},
   "source": [
    "### Adjoint equation"
   ]
  },
  {
   "cell_type": "markdown",
   "metadata": {},
   "source": [
    "We set up the adjoint equation\n",
    "$$\n",
    "    \\mbox{Find } p \\in H_0^1(\\Omega): \\int_\\Omega \\nabla w \\cdot \\nabla p \\, \\mbox dx = - \\partial_u J(u)(w) \\quad \\text{ for all } w \\in H_0^1(\\Omega)\n",
    "$$\n",
    "where $u$ is the solution to the state equation. For $J(u) = \\int_\\Omega |u-u_d|^2 \\mbox dx$, we get\n",
    "$$\n",
    "    \\partial_u J(u)(w) = 2 \\int_\\Omega (u-u_d)w \\,\\mbox dx.\n",
    "$$\n",
    "However, we can also use the Diff(...) command:"
   ]
  },
  {
   "cell_type": "code",
   "execution_count": 8,
   "metadata": {},
   "outputs": [],
   "source": [
    "p, w = fes.TnT()\n",
    "\n",
    "fadjoint = LinearForm(fes)\n",
    "fadjoint += -1*(CostAutoFA(gfu)).Diff(gfu,w)"
   ]
  },
  {
   "cell_type": "code",
   "execution_count": 9,
   "metadata": {},
   "outputs": [],
   "source": [
    "def SolveAdjointEquation():\n",
    "    rhs = gfp.vec.CreateVector()\n",
    "    rhs.data = fadjoint.vec - aAuto.mat.T * gfp.vec\n",
    "    update = gfp.vec.CreateVector()\n",
    "    update.data = aAuto.mat.Inverse(fes.FreeDofs()).T * rhs\n",
    "    gfp.vec.data += update"
   ]
  },
  {
   "cell_type": "code",
   "execution_count": 10,
   "metadata": {},
   "outputs": [],
   "source": [
    "fadjoint.Assemble()\n",
    "SolveAdjointEquation()\n",
    "scene_p.Redraw()"
   ]
  },
  {
   "cell_type": "markdown",
   "metadata": {},
   "source": [
    "### Automatic Shape Differentiation"
   ]
  },
  {
   "cell_type": "markdown",
   "metadata": {},
   "source": [
    "Denoting the integrand by $G^{u,p}$, the shape derivative is given by\n",
    "$$\n",
    "\\begin{array}{rl}\n",
    "     d\\mathcal J(\\Omega; X) =& \\left( \\left. \\frac{\\partial G^{u,p}}{\\partial t} + \\frac{d  G^{u,p}}{dy} \\cdot \\frac{d T_t}{dt}\\right)\\right\\rvert_{t=0} \\\\\n",
    "     =& \\left.  \\frac{\\partial G^{u,p}}{\\partial t}\\right\\rvert_{t=0} + \\frac{d  G^{u,p}}{dy} \\cdot X\n",
    "\\end{array}\n",
    "$$\n",
    "The command .DiffShape(...) computes the shape derivative by automatically accounting for the corresponding transformations."
   ]
  },
  {
   "cell_type": "code",
   "execution_count": 11,
   "metadata": {},
   "outputs": [],
   "source": [
    "dJOmegaAuto = LinearForm(VEC)\n",
    "dJOmegaAuto += LagrangianFA.DiffShape(X)"
   ]
  },
  {
   "cell_type": "code",
   "execution_count": 12,
   "metadata": {},
   "outputs": [],
   "source": [
    "b = BilinearForm(VEC)\n",
    "b += InnerProduct(grad(X),grad(PHI))*dx + InnerProduct(X,PHI)*dx\n",
    "\n",
    "gfX = GridFunction(VEC)"
   ]
  },
  {
   "cell_type": "code",
   "execution_count": 13,
   "metadata": {},
   "outputs": [],
   "source": [
    "def SolveDeformationEquationAuto():\n",
    "    rhs = gfX.vec.CreateVector()\n",
    "    rhs.data = dJOmegaAuto.vec - b.mat * gfX.vec\n",
    "    update = gfX.vec.CreateVector()\n",
    "    update.data = b.mat.Inverse(VEC.FreeDofs()) * rhs\n",
    "    gfX.vec.data += update"
   ]
  },
  {
   "cell_type": "code",
   "execution_count": 14,
   "metadata": {},
   "outputs": [
    {
     "data": {
      "application/vnd.jupyter.widget-view+json": {
       "model_id": "61025341fdee4240afce5bb61166f9a1",
       "version_major": 2,
       "version_minor": 0
      },
      "text/plain": [
       "WebGuiWidget(value={'ngsolve_version': '6.2.2201', 'mesh_dim': 2, 'order2d': 2, 'order3d': 2, 'draw_vol': Fals…"
      ]
     },
     "metadata": {},
     "output_type": "display_data"
    },
    {
     "data": {
      "text/plain": [
       "BaseWebGuiScene"
      ]
     },
     "execution_count": 14,
     "metadata": {},
     "output_type": "execute_result"
    }
   ],
   "source": [
    "b.Assemble()\n",
    "dJOmegaAuto.Assemble()\n",
    "SolveDeformationEquationAuto()\n",
    "Draw(-gfX, mesh, \"-gfX\")"
   ]
  },
  {
   "cell_type": "code",
   "execution_count": 15,
   "metadata": {},
   "outputs": [
    {
     "data": {
      "application/vnd.jupyter.widget-view+json": {
       "model_id": "f7d6b9a8687c4a6b8c77e334d15ea742",
       "version_major": 2,
       "version_minor": 0
      },
      "text/plain": [
       "WebGuiWidget(value={'ngsolve_version': '6.2.2201', 'mesh_dim': 2, 'order2d': 2, 'order3d': 2, 'draw_vol': Fals…"
      ]
     },
     "metadata": {},
     "output_type": "display_data"
    }
   ],
   "source": [
    "# gfset denotes the deformation of the original domain and will be updated during the shape optimization\n",
    "gfset = GridFunction(VEC)\n",
    "gfset.Set((0,0))\n",
    "mesh.SetDeformation(gfset)\n",
    "sceneSet = Draw(gfset,mesh,\"gfset\")\n",
    "SetVisualization (deformation=True)"
   ]
  },
  {
   "cell_type": "code",
   "execution_count": 16,
   "metadata": {},
   "outputs": [
    {
     "name": "stdout",
     "output_type": "stream",
     "text": [
      "Cost at initial design 5.1522441308147555e-09\n"
     ]
    }
   ],
   "source": [
    "gfset.Set((0,0))\n",
    "mesh.SetDeformation(gfset)\n",
    "print('Cost at initial design', Integrate (CostAuto2(gfu), mesh))\n",
    "\n",
    "scale = 0.5 / Norm(gfX.vec)\n",
    "gfset.vec.data -= scale * gfX.vec\n",
    "sceneSet.Redraw()"
   ]
  },
  {
   "cell_type": "code",
   "execution_count": 17,
   "metadata": {},
   "outputs": [
    {
     "name": "stdout",
     "output_type": "stream",
     "text": [
      "Newton iteration  0\n",
      "err =  0.15395715607378452\n",
      "Newton iteration  1\n",
      "err =  1.1887533241005314e-16\n",
      "Cost at new design 9.793297083297825e-10\n"
     ]
    }
   ],
   "source": [
    "gfu.vec[:]=0\n",
    "Newton(aAuto, gfu, fes.FreeDofs())\n",
    "print('Cost at new design', Integrate (CostAuto2(gfu), mesh))"
   ]
  },
  {
   "cell_type": "markdown",
   "metadata": {},
   "source": [
    "Thus, the user has to enter the PDE (in its transformed form) only once."
   ]
  },
  {
   "cell_type": "markdown",
   "metadata": {},
   "source": [
    "Finally, let us again run the full algorithm:"
   ]
  },
  {
   "cell_type": "code",
   "execution_count": 18,
   "metadata": {},
   "outputs": [
    {
     "data": {
      "application/vnd.jupyter.widget-view+json": {
       "model_id": "2f423852b41741eeaf3dec91802cc62b",
       "version_major": 2,
       "version_minor": 0
      },
      "text/plain": [
       "WebGuiWidget(value={'ngsolve_version': '6.2.2201', 'mesh_dim': 2, 'order2d': 2, 'order3d': 2, 'draw_vol': Fals…"
      ]
     },
     "metadata": {},
     "output_type": "display_data"
    }
   ],
   "source": [
    "scene_u = Draw(gfu)"
   ]
  },
  {
   "cell_type": "code",
   "execution_count": 19,
   "metadata": {},
   "outputs": [
    {
     "name": "stdout",
     "output_type": "stream",
     "text": [
      "Newton iteration  0\n",
      "err =  0.1304243597310235\n",
      "Newton iteration  1\n",
      "err =  1.2322859411137204e-16\n",
      "cost at iteration 0 :  5.1522441308147555e-09\n",
      "cost at iteration 1 :  4.942040315052276e-09\n",
      "cost at iteration 2 :  4.585081411492747e-09\n",
      "cost at iteration 3 :  4.2494409805570896e-09\n",
      "cost at iteration 4 :  3.934230926246942e-09\n",
      "cost at iteration 5 :  3.638576261991293e-09\n",
      "cost at iteration 6 :  3.3616160503340736e-09\n",
      "cost at iteration 7 :  3.1025043360794835e-09\n",
      "cost at iteration 8 :  2.8604110705929728e-09\n",
      "cost at iteration 9 :  2.634523024596651e-09\n",
      "cost at iteration 10 :  2.424044686339463e-09\n",
      "cost at iteration 11 :  2.2281991414270806e-09\n",
      "cost at iteration 12 :  2.0462289298150803e-09\n",
      "cost at iteration 13 :  1.8773968744302314e-09\n",
      "cost at iteration 14 :  1.7209868744933654e-09\n",
      "cost at iteration 15 :  1.576304654739389e-09\n",
      "cost at iteration 16 :  1.4426784591830553e-09\n",
      "cost at iteration 17 :  1.319459674612464e-09\n",
      "cost at iteration 18 :  1.206023364263461e-09\n",
      "cost at iteration 19 :  1.1017686856714436e-09\n",
      "cost at iteration 20 :  1.0061191578834547e-09\n",
      "cost at iteration 21 :  9.18522731198265e-10\n",
      "cost at iteration 22 :  8.384515962699067e-10\n",
      "cost at iteration 23 :  7.654016473209055e-10\n",
      "cost at iteration 24 :  6.988914845968643e-10\n",
      "cost at iteration 25 :  6.384608021036906e-10\n",
      "cost at iteration 26 :  5.836679565498959e-10\n",
      "cost at iteration 27 :  5.340864528118763e-10\n",
      "cost at iteration 28 :  4.89300017285237e-10\n",
      "cost at iteration 29 :  4.4889588819471183e-10\n",
      "cost at iteration 30 :  4.1245600135970895e-10\n",
      "cost at iteration 31 :  3.7954606800853296e-10\n",
      "cost at iteration 32 :  3.497035385815599e-10\n",
      "cost at iteration 33 :  3.224279626838391e-10\n",
      "cost at iteration 34 :  2.9718256556605996e-10\n",
      "cost at iteration 35 :  2.734241271728054e-10\n",
      "cost at iteration 36 :  2.5068184304177946e-10\n",
      "cost at iteration 37 :  2.2867905985050906e-10\n",
      "cost at iteration 38 :  2.0741713926515882e-10\n",
      "cost at iteration 39 :  1.871116740072979e-10\n",
      "cost at iteration 40 :  1.680162412540864e-10\n",
      "cost at iteration 41 :  1.5029552102882878e-10\n",
      "cost at iteration 42 :  1.340064930638265e-10\n",
      "cost at iteration 43 :  1.1913067682907598e-10\n",
      "cost at iteration 44 :  1.0560796580779413e-10\n",
      "cost at iteration 45 :  9.335887914179758e-11\n",
      "cost at iteration 46 :  8.229695729942485e-11\n",
      "cost at iteration 47 :  7.23350897994775e-11\n",
      "cost at iteration 48 :  6.338852880933329e-11\n",
      "cost at iteration 49 :  5.5376209497999883e-11\n",
      "cost at iteration 50 :  4.82212488522358e-11\n",
      "cost at iteration 51 :  4.1851065797546683e-11\n",
      "cost at iteration 52 :  3.619733722937542e-11\n",
      "cost at iteration 53 :  3.1195889208011546e-11\n",
      "cost at iteration 54 :  2.678656684957824e-11\n",
      "cost at iteration 55 :  2.2913100695693295e-11\n",
      "cost at iteration 56 :  1.952297596730752e-11\n",
      "cost at iteration 57 :  1.656730628871613e-11\n",
      "cost at iteration 58 :  1.4000711487116378e-11\n",
      "cost at iteration 59 :  1.1781198254498638e-11\n",
      "cost at iteration 60 :  9.870042108059486e-12\n",
      "cost at iteration 61 :  8.231668931388846e-12\n",
      "cost at iteration 62 :  6.833534355412385e-12\n",
      "cost at iteration 63 :  5.645999308974775e-12\n",
      "cost at iteration 64 :  4.642200293032642e-12\n",
      "cost at iteration 65 :  3.797913225652618e-12\n",
      "cost at iteration 66 :  3.0914102768953763e-12\n",
      "cost at iteration 67 :  2.5033094982684176e-12\n",
      "cost at iteration 68 :  2.0164182974082556e-12\n",
      "cost at iteration 69 :  1.615571216983286e-12\n",
      "cost at iteration 70 :  1.287466851103475e-12\n",
      "cost at iteration 71 :  1.0204996243185933e-12\n",
      "cost at iteration 72 :  8.046148105271509e-13\n",
      "cost at iteration 73 :  6.311814579669617e-13\n",
      "cost at iteration 74 :  4.939584181909639e-13\n",
      "cost at iteration 75 :  4.007218215140156e-13\n",
      "cost at iteration 76 :  3.6535778962981964e-13\n",
      "cost at iteration 77 :  3.359576754862281e-13\n",
      "cost at iteration 78 :  3.063462117229262e-13\n",
      "cost at iteration 79 :  2.8133606508611444e-13\n",
      "cost at iteration 80 :  2.5732402819155024e-13\n",
      "cost at iteration 81 :  2.3630007342252427e-13\n",
      "cost at iteration 82 :  2.1663928791186748e-13\n",
      "cost at iteration 83 :  1.9909127789935374e-13\n",
      "cost at iteration 84 :  1.8291165492382374e-13\n",
      "cost at iteration 85 :  1.68319531656912e-13\n",
      "cost at iteration 86 :  1.5496647740270215e-13\n",
      "cost at iteration 87 :  1.428528233390933e-13\n",
      "cost at iteration 88 :  1.31809751195043e-13\n",
      "cost at iteration 89 :  1.2175579931610374e-13\n",
      "cost at iteration 90 :  1.1260377421370623e-13\n",
      "cost at iteration 91 :  1.0425019611916654e-13\n",
      "cost at iteration 92 :  9.66447645570844e-14\n",
      "cost at iteration 93 :  8.968735824657073e-14\n",
      "cost at iteration 94 :  8.334417736839269e-14\n",
      "cost at iteration 95 :  7.752839291842834e-14\n",
      "cost at iteration 96 :  7.221349884278859e-14\n",
      "cost at iteration 97 :  6.732889825541365e-14\n",
      "cost at iteration 98 :  6.285126140791325e-14\n",
      "cost at iteration 99 :  5.87259906359555e-14\n",
      "cost at iteration 100 :  5.493107740479641e-14\n",
      "cost at iteration 101 :  5.1426309807680126e-14\n",
      "cost at iteration 102 :  4.819013327513666e-14\n",
      "cost at iteration 103 :  4.519461460938348e-14\n",
      "cost at iteration 104 :  4.241822909412375e-14\n",
      "cost at iteration 105 :  3.984317466658464e-14\n",
      "cost at iteration 106 :  3.744775380017514e-14\n",
      "cost at iteration 107 :  3.52223289592696e-14\n",
      "cost at iteration 108 :  3.314495589786619e-14\n",
      "cost at iteration 109 :  3.121246564036577e-14\n",
      "cost at iteration 110 :  2.9402675175282695e-14\n",
      "cost at iteration 111 :  2.7717475156979367e-14\n",
      "cost at iteration 112 :  2.613450234033295e-14\n",
      "cost at iteration 113 :  2.4659565060709648e-14\n",
      "cost at iteration 114 :  2.327020460591678e-14\n",
      "cost at iteration 115 :  2.197523775470752e-14\n",
      "cost at iteration 116 :  2.0752202108486655e-14\n",
      "cost at iteration 117 :  1.9612210050284983e-14\n",
      "cost at iteration 118 :  1.8532879715817936e-14\n",
      "cost at iteration 119 :  1.7527070074644492e-14\n",
      "cost at iteration 120 :  1.6572545982513076e-14\n",
      "cost at iteration 121 :  1.5683501065065484e-14\n",
      "cost at iteration 122 :  1.483788806703749e-14\n",
      "cost at iteration 123 :  1.405093961604969e-14\n",
      "cost at iteration 124 :  1.33008086818854e-14\n",
      "cost at iteration 125 :  1.2603571123466623e-14\n",
      "cost at iteration 126 :  1.1937563032121592e-14\n",
      "cost at iteration 127 :  1.1319590921001982e-14\n",
      "cost at iteration 128 :  1.0728129112705406e-14\n",
      "cost at iteration 129 :  1.0180653899480065e-14\n",
      "cost at iteration 130 :  9.655701674733903e-15\n",
      "cost at iteration 131 :  9.171326233308148e-15\n",
      "cost at iteration 132 :  8.705996651439038e-15\n",
      "cost at iteration 133 :  8.278058056703549e-15\n",
      "cost at iteration 134 :  7.865766828310216e-15\n",
      "cost at iteration 135 :  7.48725024872988e-15\n",
      "cost at iteration 136 :  7.120779789470954e-15\n",
      "cost at iteration 137 :  6.783956155107484e-15\n",
      "cost at iteration 138 :  6.455953813643108e-15\n",
      "cost at iteration 139 :  6.15379172403799e-15\n",
      "cost at iteration 140 :  5.858288265329378e-15\n",
      "cost at iteration 141 :  5.585653737842944e-15\n",
      "cost at iteration 142 :  5.318449192543043e-15\n",
      "cost at iteration 143 :  5.071827700974263e-15\n",
      "cost at iteration 144 :  4.829896498955145e-15\n",
      "cost at iteration 145 :  4.606685116638607e-15\n",
      "cost at iteration 146 :  4.387618471910369e-15\n",
      "cost at iteration 147 :  4.1856769534248e-15\n",
      "cost at iteration 148 :  3.987398850880979e-15\n",
      "cost at iteration 149 :  3.804846951215814e-15\n",
      "cost at iteration 150 :  3.6254951957386415e-15\n",
      "cost at iteration 151 :  3.4606302101167987e-15\n",
      "cost at iteration 152 :  3.298507975071076e-15\n",
      "cost at iteration 153 :  3.1497705992860996e-15\n",
      "cost at iteration 154 :  3.003324447810584e-15\n",
      "cost at iteration 155 :  2.8692823991336583e-15\n",
      "cost at iteration 156 :  2.737089349055114e-15\n",
      "cost at iteration 157 :  2.6164268628928953e-15\n",
      "cost at iteration 158 :  2.4971840327227587e-15\n",
      "cost at iteration 159 :  2.3886928682349088e-15\n",
      "cost at iteration 160 :  2.281207537237833e-15\n",
      "cost at iteration 161 :  2.183778146939917e-15\n",
      "cost at iteration 162 :  2.086957801892349e-15\n",
      "cost at iteration 163 :  1.9995706183712402e-15\n",
      "cost at iteration 164 :  1.9124133367574614e-15\n",
      "cost at iteration 165 :  1.834130718620754e-15\n",
      "cost at iteration 166 :  1.7557165647632982e-15\n",
      "cost at iteration 167 :  1.685676066960401e-15\n",
      "cost at iteration 168 :  1.615160079595048e-15\n",
      "cost at iteration 169 :  1.5525692872112915e-15\n",
      "cost at iteration 170 :  1.4891760019315608e-15\n",
      "cost at iteration 171 :  1.433308178470354e-15\n",
      "cost at iteration 172 :  1.3763266173481043e-15\n",
      "cost at iteration 173 :  1.326515404131766e-15\n"
     ]
    },
    {
     "name": "stdout",
     "output_type": "stream",
     "text": [
      "cost at iteration 174 :  1.2752929053208592e-15\n",
      "cost at iteration 175 :  1.2309245708375936e-15\n",
      "cost at iteration 176 :  1.1848590098259628e-15\n",
      "cost at iteration 177 :  1.1453633964661322e-15\n",
      "cost at iteration 178 :  1.1038963070915974e-15\n",
      "cost at iteration 179 :  1.0687409569141703e-15\n",
      "cost at iteration 180 :  1.0313554716748845e-15\n",
      "cost at iteration 181 :  1.0000465057814174e-15\n",
      "cost at iteration 182 :  9.662703793913344e-16\n",
      "cost at iteration 183 :  9.383577195440387e-16\n",
      "cost at iteration 184 :  9.077667798624242e-16\n",
      "cost at iteration 185 :  8.828478178193601e-16\n",
      "cost at iteration 186 :  8.550658529494464e-16\n",
      "cost at iteration 187 :  8.327848317733904e-16\n",
      "cost at iteration 188 :  8.074802263079748e-16\n",
      "cost at iteration 189 :  7.875247064930154e-16\n",
      "cost at iteration 190 :  7.644060164448333e-16\n",
      "cost at iteration 191 :  7.46502476794992e-16\n",
      "cost at iteration 192 :  7.253142004038751e-16\n",
      "cost at iteration 193 :  7.092237167742292e-16\n",
      "cost at iteration 194 :  6.8974243402945e-16\n",
      "cost at iteration 195 :  6.752566353689398e-16\n",
      "cost at iteration 196 :  6.572873982964768e-16\n",
      "cost at iteration 197 :  6.442247289810627e-16\n",
      "cost at iteration 198 :  6.275976619960435e-16\n",
      "cost at iteration 199 :  6.157999743960258e-16\n",
      "cost at iteration 200 :  6.003671176176937e-16\n",
      "cost at iteration 201 :  5.89696608434472e-16\n",
      "cost at iteration 202 :  5.753290450937708e-16\n",
      "cost at iteration 203 :  5.656655317623125e-16\n",
      "cost at iteration 204 :  5.522508210851465e-16\n",
      "cost at iteration 205 :  5.434893432226398e-16\n",
      "cost at iteration 206 :  5.309292589866208e-16\n",
      "cost at iteration 207 :  5.22977983763182e-16\n",
      "cost at iteration 208 :  5.111865437852125e-16\n",
      "cost at iteration 209 :  5.03964950216553e-16\n",
      "cost at iteration 210 :  4.928667133202136e-16\n",
      "cost at iteration 211 :  4.863040279621616e-16\n",
      "cost at iteration 212 :  4.758326308508715e-16\n",
      "cost at iteration 213 :  4.698664863444852e-16\n",
      "cost at iteration 214 :  4.599633917566629e-16\n",
      "cost at iteration 215 :  4.545386801297183e-16\n",
      "cost at iteration 216 :  4.4515210854846e-16\n",
      "cost at iteration 217 :  4.4022000280748283e-16\n",
      "cost at iteration 218 :  4.3130402202836905e-16\n",
      "cost at iteration 219 :  4.268211419341942e-16\n",
      "cost at iteration 220 :  4.1833489139240546e-16\n",
      "cost at iteration 221 :  4.1426259200600877e-16\n",
      "cost at iteration 222 :  4.061696215458455e-16\n",
      "cost at iteration 223 :  4.024733858731051e-16\n",
      "cost at iteration 224 :  3.9474109137052077e-16\n",
      "cost at iteration 225 :  3.913900110445118e-16\n",
      "cost at iteration 226 :  3.839891518299996e-16\n",
      "cost at iteration 227 :  3.8095548215004035e-16\n",
      "cost at iteration 228 :  3.738597674582185e-16\n",
      "cost at iteration 229 :  3.711185452144825e-16\n",
      "cost at iteration 230 :  3.6430427888624855e-16\n",
      "cost at iteration 231 :  3.6183299323075884e-16\n",
      "cost at iteration 232 :  3.552787676182965e-16\n",
      "cost at iteration 233 :  3.5305707581126914e-16\n",
      "cost at iteration 234 :  3.4674350730525307e-16\n",
      "cost at iteration 235 :  3.447529884938813e-16\n",
      "cost at iteration 236 :  3.386624883320934e-16\n",
      "cost at iteration 237 :  3.368864296354556e-16\n",
      "cost at iteration 238 :  3.310030046915924e-16\n",
      "cost at iteration 239 :  3.2942621479875946e-16\n",
      "cost at iteration 240 :  3.2373529391743673e-16\n",
      "cost at iteration 241 :  3.2234394018352337e-16\n",
      "cost at iteration 242 :  3.168322223485605e-16\n",
      "cost at iteration 243 :  3.1561368801955734e-16\n",
      "cost at iteration 244 :  3.102690092409017e-16\n",
      "cost at iteration 245 :  3.09211767974618e-16\n",
      "cost at iteration 246 :  3.0402298427486324e-16\n",
      "cost at iteration 247 :  3.031164895703625e-16\n",
      "cost at iteration 248 :  2.980733738627673e-16\n",
      "cost at iteration 249 :  2.973079613802499e-16\n",
      "cost at iteration 250 :  2.924011123705085e-16\n",
      "cost at iteration 251 :  2.9176791343085566e-16\n",
      "cost at iteration 252 :  2.8698867495779697e-16\n",
      "cost at iteration 253 :  2.8647953976683826e-16\n",
      "cost at iteration 254 :  2.8181992923240957e-16\n",
      "cost at iteration 255 :  2.8142735858858427e-16\n",
      "cost at iteration 256 :  2.7688000332379046e-16\n",
      "cost at iteration 257 :  2.7659708774660633e-16\n",
      "cost at iteration 258 :  2.721551683243758e-16\n",
      "cost at iteration 259 :  2.719755336911871e-16\n",
      "cost at iteration 260 :  2.6763273333504134e-16\n",
      "cost at iteration 261 :  2.6755049224003665e-16\n",
      "cost at iteration 262 :  2.6330095159387333e-16\n",
      "cost at iteration 263 :  2.633106597499532e-16\n",
      "cost at iteration 264 :  2.5914893637255844e-16\n",
      "cost at iteration 265 :  2.59245553467366e-16\n",
      "cost at iteration 266 :  2.551665854991121e-16\n",
      "cost at iteration 267 :  2.5534543999348956e-16\n",
      "cost at iteration 268 :  2.513445135138658e-16\n",
      "cost at iteration 269 :  2.516012709367932e-16\n",
      "cost at iteration 270 :  2.476739905927071e-16\n",
      "cost at iteration 271 :  2.480046249430838e-16\n",
      "cost at iteration 272 :  2.441468874802663e-16\n",
      "cost at iteration 273 :  2.445476553943128e-16\n",
      "cost at iteration 274 :  2.407556257695405e-16\n",
      "cost at iteration 275 :  2.412230431542463e-16\n",
      "cost at iteration 276 :  2.3749313294523306e-16\n",
      "cost at iteration 277 :  2.3802395381436183e-16\n",
      "cost at iteration 278 :  2.343528016781785e-16\n",
      "cost at iteration 279 :  2.3494399895857236e-16\n",
      "cost at iteration 280 :  2.313284529189883e-16\n",
      "cost at iteration 281 :  2.3197720102197925e-16\n",
      "cost at iteration 282 :  2.2841430239191147e-16\n",
      "cost at iteration 283 :  2.2911796136838015e-16\n",
      "cost at iteration 284 :  2.2560493013610336e-16\n",
      "cost at iteration 285 :  2.2636103125425946e-16\n",
      "cost at iteration 286 :  2.228952527817527e-16\n",
      "cost at iteration 287 :  2.2370148538484737e-16\n",
      "cost at iteration 288 :  2.2028049828388954e-16\n",
      "cost at iteration 289 :  2.211346978008278e-16\n",
      "cost at iteration 290 :  2.177561828675907e-16\n",
      "cost at iteration 291 :  2.1865631986334559e-16\n",
      "cost at iteration 292 :  2.1531808996560477e-16\n",
      "cost at iteration 293 :  2.1626226013057383e-16\n",
      "cost at iteration 294 :  2.1296225095329132e-16\n",
      "cost at iteration 295 :  2.1394866594149336e-16\n",
      "cost at iteration 296 :  2.106849275069414e-16\n",
      "cost at iteration 297 :  2.117119065424941e-16\n",
      "cost at iteration 298 :  2.0848259543009657e-16\n",
      "cost at iteration 299 :  2.095485576098757e-16\n",
      "cost at iteration 300 :  2.063519298090902e-16\n",
      "cost at iteration 301 :  2.0745538703684028e-16\n",
      "cost at iteration 302 :  2.0428979137340915e-16\n",
      "cost at iteration 303 :  2.0542934186731254e-16\n",
      "cost at iteration 304 :  2.0229321394957734e-16\n",
      "cost at iteration 305 :  2.03467536271088e-16\n",
      "cost at iteration 306 :  2.0035939290856314e-16\n",
      "cost at iteration 307 :  2.015672404655898e-16\n",
      "cost at iteration 308 :  1.9848567451697764e-16\n",
      "cost at iteration 309 :  1.9972587049912787e-16\n",
      "cost at iteration 310 :  1.9666954611130293e-16\n",
      "cost at iteration 311 :  1.979409788191168e-16\n",
      "cost at iteration 312 :  1.9490862702249828e-16\n",
      "cost at iteration 313 :  1.9621024555625153e-16\n",
      "cost at iteration 314 :  1.932006601854548e-16\n",
      "cost at iteration 315 :  1.9453147046244632e-16\n",
      "cost at iteration 316 :  1.9154350437416468e-16\n",
      "cost at iteration 317 :  1.9290256544643662e-16\n",
      "cost at iteration 318 :  1.8993512700923654e-16\n",
      "cost at iteration 319 :  1.913215476562334e-16\n",
      "cost at iteration 320 :  1.8837359748944734e-16\n",
      "cost at iteration 321 :  1.897865330625833e-16\n",
      "cost at iteration 322 :  1.8685708100356678e-16\n",
      "cost at iteration 323 :  1.8829573050180779e-16\n",
      "cost at iteration 324 :  1.8538383278287452e-16\n",
      "cost at iteration 325 :  1.8684743614033222e-16\n",
      "cost at iteration 326 :  1.8395219275838312e-16\n",
      "cost at iteration 327 :  1.8544002832666914e-16\n",
      "cost at iteration 328 :  1.8256058059009616e-16\n",
      "cost at iteration 329 :  1.8407196279976465e-16\n",
      "cost at iteration 330 :  1.8120749103863022e-16\n",
      "cost at iteration 331 :  1.8274176822539898e-16\n",
      "cost at iteration 332 :  1.7989148965212331e-16\n",
      "cost at iteration 333 :  1.8144804203487815e-16\n",
      "cost at iteration 334 :  1.7861120874386327e-16\n",
      "cost at iteration 335 :  1.8018944654255873e-16\n",
      "cost at iteration 336 :  1.7736534363811143e-16\n",
      "cost at iteration 337 :  1.789647053207224e-16\n",
      "cost at iteration 338 :  1.7615264916364612e-16\n",
      "cost at iteration 339 :  1.7777259981226092e-16\n",
      "cost at iteration 340 :  1.7497193637627366e-16\n",
      "cost at iteration 341 :  1.7661196616329266e-16\n",
      "cost at iteration 342 :  1.7382206949316395e-16\n",
      "cost at iteration 343 :  1.7548169225926947e-16\n",
      "cost at iteration 344 :  1.727019630233024e-16\n",
      "cost at iteration 345 :  1.743807149496458e-16\n",
      "cost at iteration 346 :  1.7161057907970687e-16\n",
      "cost at iteration 347 :  1.7330801744727225e-16\n"
     ]
    },
    {
     "name": "stdout",
     "output_type": "stream",
     "text": [
      "cost at iteration 348 :  1.7054692486014585e-16\n",
      "cost at iteration 349 :  1.722626268899642e-16\n",
      "cost at iteration 350 :  1.6951005028429798e-16\n",
      "cost at iteration 351 :  1.7124361205259585e-16\n",
      "cost at iteration 352 :  1.6849904577621667e-16\n",
      "cost at iteration 353 :  1.7025008119906862e-16\n",
      "cost at iteration 354 :  1.6751304018180047e-16\n",
      "cost at iteration 355 :  1.692811800643725e-16\n",
      "cost at iteration 356 :  1.6655119881189567e-16\n",
      "cost at iteration 357 :  1.6833608995763938e-16\n",
      "cost at iteration 358 :  1.656127216023338e-16\n",
      "cost at iteration 359 :  1.6741402597793034e-16\n",
      "cost at iteration 360 :  1.646968413828787e-16\n",
      "cost at iteration 361 :  1.6651423533503423e-16\n",
      "cost at iteration 362 :  1.6380282224770616e-16\n",
      "cost at iteration 363 :  1.6563599576818257e-16\n",
      "cost at iteration 364 :  1.629299580205637e-16\n",
      "cost at iteration 365 :  1.6477861405615513e-16\n",
      "cost at iteration 366 :  1.6207757080833774e-16\n",
      "cost at iteration 367 :  1.6394142461269099e-16\n",
      "cost at iteration 368 :  1.6124500963717873e-16\n",
      "cost at iteration 369 :  1.631237881615914e-16\n",
      "cost at iteration 370 :  1.6043164916575827e-16\n",
      "cost at iteration 371 :  1.6232509048638083e-16\n",
      "cost at iteration 372 :  1.5963688847069215e-16\n",
      "cost at iteration 373 :  1.6154474124962804e-16\n",
      "cost at iteration 374 :  1.588601498994572e-16\n",
      "cost at iteration 375 :  1.607821728775535e-16\n",
      "cost at iteration 376 :  1.5810087798652608e-16\n",
      "cost at iteration 377 :  1.6003683950570534e-16\n",
      "cost at iteration 378 :  1.5735853842871507e-16\n",
      "cost at iteration 379 :  1.5930821598192337e-16\n",
      "cost at iteration 380 :  1.566326171160251e-16\n",
      "cost at iteration 381 :  1.5859579692300208e-16\n",
      "cost at iteration 382 :  1.5592261921453834e-16\n",
      "cost at iteration 383 :  1.5789909582170158e-16\n",
      "cost at iteration 384 :  1.552280682981833e-16\n",
      "cost at iteration 385 :  1.572176442010564e-16\n",
      "cost at iteration 386 :  1.5454850552633583e-16\n",
      "cost at iteration 387 :  1.565509908131071e-16\n",
      "cost at iteration 388 :  1.5388348886452634e-16\n",
      "cost at iteration 389 :  1.5589870087933183e-16\n",
      "cost at iteration 390 :  1.5323259234562458e-16\n",
      "cost at iteration 391 :  1.5526035537034684e-16\n",
      "cost at iteration 392 :  1.52595405369125e-16\n",
      "cost at iteration 393 :  1.5463555032249003e-16\n",
      "cost at iteration 394 :  1.519715320362525e-16\n",
      "cost at iteration 395 :  1.5402389618915804e-16\n",
      "cost at iteration 396 :  1.5136059051877756e-16\n",
      "cost at iteration 397 :  1.534250172248313e-16\n",
      "cost at iteration 398 :  1.5076221245964057e-16\n",
      "cost at iteration 399 :  1.5283855089995352e-16\n",
      "cost at iteration 400 :  1.5017604240345923e-16\n",
      "cost at iteration 401 :  1.522641473447885e-16\n",
      "cost at iteration 402 :  1.4960173725526578e-16\n",
      "cost at iteration 403 :  1.5170146882074908e-16\n",
      "cost at iteration 404 :  1.4903896576588372e-16\n",
      "cost at iteration 405 :  1.511501892174857e-16\n",
      "cost at iteration 406 :  1.4848740804235323e-16\n",
      "cost at iteration 407 :  1.5060999357441896e-16\n",
      "cost at iteration 408 :  1.479467550821261e-16\n",
      "cost at iteration 409 :  1.5008057762528364e-16\n",
      "cost at iteration 410 :  1.4741670832959156e-16\n",
      "cost at iteration 411 :  1.4956164736442862e-16\n",
      "cost at iteration 412 :  1.4689697925378936e-16\n",
      "cost at iteration 413 :  1.4905291863368336e-16\n",
      "cost at iteration 414 :  1.4638728894609368e-16\n",
      "cost at iteration 415 :  1.4855411672868227e-16\n",
      "cost at iteration 416 :  1.4588736773681683e-16\n",
      "cost at iteration 417 :  1.4806497602355462e-16\n",
      "cost at iteration 418 :  1.4539695482968783e-16\n",
      "cost at iteration 419 :  1.4758523961306327e-16\n",
      "cost at iteration 420 :  1.449157979532728e-16\n",
      "cost at iteration 421 :  1.4711465897119272e-16\n",
      "cost at iteration 422 :  1.4444365302840955e-16\n",
      "cost at iteration 423 :  1.4665299362535552e-16\n",
      "cost at iteration 424 :  1.4398028385083723e-16\n",
      "cost at iteration 425 :  1.462000108454039e-16\n",
      "cost at iteration 426 :  1.435254617881983e-16\n",
      "cost at iteration 427 :  1.4575548534664636e-16\n",
      "cost at iteration 428 :  1.430789654907e-16\n",
      "cost at iteration 429 :  1.453191990061707e-16\n",
      "cost at iteration 430 :  1.4264058061468326e-16\n",
      "cost at iteration 431 :  1.4489094059177382e-16\n",
      "cost at iteration 432 :  1.4221009955849235e-16\n",
      "cost at iteration 433 :  1.4447050550286721e-16\n",
      "cost at iteration 434 :  1.4178732120994968e-16\n",
      "cost at iteration 435 :  1.4405769552274855e-16\n",
      "cost at iteration 436 :  1.4137205070493056e-16\n",
      "cost at iteration 437 :  1.436523185816645e-16\n",
      "cost at iteration 438 :  1.40964099196403e-16\n",
      "cost at iteration 439 :  1.4325418853011606e-16\n",
      "cost at iteration 440 :  1.405632836334647e-16\n",
      "cost at iteration 441 :  1.4286312492194305e-16\n",
      "cost at iteration 442 :  1.4016942654984655e-16\n",
      "cost at iteration 443 :  1.4247895280662488e-16\n",
      "cost at iteration 444 :  1.3978235586144557e-16\n",
      "cost at iteration 445 :  1.4210150253044602e-16\n",
      "cost at iteration 446 :  1.3940190467242266e-16\n",
      "cost at iteration 447 :  1.417306095460079e-16\n",
      "cost at iteration 448 :  1.390279110894601e-16\n",
      "cost at iteration 449 :  1.4136611422973874e-16\n",
      "cost at iteration 450 :  1.3866021804378409e-16\n",
      "cost at iteration 451 :  1.4100786170698943e-16\n",
      "cost at iteration 452 :  1.3829867312057167e-16\n",
      "cost at iteration 453 :  1.4065570168438526e-16\n",
      "cost at iteration 454 :  1.3794312839540747e-16\n",
      "cost at iteration 455 :  1.4030948828903995e-16\n",
      "cost at iteration 456 :  1.3759344027744473e-16\n",
      "cost at iteration 457 :  1.399690799143586e-16\n",
      "cost at iteration 458 :  1.3724946935894644e-16\n",
      "cost at iteration 459 :  1.3963433907210147e-16\n",
      "cost at iteration 460 :  1.3691108027093767e-16\n",
      "cost at iteration 461 :  1.393051322504083e-16\n",
      "cost at iteration 462 :  1.3657814154464377e-16\n",
      "cost at iteration 463 :  1.389813297775247e-16\n",
      "cost at iteration 464 :  1.3625052547849827e-16\n",
      "cost at iteration 465 :  1.3866280569096024e-16\n",
      "cost at iteration 466 :  1.3592810801040638e-16\n",
      "cost at iteration 467 :  1.3834943761184189e-16\n",
      "cost at iteration 468 :  1.356107685950844e-16\n",
      "cost at iteration 469 :  1.3804110662418995e-16\n",
      "cost at iteration 470 :  1.3529839008619256e-16\n",
      "cost at iteration 471 :  1.3773769715895558e-16\n",
      "cost at iteration 472 :  1.3499085862309106e-16\n",
      "cost at iteration 473 :  1.3743909688256768e-16\n",
      "cost at iteration 474 :  1.346880635219776e-16\n",
      "cost at iteration 475 :  1.3714519658976712e-16\n",
      "cost at iteration 476 :  1.3438989717121736e-16\n",
      "cost at iteration 477 :  1.3685589010061e-16\n",
      "cost at iteration 478 :  1.340962549307158e-16\n",
      "cost at iteration 479 :  1.365710741613732e-16\n",
      "cost at iteration 480 :  1.3380703503508658e-16\n",
      "cost at iteration 481 :  1.3629064834926369e-16\n",
      "cost at iteration 482 :  1.3352213850054289e-16\n",
      "cost at iteration 483 :  1.3601451498070108e-16\n",
      "cost at iteration 484 :  1.3324146903524688e-16\n",
      "cost at iteration 485 :  1.3574257902309025e-16\n",
      "cost at iteration 486 :  1.3296493295305e-16\n",
      "cost at iteration 487 :  1.3547474800986086e-16\n",
      "cost at iteration 488 :  1.3269243909043903e-16\n",
      "cost at iteration 489 :  1.352109319586849e-16\n",
      "cost at iteration 490 :  1.3242389872656314e-16\n",
      "cost at iteration 491 :  1.3495104329273452e-16\n",
      "cost at iteration 492 :  1.32159225506205e-16\n",
      "cost at iteration 493 :  1.3469499676479982e-16\n",
      "cost at iteration 494 :  1.3189833536557714e-16\n",
      "cost at iteration 495 :  1.344427093842289e-16\n",
      "cost at iteration 496 :  1.3164114646081366e-16\n",
      "cost at iteration 497 :  1.3419410034650323e-16\n",
      "cost at iteration 498 :  1.3138757909907025e-16\n",
      "cost at iteration 499 :  1.3394909096536272e-16\n",
      "cost at iteration 500 :  1.3113755567209699e-16\n",
      "cost at iteration 501 :  1.3370760460739058e-16\n",
      "cost at iteration 502 :  1.308910005921892e-16\n",
      "cost at iteration 503 :  1.3346956662892855e-16\n",
      "cost at iteration 504 :  1.3064784023043328e-16\n",
      "cost at iteration 505 :  1.3323490431525284e-16\n",
      "cost at iteration 506 :  1.3040800285713727e-16\n",
      "cost at iteration 507 :  1.3300354682189859e-16\n",
      "cost at iteration 508 :  1.3017141858436114e-16\n",
      "cost at iteration 509 :  1.3277542511804835e-16\n",
      "cost at iteration 510 :  1.2993801931046613e-16\n",
      "cost at iteration 511 :  1.3255047193193174e-16\n",
      "cost at iteration 512 :  1.2970773866660713e-16\n",
      "cost at iteration 513 :  1.32328621698101e-16\n",
      "cost at iteration 514 :  1.2948051196506215e-16\n",
      "cost at iteration 515 :  1.3210981050656555e-16\n",
      "cost at iteration 516 :  1.2925627614937037e-16\n",
      "cost at iteration 517 :  1.3189397605365803e-16\n",
      "cost at iteration 518 :  1.2903496974617966e-16\n",
      "cost at iteration 519 :  1.3168105759461352e-16\n",
      "cost at iteration 520 :  1.2881653281872655e-16\n",
      "cost at iteration 521 :  1.3147099589775365e-16\n"
     ]
    },
    {
     "name": "stdout",
     "output_type": "stream",
     "text": [
      "cost at iteration 522 :  1.286009069219109e-16\n",
      "cost at iteration 523 :  1.3126373320024225e-16\n",
      "cost at iteration 524 :  1.283880350588888e-16\n",
      "cost at iteration 525 :  1.3105921316532938e-16\n",
      "cost at iteration 526 :  1.281778616391342e-16\n",
      "cost at iteration 527 :  1.3085738084104615e-16\n",
      "cost at iteration 528 :  1.2797033243787841e-16\n",
      "cost at iteration 529 :  1.3065818262028437e-16\n",
      "cost at iteration 530 :  1.2776539455694835e-16\n",
      "cost at iteration 531 :  1.3046156620218906e-16\n",
      "cost at iteration 532 :  1.2756299638686515e-16\n",
      "cost at iteration 533 :  1.302674805548625e-16\n",
      "cost at iteration 534 :  1.273630875701952e-16\n",
      "cost at iteration 535 :  1.3007587587928173e-16\n",
      "cost at iteration 536 :  1.2716561896614907e-16\n",
      "cost at iteration 537 :  1.2988670357440773e-16\n",
      "cost at iteration 538 :  1.2697054261627274e-16\n",
      "cost at iteration 539 :  1.2969991620343557e-16\n",
      "cost at iteration 540 :  1.2677781171130866e-16\n",
      "cost at iteration 541 :  1.295154674611427e-16\n",
      "cost at iteration 542 :  1.2658738055910305e-16\n",
      "cost at iteration 543 :  1.2933331214230822e-16\n",
      "cost at iteration 544 :  1.263992045535552e-16\n",
      "cost at iteration 545 :  1.2915340611112022e-16\n",
      "cost at iteration 546 :  1.2621324014456336e-16\n",
      "cost at iteration 547 :  1.2897570627160933e-16\n",
      "cost at iteration 548 :  1.2602944480891523e-16\n",
      "cost at iteration 549 :  1.2880017053898797e-16\n",
      "cost at iteration 550 :  1.2584777702214242e-16\n",
      "cost at iteration 551 :  1.286267578119249e-16\n",
      "cost at iteration 552 :  1.2566819623121062e-16\n",
      "cost at iteration 553 :  1.2845542794568724e-16\n",
      "cost at iteration 554 :  1.2549066282811868e-16\n",
      "cost at iteration 555 :  1.2828614172612771e-16\n",
      "cost at iteration 556 :  1.253151381242852e-16\n",
      "cost at iteration 557 :  1.2811886084450405e-16\n",
      "cost at iteration 558 :  1.2514158432577174e-16\n",
      "cost at iteration 559 :  1.2795354787306126e-16\n",
      "cost at iteration 560 :  1.2496996450924102e-16\n",
      "cost at iteration 561 :  1.277901662413934e-16\n",
      "cost at iteration 562 :  1.2480024259867985e-16\n",
      "cost at iteration 563 :  1.2762868021352091e-16\n",
      "cost at iteration 564 :  1.2463238334282782e-16\n",
      "cost at iteration 565 :  1.274690548656825e-16\n",
      "cost at iteration 566 :  1.2446635229330064e-16\n",
      "cost at iteration 567 :  1.2731125606481605e-16\n",
      "cost at iteration 568 :  1.243021157833887e-16\n",
      "cost at iteration 569 :  1.271552504476781e-16\n",
      "cost at iteration 570 :  1.2413964090747896e-16\n",
      "cost at iteration 571 :  1.2700100540061553e-16\n",
      "cost at iteration 572 :  1.2397889550111696e-16\n",
      "cost at iteration 573 :  1.2684848903992897e-16\n",
      "cost at iteration 574 :  1.2381984812166833e-16\n",
      "cost at iteration 575 :  1.2669767019285834e-16\n",
      "cost at iteration 576 :  1.2366246802953562e-16\n",
      "cost at iteration 577 :  1.265485183791074e-16\n",
      "cost at iteration 578 :  1.2350672516997552e-16\n",
      "cost at iteration 579 :  1.2640100379294077e-16\n",
      "cost at iteration 580 :  1.2335259015542027e-16\n",
      "cost at iteration 581 :  1.2625509728580407e-16\n",
      "cost at iteration 582 :  1.2320003424834062e-16\n",
      "cost at iteration 583 :  1.261107703494621e-16\n",
      "cost at iteration 584 :  1.2304902934461027e-16\n",
      "cost at iteration 585 :  1.2596799509963212e-16\n",
      "cost at iteration 586 :  1.2289954795734578e-16\n",
      "cost at iteration 587 :  1.2582674426009976e-16\n",
      "cost at iteration 588 :  1.2275156320124832e-16\n",
      "cost at iteration 589 :  1.256869911473005e-16\n",
      "cost at iteration 590 :  1.2260504877736375e-16\n",
      "cost at iteration 591 :  1.2554870965534694e-16\n",
      "cost at iteration 592 :  1.2245997895829996e-16\n",
      "cost at iteration 593 :  1.254118742414929e-16\n",
      "cost at iteration 594 :  1.2231632857389785e-16\n",
      "cost at iteration 595 :  1.2527645991201086e-16\n",
      "cost at iteration 596 :  1.2217407299725404e-16\n",
      "cost at iteration 597 :  1.251424422084848e-16\n",
      "cost at iteration 598 :  1.2203318813119887e-16\n",
      "cost at iteration 599 :  1.250097971944932e-16\n"
     ]
    }
   ],
   "source": [
    "#reset to and solve for initial configuration\n",
    "gfset.Set((0,0))\n",
    "mesh.SetDeformation(gfset)\n",
    "scene_u.Redraw()\n",
    "gfu.vec[:]=0\n",
    "Newton(aAuto, gfu, fes.FreeDofs())\n",
    "\n",
    "LineSearch = False\n",
    "\n",
    "\n",
    "iter_max = 600\n",
    "Jold = Integrate(CostAuto2(gfu), mesh)\n",
    "converged = False\n",
    "for k in range(iter_max):\n",
    "    print('cost at iteration', k, ': ', Jold)\n",
    "    mesh.SetDeformation(gfset)\n",
    "    scene_u.Redraw()\n",
    "    \n",
    "    gfu.vec[:]=0\n",
    "    Newton(aAuto, gfu, fes.FreeDofs(), printing = False)\n",
    "    \n",
    "    fadjoint.Assemble()\n",
    "    SolveAdjointEquation()\n",
    "    \n",
    "    b.Assemble()\n",
    "    dJOmegaAuto.Assemble()\n",
    "    SolveDeformationEquationAuto()\n",
    "\n",
    "    scale = 0.01 / Norm(gfX.vec)\n",
    "    gfsetOld = gfset\n",
    "    gfset.vec.data -= scale * gfX.vec\n",
    "    \n",
    "    Jnew = Integrate(CostAuto2(gfu), mesh)\n",
    "    \n",
    "    if LineSearch:\n",
    "        while Jnew > Jold and scale > 1e-12:\n",
    "            # input('a')\n",
    "            scale = scale / 2\n",
    "            \n",
    "            if scale <= 1e-12:\n",
    "                converged = True\n",
    "                break\n",
    "\n",
    "            gfset.vec.data = gfsetOld.vec - scale * gfX.vec\n",
    "            mesh.SetDeformation(gfset)\n",
    "            \n",
    "            gfu.vec[:]=0\n",
    "            Newton(aAuto, gfu, fes.FreeDofs(), printing = False)\n",
    "            Jnew = Integrate(CostAuto(gfu), mesh)\n",
    "    \n",
    "    if converged==True:\n",
    "        break\n",
    "    Jold = Jnew\n",
    "\n",
    "    Redraw(blocking=True)"
   ]
  },
  {
   "cell_type": "code",
   "execution_count": null,
   "metadata": {},
   "outputs": [],
   "source": []
  }
 ],
 "metadata": {
  "kernelspec": {
   "display_name": "Python 3",
   "language": "python",
   "name": "python3"
  },
  "language_info": {
   "codemirror_mode": {
    "name": "ipython",
    "version": 3
   },
   "file_extension": ".py",
   "mimetype": "text/x-python",
   "name": "python",
   "nbconvert_exporter": "python",
   "pygments_lexer": "ipython3",
   "version": "3.9.10"
  }
 },
 "nbformat": 4,
 "nbformat_minor": 4
}
