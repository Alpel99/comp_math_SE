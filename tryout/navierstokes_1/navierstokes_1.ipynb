{
 "cells": [
  {
   "cell_type": "code",
   "execution_count": 31,
   "id": "2d1a26ce",
   "metadata": {},
   "outputs": [],
   "source": [
    "from ngsolve import *\n",
    "from ngsolve.webgui import Draw"
   ]
  },
  {
   "cell_type": "code",
   "execution_count": 32,
   "id": "e75f0b4f",
   "metadata": {},
   "outputs": [],
   "source": [
    "# viscosity\n",
    "nu = 0.001\n",
    "\n",
    "# timestepping parameters\n",
    "tau = 0.001\n",
    "tend = 10"
   ]
  },
  {
   "cell_type": "code",
   "execution_count": 33,
   "id": "52a0a12e",
   "metadata": {},
   "outputs": [],
   "source": [
    "from netgen.geom2d import SplineGeometry\n",
    "geo = SplineGeometry()\n",
    "geo.AddRectangle( (0, 0), (2, 0.41), bcs = (\"wall\", \"outlet\", \"wall\", \"inlet\"))\n",
    "geo.AddCircle ( (0.2, 0.2), r=0.05, leftdomain=0, rightdomain=1, bc=\"cyl\", maxh=0.02)\n",
    "mesh = Mesh( geo.GenerateMesh(maxh=0.07))"
   ]
  },
  {
   "cell_type": "code",
   "execution_count": 34,
   "id": "fce94250",
   "metadata": {},
   "outputs": [],
   "source": [
    "mesh.Curve(3)\n",
    "\n",
    "V = VectorH1(mesh,order=3, dirichlet=\"wall|cyl|inlet\")\n",
    "Q = H1(mesh,order=2)\n",
    "\n",
    "X = V*Q\n",
    "\n",
    "u,p = X.TrialFunction()\n",
    "v,q = X.TestFunction()"
   ]
  },
  {
   "cell_type": "code",
   "execution_count": 35,
   "id": "dbcd8829",
   "metadata": {},
   "outputs": [
    {
     "data": {
      "text/plain": [
       "<ngsolve.comp.BilinearForm at 0x1c27d7209b0>"
      ]
     },
     "execution_count": 35,
     "metadata": {},
     "output_type": "execute_result"
    }
   ],
   "source": [
    "stokes = nu*InnerProduct(grad(u), grad(v))+div(u)*q+div(v)*p - 1e-10*p*q\n",
    "a = BilinearForm(X, symmetric=True)\n",
    "a += stokes*dx\n",
    "a.Assemble()"
   ]
  },
  {
   "cell_type": "code",
   "execution_count": 36,
   "id": "bb34b919",
   "metadata": {},
   "outputs": [
    {
     "data": {
      "text/plain": [
       "<ngsolve.comp.LinearForm at 0x1c27d683670>"
      ]
     },
     "execution_count": 36,
     "metadata": {},
     "output_type": "execute_result"
    }
   ],
   "source": [
    "# nothing here ...\n",
    "f = LinearForm(X)   \n",
    "f.Assemble()"
   ]
  },
  {
   "cell_type": "code",
   "execution_count": 37,
   "id": "a3fb6b10",
   "metadata": {},
   "outputs": [],
   "source": [
    "# gridfunction for the solution\n",
    "gfu = GridFunction(X)"
   ]
  },
  {
   "cell_type": "code",
   "execution_count": 38,
   "id": "b1b4ccf7",
   "metadata": {},
   "outputs": [],
   "source": [
    "# parabolic inflow at inlet:\n",
    "uin = CoefficientFunction( (1.5*4*y*(0.41-y)/(0.41*0.41), 0) )\n",
    "gfu.components[0].Set(uin, definedon=mesh.Boundaries(\"inlet\"))"
   ]
  },
  {
   "cell_type": "code",
   "execution_count": 39,
   "id": "920f9cd5",
   "metadata": {},
   "outputs": [],
   "source": [
    "# solve Stokes problem for initial conditions:\n",
    "inv_stokes = a.mat.Inverse(X.FreeDofs())"
   ]
  },
  {
   "cell_type": "code",
   "execution_count": 40,
   "id": "08171cea",
   "metadata": {},
   "outputs": [],
   "source": [
    "res = f.vec.CreateVector()\n",
    "res.data = f.vec - a.mat*gfu.vec\n",
    "gfu.vec.data += inv_stokes * res"
   ]
  },
  {
   "cell_type": "code",
   "execution_count": 41,
   "id": "749bc46b",
   "metadata": {},
   "outputs": [],
   "source": [
    "# matrix for implicit Euler \n",
    "mstar = BilinearForm(X, symmetric=True)\n",
    "mstar += (u*v + tau*stokes)*dx\n",
    "mstar.Assemble()\n",
    "inv = mstar.mat.Inverse(X.FreeDofs(), inverse=\"sparsecholesky\")"
   ]
  },
  {
   "cell_type": "code",
   "execution_count": 42,
   "id": "93b0f1c0",
   "metadata": {},
   "outputs": [],
   "source": [
    "# the non-linear term \n",
    "conv = BilinearForm(X, nonassemble = True)\n",
    "conv += (grad(u) * u) * v * dx"
   ]
  },
  {
   "cell_type": "code",
   "execution_count": 44,
   "id": "814a9d66",
   "metadata": {},
   "outputs": [
    {
     "data": {
      "application/vnd.jupyter.widget-view+json": {
       "model_id": "67fe20bfe8194f7daa40524e5ac83aa0",
       "version_major": 2,
       "version_minor": 0
      },
      "text/plain": [
       "WebGuiWidget(value={'ngsolve_version': '6.2.2201', 'mesh_dim': 2, 'order2d': 2, 'order3d': 2, 'draw_vol': Fals…"
      ]
     },
     "metadata": {},
     "output_type": "display_data"
    },
    {
     "data": {
      "text/plain": [
       "BaseWebGuiScene"
      ]
     },
     "execution_count": 44,
     "metadata": {},
     "output_type": "execute_result"
    }
   ],
   "source": [
    "# for visualization\n",
    "Draw (Norm(gfu.components[0]), mesh, \"velocity\")#, sd=3)"
   ]
  },
  {
   "cell_type": "code",
   "execution_count": 47,
   "id": "509eb70b",
   "metadata": {},
   "outputs": [
    {
     "data": {
      "application/vnd.jupyter.widget-view+json": {
       "model_id": "f73d12e3e47b45c08208c50a75ee8b04",
       "version_major": 2,
       "version_minor": 0
      },
      "text/plain": [
       "WebGuiWidget(value={'ngsolve_version': '6.2.2201', 'mesh_dim': 2, 'order2d': 2, 'order3d': 2, 'draw_vol': Fals…"
      ]
     },
     "metadata": {},
     "output_type": "display_data"
    }
   ],
   "source": [
    "# implicit Euler/explicit Euler splitting method:\n",
    "t = 0\n",
    "Draw (Norm(gfu.components[0]), mesh, \"velocity\")\n",
    "with TaskManager():\n",
    "    while t < tend:\n",
    "        #print (\"t=\", t, end=\"\\r\")\n",
    "\n",
    "        conv.Apply (gfu.vec, res)\n",
    "        res.data += a.mat*gfu.vec\n",
    "        gfu.vec.data -= tau * inv * res    \n",
    "\n",
    "        t = t + tau\n",
    "        Redraw()"
   ]
  },
  {
   "cell_type": "code",
   "execution_count": null,
   "id": "0a5ccc69",
   "metadata": {},
   "outputs": [],
   "source": []
  }
 ],
 "metadata": {
  "kernelspec": {
   "display_name": "Python 3 (ipykernel)",
   "language": "python",
   "name": "python3"
  },
  "language_info": {
   "codemirror_mode": {
    "name": "ipython",
    "version": 3
   },
   "file_extension": ".py",
   "mimetype": "text/x-python",
   "name": "python",
   "nbconvert_exporter": "python",
   "pygments_lexer": "ipython3",
   "version": "3.10.1"
  }
 },
 "nbformat": 4,
 "nbformat_minor": 5
}
